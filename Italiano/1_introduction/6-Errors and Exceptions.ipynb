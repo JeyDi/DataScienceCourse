{
 "cells": [
  {
   "cell_type": "markdown",
   "metadata": {
    "slideshow": {
     "slide_type": "slide"
    }
   },
   "source": [
    "# Gli errori e le eccezioni\n",
    "\n",
    "## Aspettarsi l’inaspettato: gestione delle Eccezioni (exceptions)"
   ]
  },
  {
   "cell_type": "markdown",
   "metadata": {
    "slideshow": {
     "slide_type": "slide"
    }
   },
   "source": [
    "# Introduzione\n",
    "\n",
    "Funzioni nella programmazione non Object-Oriented: \n",
    "- Controllavano rigorosamente gli input\n",
    "- Restituivano valori inaspettati per indicare input o situazioni errate\n",
    "\n",
    "\n",
    "Programmazione Object-Oriented:\n",
    "- Gestione eccezioni: oggetti speciali per gli “errori” (tutte le eccezioni ereditano dall’oggetto BaseException)\n"
   ]
  },
  {
   "cell_type": "markdown",
   "metadata": {
    "slideshow": {
     "slide_type": "subslide"
    }
   },
   "source": [
    "Vedremo:\n",
    "- Come causare un’eccezione \n",
    "- Come gestire un’eccezione quando capita\n",
    "- Come gestire tipi diversi di eccezione in modi diversi\n",
    "- Come ripulire la situazione quando capita un’eccezione \n",
    "- Creare nuovi tipi di eccezione\n",
    "- Usare la sintassi delle eccezioni per gestire il flusso di controllo\n",
    "\n",
    "### Riferimenti\n",
    "\n",
    "Philips, Giridhar, Kasampalis - Python - Master the art of design patters - Packt ed.\n",
    "\n"
   ]
  },
  {
   "cell_type": "markdown",
   "metadata": {
    "slideshow": {
     "slide_type": "slide"
    }
   },
   "source": [
    "# Rilanciare eccezioni\n",
    "\n",
    "Le eccezioni diventano oggetti speciali quando sono gestite dentro il flusso di controllo di un programma.\n"
   ]
  },
  {
   "cell_type": "code",
   "execution_count": 1,
   "metadata": {
    "slideshow": {
     "slide_type": "fragment"
    }
   },
   "outputs": [
    {
     "ename": "SyntaxError",
     "evalue": "Missing parentheses in call to 'print' (<ipython-input-1-66a718044c8f>, line 1)",
     "output_type": "error",
     "traceback": [
      "\u001b[0;36m  File \u001b[0;32m\"<ipython-input-1-66a718044c8f>\"\u001b[0;36m, line \u001b[0;32m1\u001b[0m\n\u001b[0;31m    print \"ciao mondo\"\u001b[0m\n\u001b[0m                     ^\u001b[0m\n\u001b[0;31mSyntaxError\u001b[0m\u001b[0;31m:\u001b[0m Missing parentheses in call to 'print'\n"
     ]
    }
   ],
   "source": [
    "print \"ciao mondo\""
   ]
  },
  {
   "cell_type": "code",
   "execution_count": null,
   "metadata": {
    "collapsed": true,
    "slideshow": {
     "slide_type": "fragment"
    }
   },
   "outputs": [],
   "source": [
    "x = 5 / 0"
   ]
  },
  {
   "cell_type": "code",
   "execution_count": null,
   "metadata": {
    "collapsed": true,
    "slideshow": {
     "slide_type": "fragment"
    }
   },
   "outputs": [],
   "source": [
    "lst = [1,2,3]\n",
    "print(lst[3])"
   ]
  },
  {
   "cell_type": "code",
   "execution_count": null,
   "metadata": {
    "collapsed": true,
    "slideshow": {
     "slide_type": "fragment"
    }
   },
   "outputs": [],
   "source": [
    "lst + 2"
   ]
  },
  {
   "cell_type": "code",
   "execution_count": null,
   "metadata": {
    "collapsed": true,
    "slideshow": {
     "slide_type": "fragment"
    }
   },
   "outputs": [],
   "source": [
    "lst.add"
   ]
  },
  {
   "cell_type": "code",
   "execution_count": null,
   "metadata": {
    "collapsed": true,
    "slideshow": {
     "slide_type": "fragment"
    }
   },
   "outputs": [],
   "source": [
    "d = {'a': 'hello'}\n",
    "d['b']"
   ]
  },
  {
   "cell_type": "code",
   "execution_count": null,
   "metadata": {
    "collapsed": true,
    "slideshow": {
     "slide_type": "subslide"
    }
   },
   "outputs": [],
   "source": [
    "print(questa_non_e_una_variabile)\n"
   ]
  },
  {
   "cell_type": "markdown",
   "metadata": {
    "colab_type": "text",
    "id": "2uM_3S83D9p9",
    "slideshow": {
     "slide_type": "slide"
    }
   },
   "source": [
    "## Errori e eccezioni\n",
    "\n",
    "Avrete notato che le precedenti eccezioni finiscono con Error.\n",
    "\n",
    "Error e Exception sono quasi intercambiabili.\n",
    "\n",
    "Error è semanticamente un po’ più grave ma il loro comportamente è identico\n",
    "\n",
    "Exception (che estende BaseException) è la loro classe padre (superclass)"
   ]
  },
  {
   "cell_type": "markdown",
   "metadata": {
    "collapsed": true,
    "slideshow": {
     "slide_type": "slide"
    }
   },
   "source": [
    "## Rilanciare un'eccezione\n",
    "\n",
    "Prima di imparare come gestirle, vediamo come rilanciarle, ovvero come informare l'utente o la funzione chiamante che qualcosa non va. \n",
    "\n",
    "Non sarebbe comodo che i nostri programmi si comportino come Python?\n",
    "\n",
    "Immaginiamo una nuova classe lista \"SoloNumeriPariInteri\"  a cui si possano aggiungere solo numeri interi pari..."
   ]
  },
  {
   "cell_type": "code",
   "execution_count": null,
   "metadata": {
    "collapsed": true,
    "slideshow": {
     "slide_type": "fragment"
    }
   },
   "outputs": [],
   "source": [
    "class SoloNumeriPariInteri(list):\n",
    "    def append(self, integer):\n",
    "        if not isinstance(integer, int):\n",
    "            raise TypeError(\"Possono essere sommati solo numeri interi\")\n",
    "        if integer % 2:\n",
    "            raise ValueError(\"Possono essere sommati solo numeri pari\")\n",
    "        super().append(integer)\n",
    "e = SoloNumeriPariInteri()"
   ]
  },
  {
   "cell_type": "markdown",
   "metadata": {
    "slideshow": {
     "slide_type": "subslide"
    }
   },
   "source": [
    "La classe estende list (oggetto predefinito in Python) e ridefinisce (override) append.\n",
    "\n",
    "Il nuovo metodo append verifica due condizioni:\n",
    "- che l'input sia un integer, altrimenti rilancia TypeError\n",
    "- che l'input sia pari, altrimenti rilancia ValueError\n",
    "\n",
    "La parola chiave \"raise\" è semplicemente seguita dall'oggetto che viene rilanciato come exception. \n",
    "\n",
    "I due oggetti sono \"costruiti\" dalle classi built-in TypeError e ValueError ma potevano essere una eccezione creata \"ad-hoc\" (dopo vedremo come farlo)"
   ]
  },
  {
   "cell_type": "code",
   "execution_count": null,
   "metadata": {
    "collapsed": true,
    "slideshow": {
     "slide_type": "fragment"
    }
   },
   "outputs": [],
   "source": [
    "e.append(3)"
   ]
  },
  {
   "cell_type": "code",
   "execution_count": null,
   "metadata": {
    "collapsed": true,
    "slideshow": {
     "slide_type": "fragment"
    }
   },
   "outputs": [],
   "source": [
    "e.append(3.4)"
   ]
  },
  {
   "cell_type": "markdown",
   "metadata": {
    "slideshow": {
     "slide_type": "subslide"
    }
   },
   "source": [
    "\n",
    "<div class=\"alert alert-warning\">\n",
    "<b>Nota</b>\n",
    "<br>\n",
    "L'esempio è utile ai fini didattici ma la classe non è pensata bene.<br>\n",
    "Infatti, ad esempio, risulta possibile assegnare un valore non valido usando gli indici.<br>\n",
    "Per completare il lavoro occorrerebbe fare overload di altri metodi \"interni\", quelli con __ per intenderci<br>\n",
    "<br>\n",
    "</div>\n",
    "\n"
   ]
  },
  {
   "cell_type": "code",
   "execution_count": null,
   "metadata": {
    "collapsed": true,
    "slideshow": {
     "slide_type": "fragment"
    }
   },
   "outputs": [],
   "source": [
    "e.append(2)\n",
    "e[0] = 1\n",
    "print(e)"
   ]
  },
  {
   "cell_type": "markdown",
   "metadata": {
    "slideshow": {
     "slide_type": "slide"
    }
   },
   "source": [
    "## Gli effetti di un'eccezione\n",
    "\n",
    "Sembra stoppare l’esecuzione di un programma immediatamente. \n",
    "\n",
    "Le linee successive non sono eseguite\n"
   ]
  },
  {
   "cell_type": "code",
   "execution_count": null,
   "metadata": {
    "collapsed": true,
    "slideshow": {
     "slide_type": "fragment"
    }
   },
   "outputs": [],
   "source": [
    "def nessun_ritorno():\n",
    "    print(\"Sto per rilanciare un’eccezione\")\n",
    "    raise Exception(\"Questo è sempre rilanciato\")\n",
    "    print(\"Questa linea non sarà mai eseguita\")\n",
    "    return \"Non sarò restituito\"\n",
    "\n",
    "nessun_ritorno()"
   ]
  },
  {
   "cell_type": "markdown",
   "metadata": {
    "slideshow": {
     "slide_type": "subslide"
    }
   },
   "source": [
    "Inoltre, se una funzione chiama altra funzione che rilancia eccezione,\n",
    "le linee successive alla chiamata NON vengono chiamate.\n",
    "\n",
    "L'eccezione stoppa tutte le esecuzioni, a cascata, risalendo, fino a che è gestita o forzando l'uscita dell'interprete."
   ]
  },
  {
   "cell_type": "code",
   "execution_count": null,
   "metadata": {
    "collapsed": true,
    "slideshow": {
     "slide_type": "fragment"
    }
   },
   "outputs": [],
   "source": [
    "def chiama_eccessore():\n",
    "    print(\"chiama_eccessore inizia qui...\")\n",
    "    nessun_ritorno()\n",
    "    print(\"eccezione rilanciata...\")\n",
    "    print(\"...quindi queste linee non sono eseguite\")\n",
    "    \n",
    "chiama_eccessore()"
   ]
  },
  {
   "cell_type": "markdown",
   "metadata": {
    "slideshow": {
     "slide_type": "subslide"
    }
   },
   "source": [
    "Vedremo presto come poter gestire questi casi e reagire alle eccezioni, a qualsiasi livello.\n",
    "\n",
    "Dallo stacktrace (output dell'exception) dal basso verso l'alto si vede la catena: dove l'eccezione è partita,\n",
    "fino ad arrivare all'interprete che non sapendo cosa fare, rinuncia e mostra l'errore a video.\n"
   ]
  },
  {
   "cell_type": "markdown",
   "metadata": {
    "collapsed": true,
    "slideshow": {
     "slide_type": "slide"
    }
   },
   "source": [
    "# Gestire le eccezioni\n",
    "\n",
    "Si gestiscono racchiudendo la porzione di codice che potrebbe rilanciarle tra try e catch"
   ]
  },
  {
   "cell_type": "code",
   "execution_count": null,
   "metadata": {
    "collapsed": true,
    "slideshow": {
     "slide_type": "fragment"
    }
   },
   "outputs": [],
   "source": [
    "try:\n",
    "    nessun_ritorno()\n",
    "except:\n",
    "    print(\"Ho catturato un'eccezione\")\n",
    "print(\"Eseguito dopo l'eccezione\")"
   ]
  },
  {
   "cell_type": "markdown",
   "metadata": {
    "slideshow": {
     "slide_type": "subslide"
    }
   },
   "source": [
    "Sapevamo che nessun_ritorno() rilanciava un'eccezione e noi l'abbiamo catturata, continuando poi con l'esecuzione...\n",
    "\n",
    "Notare l'indentazione del codice tra try e except\n",
    "\n",
    "Il difetto del codice precedente è che cattura qualsiasi eccezione...\n",
    "\n",
    "Cosa fare se volessimo trattare diversamente ad esempio TypeError rispetto a ZeroDivisionError?"
   ]
  },
  {
   "cell_type": "code",
   "execution_count": null,
   "metadata": {
    "collapsed": true,
    "slideshow": {
     "slide_type": "fragment"
    }
   },
   "outputs": [],
   "source": [
    "def cento_diviso(divisore):\n",
    "    try:\n",
    "        return 100 / divisore\n",
    "    except ZeroDivisionError:\n",
    "        return \"Dividere per zero non è una buona idea!\"\n",
    "\n",
    "print(cento_diviso(0))\n",
    "print(cento_diviso(50.0))\n",
    "print(cento_diviso(\"hello\"))"
   ]
  },
  {
   "cell_type": "markdown",
   "metadata": {
    "slideshow": {
     "slide_type": "subslide"
    }
   },
   "source": [
    "Si possono gestire più eccezioni con stesso codice, o con codice diverso"
   ]
  },
  {
   "cell_type": "code",
   "execution_count": null,
   "metadata": {
    "collapsed": true,
    "slideshow": {
     "slide_type": "fragment"
    }
   },
   "outputs": [],
   "source": [
    "def cento_diviso_v2(divisore):\n",
    "    try:\n",
    "        if divisore == 17:\n",
    "            raise ValueError(\"17 è un numero sfortunato\")\n",
    "        return 100 / divisore\n",
    "    except (ZeroDivisionError, TypeError):\n",
    "        return \"Inserire un numero, diverso da zero\"\n",
    "\n",
    "for val in (0, \"ciao\", 50.0, 17):\n",
    "\n",
    "    print(\"Testiamo con {}:\".format(val),end=\" \")\n",
    "    print(cento_diviso_v2(val))"
   ]
  },
  {
   "cell_type": "markdown",
   "metadata": {
    "collapsed": true,
    "slideshow": {
     "slide_type": "subslide"
    }
   },
   "source": [
    "L'eccezione derivata dal numero 17 non è lista tra le gestite, quindi non viene gestita.\n",
    "\n",
    "Quindi se vogliamo gestire e fare cose diverse? (vedi distinzione tra ZeroDivisionError e TypeError sotto)\n",
    "\n",
    "O se vogliamo fare in modo di fare qualcosa e poi rilanciarla al chiamante? (vedi ValueError sotto)"
   ]
  },
  {
   "cell_type": "code",
   "execution_count": null,
   "metadata": {
    "collapsed": true,
    "slideshow": {
     "slide_type": "fragment"
    }
   },
   "outputs": [],
   "source": [
    "def cento_diviso_v3(divisore):\n",
    "    try:\n",
    "        if divisore == 17:\n",
    "            raise ValueError(\"17 è un numero sfortunato\")\n",
    "        return 100 / divisore\n",
    "    except ZeroDivisionError:\n",
    "        return \"Inserire un numero diverso da zero\"\n",
    "    except TypeError:\n",
    "        return \"Inserire un numero\"\n",
    "    except ValueError:\n",
    "        print(\"No, no, per favore non 17!\")\n",
    "        raise\n",
    "        \n",
    "for val in (0, \"ciao\", 50.0, 17):\n",
    "\n",
    "    print(\"Testiamo con {}:\".format(val),end=\" \")\n",
    "    print(cento_diviso_v3(val))"
   ]
  },
  {
   "cell_type": "markdown",
   "metadata": {
    "slideshow": {
     "slide_type": "subslide"
    }
   },
   "source": [
    "Mettendo in fila le eccezioni come nell'esempio precedente, solo la prima \"associazione\" viene eseguita, anche nel caso ce ne fossero di più. \n",
    "\n",
    "Ma qual è il caso di più associazioni?\n",
    "Le eccezioni sono oggetti con una loro gerarchia, la maggior parte deriva da Exception (che a sua volta deriva da BaseException). \n",
    "Se nel codice gestiamo Exception prima di TypeError, verrà gestita solo Exception perchè TypeError è anche Exception per ereditarietà.\n",
    "\n",
    "Questi ragionamenti sono utili quando vogliamo gestire delle eccezioni in modo particolare ma poi proteggerci in modo più generale da quelle rimanenti / generiche.\n",
    "\n",
    "\n",
    "\n",
    "   \n"
   ]
  },
  {
   "cell_type": "markdown",
   "metadata": {
    "slideshow": {
     "slide_type": "slide"
    }
   },
   "source": [
    "## Riferimento ad un eccezione\n",
    "\n",
    "Qualche volta vogliamo avere il riferimento dell'oggetto eccezione, magari per poter accedere a degli attributi.\n",
    "Per far questo si usa \"as e\" come si vede dopo."
   ]
  },
  {
   "cell_type": "code",
   "execution_count": null,
   "metadata": {
    "collapsed": true
   },
   "outputs": [],
   "source": [
    "try:\n",
    "    raise ValueError(\"Questo è un argomento\")\n",
    "except ValueError as e:\n",
    "    print(\"Gli argomenti dell'eccezione sono \", e.args)\n"
   ]
  },
  {
   "cell_type": "markdown",
   "metadata": {
    "slideshow": {
     "slide_type": "slide"
    }
   },
   "source": [
    "## finally and else\n",
    "\n",
    "Ora vediamo come eseguire del codice indipendentemente dall'evento eccezione con le parole chiave finally e else"
   ]
  },
  {
   "cell_type": "code",
   "execution_count": null,
   "metadata": {
    "collapsed": true,
    "slideshow": {
     "slide_type": "fragment"
    }
   },
   "outputs": [],
   "source": [
    "import random\n",
    "\n",
    "lista_con_alcune_eccezioni = [ZeroDivisionError, ValueError, TypeError, IndexError, None]\n",
    "\n",
    "try:\n",
    "    scelta = random.choice(lista_con_alcune_eccezioni)\n",
    "    print(\"Rilancio... {}\".format(scelta))\n",
    "    if scelta:\n",
    "        raise scelta(\"Un errore\")\n",
    "except ZeroDivisionError:\n",
    "            print(\"Gestita ZeroDivisionError\")\n",
    "except ValueError:\n",
    "            print(\"Gestita ValueError\")\n",
    "except TypeError:\n",
    "            print(\"Gestita TypeError\")\n",
    "except Exception as e:\n",
    "            print(\"Gestita eccezione di cui posso sapere il nome: %s\" %(e.__class__.__name__))          \n",
    "else:\n",
    "    print(\"Questo codice è eseguito in assenza di eccezioni\")\n",
    "finally:\n",
    "    print(\"Questo codice è eseguito sempre, per pulizia finale\")"
   ]
  },
  {
   "cell_type": "markdown",
   "metadata": {
    "collapsed": true,
    "slideshow": {
     "slide_type": "subslide"
    }
   },
   "source": [
    "La parte di finally è eseguita in qualsiasi caso ed è da utilizzare per i task da effettuare alla fine dell'esecuzione, qualsiasi cosa accada (es. chisura file, chiusura connessione DB o di rete).\n",
    "\n",
    "E' importante anche nelle funzioni che hanno un return nella parte try. Il codice nella parte finally verrà comunque eseguito prima del ritorno.\n",
    "\n",
    "Se non ci sono eccezioni sono eseguite sia else che finally\n",
    "\n",
    "except, else, e finally possono essere omessi (anche se else da solo non va bene).\n",
    "Se si mettono: except prima, poi else e finally alla fine.clause at the end. \n",
    "L'ordine degli except va dall'eccezione più specifica alla più generica."
   ]
  },
  {
   "cell_type": "markdown",
   "metadata": {
    "collapsed": true,
    "slideshow": {
     "slide_type": "slide"
    }
   },
   "source": [
    "# La gerarchia delle eccezioni\n",
    "\n",
    "La maggior parte delle eccezioni derivano da Exception (che però non è la base); eredita infatti da BaseException, come le due speciali SystemExit e KeyboardInterrupt.\n",
    "\n",
    "SystemExit è rilanciata naturalmente alla fine del programma o dalla funzione sys.exit\n",
    "\n",
    "KeyboardInterrupt è rilanciata a terminale dalla sequenza Ctrl+C\n",
    "\n",
    "![Gerarchia delle eccezioni](./resources/eccezioni.png)"
   ]
  },
  {
   "cell_type": "markdown",
   "metadata": {
    "collapsed": true,
    "slideshow": {
     "slide_type": "subslide"
    }
   },
   "source": [
    "Quando si usa except: senza specificare il tipo di exception, si catturano tutte le sottoclassi di BaseException (comprese le due speciali).\n",
    "\n",
    "Poichè normalmente vogliamo escluderle nel loro trattamento speciale meglio usare except con argomenti.\n",
    "Se vogliamo catturare tutte le exceptions tranne SystemExit e KeyboardInterrupt, esplictamente scriviamo catch Exception.\n",
    "\n",
    "Se invece vogliamo catturare anche le speciali, per chiarezza sempre consigliato except BaseException: \n",
    "così da far capire esplicitamente l'intento"
   ]
  },
  {
   "cell_type": "markdown",
   "metadata": {
    "collapsed": true,
    "slideshow": {
     "slide_type": "slide"
    }
   },
   "source": [
    "# Definire le proprie eccezioni\n",
    "\n",
    "E' molto semplice, basta estendere Exception e non è neppure necessario specificare altre informazioni"
   ]
  },
  {
   "cell_type": "code",
   "execution_count": null,
   "metadata": {
    "collapsed": true,
    "slideshow": {
     "slide_type": "fragment"
    }
   },
   "outputs": [],
   "source": [
    "class PrelievoNonValido(Exception):\n",
    "    pass\n",
    "\n",
    "raise PrelievoNonValido(\"Non hai abbastanza soldi sul conto\")"
   ]
  },
  {
   "cell_type": "markdown",
   "metadata": {
    "slideshow": {
     "slide_type": "subslide"
    }
   },
   "source": [
    "Ovviemente la classe eccezione può essere più complessa e articolata.\n",
    "\n",
    "Il metodo di inizializzazione Exception.__init__ method è progettato per accettare qualsiasi argomento e memorizzarlo in una tupla di nome args. \n",
    "Questo rende semplice la definizione senza la necessità di sovrescrivere (override) __init__"
   ]
  },
  {
   "cell_type": "code",
   "execution_count": null,
   "metadata": {
    "collapsed": true,
    "slideshow": {
     "slide_type": "fragment"
    }
   },
   "outputs": [],
   "source": [
    "class PrelievoNonValido(Exception):\n",
    "    def __init__(self, saldo, importo):\n",
    "        super().__init__(\"Il conto non ha EUR \"+ str(importo))\n",
    "        self.importo = importo\n",
    "        self.saldo = saldo\n",
    "    def sconfino(self):\n",
    "        return self.importo - self.saldo\n",
    "\n",
    "raise PrelievoNonValido(25, 60)        "
   ]
  },
  {
   "cell_type": "code",
   "execution_count": null,
   "metadata": {
    "collapsed": true,
    "slideshow": {
     "slide_type": "fragment"
    }
   },
   "outputs": [],
   "source": [
    "try:\n",
    "    raise PrelievoNonValido(25, 60)\n",
    "except PrelievoNonValido as e:\n",
    "    print(\"Banca Python: ci dispiace ma la sua richiesa è superiore \"\n",
    "            \"al saldo di \"\n",
    "            \"EUR {}\".format(e.sconfino()))"
   ]
  },
  {
   "cell_type": "markdown",
   "metadata": {
    "collapsed": true,
    "slideshow": {
     "slide_type": "subslide"
    }
   },
   "source": [
    "Avete visto come è stata gestita l'eccezione PrelievoNonValido.\n",
    "\n",
    "E anche l'utilizzo di as seguita dal nome istanza dell'eccezion.\n",
    "Per convenzione si usa e ma si potrebbe chiamare ex o pippo.\n",
    "\n",
    "Ci sono molti motivi per definire \"proprie\" eccezioni:\n",
    "- aggiungere info utili all'eccezione\n",
    "- loggare\n",
    "- in caso di framework / librerie / API per rilanciare eccezioni sensate ai caller, affinchè sia chiaro come sistemare l'errore o gestirlo\n",
    "\n",
    "Le eccezioni non servono per gestire eventi eccezionali.\n",
    "Molto spesso si tratta di scegliere il design...\n"
   ]
  },
  {
   "cell_type": "code",
   "execution_count": null,
   "metadata": {
    "collapsed": true,
    "slideshow": {
     "slide_type": "fragment"
    }
   },
   "outputs": [],
   "source": [
    "def dividi_con_exception(dividendo, divisore):\n",
    "    try:\n",
    "        print(\"{} / {} = {}\".format(\n",
    "            dividendo, divisore, dividendo / divisore * 1.0))\n",
    "    except ZeroDivisionError:\n",
    "        print(\"Non puoi dividere per zero!\")\n",
    "\n",
    "def dividi_con_if(dividendo, divisore):\n",
    "    if divisore == 0:\n",
    "        print(\"Non puoi dividere per zero!\")\n",
    "    else:\n",
    "        print(\"{} / {} = {}\".format(\n",
    "            dividendo, divisore, dividendo / divisore * 1.0))"
   ]
  },
  {
   "cell_type": "code",
   "execution_count": null,
   "metadata": {
    "collapsed": true,
    "slideshow": {
     "slide_type": "fragment"
    }
   },
   "outputs": [],
   "source": [
    "dividi_con_exception(6,2)\n",
    "dividi_con_exception(3,0)"
   ]
  },
  {
   "cell_type": "code",
   "execution_count": null,
   "metadata": {
    "collapsed": true,
    "slideshow": {
     "slide_type": "fragment"
    }
   },
   "outputs": [],
   "source": [
    "dividi_con_if(6,2)\n",
    "dividi_con_if(3,0)"
   ]
  },
  {
   "cell_type": "markdown",
   "metadata": {
    "slideshow": {
     "slide_type": "subslide"
    }
   },
   "source": [
    "Anche negli casi di eccezione si potrebbe \"proteggere\" il codice con tante if, ma a parte la difficoltà di prevedere tutti i casi, il suggerimento è quello di eseguire il codice e gestire la situazione se qualcosa va male, anche per risparmiare codice e cicli CPU inseriti solo per gestire scenari rari"
   ]
  },
  {
   "cell_type": "markdown",
   "metadata": {
    "slideshow": {
     "slide_type": "slide"
    }
   },
   "source": [
    "# Un ultimo esempio\n",
    "\n",
    "Immaginiamo di gestire un inventario per un'azienda che vende gadget.\n",
    "Quando un cliente fa un ordine di un prodotto, questo può essere disponibile (e quindi rimosso dall'inventario) oppure non disponibile (e questo evento è tutt'altro che eccezionale).\n",
    "\n",
    "Cosa dovrebbe restituire la funzione \"ordine\"? -1, una stringa descrittiva, decisamente meglio un'eccezione tipo ProdottoEsauritoException\n",
    "\n",
    "Definiamo con solo \"docstring\" l'oggetto e vediamo poi come usarlo..."
   ]
  },
  {
   "cell_type": "code",
   "execution_count": null,
   "metadata": {
    "collapsed": true,
    "slideshow": {
     "slide_type": "fragment"
    }
   },
   "outputs": [],
   "source": [
    "class Inventario:\n",
    "    def blocca(self, prodotto):\n",
    "        '''Seleziona e blocca il prodotto che sta per essere modificato.\n",
    "        Questo metodo lo blocca per prevenire che sia aquistato contemporaneamente\n",
    "        da più clienti.'''\n",
    "        pass\n",
    "\n",
    "    def sblocca(self, prodotto):\n",
    "        '''Sblocca il prodotto così da permettere ad altri\n",
    "        clienti di accedervi.'''\n",
    "        pass\n",
    "\n",
    "    def acquista(self, prodotto):\n",
    "        '''Se il prodotto non esiste, eccezione ProdottoNonValidoException.\n",
    "        Se il prodotto non è disponibile ProdottoEsauritoException.\n",
    "        Altrimenti ritorna il numero di oggetti \"prodotto\" disponibili'''\n",
    "        return 10\n"
   ]
  },
  {
   "cell_type": "code",
   "execution_count": null,
   "metadata": {
    "collapsed": true,
    "slideshow": {
     "slide_type": "fragment"
    }
   },
   "outputs": [],
   "source": [
    "tipo_prodotto = 'portachiave'\n",
    "inv = Inventario()\n",
    "inv.blocca(tipo_prodotto)\n",
    "try:\n",
    "    disponibili = inv.acquista(tipo_prodotto)\n",
    "except ProdottoNonValidoException:\n",
    "    print(\"Ci dispiace ma non trattiamo {}\", format(tipo_prodotto))\n",
    "except ProdottoEsauritoException:\n",
    "    print(\"Ci dispiace ma {} è esaurito\", format(tipo_prodotto))\n",
    "else:\n",
    "    print(\"Acquisto completato. Nell'inventario ancora \"\n",
    "            \"{} oggetti di tipo {} sono disponibili\".format(disponibili, tipo_prodotto))\n",
    "finally:\n",
    "    inv.sblocca(tipo_prodotto)"
   ]
  }
 ],
 "metadata": {
  "celltoolbar": "Slideshow",
  "colab": {
   "collapsed_sections": [],
   "name": "SPS-4.ipynb",
   "provenance": [],
   "version": "0.3.2"
  },
  "kernelspec": {
   "display_name": "Python [default]",
   "language": "python",
   "name": "python3"
  },
  "language_info": {
   "codemirror_mode": {
    "name": "ipython",
    "version": 3
   },
   "file_extension": ".py",
   "mimetype": "text/x-python",
   "name": "python",
   "nbconvert_exporter": "python",
   "pygments_lexer": "ipython3",
   "version": "3.5.6"
  },
  "toc": {
   "base_numbering": 1,
   "nav_menu": {},
   "number_sections": false,
   "sideBar": true,
   "skip_h1_title": false,
   "title_cell": "Table of Contents",
   "title_sidebar": "Contents",
   "toc_cell": false,
   "toc_position": {
    "height": "calc(100% - 180px)",
    "left": "10px",
    "top": "150px",
    "width": "320px"
   },
   "toc_section_display": true,
   "toc_window_display": true
  }
 },
 "nbformat": 4,
 "nbformat_minor": 1
}
