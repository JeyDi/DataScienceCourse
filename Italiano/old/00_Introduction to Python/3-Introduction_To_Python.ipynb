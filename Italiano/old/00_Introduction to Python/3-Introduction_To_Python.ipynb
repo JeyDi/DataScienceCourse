{
 "cells": [
  {
   "cell_type": "markdown",
   "metadata": {},
   "source": [
    "<a id='start'></a>\n",
    "# Introduction to Python\n",
    "\n",
    "#### In questo primo notebook introdurremo i concetti fondamentali per iniziare ad usare Python\n",
    "\n",
    "Il notebook è così suddiviso: <br>\n",
    "1) [Hello, Python](#section1)<a href='#section1'></a> <br>\n",
    "2) [Le funzioni](#section2)<a href='#section2'></a><br>\n",
    "3) [Booleans & Condizioni](#section3)<a href='#section3'></a> <br>\n",
    "4) [Le liste](#section4)<a href='#section4'></a> <br>\n",
    "5) [Loops](#section5)<a href='#section5'></a><br>\n",
    "6) [Le stringe](#section6)<a href='#section6'></a><br>\n",
    "7) [I dizionari](#section7)<a href='#section7'></a><br>\n",
    "8) [Le librerie esterne](#section8)<a href='#section8'></a><br>\n",
    "9) [Extra: Bonus, Pythonic Code!](#section9)<a href='section9'></a>\n",
    "\n"
   ]
  },
  {
   "cell_type": "markdown",
   "metadata": {},
   "source": [
    "Inserite sempre questo piccolo pezzo di codice nei vostri notebooks, consente di caricare automaticamente il notebook e vi permette (soprattutto nelle lezioni future) di avere i grafici inline"
   ]
  },
  {
   "cell_type": "code",
   "execution_count": 77,
   "metadata": {},
   "outputs": [],
   "source": [
    "# Put these at the top of every notebook, to get automatic reloading and inline plotting\n",
    "%reload_ext autoreload\n",
    "%autoreload 2\n",
    "%matplotlib inline"
   ]
  },
  {
   "cell_type": "markdown",
   "metadata": {},
   "source": [
    "<a id='section1'></a>\n",
    "## 1) Hello, Python!"
   ]
  },
  {
   "cell_type": "markdown",
   "metadata": {},
   "source": [
    "Python è un linguaggio interpretato, ovvero a differenza di C++ (che è un linguaggio compilato), esegue il codice riga-per-riga, mentre C++ compila il codice e successivamente lo esegue.  <br>\n",
    "Il vantaggio dei linguaggi di programmazione \"interpretati\" è che sono più facili \"da leggere\", ma più lenti in esecuzione rispetto ad un linguaggio compilato. <br>\n",
    "Proviamo a leggere il seguente codice e a ipotizzare quale sarà il suo output:"
   ]
  },
  {
   "cell_type": "code",
   "execution_count": 78,
   "metadata": {},
   "outputs": [
    {
     "name": "stdout",
     "output_type": "stream",
     "text": [
      "Ho 1 pere\n",
      "Esempio finito.\n"
     ]
    }
   ],
   "source": [
    "# Importo la libreria random \n",
    "# Servirà per generare numeri casuali\n",
    "import random as rd\n",
    "\n",
    "pere = 0\n",
    "\n",
    "# Genero un numero casuale tra 0 e 10\n",
    "Pere_comprate = rd.randint(0, 10) \n",
    "Pere_totali = pere + Pere_comprate\n",
    "\n",
    "if Pere_totali > 0:\n",
    "    print(\"Ho\", Pere_totali, \"pere\")\n",
    "else:\n",
    "    print(\"Non ho nessuna pera.\")\n",
    "\n",
    "print(\"Esempio finito.\")"
   ]
  },
  {
   "cell_type": "markdown",
   "metadata": {},
   "source": [
    "In questo piccolo script appena letto è possibile notare già alcuni aspetti della sintassi di Python e della sua semantica (ovvero come Python lavora).<br>\n",
    "Partiamo dalla prima linea di codice:"
   ]
  },
  {
   "cell_type": "code",
   "execution_count": 79,
   "metadata": {
    "jupyter": {
     "outputs_hidden": true
    }
   },
   "outputs": [],
   "source": [
    "import random as rd"
   ]
  },
  {
   "cell_type": "markdown",
   "metadata": {},
   "source": [
    "La funzione **import** serve ad importare una libreria in Python, e come vedremo ci sono molte librerie che possono essere molto utili per svolgere le nostre analisi. <br>\n",
    "Insieme ad *import* abbiamo usato **as** che ci ha permesso di denominare la libreria con una parola più breve (rd). "
   ]
  },
  {
   "cell_type": "markdown",
   "metadata": {},
   "source": [
    "Successivamente abbiamo identificato una variabile e le abbiamo assegnato un valore:"
   ]
  },
  {
   "cell_type": "code",
   "execution_count": 80,
   "metadata": {
    "jupyter": {
     "outputs_hidden": true
    }
   },
   "outputs": [],
   "source": [
    "pere = 0"
   ]
  },
  {
   "cell_type": "markdown",
   "metadata": {},
   "source": [
    "Come possiamo notare non è stato necessario definire prima la tipologia di variabile, Python non ha bisogno di sapere in anticipo quale sarà la tipologia di variabile che stiamo definendo."
   ]
  },
  {
   "cell_type": "code",
   "execution_count": 81,
   "metadata": {
    "jupyter": {
     "outputs_hidden": true
    }
   },
   "outputs": [],
   "source": [
    "# Genero un numero casuale tra 0 e 10\n",
    "Pere_comprate = rd.randint(0, 10) \n",
    "Pere_totali = pere + Pere_comprate"
   ]
  },
  {
   "cell_type": "markdown",
   "metadata": {},
   "source": [
    "In Python i commenti vengono inseriti utilizzando il simbolo **#** <br>\n",
    "Nel codice sopra possiamo notare come è stata richiamata una funzione che fa parte della libreria \"random\", definita inizialmente con l'acronimo \"rd\"; la funzione usata in questo caso è **randint** che serve a generare un numero intero casuale nell'intervallo definito dagli input assegnati alla funzione."
   ]
  },
  {
   "cell_type": "code",
   "execution_count": 82,
   "metadata": {},
   "outputs": [
    {
     "name": "stdout",
     "output_type": "stream",
     "text": [
      "Ho 2 pere\n",
      "Esempio finito.\n"
     ]
    }
   ],
   "source": [
    "if Pere_totali > 0:\n",
    "    print(\"Ho\", Pere_totali, \"pere\")\n",
    "else:\n",
    "    print(\"Non ho nessuna pera.\")\n",
    "\n",
    "print(\"Esempio finito.\")"
   ]
  },
  {
   "cell_type": "markdown",
   "metadata": {},
   "source": [
    "I due punti \" **:** \" alla fine della linea dell'if indicano che inizia un \"nuovo blocco di codice\", perciò le linee di codice appartenenti a questo blocco devono essere indentate (ovvero iniziare dopo 4 spazi). <br>\n",
    "L'ultima linea di codice \" *print(\"Esempio finito.\")* \" sarà fuori dall'if poichè non è indentato."
   ]
  },
  {
   "cell_type": "markdown",
   "metadata": {},
   "source": [
    "**Print** è una funzione preimpostata di Python che mostra a schermo ciò che si inserisce in input nella funzione. <br>\n",
    "Le funzioni di Python vengono chiamate inserendo tra parentesi gli input dopo il nome della funzione."
   ]
  },
  {
   "cell_type": "markdown",
   "metadata": {},
   "source": [
    "è possibile anche utilizzare il print di qualche variabili (con python 3.6 e superiore) con il seguente codice"
   ]
  },
  {
   "cell_type": "code",
   "execution_count": 83,
   "metadata": {},
   "outputs": [],
   "source": [
    "name = 'Science'"
   ]
  },
  {
   "cell_type": "code",
   "execution_count": 84,
   "metadata": {},
   "outputs": [
    {
     "data": {
      "text/plain": [
       "'Data Science'"
      ]
     },
     "execution_count": 84,
     "metadata": {},
     "output_type": "execute_result"
    }
   ],
   "source": [
    "f'Data {name}'"
   ]
  },
  {
   "cell_type": "markdown",
   "metadata": {},
   "source": [
    "e all'interno delle parentesi graffe è possibile utilizzare qualsiasi codice python che si vuole:"
   ]
  },
  {
   "cell_type": "code",
   "execution_count": 85,
   "metadata": {},
   "outputs": [
    {
     "data": {
      "text/plain": [
       "'Data SCIENCE'"
      ]
     },
     "execution_count": 85,
     "metadata": {},
     "output_type": "execute_result"
    }
   ],
   "source": [
    "f'Data {name.upper()}'"
   ]
  },
  {
   "cell_type": "markdown",
   "metadata": {},
   "source": [
    "Questa sintassi è molto utile per scrivere velocemente delle funzioni di print rapide e veloci per visualizzare il contenuto delle variabili, ma non è una sintassi particolarmente pulita per grandi quantità di codice complesso"
   ]
  },
  {
   "cell_type": "markdown",
   "metadata": {},
   "source": [
    "Per conoscere il tipo delle variabili che usiamo in Python possiamo usare la funzione **type**:"
   ]
  },
  {
   "cell_type": "code",
   "execution_count": 86,
   "metadata": {},
   "outputs": [
    {
     "data": {
      "text/plain": [
       "int"
      ]
     },
     "execution_count": 86,
     "metadata": {},
     "output_type": "execute_result"
    }
   ],
   "source": [
    "type(0)"
   ]
  },
  {
   "cell_type": "code",
   "execution_count": 87,
   "metadata": {},
   "outputs": [
    {
     "data": {
      "text/plain": [
       "float"
      ]
     },
     "execution_count": 87,
     "metadata": {},
     "output_type": "execute_result"
    }
   ],
   "source": [
    "type(2.5)"
   ]
  },
  {
   "cell_type": "markdown",
   "metadata": {},
   "source": [
    "Di seguito mostriamo le operazioni aritmetiche che possono essere fatte in Python:"
   ]
  },
  {
   "cell_type": "markdown",
   "metadata": {},
   "source": [
    "<img src=\"operators in Python.jpg\">"
   ]
  },
  {
   "cell_type": "markdown",
   "metadata": {},
   "source": [
    "Altre funzioni preimpostate in Python che possono essere utili sono:"
   ]
  },
  {
   "cell_type": "code",
   "execution_count": 88,
   "metadata": {},
   "outputs": [
    {
     "name": "stdout",
     "output_type": "stream",
     "text": [
      "Min: 1\n",
      "Max: 3\n",
      "Absolute Value: 32\n"
     ]
    }
   ],
   "source": [
    "print(\"Min:\", min(1, 2, 3))\n",
    "print(\"Max:\", max(1, 2, 3))\n",
    "print(\"Absolute Value:\", abs(-32))"
   ]
  },
  {
   "cell_type": "markdown",
   "metadata": {},
   "source": [
    "<a id='section2'></a>\n",
    "## 2) Le funzioni"
   ]
  },
  {
   "cell_type": "markdown",
   "metadata": {},
   "source": [
    "Una delle funzioni più utili è **help()**, infatti grazie a questa funzione è possibile capire qualsiasi altra funzione che si può usare in Python."
   ]
  },
  {
   "cell_type": "code",
   "execution_count": 89,
   "metadata": {},
   "outputs": [
    {
     "data": {
      "text/plain": [
       "<function abs(x, /)>"
      ]
     },
     "execution_count": 89,
     "metadata": {},
     "output_type": "execute_result"
    }
   ],
   "source": [
    "abs"
   ]
  },
  {
   "cell_type": "markdown",
   "metadata": {},
   "source": [
    "La funzione help() mostra: <br>\n",
    "- L'intestazione della funzione, indicando quanti/quali argomenti prende in input la funzione;\n",
    "- Una breve descrizione di ciò che fa la funzione. <br>"
   ]
  },
  {
   "cell_type": "code",
   "execution_count": 90,
   "metadata": {},
   "outputs": [
    {
     "name": "stdout",
     "output_type": "stream",
     "text": [
      "Help on built-in function print in module builtins:\n",
      "\n",
      "print(...)\n",
      "    print(value, ..., sep=' ', end='\\n', file=sys.stdout, flush=False)\n",
      "    \n",
      "    Prints the values to a stream, or to sys.stdout by default.\n",
      "    Optional keyword arguments:\n",
      "    file:  a file-like object (stream); defaults to the current sys.stdout.\n",
      "    sep:   string inserted between values, default a space.\n",
      "    end:   string appended after the last value, default a newline.\n",
      "    flush: whether to forcibly flush the stream.\n",
      "\n"
     ]
    }
   ],
   "source": [
    "help(print)"
   ]
  },
  {
   "cell_type": "markdown",
   "metadata": {},
   "source": [
    "Ovviamente in Python è possibile definire funzioni personalizzate oltreché usare le funzioni già preimpostate, ad esempio:"
   ]
  },
  {
   "cell_type": "code",
   "execution_count": 91,
   "metadata": {},
   "outputs": [],
   "source": [
    "def min_delta(a, b, c):\n",
    "    \n",
    "    delta_1 = abs(a-b)\n",
    "    delta_2 = abs(b-c)\n",
    "    delta_3 = abs(a-c)\n",
    "    \n",
    "    return min(delta_1, delta_2, delta_3)\n"
   ]
  },
  {
   "cell_type": "markdown",
   "metadata": {},
   "source": [
    "Nel codice sopra abbiamo creato una funzione che prende in input tre argomenti: a, b, c. <br>\n",
    "Le funzioni iniziano sempre con la parola chiave **def**, il codice associato alla funzione è il blocco di codice indentato ed inserito dopo i \"**:**\". <br>\n",
    "**return** è un'altra parola chiave associata alla funzione e determina l'uscita immediata dalla funzione, passando in output il valore inserito a destra della parola chiave stessa.\n",
    "<br>\n",
    "<br>\n",
    "Cosa fa la funzione **min_delta**?"
   ]
  },
  {
   "cell_type": "code",
   "execution_count": 92,
   "metadata": {},
   "outputs": [
    {
     "name": "stdout",
     "output_type": "stream",
     "text": [
      "9\n",
      "0\n",
      "2\n"
     ]
    }
   ],
   "source": [
    "print(min_delta(1, 10, 100))\n",
    "print(min_delta(1, 10, 10))\n",
    "print(min_delta(2, 4, 8))"
   ]
  },
  {
   "cell_type": "markdown",
   "metadata": {},
   "source": [
    "Proviamo ad usare la funzione **help** per la nostra funzione personalizzata \"min_delta\":"
   ]
  },
  {
   "cell_type": "code",
   "execution_count": 93,
   "metadata": {},
   "outputs": [
    {
     "name": "stdout",
     "output_type": "stream",
     "text": [
      "Help on function min_delta in module __main__:\n",
      "\n",
      "min_delta(a, b, c)\n",
      "\n"
     ]
    }
   ],
   "source": [
    "help(min_delta)"
   ]
  },
  {
   "cell_type": "markdown",
   "metadata": {},
   "source": [
    "Possiamo associare al codice che facciamo una descrizione in modo da poterla leggere quando usiamo la funzione pre-impostata di Python, help()."
   ]
  },
  {
   "cell_type": "code",
   "execution_count": 94,
   "metadata": {},
   "outputs": [],
   "source": [
    "def min_delta(a, b, c):\n",
    "    \"\"\" La funzione determina la più piccola differenza tra due numeri, \n",
    "    utilizzando a, b e c.\n",
    "    \n",
    "    >>> min_delta(1, 5, -5)\n",
    "    4\n",
    "    \"\"\"\n",
    "    \n",
    "    delta_1 = abs(a-b)\n",
    "    delta_2 = abs(b-c)\n",
    "    delta_3 = abs(a-c)\n",
    "    return min(delta_1, delta_2, delta_3)\n"
   ]
  },
  {
   "cell_type": "code",
   "execution_count": 95,
   "metadata": {},
   "outputs": [
    {
     "name": "stdout",
     "output_type": "stream",
     "text": [
      "Help on function min_delta in module __main__:\n",
      "\n",
      "min_delta(a, b, c)\n",
      "    La funzione determina la più piccola differenza tra due numeri, \n",
      "    utilizzando a, b e c.\n",
      "    \n",
      "    >>> min_delta(1, 5, -5)\n",
      "    4\n",
      "\n"
     ]
    }
   ],
   "source": [
    "help(min_delta)"
   ]
  },
  {
   "cell_type": "markdown",
   "metadata": {},
   "source": [
    "Se torniamo ad osservare l'help della funzione di print possiamo osservare che ci sono dei parametri opzionali nella funzione, come il parametro *sep*:"
   ]
  },
  {
   "cell_type": "code",
   "execution_count": 96,
   "metadata": {},
   "outputs": [
    {
     "name": "stdout",
     "output_type": "stream",
     "text": [
      "Help on built-in function print in module builtins:\n",
      "\n",
      "print(...)\n",
      "    print(value, ..., sep=' ', end='\\n', file=sys.stdout, flush=False)\n",
      "    \n",
      "    Prints the values to a stream, or to sys.stdout by default.\n",
      "    Optional keyword arguments:\n",
      "    file:  a file-like object (stream); defaults to the current sys.stdout.\n",
      "    sep:   string inserted between values, default a space.\n",
      "    end:   string appended after the last value, default a newline.\n",
      "    flush: whether to forcibly flush the stream.\n",
      "\n"
     ]
    }
   ],
   "source": [
    "help(print)"
   ]
  },
  {
   "cell_type": "code",
   "execution_count": 97,
   "metadata": {},
   "outputs": [
    {
     "name": "stdout",
     "output_type": "stream",
     "text": [
      "1 < 2 < 3\n"
     ]
    }
   ],
   "source": [
    "print(1, 2, 3, sep= ' < ')"
   ]
  },
  {
   "cell_type": "code",
   "execution_count": 98,
   "metadata": {},
   "outputs": [
    {
     "name": "stdout",
     "output_type": "stream",
     "text": [
      "1\n",
      "2\n",
      "3\n"
     ]
    }
   ],
   "source": [
    "print(1, 2, 3, sep='\\n')"
   ]
  },
  {
   "cell_type": "code",
   "execution_count": 99,
   "metadata": {},
   "outputs": [
    {
     "name": "stdout",
     "output_type": "stream",
     "text": [
      "1 2 3\n"
     ]
    }
   ],
   "source": [
    "print(1, 2, 3)"
   ]
  },
  {
   "cell_type": "markdown",
   "metadata": {},
   "source": [
    "è possibile inserire dei parametri opzionali nelle funzioni che costruiamo, nel seguente modo:"
   ]
  },
  {
   "cell_type": "code",
   "execution_count": 100,
   "metadata": {},
   "outputs": [
    {
     "name": "stdout",
     "output_type": "stream",
     "text": [
      "Hello, Robot\n",
      "Hello, Salvo\n",
      "Hello, Andrea\n"
     ]
    }
   ],
   "source": [
    "def benvenuto(chi=\"Robot\"):\n",
    "    print(\"Hello,\", chi)\n",
    "    \n",
    "benvenuto()\n",
    "benvenuto(chi=\"Salvo\")\n",
    "benvenuto(\"Andrea\")"
   ]
  },
  {
   "cell_type": "code",
   "execution_count": 101,
   "metadata": {},
   "outputs": [
    {
     "name": "stdout",
     "output_type": "stream",
     "text": [
      "Anche le funzioni sono degli oggetti, infatti sono: <class 'function'>\n"
     ]
    }
   ],
   "source": [
    "print(\"Anche le funzioni sono degli oggetti, infatti sono:\", type(benvenuto))"
   ]
  },
  {
   "cell_type": "markdown",
   "metadata": {},
   "source": [
    "Osserviamo il seguente utilizzo dei parametri opzionali:"
   ]
  },
  {
   "cell_type": "code",
   "execution_count": 102,
   "metadata": {},
   "outputs": [
    {
     "name": "stdout",
     "output_type": "stream",
     "text": [
      "Qual è il numero più grande?\n",
      "100\n",
      "Quale numero ha il resto maggiore se diviso per 5?\n",
      "14\n"
     ]
    }
   ],
   "source": [
    "def mod_5(x):\n",
    "    \"\"\"Restituisce il resto di x dopo averlo diviso per 5\"\"\"\n",
    "    return x % 5\n",
    "\n",
    "print(\n",
    "    'Qual è il numero più grande?',\n",
    "    max(100, 51, 14),\n",
    "    'Quale numero ha il resto maggiore se diviso per 5?',\n",
    "    max(100, 51, 14, key=mod_5),\n",
    "    sep='\\n',\n",
    ")"
   ]
  },
  {
   "cell_type": "markdown",
   "metadata": {},
   "source": [
    "Se vogliamo creare funzioni molto velocemente da usare in piccole parti di codice è possibile ricorrere alle lambda.  \n",
    "Esistono in molti linguaggi di programmazione e sono facili e veloci per piccole parti di codice.  \n",
    "\n",
    "Le lambda functions sono anche chiamate funzioni anonime perchè non hanno un nome esplicito (come le funzioni normali definite con \"def\").  \n",
    "Esse però possono essere associate a delle variabili.  \n",
    "\n",
    "**Sintassi**\n",
    "La sintassi di una lambda function è la seguente\n",
    "\n",
    "`lambda arguments: expression`\n",
    "\n",
    "Per ulteriori approfondimenti consultare questo link:  \n",
    "https://realpython.com/python-lambda/\n"
   ]
  },
  {
   "cell_type": "markdown",
   "metadata": {},
   "source": [
    "Un piccolo esempio di come si usano le lambda:"
   ]
  },
  {
   "cell_type": "code",
   "execution_count": 103,
   "metadata": {},
   "outputs": [
    {
     "name": "stdout",
     "output_type": "stream",
     "text": [
      "101 mod 5 = 1\n"
     ]
    }
   ],
   "source": [
    "mod_5 = lambda x: x % 5\n",
    "\n",
    "# Con la parola chiave lambda non è necessario inserire la parola return\n",
    "\n",
    "print('101 mod 5 =', mod_5(101))"
   ]
  },
  {
   "cell_type": "code",
   "execution_count": 104,
   "metadata": {},
   "outputs": [
    {
     "name": "stdout",
     "output_type": "stream",
     "text": [
      "La differenza in termini assoluti tra 5 e 7 è 2\n"
     ]
    }
   ],
   "source": [
    "abs_diff = lambda a, b: abs(a-b)\n",
    "print(\"La differenza in termini assoluti tra 5 e 7 è\", abs_diff(5, 7))"
   ]
  },
  {
   "cell_type": "code",
   "execution_count": 105,
   "metadata": {},
   "outputs": [
    {
     "name": "stdout",
     "output_type": "stream",
     "text": [
      "Il nome più lungo è: Salvatore\n"
     ]
    }
   ],
   "source": [
    "# Len: restituisce la lunghezza di una sequenza (di una lista o di una stringa)\n",
    "names = ['Salvatore', 'Andrea', 'Leonardo', 'Pietro']\n",
    "print(\"Il nome più lungo è:\", max(names, key=lambda name: len(name))) "
   ]
  },
  {
   "cell_type": "markdown",
   "metadata": {},
   "source": [
    "<a id='section3'></a>\n",
    "## 3) Booleans & Condizioni"
   ]
  },
  {
   "cell_type": "markdown",
   "metadata": {},
   "source": [
    "I principali operatori che danno come risposta True/False sono i seguenti:"
   ]
  },
  {
   "cell_type": "markdown",
   "metadata": {},
   "source": [
    "<img src=\"comparison_operations.jpg\">"
   ]
  },
  {
   "cell_type": "code",
   "execution_count": 106,
   "metadata": {},
   "outputs": [
    {
     "name": "stdout",
     "output_type": "stream",
     "text": [
      "Chi ha 19 anni può votare i membri del Senato: False\n",
      "Chi ha 27 anni può votare i membri del Senato: True\n"
     ]
    }
   ],
   "source": [
    "def votare_senato(eta):\n",
    "    \"\"\" La persona può votare i membri del Senato in Italia?\"\"\"\n",
    "    # La Costituzione italiana indica che possono votare i membri del Senato\n",
    "    # chi ha compiuto almeno 25 anni d'età.\n",
    "    return eta >= 25\n",
    "\n",
    "print(\"Chi ha 19 anni può votare i membri del Senato:\", votare_senato(19))\n",
    "print(\"Chi ha 27 anni può votare i membri del Senato:\", votare_senato(27))\n",
    "    "
   ]
  },
  {
   "cell_type": "markdown",
   "metadata": {},
   "source": [
    "È necessario fare attenzione alle tipologie di dati che si mettono a confronto, infatti:"
   ]
  },
  {
   "cell_type": "code",
   "execution_count": 107,
   "metadata": {},
   "outputs": [
    {
     "data": {
      "text/plain": [
       "True"
      ]
     },
     "execution_count": 107,
     "metadata": {},
     "output_type": "execute_result"
    }
   ],
   "source": [
    "3.0 == 3"
   ]
  },
  {
   "cell_type": "code",
   "execution_count": 108,
   "metadata": {},
   "outputs": [
    {
     "data": {
      "text/plain": [
       "False"
      ]
     },
     "execution_count": 108,
     "metadata": {},
     "output_type": "execute_result"
    }
   ],
   "source": [
    "'3' == 3"
   ]
  },
  {
   "cell_type": "markdown",
   "metadata": {},
   "source": [
    "Come altri linguaggi di programmazione, Python permette di combinare i valori booleani utilizzando i concetti di \"*and*\", \"*or*\" e \"*not*\". <br>\n",
    "Qual è il valore della prossima espressione?"
   ]
  },
  {
   "cell_type": "code",
   "execution_count": 109,
   "metadata": {},
   "outputs": [],
   "source": [
    "True or True and False;"
   ]
  },
  {
   "cell_type": "markdown",
   "metadata": {},
   "source": [
    "Python segue delle regole ben precise quando deve valutare espressioni come quelle scritte sopra. L'operatore **and** ha la precedenza sull'operatore **or**. Perciò seguendo le logiche di Python possiamo dividere l'espressione sopra nel seguente modo: <br>\n",
    "- 1. True and False --> False\n",
    "- 2. True or False --> True"
   ]
  },
  {
   "cell_type": "code",
   "execution_count": 110,
   "metadata": {},
   "outputs": [
    {
     "name": "stdout",
     "output_type": "stream",
     "text": [
      "False\n",
      "True\n"
     ]
    }
   ],
   "source": [
    "print(True and False)\n",
    "print(True or print(True and False))"
   ]
  },
  {
   "cell_type": "code",
   "execution_count": 111,
   "metadata": {},
   "outputs": [
    {
     "data": {
      "text/plain": [
       "True"
      ]
     },
     "execution_count": 111,
     "metadata": {},
     "output_type": "execute_result"
    }
   ],
   "source": [
    "True or True and False"
   ]
  },
  {
   "cell_type": "markdown",
   "metadata": {},
   "source": [
    "Per maggiori dettagli sulle precedenze degli operatori utilizzati in Python è possibile cliccare [qui](https://docs.python.org/3/reference/expressions.html#operator-precedence). <br>\n",
    "Una prassi che può aiutare il lettore a capire quale espressione eseguire prima può essere inserire le parentesi all'interno dell'espressione: <br>\n",
    "*True or (True and False)* <br>\n",
    "<br>\n",
    "Osserviamo ora la seguente espressione cercando di capirne il senso:"
   ]
  },
  {
   "cell_type": "markdown",
   "metadata": {},
   "source": [
    "pronto_per_la_pioggia = Ombrello **or** livello_pioggia < 5 **and** Cappuccio \n",
    "**or not** livello_pioggia > 0 **and** giorno_lavorativo"
   ]
  },
  {
   "cell_type": "markdown",
   "metadata": {},
   "source": [
    "Nell'espressione scritta sopra stiamo provando ad affermare che: <br>\n",
    "Sono salvo dal tempo se: <br>\n",
    "- Ho un ombrello...\n",
    "- oppure, se la pioggia non è forte e ho il cappuccio..\n",
    "- oppure, piove ed è un giorno lavorativo.\n",
    "<br>\n",
    "<br>\n",
    "L'espressione scritta sopra, oltre ad essere difficile da leggere ha anche un bug."
   ]
  },
  {
   "cell_type": "markdown",
   "metadata": {},
   "source": [
    "pronto_per_la_pioggia = (<br>\n",
    "    Ombrello <br>\n",
    "    **or** ((livello_pioggia < 5) **and** Cappuccio) <br>\n",
    "    **or** (**not** (livello_pioggia > 0 **and** giorno_lavorativo))<br>\n",
    "    )"
   ]
  },
  {
   "cell_type": "markdown",
   "metadata": {},
   "source": [
    "I booleans tornano molto utili quando vengono usati con la sintassi condizionale, ovvero quando si usano le seguenti parole chiave **if**, **elif** e **else**."
   ]
  },
  {
   "cell_type": "code",
   "execution_count": 112,
   "metadata": {},
   "outputs": [
    {
     "name": "stdout",
     "output_type": "stream",
     "text": [
      "0 è zero\n",
      "-15 è negativo\n"
     ]
    }
   ],
   "source": [
    "def what(x):\n",
    "    if x == 0:\n",
    "        print(x, \"è zero\")\n",
    "    elif x > 0:\n",
    "        print(x, \"è positivo\")\n",
    "    elif x < 0:\n",
    "        print(x, \"è negativo\")\n",
    "    else:\n",
    "        print(x, \"è qualcosa che non ho mai visto..\")\n",
    "\n",
    "what(0)\n",
    "what(-15)"
   ]
  },
  {
   "cell_type": "markdown",
   "metadata": {},
   "source": [
    "In Python è presente la funzione **bool()** che trasforma un elemento in una variabile booleana. <br>\n",
    "Ad esempio:"
   ]
  },
  {
   "cell_type": "code",
   "execution_count": 113,
   "metadata": {},
   "outputs": [
    {
     "name": "stdout",
     "output_type": "stream",
     "text": [
      "True\n",
      "False\n",
      "True\n",
      "False\n"
     ]
    }
   ],
   "source": [
    "print(bool(1)) # Tutti i numeri sono considerati veri, a parte 0\n",
    "print(bool(0))\n",
    "print(bool(\"ahieahie\")) # Tutte le stringhe sono considerate vere, a parte \n",
    "# le stringhe vuote \"\"\n",
    "print(bool(\"\"))"
   ]
  },
  {
   "cell_type": "markdown",
   "metadata": {},
   "source": [
    "Osserviamo il seguente script:"
   ]
  },
  {
   "cell_type": "code",
   "execution_count": 114,
   "metadata": {},
   "outputs": [
    {
     "name": "stdout",
     "output_type": "stream",
     "text": [
      "Hai passato l'esame, il tuo punteggio è : 80\n"
     ]
    }
   ],
   "source": [
    "def risultato_quiz(voto):\n",
    "    if voto < 50:\n",
    "        risultato = 'Non hai passato'\n",
    "    else:\n",
    "        risultato = 'Hai passato'\n",
    "    \n",
    "    print(risultato, \"l'esame, il tuo punteggio è :\", voto)\n",
    "    \n",
    "risultato_quiz(80)"
   ]
  },
  {
   "cell_type": "markdown",
   "metadata": {},
   "source": [
    "In questo caso è possibile replicare la funzione scritta sopra, nel seguente modo:"
   ]
  },
  {
   "cell_type": "code",
   "execution_count": 115,
   "metadata": {},
   "outputs": [
    {
     "name": "stdout",
     "output_type": "stream",
     "text": [
      "Non hai passato l'esame, il tuo punteggio è : 45\n"
     ]
    }
   ],
   "source": [
    "def risultato_quiz(voto):\n",
    "    risultato = 'Non hai passato' if voto < 50 else 'Hai passato'\n",
    "    print(risultato, \"l'esame, il tuo punteggio è :\", voto)\n",
    "    \n",
    "risultato_quiz(45)"
   ]
  },
  {
   "cell_type": "markdown",
   "metadata": {},
   "source": [
    "<a id='section4'></a>\n",
    "## 4) Le liste"
   ]
  },
  {
   "cell_type": "markdown",
   "metadata": {},
   "source": [
    "Le liste in Python sono una sequenza ordinati di valori e sono definite attraverso valori separati da una virgola e contenuti in parentesi quadre."
   ]
  },
  {
   "cell_type": "code",
   "execution_count": 116,
   "metadata": {
    "jupyter": {
     "outputs_hidden": true
    }
   },
   "outputs": [],
   "source": [
    "Numeri_primi = [1, 2, 3, 5, 7]"
   ]
  },
  {
   "cell_type": "code",
   "execution_count": 117,
   "metadata": {},
   "outputs": [
    {
     "data": {
      "text/plain": [
       "list"
      ]
     },
     "execution_count": 117,
     "metadata": {},
     "output_type": "execute_result"
    }
   ],
   "source": [
    "type(Numeri_primi)"
   ]
  },
  {
   "cell_type": "code",
   "execution_count": 118,
   "metadata": {
    "jupyter": {
     "outputs_hidden": true
    }
   },
   "outputs": [],
   "source": [
    "Pianeti = ['Mercurio', 'Venere', 'Terra', 'Marte',\\\n",
    "           'Giove', 'Saturno', 'Urano', 'Nettuno']"
   ]
  },
  {
   "cell_type": "code",
   "execution_count": 119,
   "metadata": {},
   "outputs": [
    {
     "data": {
      "text/plain": [
       "['Mercurio',\n",
       " 'Venere',\n",
       " 'Terra',\n",
       " 'Marte',\n",
       " 'Giove',\n",
       " 'Saturno',\n",
       " 'Urano',\n",
       " 'Nettuno']"
      ]
     },
     "execution_count": 119,
     "metadata": {},
     "output_type": "execute_result"
    }
   ],
   "source": [
    "Pianeti"
   ]
  },
  {
   "cell_type": "markdown",
   "metadata": {},
   "source": [
    "Una lista può contenere altre liste, ad esempio:"
   ]
  },
  {
   "cell_type": "code",
   "execution_count": 120,
   "metadata": {
    "jupyter": {
     "outputs_hidden": true
    }
   },
   "outputs": [],
   "source": [
    "Carte = [['J', 'Q', 'K'], ['2', '4', '8'], ['6', 'A', 'K']]\n",
    "\n",
    "# Per una lettura migliore è possibile anche scrivere nel seguente modo:\n",
    "Carte = [\n",
    "    ['J', 'Q', 'K'], \n",
    "    ['2', '4', '8'], \n",
    "    ['6', 'A', 'K']\n",
    "]"
   ]
  },
  {
   "cell_type": "markdown",
   "metadata": {},
   "source": [
    "Una lista può contenere un mix di elementi di tipo diverso:"
   ]
  },
  {
   "cell_type": "code",
   "execution_count": 121,
   "metadata": {},
   "outputs": [],
   "source": [
    "Elementi_preferiti = [27, 'Moto']"
   ]
  },
  {
   "cell_type": "markdown",
   "metadata": {},
   "source": [
    "È possibile accedere agli elementi di una lista di Python attraverso l'indicizzazione tramite parentesi quadre. <br>\n",
    "Ad esempio, qual è il pianeta più vicino al sole?"
   ]
  },
  {
   "cell_type": "code",
   "execution_count": 122,
   "metadata": {},
   "outputs": [
    {
     "data": {
      "text/plain": [
       "'Mercurio'"
      ]
     },
     "execution_count": 122,
     "metadata": {},
     "output_type": "execute_result"
    }
   ],
   "source": [
    "Pianeti[0]"
   ]
  },
  {
   "cell_type": "markdown",
   "metadata": {},
   "source": [
    "Qual è il pianeta più lontano dal sole? <br>\n",
    "*Gli elementi alla fine di una lista possono essere identificati attraverso i numeri negativi, partendo da -1.*"
   ]
  },
  {
   "cell_type": "code",
   "execution_count": 123,
   "metadata": {},
   "outputs": [
    {
     "data": {
      "text/plain": [
       "'Nettuno'"
      ]
     },
     "execution_count": 123,
     "metadata": {},
     "output_type": "execute_result"
    }
   ],
   "source": [
    "Pianeti[-1]"
   ]
  },
  {
   "cell_type": "code",
   "execution_count": 124,
   "metadata": {},
   "outputs": [
    {
     "data": {
      "text/plain": [
       "'Urano'"
      ]
     },
     "execution_count": 124,
     "metadata": {},
     "output_type": "execute_result"
    }
   ],
   "source": [
    "Pianeti[-2]"
   ]
  },
  {
   "cell_type": "markdown",
   "metadata": {},
   "source": [
    "Quali sono i primi tre pianeti più vicini al sole? <br>\n",
    "*Rispondiamo a questa domanda utilizzando lo **slicing***"
   ]
  },
  {
   "cell_type": "code",
   "execution_count": 125,
   "metadata": {},
   "outputs": [
    {
     "data": {
      "text/plain": [
       "['Mercurio', 'Venere', 'Terra']"
      ]
     },
     "execution_count": 125,
     "metadata": {},
     "output_type": "execute_result"
    }
   ],
   "source": [
    "Pianeti[0:3]"
   ]
  },
  {
   "cell_type": "markdown",
   "metadata": {},
   "source": [
    "La notazione vista sopra \"[0:3]\" ci dice di partire da 0 e continuare fino all'indice **3, escluso**."
   ]
  },
  {
   "cell_type": "markdown",
   "metadata": {},
   "source": [
    "Non è necessario indicare l'inizio e la fine dell'indicizzazione qualora si volesse partire/finire con il primo/ultimo elemento di una lista."
   ]
  },
  {
   "cell_type": "code",
   "execution_count": 126,
   "metadata": {},
   "outputs": [
    {
     "data": {
      "text/plain": [
       "['Mercurio', 'Venere', 'Terra']"
      ]
     },
     "execution_count": 126,
     "metadata": {},
     "output_type": "execute_result"
    }
   ],
   "source": [
    "Pianeti[:3]"
   ]
  },
  {
   "cell_type": "code",
   "execution_count": 127,
   "metadata": {},
   "outputs": [
    {
     "data": {
      "text/plain": [
       "['Marte', 'Giove', 'Saturno', 'Urano', 'Nettuno']"
      ]
     },
     "execution_count": 127,
     "metadata": {},
     "output_type": "execute_result"
    }
   ],
   "source": [
    "Pianeti[3:] # Dal terzo pianeta in poi"
   ]
  },
  {
   "cell_type": "code",
   "execution_count": 128,
   "metadata": {},
   "outputs": [
    {
     "data": {
      "text/plain": [
       "['Saturno', 'Urano', 'Nettuno']"
      ]
     },
     "execution_count": 128,
     "metadata": {},
     "output_type": "execute_result"
    }
   ],
   "source": [
    "Pianeti[-3:] # Gli ultimi 3 pianeti"
   ]
  },
  {
   "cell_type": "code",
   "execution_count": 129,
   "metadata": {},
   "outputs": [
    {
     "data": {
      "text/plain": [
       "['Mercurio',\n",
       " 'Venere',\n",
       " 'Terra',\n",
       " 'Pianeta X',\n",
       " 'Giove',\n",
       " 'Saturno',\n",
       " 'Urano',\n",
       " 'Nettuno']"
      ]
     },
     "execution_count": 129,
     "metadata": {},
     "output_type": "execute_result"
    }
   ],
   "source": [
    "Pianeti[3] = \"Pianeta X\"\n",
    "Pianeti"
   ]
  },
  {
   "cell_type": "code",
   "execution_count": 130,
   "metadata": {},
   "outputs": [
    {
     "data": {
      "text/plain": [
       "['A', 'B', 'C', 'Pianeta X', 'Giove', 'Saturno', 'Urano', 'Nettuno']"
      ]
     },
     "execution_count": 130,
     "metadata": {},
     "output_type": "execute_result"
    }
   ],
   "source": [
    "Pianeti[:3] = ['A', 'B', 'C']\n",
    "Pianeti"
   ]
  },
  {
   "cell_type": "markdown",
   "metadata": {},
   "source": [
    "Python ha differenti funzioni che possono essere usate con le liste: <br>\n",
    "- **len**: permette di calcolare la lunghezza di una lista; <br>\n",
    "- **sorted**: dà come risultato la lista ordinata; <br>\n",
    "- **sum**: somma gli elementi di una lista."
   ]
  },
  {
   "cell_type": "code",
   "execution_count": 131,
   "metadata": {},
   "outputs": [
    {
     "data": {
      "text/plain": [
       "8"
      ]
     },
     "execution_count": 131,
     "metadata": {},
     "output_type": "execute_result"
    }
   ],
   "source": [
    "len(Pianeti)"
   ]
  },
  {
   "cell_type": "code",
   "execution_count": 132,
   "metadata": {},
   "outputs": [
    {
     "data": {
      "text/plain": [
       "['Giove',\n",
       " 'Marte',\n",
       " 'Mercurio',\n",
       " 'Nettuno',\n",
       " 'Saturno',\n",
       " 'Terra',\n",
       " 'Urano',\n",
       " 'Venere']"
      ]
     },
     "execution_count": 132,
     "metadata": {},
     "output_type": "execute_result"
    }
   ],
   "source": [
    "Pianeti = ['Mercurio', 'Venere', 'Terra', 'Marte',\\\n",
    "           'Giove', 'Saturno', 'Urano', 'Nettuno']\n",
    "sorted(Pianeti)"
   ]
  },
  {
   "cell_type": "code",
   "execution_count": 133,
   "metadata": {},
   "outputs": [
    {
     "data": {
      "text/plain": [
       "18"
      ]
     },
     "execution_count": 133,
     "metadata": {},
     "output_type": "execute_result"
    }
   ],
   "source": [
    "sum(Numeri_primi)"
   ]
  },
  {
   "cell_type": "markdown",
   "metadata": {},
   "source": [
    "Gli oggetti in Python portano con se degli elementi: <br>\n",
    "- I **metodi**: funzioni che possono essere eseguite partendo da un oggetto;<br>\n",
    "- Gli **attributi**: elementi che sono collegati ad un oggetto ma non sono funzioni."
   ]
  },
  {
   "cell_type": "markdown",
   "metadata": {},
   "source": [
    "Un esempio di **metodo** può essere **bit_length**; ovvero un metodo che è associato ai numeri e indica i bit usati da un numero:"
   ]
  },
  {
   "cell_type": "code",
   "execution_count": 134,
   "metadata": {},
   "outputs": [
    {
     "data": {
      "text/plain": [
       "4"
      ]
     },
     "execution_count": 134,
     "metadata": {},
     "output_type": "execute_result"
    }
   ],
   "source": [
    "x = 12\n",
    "x.bit_length()"
   ]
  },
  {
   "cell_type": "markdown",
   "metadata": {},
   "source": [
    "Possiamo usare l'help di Python anche per capire cosa fa un metodo di un oggetto di Python."
   ]
  },
  {
   "cell_type": "code",
   "execution_count": 135,
   "metadata": {},
   "outputs": [
    {
     "name": "stdout",
     "output_type": "stream",
     "text": [
      "Help on built-in function bit_length:\n",
      "\n",
      "bit_length(...) method of builtins.int instance\n",
      "    int.bit_length() -> int\n",
      "    \n",
      "    Number of bits necessary to represent self in binary.\n",
      "    >>> bin(37)\n",
      "    '0b100101'\n",
      "    >>> (37).bit_length()\n",
      "    6\n",
      "\n"
     ]
    }
   ],
   "source": [
    "help(x.bit_length)"
   ]
  },
  {
   "cell_type": "markdown",
   "metadata": {},
   "source": [
    "I **metodi ** più utilizzati quando si usano le liste di Python, sono i seguenti: <br>\n",
    "- **.append** : permette di modificare una lista aggiungendo un elemento in fondo alla lista; <br>\n",
    "- **.pop** : rimuove e stampa l'ultimo elemento di una lista; <br>\n",
    "- **.index** : Indica l'indice in cui si trova un determinato elemento all'interno della lista. <br>\n",
    "Di seguito ci sono un pò di esempi. <br>\n",
    "<br>\n",
    "Per osservare tutti i metodi associati ad un oggetto è possibile fare: **help(*nome_oggetto*)**"
   ]
  },
  {
   "cell_type": "code",
   "execution_count": 136,
   "metadata": {
    "jupyter": {
     "outputs_hidden": true
    }
   },
   "outputs": [],
   "source": [
    "Pianeti.append('Plutone')"
   ]
  },
  {
   "cell_type": "code",
   "execution_count": 137,
   "metadata": {},
   "outputs": [
    {
     "data": {
      "text/plain": [
       "['Mercurio',\n",
       " 'Venere',\n",
       " 'Terra',\n",
       " 'Marte',\n",
       " 'Giove',\n",
       " 'Saturno',\n",
       " 'Urano',\n",
       " 'Nettuno',\n",
       " 'Plutone']"
      ]
     },
     "execution_count": 137,
     "metadata": {},
     "output_type": "execute_result"
    }
   ],
   "source": [
    "Pianeti"
   ]
  },
  {
   "cell_type": "code",
   "execution_count": 138,
   "metadata": {},
   "outputs": [
    {
     "name": "stdout",
     "output_type": "stream",
     "text": [
      "Help on built-in function append:\n",
      "\n",
      "append(...) method of builtins.list instance\n",
      "    L.append(object) -> None -- append object to end\n",
      "\n"
     ]
    }
   ],
   "source": [
    "help(Pianeti.append)"
   ]
  },
  {
   "cell_type": "code",
   "execution_count": 139,
   "metadata": {},
   "outputs": [
    {
     "data": {
      "text/plain": [
       "'Plutone'"
      ]
     },
     "execution_count": 139,
     "metadata": {},
     "output_type": "execute_result"
    }
   ],
   "source": [
    "Pianeti.pop()"
   ]
  },
  {
   "cell_type": "code",
   "execution_count": 140,
   "metadata": {},
   "outputs": [
    {
     "data": {
      "text/plain": [
       "['Mercurio',\n",
       " 'Venere',\n",
       " 'Terra',\n",
       " 'Marte',\n",
       " 'Giove',\n",
       " 'Saturno',\n",
       " 'Urano',\n",
       " 'Nettuno']"
      ]
     },
     "execution_count": 140,
     "metadata": {},
     "output_type": "execute_result"
    }
   ],
   "source": [
    "Pianeti"
   ]
  },
  {
   "cell_type": "code",
   "execution_count": 141,
   "metadata": {},
   "outputs": [
    {
     "data": {
      "text/plain": [
       "2"
      ]
     },
     "execution_count": 141,
     "metadata": {},
     "output_type": "execute_result"
    }
   ],
   "source": [
    "Pianeti.index('Terra')"
   ]
  },
  {
   "cell_type": "code",
   "execution_count": 142,
   "metadata": {},
   "outputs": [
    {
     "ename": "ValueError",
     "evalue": "'Plutone' is not in list",
     "output_type": "error",
     "traceback": [
      "\u001b[1;31m---------------------------------------------------------------------------\u001b[0m",
      "\u001b[1;31mValueError\u001b[0m                                Traceback (most recent call last)",
      "\u001b[1;32m<ipython-input-142-961e49aba89d>\u001b[0m in \u001b[0;36m<module>\u001b[1;34m\u001b[0m\n\u001b[1;32m----> 1\u001b[1;33m \u001b[0mPianeti\u001b[0m\u001b[1;33m.\u001b[0m\u001b[0mindex\u001b[0m\u001b[1;33m(\u001b[0m\u001b[1;34m'Plutone'\u001b[0m\u001b[1;33m)\u001b[0m\u001b[1;33m\u001b[0m\u001b[1;33m\u001b[0m\u001b[0m\n\u001b[0m",
      "\u001b[1;31mValueError\u001b[0m: 'Plutone' is not in list"
     ]
    }
   ],
   "source": [
    "Pianeti.index('Plutone')"
   ]
  },
  {
   "cell_type": "code",
   "execution_count": null,
   "metadata": {},
   "outputs": [],
   "source": [
    "# La Terra è nella lista dei pianeti?\n",
    "\"Terra\" in Pianeti"
   ]
  },
  {
   "cell_type": "code",
   "execution_count": null,
   "metadata": {},
   "outputs": [],
   "source": [
    "\"Plutone\" in Pianeti"
   ]
  },
  {
   "cell_type": "markdown",
   "metadata": {},
   "source": [
    "Le **Tuple** sono esattamente la stessa cosa delle liste, tuttavia differiscono da quest'ultime per i seguenti punti: <br>\n",
    "- È possibile usare le parentesi tonde per creare le tuple e non per forza le parentesi quadre, come nel caso delle liste; <br>\n",
    "- Le tuple **non** sono modificabili, una volta definite."
   ]
  },
  {
   "cell_type": "code",
   "execution_count": null,
   "metadata": {},
   "outputs": [],
   "source": [
    "t = (1, 2, 3)\n",
    "t"
   ]
  },
  {
   "cell_type": "code",
   "execution_count": null,
   "metadata": {},
   "outputs": [],
   "source": [
    "t[0] = 100"
   ]
  },
  {
   "cell_type": "code",
   "execution_count": null,
   "metadata": {},
   "outputs": [],
   "source": [
    "# Assegnazione reciproca di due variabili in maniera \"Smart\"\n",
    "a = 1\n",
    "b = 0\n",
    "a, b = b, a\n",
    "print(a , b)"
   ]
  },
  {
   "cell_type": "markdown",
   "metadata": {},
   "source": [
    "<a id='section5'></a>\n",
    "## 5) Loops"
   ]
  },
  {
   "cell_type": "code",
   "execution_count": null,
   "metadata": {},
   "outputs": [],
   "source": [
    "Pianeti"
   ]
  },
  {
   "cell_type": "code",
   "execution_count": null,
   "metadata": {},
   "outputs": [],
   "source": [
    "# Stampo tutti i pianeti sulla stessa linea\n",
    "for i in Pianeti:\n",
    "    print(i, end=' ') \n"
   ]
  },
  {
   "cell_type": "code",
   "execution_count": null,
   "metadata": {},
   "outputs": [],
   "source": [
    "\"Mercurio\" in Pianeti"
   ]
  },
  {
   "cell_type": "markdown",
   "metadata": {},
   "source": [
    "In un loop **for** specifichiamo: <br>\n",
    "- La variabile che vogliamo usare; <br>\n",
    "- La lista su cui vogliamo eseguire il loop <br>\n",
    "<br>E con \"**in**\" colleghiamo la variabile che cambia in ogni ciclo del loop con la lista da cui prenderà il valore la variabile del loop. A destra di \"in\" ci deve essere un oggetto che supporta le iterazioni."
   ]
  },
  {
   "cell_type": "code",
   "execution_count": null,
   "metadata": {},
   "outputs": [],
   "source": [
    "moltiplicandi = (2, 2, 2, 3, 3, 5)\n",
    "prodotto = 1\n",
    "for i_molt in moltiplicandi:\n",
    "    prodotto = prodotto * i_molt\n",
    "prodotto"
   ]
  },
  {
   "cell_type": "markdown",
   "metadata": {},
   "source": [
    "È possibile iterare anche gli elementi che sono contenuti in una stringa:"
   ]
  },
  {
   "cell_type": "code",
   "execution_count": null,
   "metadata": {},
   "outputs": [],
   "source": [
    "s = \"prova a CapIre lA struttura sOtto\"\n",
    "msg = ''\n",
    "# Stampiamo tutte le lettere maiuscole, una alla volta\n",
    "for lettera in s:\n",
    "    if lettera.isupper():\n",
    "        print(lettera, end='')"
   ]
  },
  {
   "cell_type": "markdown",
   "metadata": {},
   "source": [
    "**range()** è una funzione che crea una sequenza di numeri; questa funzione può tornare utile durante la scrittura di loops."
   ]
  },
  {
   "cell_type": "code",
   "execution_count": null,
   "metadata": {},
   "outputs": [],
   "source": [
    "for i in range(5):\n",
    "    print(\"File elaborati:\", i)"
   ]
  },
  {
   "cell_type": "markdown",
   "metadata": {},
   "source": [
    "È possibile assumere che **range(5)** generi una lista di numeri **[0, 1, 2, 3, 4]**; tuttavia in realtà la funzione **range** genere un oggetto *range*, che è diverso dall'oggetto *lista*."
   ]
  },
  {
   "cell_type": "code",
   "execution_count": null,
   "metadata": {},
   "outputs": [],
   "source": [
    "r = range(5)\n",
    "r"
   ]
  },
  {
   "cell_type": "code",
   "execution_count": null,
   "metadata": {},
   "outputs": [],
   "source": [
    "# Possiamo convertire l'oggetto range \n",
    "# in una lista utilizzando il convertitore list()\n",
    "list(r)"
   ]
  },
  {
   "cell_type": "markdown",
   "metadata": {},
   "source": [
    "Finora abbiamo usato la notazione **for** e **in** per iterare una variabile assegnandole i valori che sono inseriti in una lista (o in una tupla). <br> Supponiamo ora di voler *fare il loop sugli elementi di una lista e contemporaneamente fare il loop sull'indice di una lista.* <br>\n",
    "È possibile fare ciò utilizzando la funzione **enumerate**."
   ]
  },
  {
   "cell_type": "code",
   "execution_count": null,
   "metadata": {},
   "outputs": [],
   "source": [
    "nums = [0, 1, 2]"
   ]
  },
  {
   "cell_type": "code",
   "execution_count": null,
   "metadata": {},
   "outputs": [],
   "source": [
    "def raddoppia(nums):\n",
    "    for i, num in enumerate(nums):\n",
    "        if num % 2 == 1:\n",
    "            nums[i] = num * 2\n",
    "\n",
    "x = list(range(10))\n",
    "raddoppia(x)\n",
    "x"
   ]
  },
  {
   "cell_type": "code",
   "execution_count": null,
   "metadata": {},
   "outputs": [],
   "source": [
    "list(enumerate(['a', 'b']))"
   ]
  },
  {
   "cell_type": "code",
   "execution_count": null,
   "metadata": {},
   "outputs": [],
   "source": [
    "nums = [\n",
    "    ('uno', 1, 'I'),\n",
    "    ('due', 2, 'II'),\n",
    "    ('tre', 3, 'III'),\n",
    "    ('quattro', 4, 'IV'),\n",
    "]\n",
    "\n",
    "for parola, intero, numero_romano in nums:\n",
    "    print(parola, intero, numero_romano, sep=' = ', end='; ')"
   ]
  },
  {
   "cell_type": "markdown",
   "metadata": {},
   "source": [
    "Quest'ultimo codice appena eseguito è sicuramente più veloce e chiaro del seguente:"
   ]
  },
  {
   "cell_type": "code",
   "execution_count": null,
   "metadata": {},
   "outputs": [],
   "source": [
    "for tup in nums:\n",
    "    parola = tup[0]\n",
    "    intero = tup[1]\n",
    "    numero_romano = tup[2]\n",
    "    print(parola, intero, numero_romano, sep=' = ', end=';')"
   ]
  },
  {
   "cell_type": "markdown",
   "metadata": {},
   "source": [
    "Un altro loop, molto famoso è il **while loops**"
   ]
  },
  {
   "cell_type": "code",
   "execution_count": null,
   "metadata": {},
   "outputs": [],
   "source": [
    "i = 0\n",
    "while i < 10:\n",
    "    print(i, end=' ')\n",
    "    i += 1"
   ]
  },
  {
   "cell_type": "markdown",
   "metadata": {},
   "source": [
    "Di seguito altre tecniche che possono essere usate con le liste, soprattutto per rispiarmare righe di codice."
   ]
  },
  {
   "cell_type": "code",
   "execution_count": null,
   "metadata": {},
   "outputs": [],
   "source": [
    "quadrati = [n**2 for n in range(10)]\n",
    "quadrati"
   ]
  },
  {
   "cell_type": "markdown",
   "metadata": {},
   "source": [
    "Senza usare la tecnica vista prima si poteva ottenere lo stesso risultato nel seguente modo:"
   ]
  },
  {
   "cell_type": "code",
   "execution_count": null,
   "metadata": {},
   "outputs": [],
   "source": [
    "quadrati = []\n",
    "for n in range(10):\n",
    "    quadrati.append(n**2)\n",
    "quadrati"
   ]
  },
  {
   "cell_type": "code",
   "execution_count": null,
   "metadata": {},
   "outputs": [],
   "source": [
    "Pianeti_abbr = [Pianeta for Pianeta in Pianeti if len(Pianeta) < 6]\n",
    "Pianeti_abbr"
   ]
  },
  {
   "cell_type": "code",
   "execution_count": null,
   "metadata": {},
   "outputs": [],
   "source": [
    "[\n",
    "    Pianeta.upper() + '!'\n",
    "    for Pianeta in Pianeti\n",
    "    if len(Pianeta) < 6\n",
    "]"
   ]
  },
  {
   "cell_type": "markdown",
   "metadata": {},
   "source": [
    "Di seguito tre modi diversi, per fare un codice in cui si contano i numeri negativi contenuti in una lista."
   ]
  },
  {
   "cell_type": "code",
   "execution_count": null,
   "metadata": {
    "jupyter": {
     "outputs_hidden": true
    }
   },
   "outputs": [],
   "source": [
    "def conta_negativi(nums):\n",
    "    \"\"\"Indica quanti numeri negativi ci sono in una lista.\n",
    "    \n",
    "    >>> conta_negativi([5, -1, -2, 0, 3])\n",
    "    2\n",
    "    \"\"\"\n",
    "    n_negativi = 0\n",
    "    for num in nums:\n",
    "        if num < 0:\n",
    "            n_negativi = n_negativi + 1\n",
    "    return n_negativi\n"
   ]
  },
  {
   "cell_type": "code",
   "execution_count": null,
   "metadata": {
    "jupyter": {
     "outputs_hidden": true
    }
   },
   "outputs": [],
   "source": [
    "def conta_negativi(nums):\n",
    "    return len([num for num in nums if num < 0])"
   ]
  },
  {
   "cell_type": "code",
   "execution_count": null,
   "metadata": {
    "jupyter": {
     "outputs_hidden": true
    }
   },
   "outputs": [],
   "source": [
    "def conta_negativi(nums):\n",
    "    return sum([num < 0 for num in nums])"
   ]
  },
  {
   "cell_type": "markdown",
   "metadata": {},
   "source": [
    "<a id='section6'></a>\n",
    "## 6) Le Stringhe"
   ]
  },
  {
   "cell_type": "markdown",
   "metadata": {},
   "source": [
    "In questo paragrafo vedermo i principali metodi e operazioni di formattazione che è possibile usare sulle stringhe. <br>\n",
    "Le stringhe in Python possono essere definite utilizzando sia i doppi apici che i singoli apici."
   ]
  },
  {
   "cell_type": "code",
   "execution_count": null,
   "metadata": {},
   "outputs": [],
   "source": [
    "x = 'Plutone è un pianeta'\n",
    "y = \"Plutone è un pianeta\"\n",
    "x == y"
   ]
  },
  {
   "cell_type": "markdown",
   "metadata": {},
   "source": [
    "Per evitare errori di formattazione è possibile usare i doppi apici o i singoli apici all'interno delle stringhe a seconda che si siano usati singoli apici o doppi apici come delimitatori, ad esempio:"
   ]
  },
  {
   "cell_type": "code",
   "execution_count": null,
   "metadata": {
    "scrolled": true
   },
   "outputs": [],
   "source": [
    "# In questo caso otterrremmo errore\n",
    "'Anch'io sono un pianeta!'"
   ]
  },
  {
   "cell_type": "markdown",
   "metadata": {},
   "source": [
    "È possibile risolvere questo errore utilizzando il simbolo \\ prima dell'apice interno alla frase."
   ]
  },
  {
   "cell_type": "code",
   "execution_count": null,
   "metadata": {},
   "outputs": [],
   "source": [
    "'Anch\\'io sono un pianeta!'"
   ]
  },
  {
   "cell_type": "markdown",
   "metadata": {},
   "source": [
    "Oppure"
   ]
  },
  {
   "cell_type": "code",
   "execution_count": null,
   "metadata": {},
   "outputs": [],
   "source": [
    "\"Anch'io sono un pianeta\""
   ]
  },
  {
   "cell_type": "markdown",
   "metadata": {},
   "source": [
    "La seguente tabella riepiloga i principali utilizzi del simbolo \\ all'interno di una stringa:\n",
    "<img src='blackslash_caracter.jpg'>"
   ]
  },
  {
   "cell_type": "markdown",
   "metadata": {},
   "source": [
    "Le stringhe possono essere viste come una sequenza di caratteri, perciò tutte le cose che si sono viste per le liste possono essere applicate alle stringhe."
   ]
  },
  {
   "cell_type": "code",
   "execution_count": null,
   "metadata": {},
   "outputs": [],
   "source": [
    "# Indicizzazione\n",
    "pianeta = 'Plutone'\n",
    "pianeta[2]"
   ]
  },
  {
   "cell_type": "code",
   "execution_count": null,
   "metadata": {},
   "outputs": [],
   "source": [
    "# Slicing\n",
    "pianeta[-3:]"
   ]
  },
  {
   "cell_type": "code",
   "execution_count": null,
   "metadata": {},
   "outputs": [],
   "source": [
    "# Quanto è lunga la stringa?\n",
    "len(pianeta)"
   ]
  },
  {
   "cell_type": "code",
   "execution_count": null,
   "metadata": {},
   "outputs": [],
   "source": [
    "# È possibile fare un loop utilizzando la lunghezza di una stringa\n",
    "[char+'!' for char in pianeta]"
   ]
  },
  {
   "cell_type": "markdown",
   "metadata": {},
   "source": [
    "Tuttavia, a differenza delle liste, **le stringhe sono immutabili**."
   ]
  },
  {
   "cell_type": "code",
   "execution_count": null,
   "metadata": {},
   "outputs": [],
   "source": [
    "pianeta[0]='B'"
   ]
  },
  {
   "cell_type": "markdown",
   "metadata": {},
   "source": [
    "Anche le stringhe, come le liste hanno dei metodi associati al loro oggetto."
   ]
  },
  {
   "cell_type": "code",
   "execution_count": null,
   "metadata": {},
   "outputs": [],
   "source": [
    "frase = \"Plutone è un pianeta\"\n",
    "frase.upper()"
   ]
  },
  {
   "cell_type": "code",
   "execution_count": null,
   "metadata": {},
   "outputs": [],
   "source": [
    "frase.lower()"
   ]
  },
  {
   "cell_type": "code",
   "execution_count": null,
   "metadata": {},
   "outputs": [],
   "source": [
    "frase.index('un')"
   ]
  },
  {
   "cell_type": "code",
   "execution_count": null,
   "metadata": {},
   "outputs": [],
   "source": [
    "frase.split()"
   ]
  },
  {
   "cell_type": "code",
   "execution_count": null,
   "metadata": {},
   "outputs": [],
   "source": [
    "data_stringa = '1991-07-12'\n",
    "anno, mese, giorno = data_stringa.split('-')\n",
    "\n",
    "print(anno)\n",
    "print(mese)\n",
    "print(giorno)"
   ]
  },
  {
   "cell_type": "code",
   "execution_count": null,
   "metadata": {},
   "outputs": [],
   "source": [
    "'/'.join([giorno, mese, anno])"
   ]
  },
  {
   "cell_type": "markdown",
   "metadata": {},
   "source": [
    "È possibile unire più stringhe con Python utilizzando l'operatore **+**"
   ]
  },
  {
   "cell_type": "code",
   "execution_count": null,
   "metadata": {},
   "outputs": [],
   "source": [
    "pianeta + \", sei troppo lontano\""
   ]
  },
  {
   "cell_type": "markdown",
   "metadata": {},
   "source": [
    "Tuttavia è necessario utilizzare la funzione **str()** qualora si volesse unire un oggetto non-stringa ad una stringa"
   ]
  },
  {
   "cell_type": "code",
   "execution_count": null,
   "metadata": {},
   "outputs": [],
   "source": [
    "position = 9\n",
    "\"Sei arrivato \" + str(position) + \" su 10 partecipanti.\""
   ]
  },
  {
   "cell_type": "markdown",
   "metadata": {},
   "source": [
    "Oppure la funzione **str.format()**:"
   ]
  },
  {
   "cell_type": "code",
   "execution_count": null,
   "metadata": {},
   "outputs": [],
   "source": [
    "\"Sei arrivato {} su {} partecipanti.\".format(position, position + 1)"
   ]
  },
  {
   "cell_type": "code",
   "execution_count": null,
   "metadata": {},
   "outputs": [],
   "source": [
    "prezzo_init = 5.25\n",
    "prezzo_fin = 6\n",
    "performance = (prezzo_fin - prezzo_init)/prezzo_init\n",
    "# Nella frase stampero le cifre decimali e \n",
    "# la performance in termini percentuali\n",
    "\"Ho comprato le azioni al prezzo di {:.2} e le ho vendute a {}, registrando \\\n",
    "una performance di {:.2%}\".format(prezzo_init, prezzo_fin, performance)\n"
   ]
  },
  {
   "cell_type": "code",
   "execution_count": null,
   "metadata": {},
   "outputs": [],
   "source": [
    "# È possibile identificare dei riferimenti \n",
    "# alle parole all'interno delle stringhe\n",
    "s = \"Plutone è un {0}, non una {1}. \\\n",
    "Preferisco una {1} ad un {0}\".format('pianeta', 'mela')\n",
    "print(s)"
   ]
  },
  {
   "cell_type": "markdown",
   "metadata": {},
   "source": [
    "<a id='section7'></a>\n",
    "## 7) I dizionari"
   ]
  },
  {
   "cell_type": "markdown",
   "metadata": {},
   "source": [
    "I dizionari sono delle strutture pre impostate di Python che permettono di mappare dei valori su delle chiavi. Ad esempio:"
   ]
  },
  {
   "cell_type": "code",
   "execution_count": null,
   "metadata": {
    "jupyter": {
     "outputs_hidden": true
    }
   },
   "outputs": [],
   "source": [
    "numeri = {'uno': 1, 'due': 2, 'tre': 3}"
   ]
  },
  {
   "cell_type": "markdown",
   "metadata": {},
   "source": [
    "In questo caso 'uno', 'due' e 'tre' sono le **chiavi**, mentre 1, 2 e 3 sono i loro corrispondenti **valori**. <br>\n",
    "È possibile accedere ai valori attraverso l'utilizzo delle parentesi quadre come si fa con le liste e con le stringhe."
   ]
  },
  {
   "cell_type": "code",
   "execution_count": null,
   "metadata": {},
   "outputs": [],
   "source": [
    "numeri['uno']"
   ]
  },
  {
   "cell_type": "markdown",
   "metadata": {},
   "source": [
    "È possibile aggiungere dei nuovi valori al dizionario, identificando semplicemente una nuova chiave, ad esempio:"
   ]
  },
  {
   "cell_type": "code",
   "execution_count": null,
   "metadata": {},
   "outputs": [],
   "source": [
    "numeri['quattro'] = 4\n",
    "numeri"
   ]
  },
  {
   "cell_type": "markdown",
   "metadata": {},
   "source": [
    "È possibile anche cambiare un valore associato ad una chiave già esistente:"
   ]
  },
  {
   "cell_type": "code",
   "execution_count": null,
   "metadata": {},
   "outputs": [],
   "source": [
    "numeri['uno'] = 0\n",
    "numeri"
   ]
  },
  {
   "cell_type": "markdown",
   "metadata": {},
   "source": [
    "La sintassi usata per i dizionari è molto simile a quella vista per le liste."
   ]
  },
  {
   "cell_type": "code",
   "execution_count": null,
   "metadata": {},
   "outputs": [],
   "source": [
    "pianeta_iniziale = {pianeta: pianeta[0] for pianeta in Pianeti}\n",
    "pianeta_iniziale"
   ]
  },
  {
   "cell_type": "markdown",
   "metadata": {},
   "source": [
    "L'operatore **in** può essere usato per capire se un elemento si trova dentro un dizionario."
   ]
  },
  {
   "cell_type": "code",
   "execution_count": null,
   "metadata": {},
   "outputs": [],
   "source": [
    "'Saturno' in Pianeti"
   ]
  },
  {
   "cell_type": "code",
   "execution_count": null,
   "metadata": {},
   "outputs": [],
   "source": [
    "'Pianeta X' in Pianeti"
   ]
  },
  {
   "cell_type": "markdown",
   "metadata": {},
   "source": [
    "Un loop for su un dizionario effettua il loop sulle chiavi del dizionario, ad esempio:"
   ]
  },
  {
   "cell_type": "code",
   "execution_count": null,
   "metadata": {},
   "outputs": [],
   "source": [
    "for k in numeri:\n",
    "    print(\"{} = {}\".format(k, numeri[k]))"
   ]
  },
  {
   "cell_type": "markdown",
   "metadata": {},
   "source": [
    "È possibile accedere direttamente a tutte le chiavi o a tutti i valori di un dizionario attraverso i seguenti metodi dell'oggetto dizionario **dict.keys()** e **dict.values()**."
   ]
  },
  {
   "cell_type": "code",
   "execution_count": null,
   "metadata": {},
   "outputs": [],
   "source": [
    "numeri.keys()"
   ]
  },
  {
   "cell_type": "code",
   "execution_count": null,
   "metadata": {},
   "outputs": [],
   "source": [
    "numeri.values()"
   ]
  },
  {
   "cell_type": "markdown",
   "metadata": {},
   "source": [
    "Uno dei metodi più utili quando si usano i dizionari è **dict.items()**, questo metodo ci permette di iteerare le chiavi e i valori di un dizionario simultaneamente."
   ]
  },
  {
   "cell_type": "code",
   "execution_count": null,
   "metadata": {},
   "outputs": [],
   "source": [
    "for pianeta, iniziale_pianeta in pianeta_iniziale.items():\n",
    "    print(\"{} inizia con '{}'\".format(pianeta.rjust(10), iniziale_pianeta))"
   ]
  },
  {
   "cell_type": "markdown",
   "metadata": {},
   "source": [
    "<a id='section8'></a>\n",
    "## 8) Le librerie esterne"
   ]
  },
  {
   "cell_type": "markdown",
   "metadata": {},
   "source": [
    "Una delle qualità principali di Python è l'elevato numero di librerie personalizzate che sono state scritte per questo linguaggio di programmazione. Alcune di queste librerie sono *standard*, ovvero possono essere trovate in qualsiasi Python; tuttavia le librerie che non sono comprese di default in Python possono essere facilmente richiamate attraverso la parola chiave **import**. <br>\n",
    "Importiamo la libreria *math* così come abbiamo fatto nel primo script di questo notebook."
   ]
  },
  {
   "cell_type": "code",
   "execution_count": null,
   "metadata": {},
   "outputs": [],
   "source": [
    "import math\n",
    "\n",
    "print(\"Math è di questo tipo: {}\".format(type(math)))"
   ]
  },
  {
   "cell_type": "markdown",
   "metadata": {},
   "source": [
    "Per visualizzare le informazioni di python relative ad una libreria è sufficiente lanciare la libreria stessa"
   ]
  },
  {
   "cell_type": "code",
   "execution_count": null,
   "metadata": {},
   "outputs": [],
   "source": [
    "display"
   ]
  },
  {
   "cell_type": "markdown",
   "metadata": {},
   "source": [
    "Mentre per visualizzare la documentazione e le informazioni è sufficiente inserire un punto di domanda prima della funzione"
   ]
  },
  {
   "cell_type": "code",
   "execution_count": null,
   "metadata": {},
   "outputs": [],
   "source": [
    "?display"
   ]
  },
  {
   "cell_type": "markdown",
   "metadata": {},
   "source": [
    "Per visualizzare invece il source code della funzione che volete utilizzare è sufficiente utilizare due punti di domanda"
   ]
  },
  {
   "cell_type": "code",
   "execution_count": null,
   "metadata": {},
   "outputs": [],
   "source": [
    "??display"
   ]
  },
  {
   "cell_type": "markdown",
   "metadata": {},
   "source": [
    "Math è un modulo, ovvero una collezione di variabili e funzioni definite da qualcun altro. È possibile osservare tutte le variabili e funzioni contenute in Math utilizzando la funzione **dir()**."
   ]
  },
  {
   "cell_type": "code",
   "execution_count": null,
   "metadata": {},
   "outputs": [],
   "source": [
    "print(dir(math))"
   ]
  },
  {
   "cell_type": "code",
   "execution_count": null,
   "metadata": {},
   "outputs": [],
   "source": [
    "print(\"I primi quattro numeri del pi-quadro sono = {:.4}\".format(math.pi))"
   ]
  },
  {
   "cell_type": "code",
   "execution_count": null,
   "metadata": {},
   "outputs": [],
   "source": [
    "math.log(32,2)"
   ]
  },
  {
   "cell_type": "code",
   "execution_count": null,
   "metadata": {},
   "outputs": [],
   "source": [
    "help(math.log)"
   ]
  },
  {
   "cell_type": "markdown",
   "metadata": {},
   "source": [
    "Come abbiamo accennato all'inizio di questo notebook, quando si importa una libreria è possibile assegnarle un nome abbreviato per poterlo riusare nel codice."
   ]
  },
  {
   "cell_type": "code",
   "execution_count": null,
   "metadata": {},
   "outputs": [],
   "source": [
    "import math as mt\n",
    "mt.pi"
   ]
  },
  {
   "cell_type": "markdown",
   "metadata": {},
   "source": [
    "È possibile importare anche solo una particolare variabile contenuta all'interno della libreria senza dover importarsi tutta la libreria, in questo caso potremmo usare la seguente notazione:"
   ]
  },
  {
   "cell_type": "code",
   "execution_count": null,
   "metadata": {},
   "outputs": [],
   "source": [
    "from math import pi\n",
    "print(pi)"
   ]
  },
  {
   "cell_type": "code",
   "execution_count": null,
   "metadata": {},
   "outputs": [],
   "source": [
    "from math import *\n",
    "from numpy import *\n",
    "print(pi, log(32,2))"
   ]
  },
  {
   "cell_type": "markdown",
   "metadata": {},
   "source": [
    "In questo caso abbiamo riscontrato un errore poichè la variabile **log** è contenuta sia nella libreria *math* che nella *numpy*, ma ha differenti input. Poichè abbiamo importato anche la libreria *numpy* in questo caso il log di quest'ultima libreria ha sovrascritto il log della libreria math.<br>\n",
    "Un modo per risolvere il problema di prima è importare solamente ciò che vogliamo davvero usare, ad esempio:"
   ]
  },
  {
   "cell_type": "code",
   "execution_count": null,
   "metadata": {},
   "outputs": [],
   "source": [
    "from math import log, pi\n",
    "from numpy import asarray\n",
    "print(pi, log(32,2))"
   ]
  },
  {
   "cell_type": "markdown",
   "metadata": {},
   "source": [
    "In generale, se incontriamo degli oggetti di Python che non conosciamo possiamo utilizzare tre funzioni pre-impostate di Python:<br>\n",
    "- 1)**type()** : ci dice cos'è l'oggetto;\n",
    "- 2)**dir()**: ci dice cosa può fare l'oggetto;\n",
    "- 3)**help()**: ci dice più in dettaglio i metodi associati all'oggetto e le loro funzionalità"
   ]
  },
  {
   "cell_type": "markdown",
   "metadata": {},
   "source": [
    "# Bonus: Pythonic Code!\n",
    "<a id='section9'></a>"
   ]
  },
  {
   "cell_type": "markdown",
   "metadata": {},
   "source": [
    "Scrivere in python è molto semplice e molto veloce rispetto ad altri linguaggi di programmazione.\n",
    "L'indentazione automatica inoltre ti porta a scrivere del codice pulito.\n",
    "\n",
    "E' importante però prestare comunque attenzione nello scrivere codice ben fatto in gergo si dice: pythonic!\n",
    "\n",
    "Ecco perchè esiste lo Zen di Python"
   ]
  },
  {
   "cell_type": "code",
   "execution_count": null,
   "metadata": {},
   "outputs": [],
   "source": [
    "import this"
   ]
  },
  {
   "cell_type": "markdown",
   "metadata": {},
   "source": [
    "Ed inoltre PEP-8!\n",
    "\n",
    "PEP 8, a volte digitato PEP8 o PEP-8, è un documento che fornisce linee guida e procedure consigliate su come scrivere codice Python. È stato scritto nel 2001 da Guido van Rossum, Barry Varsavia e Nick Coghlan. L'obiettivo principale di PEP 8 è migliorare la leggibilità e la coerenza del codice Python.\n",
    "\n",
    "PEP sta per Python Enhancement Proposal, e ce ne sono molti. Un PEP è un documento che descrive le nuove funzionalità proposte per Python e documenta aspetti di Python, come il design e lo stile, per la comunità.\n",
    "\n",
    "https://realpython.com/python-pep8/"
   ]
  },
  {
   "cell_type": "markdown",
   "metadata": {},
   "source": [
    "Esistono anche dei linter che consentono di formattare e controllare lo stile del codice python.\n",
    "A tal proposito è importante citare: pylint e pycodestyle (che possono essere installati come librerie esterne)\n",
    "https://github.com/PyCQA/pycodestyle\n",
    "https://www.pylint.org/"
   ]
  },
  {
   "cell_type": "markdown",
   "metadata": {},
   "source": [
    "### Qualche piccola considerazione"
   ]
  },
  {
   "cell_type": "markdown",
   "metadata": {},
   "source": [
    "Anche se in questo corso non verranno trattate tematiche di software engineering e di sviluppo è comunque importante scrivere un buon codice pulito per alcune semplici ragioni:\n",
    "- Si lavora in team, quindi il codice che noi scriviamo verrà sicuramente usato / visto / controllato da altre persone, agevolare la lettura del codice alle altre persone è importante (Etica della reciprocità, detta anche \"Regola d'oro\") https://it.wikipedia.org/wiki/Etica_della_reciprocit%C3%A0\n",
    "- Molto spesso si torna su codice scritto da tempo, avere del buon codice riduce di tanto i tempi di \"rinfrescamento della memoria e ripasso\"\n",
    "- Scrivere codice pulito permette di trovare velocemente gli errori e bugs, soprattutto con grandi quantità di codice\n",
    "- Perchè è importante fare le cose fatte bene, belle.\n",
    "- Perchè sì."
   ]
  },
  {
   "cell_type": "markdown",
   "metadata": {},
   "source": [
    "Un'altra massima è la seguente:  \n",
    "Documentate il codice. È importante.  \n",
    "Inserite qualche log nel codice. È importante.  \n",
    "Non lasciate codice commentato. È importante.  \n",
    "Siate precisi e seguite le best-practices. È importante.  "
   ]
  },
  {
   "cell_type": "markdown",
   "metadata": {},
   "source": [
    "Spesso nel mondo della Data Science per realizzare prototipi e analisi velocmente si trascurano questi concetti, è importante invece cercare di applicarli quanto più possibile...per noi e per gli altri!"
   ]
  },
  {
   "cell_type": "markdown",
   "metadata": {},
   "source": [
    "[Clicca qui per tornare all'inizio della pagina](#start)<a id='start'></a>"
   ]
  },
  {
   "cell_type": "markdown",
   "metadata": {},
   "source": [
    "Con questo paragrafo si conclude il notebook \"Introduction to Python\", clicca qui per passare al prossimo notebook \"Collecting\"."
   ]
  },
  {
   "cell_type": "markdown",
   "metadata": {},
   "source": [
    "Per eventuali dubbi ci potete scrivere su Teams!<br>\n",
    "A presto!"
   ]
  }
 ],
 "metadata": {
  "kernelspec": {
   "display_name": "Python 3",
   "language": "python",
   "name": "python3"
  },
  "language_info": {
   "codemirror_mode": {
    "name": "ipython",
    "version": 3
   },
   "file_extension": ".py",
   "mimetype": "text/x-python",
   "name": "python",
   "nbconvert_exporter": "python",
   "pygments_lexer": "ipython3",
   "version": "3.6.8"
  },
  "varInspector": {
   "cols": {
    "lenName": 16,
    "lenType": 16,
    "lenVar": 40
   },
   "kernels_config": {
    "python": {
     "delete_cmd_postfix": "",
     "delete_cmd_prefix": "del ",
     "library": "var_list.py",
     "varRefreshCmd": "print(var_dic_list())"
    },
    "r": {
     "delete_cmd_postfix": ") ",
     "delete_cmd_prefix": "rm(",
     "library": "var_list.r",
     "varRefreshCmd": "cat(var_dic_list()) "
    }
   },
   "types_to_exclude": [
    "module",
    "function",
    "builtin_function_or_method",
    "instance",
    "_Feature"
   ],
   "window_display": false
  }
 },
 "nbformat": 4,
 "nbformat_minor": 4
}
