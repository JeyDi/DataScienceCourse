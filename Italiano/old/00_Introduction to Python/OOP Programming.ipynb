{
 "cells": [
  {
   "cell_type": "markdown",
   "metadata": {},
   "source": [
    "# Variable scope"
   ]
  },
  {
   "cell_type": "markdown",
   "metadata": {},
   "source": [
    "Le variabili in python hanno determinate caratteristiche di scope chiamato anche: ambito.  \n",
    "Lo scope è determina dove una variabile viene definita all'interno del codice e in quale punto può essere utilizzata.  \n",
    "\n",
    "Questo perchè possono capitare situazioni in cui una variabile può essere definita in un particolare punto del codice, ma in un altro punto non si ha lo \"scope\" della variabile, ovvero non può essere acceduta ed utilizzata.\n",
    "\n",
    "In pratica le variabili possono raggiungere solo l'area in cui sono definite, che è chiamata scope o ambito.  \n",
    "Lo scope quindi è considerato come l'area di codice in cui le variabili possono essere utilizzate.  \n",
    "Python supporta le variabili globali (nell'intero programma) e le variabili locali."
   ]
  },
  {
   "cell_type": "markdown",
   "metadata": {},
   "source": [
    "Facciamo alcuni esempi"
   ]
  },
  {
   "cell_type": "code",
   "execution_count": 1,
   "metadata": {},
   "outputs": [
    {
     "name": "stdout",
     "output_type": "stream",
     "text": [
      "You called f(x,y) with the value x = 3 and y = 2\n",
      "x * y = 6\n"
     ]
    }
   ],
   "source": [
    "def f(x,y):\n",
    "    print('You called f(x,y) with the value x = ' + str(x) + ' and y = ' + str(y))\n",
    "    print('x * y = ' + str(x*y))\n",
    "    z = 4 # cannot reach z, so THIS WON'T WORK\n",
    "\n",
    "z = 3\n",
    "f(3,2)"
   ]
  },
  {
   "cell_type": "markdown",
   "metadata": {},
   "source": [
    "La variabile z = 4 in questo caso non verrà mai utilizzata perchè definita all'interno della funzione"
   ]
  },
  {
   "cell_type": "code",
   "execution_count": 2,
   "metadata": {},
   "outputs": [
    {
     "name": "stdout",
     "output_type": "stream",
     "text": [
      "You called f(x,y) with the value x = 3 and y = 2\n",
      "x * y = 6\n",
      "3\n"
     ]
    }
   ],
   "source": [
    "def f(x,y):\n",
    "    z = 3\n",
    "    print('You called f(x,y) with the value x = ' + str(x) + ' and y = ' + str(y))\n",
    "    print('x * y = ' + str(x*y))\n",
    "    print(z) # can reach because variable z is defined in the function\n",
    "\n",
    "f(3,2)"
   ]
  },
  {
   "cell_type": "markdown",
   "metadata": {},
   "source": [
    "In questo caso invece, la variabile z viene usata perchè interna alla funzione"
   ]
  },
  {
   "cell_type": "markdown",
   "metadata": {},
   "source": [
    "Provate a fare voi alcuni esempi giocando con le variabili come questi due presentati qua sopra"
   ]
  },
  {
   "cell_type": "markdown",
   "metadata": {},
   "source": [
    "Esaminando più nel dettaglio con le variabili globali"
   ]
  },
  {
   "cell_type": "code",
   "execution_count": 13,
   "metadata": {},
   "outputs": [
    {
     "name": "stdout",
     "output_type": "stream",
     "text": [
      "Sum: 6 with: 3,2,42\n"
     ]
    }
   ],
   "source": [
    "x = 3\n",
    "y = 2\n",
    "z = 1\n",
    "\n",
    "def f(x,y):\n",
    "    global z #recuperiamo la variabile globale z\n",
    "    result = x + y + z\n",
    "    x = 5\n",
    "    y = 7\n",
    "    z = 42\n",
    "    return result # this will return the sum because all variables are passed as parameters\n",
    "\n",
    "sum = f(x, y)\n",
    "print(f\"Sum: {sum} with: {x},{y},{z}\")"
   ]
  },
  {
   "cell_type": "markdown",
   "metadata": {},
   "source": [
    "Altro esempio nell'uso di funzioni all'interno di altre funzioni con le variabili globali"
   ]
  },
  {
   "cell_type": "code",
   "execution_count": 19,
   "metadata": {},
   "outputs": [
    {
     "name": "stdout",
     "output_type": "stream",
     "text": [
      "Result: 10\n",
      "With variables: 3,2,5\n"
     ]
    }
   ],
   "source": [
    "z = 42\n",
    "\n",
    "def highFive():\n",
    "    return 5\n",
    "\n",
    "def f(x,y):\n",
    "    global z\n",
    "    z = highFive() # we get the variable contents from highFive()\n",
    "    return x+y+z # returns x+y+z. z is reachable becaue it is defined above\n",
    "\n",
    "result = f(3,2)\n",
    "print(f\"Result: {result}\")\n",
    "print(f\"With variables: {x},{y},{z}\")"
   ]
  },
  {
   "cell_type": "markdown",
   "metadata": {},
   "source": [
    "# OOP"
   ]
  },
  {
   "attachments": {},
   "cell_type": "markdown",
   "metadata": {},
   "source": [
    "Object Oriented Programming (OOP) consente al programmatore di creare i propri oggetti che possono avere metodi e attributi.  \n",
    "<br></br>\n"
   ]
  },
  {
   "cell_type": "markdown",
   "metadata": {},
   "source": [
    "Immaginate gli oggetti come un'astrazione della realtà...avete presente Voltron? Il mega mecha (robot) Giapponese?  \n",
    "<img src=\"voltron.png\">"
   ]
  },
  {
   "cell_type": "markdown",
   "metadata": {},
   "source": [
    "Voltron è un robot che può trasformarsi a partire da piccoli robot più piccoli che devono combinarsi assieme in modo perfetto per formare un robot più grande e potente in grado di combattere e sconfiggere i nemici.  \n",
    "\n",
    "Questa è un'ottima metafora per spiegare gli oggetti!  \n",
    "\n",
    "I robot sono tutti quanti simili (hanno caratteristiche simili), quindi si potrebbero rappresentare con un oggetto chiamato: \"robot\" generico contenente diverse caratteristiche (ruote, corazza, numero di pezzi, ...).  \n",
    "Conseguentemente sarebbe possibile modellare diversi altri oggetti come: torace, gambe, braccia.  \n",
    "Voltron inoltre ha delle armi che possono essere usate e che si possono definire come oggetti singoli che dipendono da un oggetto più generico chiamato: arma.  \n",
    "\n",
    "La combinazione di questi oggetti definisce Voltron e assemblandoli creando delle dipendenze ci permette di sconfiggere il male! :-)"
   ]
  },
  {
   "attachments": {},
   "cell_type": "markdown",
   "metadata": {},
   "source": [
    "OOP consente all'utente di creare i propri oggetti.\n",
    "Il formato generale è spesso confusionario quando incontrato per la prima volta, e la sua utilità potrebbe non essere completamente chiara in un primo momento.  \n",
    "\n",
    "In generale OOP consente di creare codice che sia ripetibile, riutilizzabile e ben organizzato.  \n",
    "\n",
    "Per programmi python molto complessi, le funzioni da sole non sono sufficienti per organizzare bene e rendere ripetibile e riproducibile un programma.  \n",
    "Questo avviene soprattutto quando si lavora con dei framework (flask, django, dash, ...) che estendono le funzionalità di python consentendoci di realizzare applicazioni molto più sofisticate e complesse in modo più veloce.  \n",
    "\n"
   ]
  },
  {
   "cell_type": "markdown",
   "metadata": {},
   "source": [
    "E ora è tempo di scrivere un po' di codice per illustrare il funzionamento delle classi!"
   ]
  },
  {
   "cell_type": "code",
   "execution_count": 25,
   "metadata": {},
   "outputs": [
    {
     "name": "stdout",
     "output_type": "stream",
     "text": [
      "<__main__.NameOfClass object at 0x00000210BC1FCF60>\n",
      "Hello\n",
      "First param: Hello\n",
      "Second param: World\n"
     ]
    }
   ],
   "source": [
    "class NameOfClass():\n",
    "    \n",
    "    def __init__(self, param1, param2):\n",
    "        self.param1 = param1\n",
    "        self.param2 = param2\n",
    "        \n",
    "    def some_method(self):\n",
    "        #perform some actions\n",
    "        print(self.param1)\n",
    "\n",
    "x = NameOfClass(\"Hello\",\"World\")\n",
    "print(x)\n",
    "x.some_method()\n",
    "print(f'First param: {x.param1}')\n",
    "print(f'Second param: {x.param2}')"
   ]
  },
  {
   "cell_type": "markdown",
   "metadata": {},
   "source": [
    "Come potete vedere in questo esempio abbiamo definito una classe chiamata: `NameOfClass`.  \n",
    "\n",
    "Il metodo `__init__` è il costruttore della classe, ovvero il metodo che consente di definire il contenuto della classe, delle variabili e delle suo proprietà.  \n",
    "Riprendendo l'esempio di Voltron è come se definissimo le caratteristiche di un singolo robot al momento della sua chiamata in azione!  \n",
    "\n",
    "In questo esempio quindi questa classe avrà due variabili (caratteristiche) che saranno legate solamente all'oggetto, non appartengono a nessun altro oggetto: param1 e param2.  \n",
    "\n",
    "All'interno della classe è presente anche la funzione `some_method()` che può definire le funzioni che può \"fare\" quell'oggetto.\n",
    "\n",
    "Sotto quindi trovate la definizione di quella classe `x = NameOfClass(\"Hello\",\"World\")`."
   ]
  },
  {
   "cell_type": "markdown",
   "metadata": {},
   "source": [
    "Facciamo un altro esempio!"
   ]
  },
  {
   "cell_type": "code",
   "execution_count": 28,
   "metadata": {},
   "outputs": [
    {
     "name": "stdout",
     "output_type": "stream",
     "text": [
      "Animal Created\n"
     ]
    }
   ],
   "source": [
    "class Animal():\n",
    "    \n",
    "    planet = 'earth'\n",
    "    \n",
    "    def __init__(self, input_planet):\n",
    "        self.planet = input_planet\n",
    "        print('Animal Created')\n",
    "    \n",
    "    def report(self):\n",
    "        print(\"Animal\")\n",
    "        \n",
    "    def eat(self):\n",
    "        print(\"Eating\")\n",
    "        \n",
    "Dog = Animal('Mars')\n"
   ]
  },
  {
   "cell_type": "markdown",
   "metadata": {},
   "source": [
    "In questo esempio abbiamo creato un cane marziano!  "
   ]
  },
  {
   "cell_type": "markdown",
   "metadata": {},
   "source": [
    "## Concetti fondamentali della programmazione ad oggetti\n",
    "\n",
    "Un piccolo accenno di teoria per spiegare cosa sono e quali sono i concetti fondamentali della programmazione ad oggetti.\n",
    "\n",
    "- Incapsulamento\n",
    "- Astrazione\n",
    "- Ereditarietà\n",
    "- Polimorfismo\n",
    "\n",
    "### Incapsulamento\n",
    "L’incapsulamento è proprio legato al concetto di “impacchettare” in un oggetto i dati e le azioni che sono riconducibili ad un singolo componente.\n",
    "Viene anche considerato come il primo principio della programmazione ad oggetti.\n",
    "\n",
    "Un altro modo di guardare all’incapsulamento, che abbiamo già accennato, è quello di pensare a suddividere un’applicazione in piccole parti (gli oggetti, appunto) che raggruppano al loro interno alcune funzionalità legate tra loro.\n",
    "\n",
    "Ad esempio, pensiamo ad un conto bancario. Le informazioni utili (le proprietà) potranno essere rappresentate da: il numero di conto, il saldo, il nome del cliente, l’indirizzo, il tipo di conto, il tasso di interesse e la data di apertura.\n",
    "\n",
    "Le azioni che operano su tali informazioni (i metodi) saranno, invece: apertura, chiusura, versamento, prelevamento, cambio tipologia conto, cambio cliente e cambio indirizzo. L’oggetto Conto incapsulerà queste informazioni e azioni al suo interno.\n",
    "\n",
    "Un altro vantaggio derivante dall’incapsulamento è quello di limitare gli effetti derivanti dalle modifiche ad un sistema software.\n",
    "Un concetto simile all'incapsulamento è anche chiamato: occultamento dell'informazione, o meglio: Information Hiding.  \n",
    "L’information hiding, come l’incapsulamento fornisce lo stesso vantaggio: la flessibilità.\n",
    "\n",
    "### Astrazione\n",
    "L’ereditarietà costituisce il secondo principio fondamentale della programmazione ad oggetti. In generale, essa rappresenta un meccanismo che consente di creare nuovi oggetti che siano basati su altri già definiti.  \n",
    "\n",
    "Si definisce oggetto figlio (child object) quello che eredita tutte o parte delle proprietà e dei metodi definiti nell’oggetto padre (parent object).  \n",
    "\n",
    "\n",
    "Come detto prima immaginate che la classe padre sia: robot, ovvero la definizione base delle caratteristiche dei robot di Voltron.  \n",
    "Gli oggetti figli saranno tutti i robot singoli con le loro caratteristiche univoche differenti da ognuno!\n",
    "\n",
    "Uno dei maggiori vantaggi derivanti dall’uso dell’ereditarietà è la maggiore facilità nella manutenzione del software. Infatti, rifacendoci all’esempio dei mammiferi, se qualcosa dovesse variare per l’intera classe dei robot, magari introducendo delle nuove funzionalità disponibili a tutti, sarà sufficiente modificare soltanto l’oggetto padre per consentire che tutti gli oggetti figli ereditino la nuova caratteristica.  \n",
    "\n",
    "Inoltre immaginate di avere nella classe padre un metodo: `movimento` che definisce il tipo di movimento standard dei robot, ogni robot figlio potrà ignorare questa funzionalità della classe padre realizzando una propria \"versione\" del movimento (magari volando!).  \n",
    "Questo concetto di fondamentale importanza di chiama: **overriding**, ovvero ogni oggetto derivante da una classe padre ha la possibilità di ignorare uno o più metodi in essa definiti riscrivendo tali metodi al suo interno.  \n",
    "\n",
    "### Polimorfismo\n",
    "Il terzo elemento fondamentale della programmazione ad Oggetti è il polimorfismo. Letteralmente, la parola polimorfismo indica la possibilità per uno stesso oggetto di assumere più forme.\n",
    "\n",
    "Per spiegare meglio il concetto immaginate dei robot con caratteristiche diverse: volante, quattro zampe, due gambe.  Tutte queste tre tipologie di robot si spostano e si muovono, ma tutti e tre lo fanno in maniera diversa interpretando l'azione in maniera completamente differente.  \n",
    "\n",
    "Il polimorfismo è proprio questo, ovvero indica l'attitudine di un oggetto a mostrare più implementazioni per una singola funzionalità.  \n",
    "\n",
    "Uno dei maggiori benefici del polimorfismo, come in effetti di un po’ tutti gli altri principi della programmazione ad oggetti, è la facilità di manutenzione del codice.  \n",
    "\n",
    "\n",
    "### Astrazione\n",
    "Una delle principali peculiarità della programmazione ad oggetti è quella di rendere agevole, snella ed efficiente la manutenzione del software.  \n",
    "\n",
    "Il concetto di astrazione dei dati interviene a rafforzare ulteriormente questi punti di forza, in particolare per quanto riguarda il riutilizzo del codice.  \n",
    "\n",
    "L'astrazione viene utilizzata quindi per gestire al meglio la complessità di un programma, ovvero viene applicata per decomporre sistemi software complessi in componenti più piccoli e semplici che possono essere gestiti con maggiore facilità ed efficienza.  \n",
    "\n",
    "Una delle definizioni migliori sul concetto di Astrazione dei Dati è quella di Booch: «Un’astrazione deve denotare le caratteristiche essenziali di un oggetto contraddistinguendolo da tutti gli altri oggetti e fornendo, in tal modo, dei confini concettuali ben precisi relativamente alla prospettiva dell’osservatore».  \n",
    "\n",
    "Nel contesto di prima, la classe Robot è una classe Astratta, ovvero una classe che rappresenta fondamentalmente un modello per ottenere delle classi derivate più specifiche e dettagliate!  \n",
    "\n",
    "\n",
    "In una classe astratta, solitamente sono contenuti pochi metodi (di solito uno o due) per i quali è fornita anche l’implementazione mentre per tutti gli altri metodi è presente soltanto una mera definizione del metodo stesso ed è, pertanto, necessario (ed obbligatorio) che tutte le classi discendenti ne forniscano la opportuna implementazione.  \n",
    "\n",
    "I metodi appartenenti a questa ultima tipologia (e che sono definiti nella classe astratta) prendono il nome di Metodi Astratti. Nel caso limite in cui una classe astratta contenga soltanto metodi astratti allora essa verrà catalogata più correttamente come interfaccia (vedasi paragrafo inerente le interfacce).\n",
    "\n",
    "Come detto, l’utilizzo dell’astrazione dei dati (unito al concetto di ereditarietà) facilita il riutilizzo del codice e snellisce il disegno di un sistema software. Infatti, qualora si presentasse la necessità, sarà agevole poter definire delle altre classi intermedie che possano avvalersi delle definizioni già presenti nelle classi astratte. Inoltre, risulterà di enorme utilità poter riutilizzare le classi astratte già definite, anche in altri progetti.\n"
   ]
  },
  {
   "cell_type": "markdown",
   "metadata": {},
   "source": [
    "#### Esempio di Incapsulamento"
   ]
  },
  {
   "cell_type": "markdown",
   "metadata": {},
   "source": [
    "In Python l'incapsulamento non è esplicitamente e forzatamente implementato come in altri linguaggi di programmazione (Java, C# ad esempio...).  \n",
    "Questo significa che la sua implementazione è una formalità e una best practise, ma che è sempre possibile accedere a qualsiasi metodo non nascondento le informazioni.  \n",
    "\n",
    "I metodi cosiddetti debolmente privati, presentano un singolo underscore (_) come prefisso nel loro nome. Questo prefisso segnala la presenza di un metodo privato, che non dovrebbe essere utilizzato all’esterno della classe. Ma questa è solo una convenzione e niente evita il contrario. L’unico effetto reale che ha è quello di evitare l’importazione del metodo quando si utilizza la dicitura:  \n",
    "`from nomemodulo import *`\n",
    "\n",
    "Invece, esistono dei metodi e attributi, fortemente privati, che sono contraddistinti dal doppio underscore (__) come prefisso nel loro nome. Una volta che un metodo è marcato con questo doppio underscore, allora il metodo sarà realmente privato e non sarà più accessibile dall’esterno della classe.\n",
    "\n",
    "Comunque questi metodi possono essere ancora accessibili dall’esterno, utilizzando però un nome diverso  \n",
    "`_nomeclasse__nomemetodoprivato`\n",
    "\n",
    "Facciamo un esempio, costruendo e modificando un metodo privato __x all'interno di una classe creata da noi"
   ]
  },
  {
   "cell_type": "code",
   "execution_count": 32,
   "metadata": {},
   "outputs": [
    {
     "data": {
      "text/plain": [
       "['__class__',\n",
       " '__delattr__',\n",
       " '__dict__',\n",
       " '__dir__',\n",
       " '__doc__',\n",
       " '__eq__',\n",
       " '__format__',\n",
       " '__ge__',\n",
       " '__getattribute__',\n",
       " '__gt__',\n",
       " '__hash__',\n",
       " '__init__',\n",
       " '__init_subclass__',\n",
       " '__le__',\n",
       " '__lt__',\n",
       " '__module__',\n",
       " '__ne__',\n",
       " '__new__',\n",
       " '__reduce__',\n",
       " '__reduce_ex__',\n",
       " '__repr__',\n",
       " '__setattr__',\n",
       " '__sizeof__',\n",
       " '__str__',\n",
       " '__subclasshook__',\n",
       " '__weakref__',\n",
       " '_incapsulamento__x']"
      ]
     },
     "execution_count": 32,
     "metadata": {},
     "output_type": "execute_result"
    }
   ],
   "source": [
    "class incapsulamento():\n",
    "    \n",
    "    def __init__(self):\n",
    "        self.__x = 0\n",
    "\n",
    "myclass = incapsulamento()\n",
    "dir(myclass)\n"
   ]
  },
  {
   "cell_type": "markdown",
   "metadata": {},
   "source": [
    "#### Esempio di Astrazione"
   ]
  },
  {
   "cell_type": "code",
   "execution_count": 34,
   "metadata": {},
   "outputs": [],
   "source": [
    "from math import pi\n",
    "\n",
    "class Colore():\n",
    "  \n",
    "    def __init__(self, rosso=0, verde=0, blue=0):\n",
    "        self.rosso = rosso\n",
    "        self.verde = verde\n",
    "        self.blue  = blue\n",
    "    \n",
    "class FiguraGeometrica():\n",
    "    def __init__(self, x, y, colore):\n",
    "        self.x = x\n",
    "        self.y = y\n",
    "        self.colore = colore\n",
    "    def disegna(self):\n",
    "        raise \"Metodo Astratto!\"\n",
    "  \n",
    "    def getArea(self):\n",
    "        raise \" Metodo Astratto!\"\n",
    "  \n",
    "    def sposta(self, x, y):\n",
    "        self.x += x\n",
    "        self.y += y\n",
    "\n",
    "class Cerchio(FiguraGeometrica):\n",
    "    \n",
    "    def __init__(self, x, y, raggio, colore):\n",
    "        FiguraGeometrica.__init__(self, x, y, colore)\n",
    "        self.raggio = raggio\n",
    "    \n",
    "    def disegna(self):\n",
    "        pass # Esegue il disegno della figura\n",
    "  \n",
    "    def getArea(self):\n",
    "        return int(pi * self.raggio)\n",
    "    \n",
    "class Rettangolo(FiguraGeometrica):\n",
    "    def __init__(self, x, y, base, altezza, colore):\n",
    "        Shape.__init__(self, x, y, colore)\n",
    "        self.base  = base\n",
    "        self.altezza = altezza\n",
    "        \n",
    "    def disegna(self):\n",
    "        pass # Esegue il disegno della figura\n",
    "    \n",
    "    def getArea(self):\n",
    "        return self.base * self.altezza"
   ]
  },
  {
   "cell_type": "code",
   "execution_count": 44,
   "metadata": {},
   "outputs": [
    {
     "name": "stdout",
     "output_type": "stream",
     "text": [
      "<__main__.Cerchio object at 0x00000210BC40DFD0>\n",
      "Area Cerchio: 94\n"
     ]
    }
   ],
   "source": [
    "#Proviamo a fare qualche esempio\n",
    "x = Cerchio(15,20,30,\"rosso\")\n",
    "print(x)\n",
    "print(f'Area Cerchio: {x.getArea()}')"
   ]
  },
  {
   "cell_type": "markdown",
   "metadata": {},
   "source": [
    "#### Esempio di Ereditarietà"
   ]
  },
  {
   "cell_type": "code",
   "execution_count": null,
   "metadata": {},
   "outputs": [],
   "source": [
    "https://www.html.it/app/uploads/documenti/guide/esempi/oop/ereditarieta_python.html"
   ]
  },
  {
   "cell_type": "markdown",
   "metadata": {},
   "source": [
    "#### Esempio di Polimorfismo"
   ]
  },
  {
   "cell_type": "code",
   "execution_count": null,
   "metadata": {},
   "outputs": [],
   "source": [
    "https://www.html.it/app/uploads/documenti/guide/esempi/oop/polimorfismo_python.html"
   ]
  },
  {
   "cell_type": "markdown",
   "metadata": {},
   "source": [
    "#### Esercizio per impratichirsi con le classi"
   ]
  },
  {
   "cell_type": "markdown",
   "metadata": {},
   "source": [
    "Implementare un piccolo sistema di una banca:  \n",
    "- Creare un conto in banca con le seguenti caratteristiche:\n",
    "    - proprietario\n",
    "    - disponibilità\n",
    "    - deve avere al suo interno almeno due metodi:\n",
    "        - ritirare\n",
    "        - depositare\n",
    "\n",
    "- Aggiungere un altro requisito: il ritiro di denaro non deve superare il limite disponibile all'interno del conto\n"
   ]
  },
  {
   "cell_type": "markdown",
   "metadata": {},
   "source": [
    "## Decoratori"
   ]
  },
  {
   "attachments": {},
   "cell_type": "markdown",
   "metadata": {},
   "source": [
    "I Decoratori consentono di \"decorare\" una funzione, ovvero estendere e potenziare una funzione esistente.\n",
    "\n",
    "Quindi ad esempio:\n",
    "\t- Aggiungere altro codice (funzionalità) alla vecchia funzione\n",
    "\t- Creare una nuova funzione che contenga il vecchio codice e quindi aggiungere nuovo codice alla funzione.\n",
    "\n",
    "Ma se tu volessi rimuovere vecchie funzionalità extra?\n",
    "Bisognerebbe eliminarle manualmente dalla vecchia funzione…c’è quindi un modo per abilitare, disabilitare delle funzioni velocemente?\n",
    "\n",
    "Per fare questo si usano i decoratori delle funzioni grazie al comando @ \n",
    "\n",
    "\n",
    "Vengono molto usati all'interno dei framework, in particolare all'interno di Flask. Consentendo di utilizzare ed estendere le funzionalità base del linguaggio di riferimento."
   ]
  },
  {
   "cell_type": "code",
   "execution_count": null,
   "metadata": {},
   "outputs": [],
   "source": []
  }
 ],
 "metadata": {
  "kernelspec": {
   "display_name": "Python 3",
   "language": "python",
   "name": "python3"
  },
  "language_info": {
   "codemirror_mode": {
    "name": "ipython",
    "version": 3
   },
   "file_extension": ".py",
   "mimetype": "text/x-python",
   "name": "python",
   "nbconvert_exporter": "python",
   "pygments_lexer": "ipython3",
   "version": "3.6.8"
  }
 },
 "nbformat": 4,
 "nbformat_minor": 2
}
