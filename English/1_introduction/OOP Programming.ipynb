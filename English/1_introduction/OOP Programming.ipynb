{
 "cells": [
  {
   "cell_type": "markdown",
   "metadata": {},
   "source": [
    "# Variable scope"
   ]
  },
  {
   "cell_type": "markdown",
   "metadata": {},
   "source": [
    "Variables in python have certain characteristics of scope also called: scope.  \n",
    "The scope determines where a variable is defined within the code and at what point it can be used.  \n",
    "\n",
    "This is because situations may occur where a variable can be defined at a particular point in the code, but at another point you don't have the \"scope\" of the variable, i.e. it cannot be accessed and used.\n",
    "\n",
    "In practice variables can only reach the area in which they are defined, which is called scope or scope.  \n",
    "The scope is therefore considered to be the code area in which variables can be used.  \n",
    "Python supports global variables (in the entire program) and local variables."
   ]
  },
  {
   "cell_type": "markdown",
   "metadata": {},
   "source": [
    "Here some examples"
   ]
  },
  {
   "cell_type": "code",
   "execution_count": 1,
   "metadata": {},
   "outputs": [
    {
     "name": "stdout",
     "output_type": "stream",
     "text": [
      "You called f(x,y) with the value x = 3 and y = 2\n",
      "x * y = 6\n"
     ]
    }
   ],
   "source": [
    "def f(x,y):\n",
    "    print('You called f(x,y) with the value x = ' + str(x) + ' and y = ' + str(y))\n",
    "    print('x * y = ' + str(x*y))\n",
    "    z = 4 # cannot reach z, so THIS WON'T WORK\n",
    "\n",
    "z = 3\n",
    "f(3,2)"
   ]
  },
  {
   "cell_type": "markdown",
   "metadata": {},
   "source": [
    "The variable z = 4 in this case will never be used because it is defined within the function"
   ]
  },
  {
   "cell_type": "code",
   "execution_count": 2,
   "metadata": {},
   "outputs": [
    {
     "name": "stdout",
     "output_type": "stream",
     "text": [
      "You called f(x,y) with the value x = 3 and y = 2\n",
      "x * y = 6\n",
      "3\n"
     ]
    }
   ],
   "source": [
    "def f(x,y):\n",
    "    z = 3\n",
    "    print('You called f(x,y) with the value x = ' + str(x) + ' and y = ' + str(y))\n",
    "    print('x * y = ' + str(x*y))\n",
    "    print(z) # can reach because variable z is defined in the function\n",
    "\n",
    "f(3,2)"
   ]
  },
  {
   "cell_type": "markdown",
   "metadata": {},
   "source": [
    "In this case, however, the variable z is used because it is internal to the function"
   ]
  },
  {
   "cell_type": "markdown",
   "metadata": {},
   "source": [
    "Try to make you some examples playing with variables like these two presented above"
   ]
  },
  {
   "cell_type": "markdown",
   "metadata": {},
   "source": [
    "Going into more detail with global variables"
   ]
  },
  {
   "cell_type": "code",
   "execution_count": 1,
   "metadata": {},
   "outputs": [
    {
     "name": "stdout",
     "output_type": "stream",
     "text": [
      "Sum: 6 with: 3,2,42\n"
     ]
    }
   ],
   "source": [
    "x = 3\n",
    "y = 2\n",
    "z = 1\n",
    "\n",
    "def f(x,y):\n",
    "    global z #recuperiamo la variabile globale z\n",
    "    result = x + y + z\n",
    "    x = 5\n",
    "    y = 7\n",
    "    z = 42\n",
    "    return result # this will return the sum because all variables are passed as parameters\n",
    "\n",
    "sum = f(x, y)\n",
    "print(f\"Sum: {sum} with: {x},{y},{z}\")"
   ]
  },
  {
   "cell_type": "markdown",
   "metadata": {},
   "source": [
    "Another example of using functions within other functions with global variables"
   ]
  },
  {
   "cell_type": "code",
   "execution_count": 19,
   "metadata": {},
   "outputs": [
    {
     "name": "stdout",
     "output_type": "stream",
     "text": [
      "Result: 10\n",
      "With variables: 3,2,5\n"
     ]
    }
   ],
   "source": [
    "z = 42\n",
    "\n",
    "def highFive():\n",
    "    return 5\n",
    "\n",
    "def f(x,y):\n",
    "    global z\n",
    "    z = highFive() # we get the variable contents from highFive()\n",
    "    return x+y+z # returns x+y+z. z is reachable becaue it is defined above\n",
    "\n",
    "result = f(3,2)\n",
    "print(f\"Result: {result}\")\n",
    "print(f\"With variables: {x},{y},{z}\")"
   ]
  },
  {
   "cell_type": "markdown",
   "metadata": {},
   "source": [
    "# OOP"
   ]
  },
  {
   "cell_type": "markdown",
   "metadata": {},
   "source": [
    "Object Oriented Programming (OOP) allows the programmer to create their own objects that may have methods and attributes.  \n",
    "<br></br>\n",
    "\n",
    "\n"
   ]
  },
  {
   "cell_type": "markdown",
   "metadata": {},
   "source": [
    "Imagine objects as an abstraction of reality... you know Voltron? The Japanese mega mecha (robot)?  \n",
    "<img src=\"resources/voltron.png\">"
   ]
  },
  {
   "cell_type": "markdown",
   "metadata": {},
   "source": [
    "Voltron is a robot that can transform itself from smaller robots that have to combine together perfectly to form a bigger and more powerful robot that can fight and defeat enemies.  \n",
    "\n",
    "This is a great metaphor to explain the objects!  \n",
    "\n",
    "Robots are all similar (they have similar characteristics), so you could represent them with an object called: generic \"robot\" containing different characteristics (wheels, armor, number of pieces, ...).  \n",
    "Consequently it would be possible to model several other objects such as: chest, legs, arms.  \n",
    "Voltron also has weapons that can be used and that can be defined as individual objects that depend on a more generic object called: weapon.  \n",
    "\n",
    "The combination of these objects defines Voltron and assembling them by creating dependencies allows us to defeat evil! :-)"
   ]
  },
  {
   "cell_type": "markdown",
   "metadata": {},
   "source": [
    "OOP allows the user to create their own objects.\n",
    "The general format is often confusing when first encountered, and its usefulness may not be completely clear at first.  \n",
    "\n",
    "In general OOP allows you to create code that is repeatable, reusable and well organized.  \n",
    "\n",
    "For very complex python programs, functions alone are not enough to organize well and make a program repeatable and reproducible.  \n",
    "This happens especially when working with frameworks (flask, django, dash, ...) that extend python's functionality allowing us to create much more sophisticated and complex applications faster.  "
   ]
  },
  {
   "cell_type": "markdown",
   "metadata": {},
   "source": [
    "And now it's time to write some code to illustrate how classes work!"
   ]
  },
  {
   "cell_type": "code",
   "execution_count": 2,
   "metadata": {},
   "outputs": [
    {
     "name": "stdout",
     "output_type": "stream",
     "text": [
      "<__main__.NameOfClass object at 0x111576630>\n",
      "Hello\n",
      "First param: Hello\n",
      "Second param: World\n"
     ]
    }
   ],
   "source": [
    "class NameOfClass():\n",
    "    \n",
    "    def __init__(self, param1, param2):\n",
    "        self.param1 = param1\n",
    "        self.param2 = param2\n",
    "        \n",
    "    def some_method(self):\n",
    "        #perform some actions\n",
    "        print(self.param1)\n",
    "\n",
    "x = NameOfClass(\"Hello\",\"World\")\n",
    "print(x)\n",
    "x.some_method()\n",
    "print(f'First param: {x.param1}')\n",
    "print(f'Second param: {x.param2}')"
   ]
  },
  {
   "cell_type": "markdown",
   "metadata": {},
   "source": [
    "As you can see in this example we have defined a class called: `NameOfClass`.  \n",
    "\n",
    "The `__init__` method is the constructor of the class, which is the method that allows you to define the content of the class, variables and its properties.  \n",
    "Taking the Voltron example again, it's as if we define the characteristics of a single robot at the moment of its call into action!  \n",
    "\n",
    "In this example, therefore, this class will have two variables (characteristics) that will only be linked to the object, they do not belong to any other object: param1 and param2.  \n",
    "\n",
    "Inside the class there is also the `some_method()` function that can define the functions that can \"do\" that object.\n",
    "\n",
    "Below is the definition of that class `x = NameOfClass(\"Hello\", \"World\")`."
   ]
  },
  {
   "cell_type": "markdown",
   "metadata": {},
   "source": [
    "Let's give another example!"
   ]
  },
  {
   "cell_type": "code",
   "execution_count": 3,
   "metadata": {},
   "outputs": [
    {
     "name": "stdout",
     "output_type": "stream",
     "text": [
      "Animal Created\n"
     ]
    }
   ],
   "source": [
    "class Animal():\n",
    "    \n",
    "    planet = 'earth'\n",
    "    \n",
    "    def __init__(self, input_planet):\n",
    "        self.planet = input_planet\n",
    "        print('Animal Created')\n",
    "    \n",
    "    def report(self):\n",
    "        print(\"Animal\")\n",
    "        \n",
    "    def eat(self):\n",
    "        print(\"Eating\")\n",
    "        \n",
    "Dog = Animal('Mars')\n"
   ]
  },
  {
   "cell_type": "markdown",
   "metadata": {},
   "source": [
    "In this example we created a Martian dog!  "
   ]
  },
  {
   "cell_type": "markdown",
   "metadata": {},
   "source": [
    "## Basic concepts of object programming\n",
    "\n",
    "A small hint of theory to explain what are and what are the fundamental concepts of object oriented programming.\n",
    "\n",
    "- Encapsulation\n",
    "- Abstraction\n",
    "- Inheritance\n",
    "- Polymorphism"
   ]
  },
  {
   "cell_type": "markdown",
   "metadata": {},
   "source": [
    "### Encapsulation\n",
    "Encapsulation is precisely linked to the concept of \"packing\" in an object the data and actions that can be traced back to a single component.\n",
    "It is also considered as the first principle of object programming.\n",
    "\n",
    "Another way of looking at encapsulation, which we have already mentioned, is to think about dividing an application into small parts (the objects, precisely) that group together some functions linked to each other.\n",
    "\n",
    "For example, think of a bank account. The useful information (properties) could be represented by: account number, balance, customer name, address, account type, interest rate and opening date.\n",
    "\n",
    "The actions that operate on this information (the methods) will be: opening, closing, deposit, withdrawal, change of account type, change of customer and change of address. The Account object will encapsulate this information and actions within it.\n",
    "\n",
    "Another advantage of encapsulation is to limit the effects of changes to a software system.\n",
    "A concept similar to encapsulation is also called: Information Hiding.  \n",
    "Information hiding, like encapsulation, provides the same advantage: flexibility."
   ]
  },
  {
   "cell_type": "markdown",
   "metadata": {},
   "source": [
    "### Abstraction\n",
    "Inheritance is the second fundamental principle of object oriented programming. In general, it is a mechanism for creating new objects that are based on others already defined.  \n",
    "\n",
    "A child object is defined as one that inherits all or part of the properties and methods defined in the parent object.  \n",
    "\n",
    "\n",
    "As said before, imagine that the parent class is: robot, which is the basic definition of the characteristics of Voltron robots.  \n",
    "The parent objects will be all individual robots with their unique characteristics different from each other!\n",
    "\n",
    "One of the biggest advantages of using inheritance is the easier maintenance of the software. In fact, following the example of mammals, if something should change for the entire class of robots, perhaps introducing new features available to all, it will be sufficient to modify only the parent object to allow all child objects to inherit the new feature.  \n",
    "\n",
    "Also imagine to have in the father class a method: `movement` that defines the standard type of robot movement, each child robot will be able to ignore this functionality of the father class by making its own \"version\" of the movement (maybe flying!).  \n",
    "This concept of fundamental importance calls: **overriding**, i.e. every object derived from a parent class has the possibility to ignore one or more methods defined in it by rewriting those methods within it.  "
   ]
  },
  {
   "cell_type": "markdown",
   "metadata": {},
   "source": [
    "### Polymorphism\n",
    "The third fundamental element of object programming is polymorphism. Literally, the word polymorphism indicates the possibility for the same object to take several forms.\n",
    "\n",
    "To better explain the concept, imagine robots with different characteristics: steering wheel, four legs, two legs.  All these three types of robots move and move, but all three do so in a different way interpreting the action in a completely different way.  \n",
    "\n",
    "Polymorphism is just that, i.e. it indicates the attitude of an object to show more implementations for a single functionality.  \n",
    "\n",
    "One of the greatest benefits of polymorphism, as indeed of all the other principles of object programming, is the ease of code maintenance.  "
   ]
  },
  {
   "cell_type": "markdown",
   "metadata": {},
   "source": [
    "### Abstraction\n",
    "One of the main peculiarities of object oriented programming is to make software maintenance easy, streamlined and efficient.  \n",
    "\n",
    "The concept of data abstraction further reinforces these strengths, particularly with regard to the reuse of code.  \n",
    "\n",
    "Abstraction is therefore used to better manage the complexity of a program, i.e. it is applied to decompose complex software systems into smaller and simpler components that can be managed more easily and efficiently.  \n",
    "\n",
    "One of the best definitions on the concept of Data Abstraction is that of Booch: \"An abstraction must denote the essential characteristics of an object distinguishing it from all other objects and providing, in this way, precise conceptual boundaries with respect to the observer's perspective\".  \n",
    "\n",
    "In the context of the former, the Robot class is an Abstract class, i.e. a class that basically represents a model for obtaining more specific and detailed derived classes!  \n",
    "\n",
    "\n",
    "In an abstract class, usually few methods are contained (usually one or two) for which the implementation is also provided while for all other methods there is only a mere definition of the method itself and it is, therefore, necessary (and mandatory) that all descending classes provide the appropriate implementation.  \n",
    "\n",
    "The methods belonging to this last typology (and which are defined in the abstract class) are called Abstract Methods. In the limit case in which an abstract class contains only abstract methods then it will be catalogued more correctly as an interface (see the section on interfaces).\n",
    "\n",
    "As said, the use of data abstraction (combined with the concept of inheritance) facilitates the reuse of code and streamlines the design of a software system. In fact, if the need arises, it will be easy to define other intermediate classes that can make use of the definitions already present in the abstract classes. In addition, it will be extremely useful to be able to reuse the abstract classes already defined, even in other projects."
   ]
  },
  {
   "cell_type": "markdown",
   "metadata": {},
   "source": [
    "#### Example of Encapsulation"
   ]
  },
  {
   "cell_type": "markdown",
   "metadata": {},
   "source": [
    "In Python encapsulation is not explicitly and forcibly implemented as in other programming languages (Java, C# for example...).  \n",
    "This means that its implementation is a formality and a best practice, but that it is always possible to access any method that does not hide information.  \n",
    "\n",
    "The so-called weakly private methods have a single underscore (_) as prefix in their name. This prefix signals the presence of a private method, which should not be used outside the class. But this is just a convention, and nothing avoids the opposite. The only real effect it has is to avoid importing the method when using the underscore:  \n",
    "`from nomemodule import *`"
   ]
  },
  {
   "cell_type": "markdown",
   "metadata": {},
   "source": [
    "Instead, there are methods and attributes, strongly private, which are marked by the double underscore (__) as a prefix in their name. Once a method is marked with this double underscore, then the method will be really private and no longer be accessible from outside the class."
   ]
  },
  {
   "cell_type": "markdown",
   "metadata": {},
   "source": [
    "However, these methods may still be accessible from the outside, but using a different name  \n",
    "'_nomeclasse_nomemetodoprivato'\n",
    "\n",
    "Let's take an example, building and modifying a private __x method within a class created by us"
   ]
  },
  {
   "cell_type": "code",
   "execution_count": 7,
   "metadata": {},
   "outputs": [
    {
     "data": {
      "text/plain": [
       "['__class__',\n",
       " '__delattr__',\n",
       " '__dict__',\n",
       " '__dir__',\n",
       " '__doc__',\n",
       " '__eq__',\n",
       " '__format__',\n",
       " '__ge__',\n",
       " '__getattribute__',\n",
       " '__gt__',\n",
       " '__hash__',\n",
       " '__init__',\n",
       " '__init_subclass__',\n",
       " '__le__',\n",
       " '__lt__',\n",
       " '__module__',\n",
       " '__ne__',\n",
       " '__new__',\n",
       " '__reduce__',\n",
       " '__reduce_ex__',\n",
       " '__repr__',\n",
       " '__setattr__',\n",
       " '__sizeof__',\n",
       " '__str__',\n",
       " '__subclasshook__',\n",
       " '__weakref__',\n",
       " '_encapsulation__x']"
      ]
     },
     "execution_count": 7,
     "metadata": {},
     "output_type": "execute_result"
    }
   ],
   "source": [
    "class encapsulation():\n",
    "    \n",
    "    def __init__(self):\n",
    "        self.__x = 0\n",
    "\n",
    "myclass = encapsulation()\n",
    "dir(myclass)\n"
   ]
  },
  {
   "cell_type": "markdown",
   "metadata": {},
   "source": [
    "#### Abstraction example"
   ]
  },
  {
   "cell_type": "code",
   "execution_count": 14,
   "metadata": {},
   "outputs": [],
   "source": [
    "from math import pi\n",
    "\n",
    "class Color():\n",
    "  \n",
    "    def __init__(self, red=0, green=0, blue=0):\n",
    "        self.red = red\n",
    "        self.green = green\n",
    "        self.blue  = blue\n",
    "    \n",
    "class GeometricFigure():\n",
    "    def __init__(self, x, y, color):\n",
    "        self.x = x\n",
    "        self.y = y\n",
    "        self.color = color\n",
    "        \n",
    "    def draw(self):\n",
    "        raise \"Abstract method!\"\n",
    "  \n",
    "    def getArea(self):\n",
    "        raise \" Abstract method!\"\n",
    "  \n",
    "    def move(self, x, y):\n",
    "        self.x += x\n",
    "        self.y += y\n",
    "\n",
    "class Circle(GeometricFigure):\n",
    "    \n",
    "    def __init__(self, x, y, radius, color):\n",
    "        GeometricFigure.__init__(self, x, y, color)\n",
    "        self.radius = radius\n",
    "    \n",
    "    def draw(self):\n",
    "        pass # Drawing the figure\n",
    "  \n",
    "    def getArea(self):\n",
    "        return int(pi * self.radius)\n",
    "    \n",
    "class Rectangle(GeometricFigure):\n",
    "    def __init__(self, x, y, base, high, color):\n",
    "        Shape.__init__(self, x, y, color)\n",
    "        self.base  = base\n",
    "        self.high = high\n",
    "        \n",
    "    def draw(self):\n",
    "        pass # Drawing the figure\n",
    "    \n",
    "    def getArea(self):\n",
    "        return self.base * self.high"
   ]
  },
  {
   "cell_type": "code",
   "execution_count": 17,
   "metadata": {},
   "outputs": [
    {
     "name": "stdout",
     "output_type": "stream",
     "text": [
      "<__main__.Circle object at 0x111592630>\n",
      "Circle radius: 94\n"
     ]
    }
   ],
   "source": [
    "# Let's try to make some examples #\n",
    "x = Circle(15,20,30,\"rosso\")\n",
    "print(x)\n",
    "print(f'Circle radius: {x.getArea()}')"
   ]
  },
  {
   "cell_type": "markdown",
   "metadata": {},
   "source": [
    "#### Example of Inheritance"
   ]
  },
  {
   "cell_type": "markdown",
   "metadata": {},
   "source": [
    "https://www.html.it/app/uploads/documenti/guide/esempi/oop/ereditarieta_python.html"
   ]
  },
  {
   "cell_type": "markdown",
   "metadata": {},
   "source": [
    "#### Example of Polymorphism"
   ]
  },
  {
   "cell_type": "markdown",
   "metadata": {},
   "source": [
    "https://www.html.it/app/uploads/documenti/guide/esempi/oop/polimorfismo_python.html"
   ]
  },
  {
   "cell_type": "markdown",
   "metadata": {},
   "source": [
    "##### Exercise to learn the classes"
   ]
  },
  {
   "cell_type": "markdown",
   "metadata": {},
   "source": [
    "Implement a small system of a bank:  \n",
    "- Create a bank account with the following features:\n",
    "    - owner\n",
    "    - availability\n",
    "    - must have at least two methods in it:\n",
    "        - withdraw\n",
    "        - deposit\n",
    "\n",
    "- Add another requirement: the withdrawal of money must not exceed the limit available in the account"
   ]
  },
  {
   "cell_type": "markdown",
   "metadata": {},
   "source": [
    "## Decorators"
   ]
  },
  {
   "cell_type": "markdown",
   "metadata": {},
   "source": [
    "Decorators allow you to \"decorate\" a function, i.e. extend and enhance an existing function.\n",
    "\n",
    "So for example:\n",
    "\t- Add more code (functionality) to the old function\n",
    "\t- Create a new function that contains the old code and then add new code to the function.\n",
    "\n",
    "But what if you want to remove old extra features?\n",
    "Should you remove them manually from the old function...is there a way to enable, disable functions quickly?\n",
    "\n",
    "To do this, you use the function decorators with the @ \n",
    "\n",
    "\n",
    "They are widely used within frameworks, particularly within Flask. They allow to use and extend the basic functionality of the reference language."
   ]
  },
  {
   "cell_type": "code",
   "execution_count": null,
   "metadata": {},
   "outputs": [],
   "source": []
  }
 ],
 "metadata": {
  "kernelspec": {
   "display_name": "Python 3",
   "language": "python",
   "name": "python3"
  },
  "language_info": {
   "codemirror_mode": {
    "name": "ipython",
    "version": 3
   },
   "file_extension": ".py",
   "mimetype": "text/x-python",
   "name": "python",
   "nbconvert_exporter": "python",
   "pygments_lexer": "ipython3",
   "version": "3.6.9"
  }
 },
 "nbformat": 4,
 "nbformat_minor": 4
}
