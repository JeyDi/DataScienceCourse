{
 "cells": [
  {
   "cell_type": "markdown",
   "metadata": {},
   "source": [
    "# Heart Desease Prediction"
   ]
  },
  {
   "cell_type": "markdown",
   "metadata": {},
   "source": [
    "Execise: Predict if a patient has a heart disease or not. We have a data which classified if patients have heart disease or not according to features in it. We will try to use this data to create a model which tries predict if a patient has this disease or not.\n",
    "\n",
    "Dataset = https://archive.ics.uci.edu/ml/datasets/Heart+Disease"
   ]
  },
  {
   "cell_type": "markdown",
   "metadata": {},
   "source": [
    "-----"
   ]
  },
  {
   "cell_type": "code",
   "execution_count": 2,
   "metadata": {
    "ExecuteTime": {
     "end_time": "2020-05-11T15:25:42.239926Z",
     "start_time": "2020-05-11T15:25:41.053949Z"
    }
   },
   "outputs": [],
   "source": [
    "import numpy as np\n",
    "import pandas as pd\n",
    "import matplotlib.pyplot as plt\n",
    "import seaborn as sns \n",
    "from math import pi\n",
    "\n",
    "%matplotlib inline\n",
    "%load_ext autoreload\n",
    "%autoreload 2"
   ]
  },
  {
   "cell_type": "markdown",
   "metadata": {},
   "source": [
    "## Load and prepare data"
   ]
  },
  {
   "cell_type": "code",
   "execution_count": 3,
   "metadata": {
    "ExecuteTime": {
     "end_time": "2020-05-11T15:25:42.273864Z",
     "start_time": "2020-05-11T15:25:42.241739Z"
    }
   },
   "outputs": [
    {
     "data": {
      "text/plain": [
       "'/Users/jeydi/OneDrive/CorsoInsubria-DataScienceBusiness/Notebooks/6_machine_learning/deep_learning'"
      ]
     },
     "execution_count": 3,
     "metadata": {},
     "output_type": "execute_result"
    }
   ],
   "source": [
    "import os\n",
    "os.path.abspath(os.getcwd())"
   ]
  },
  {
   "cell_type": "code",
   "execution_count": 4,
   "metadata": {
    "ExecuteTime": {
     "end_time": "2020-05-11T15:25:43.199138Z",
     "start_time": "2020-05-11T15:25:43.052533Z"
    }
   },
   "outputs": [
    {
     "name": "stdout",
     "output_type": "stream",
     "text": [
      "Dataframe shape: (303, 14)\n"
     ]
    },
    {
     "data": {
      "text/html": [
       "<div>\n",
       "<style scoped>\n",
       "    .dataframe tbody tr th:only-of-type {\n",
       "        vertical-align: middle;\n",
       "    }\n",
       "\n",
       "    .dataframe tbody tr th {\n",
       "        vertical-align: top;\n",
       "    }\n",
       "\n",
       "    .dataframe thead th {\n",
       "        text-align: right;\n",
       "    }\n",
       "</style>\n",
       "<table border=\"1\" class=\"dataframe\">\n",
       "  <thead>\n",
       "    <tr style=\"text-align: right;\">\n",
       "      <th></th>\n",
       "      <th>age</th>\n",
       "      <th>sex</th>\n",
       "      <th>cp</th>\n",
       "      <th>trestbps</th>\n",
       "      <th>chol</th>\n",
       "      <th>fbs</th>\n",
       "      <th>restecg</th>\n",
       "      <th>thalach</th>\n",
       "      <th>exang</th>\n",
       "      <th>oldpeak</th>\n",
       "      <th>slope</th>\n",
       "      <th>ca</th>\n",
       "      <th>thal</th>\n",
       "      <th>target</th>\n",
       "    </tr>\n",
       "  </thead>\n",
       "  <tbody>\n",
       "    <tr>\n",
       "      <th>0</th>\n",
       "      <td>63</td>\n",
       "      <td>1</td>\n",
       "      <td>3</td>\n",
       "      <td>145</td>\n",
       "      <td>233</td>\n",
       "      <td>1</td>\n",
       "      <td>0</td>\n",
       "      <td>150</td>\n",
       "      <td>0</td>\n",
       "      <td>2.3</td>\n",
       "      <td>0</td>\n",
       "      <td>0</td>\n",
       "      <td>1</td>\n",
       "      <td>1</td>\n",
       "    </tr>\n",
       "    <tr>\n",
       "      <th>1</th>\n",
       "      <td>37</td>\n",
       "      <td>1</td>\n",
       "      <td>2</td>\n",
       "      <td>130</td>\n",
       "      <td>250</td>\n",
       "      <td>0</td>\n",
       "      <td>1</td>\n",
       "      <td>187</td>\n",
       "      <td>0</td>\n",
       "      <td>3.5</td>\n",
       "      <td>0</td>\n",
       "      <td>0</td>\n",
       "      <td>2</td>\n",
       "      <td>1</td>\n",
       "    </tr>\n",
       "    <tr>\n",
       "      <th>2</th>\n",
       "      <td>41</td>\n",
       "      <td>0</td>\n",
       "      <td>1</td>\n",
       "      <td>130</td>\n",
       "      <td>204</td>\n",
       "      <td>0</td>\n",
       "      <td>0</td>\n",
       "      <td>172</td>\n",
       "      <td>0</td>\n",
       "      <td>1.4</td>\n",
       "      <td>2</td>\n",
       "      <td>0</td>\n",
       "      <td>2</td>\n",
       "      <td>1</td>\n",
       "    </tr>\n",
       "    <tr>\n",
       "      <th>3</th>\n",
       "      <td>56</td>\n",
       "      <td>1</td>\n",
       "      <td>1</td>\n",
       "      <td>120</td>\n",
       "      <td>236</td>\n",
       "      <td>0</td>\n",
       "      <td>1</td>\n",
       "      <td>178</td>\n",
       "      <td>0</td>\n",
       "      <td>0.8</td>\n",
       "      <td>2</td>\n",
       "      <td>0</td>\n",
       "      <td>2</td>\n",
       "      <td>1</td>\n",
       "    </tr>\n",
       "    <tr>\n",
       "      <th>4</th>\n",
       "      <td>57</td>\n",
       "      <td>0</td>\n",
       "      <td>0</td>\n",
       "      <td>120</td>\n",
       "      <td>354</td>\n",
       "      <td>0</td>\n",
       "      <td>1</td>\n",
       "      <td>163</td>\n",
       "      <td>1</td>\n",
       "      <td>0.6</td>\n",
       "      <td>2</td>\n",
       "      <td>0</td>\n",
       "      <td>2</td>\n",
       "      <td>1</td>\n",
       "    </tr>\n",
       "    <tr>\n",
       "      <th>5</th>\n",
       "      <td>57</td>\n",
       "      <td>1</td>\n",
       "      <td>0</td>\n",
       "      <td>140</td>\n",
       "      <td>192</td>\n",
       "      <td>0</td>\n",
       "      <td>1</td>\n",
       "      <td>148</td>\n",
       "      <td>0</td>\n",
       "      <td>0.4</td>\n",
       "      <td>1</td>\n",
       "      <td>0</td>\n",
       "      <td>1</td>\n",
       "      <td>1</td>\n",
       "    </tr>\n",
       "    <tr>\n",
       "      <th>6</th>\n",
       "      <td>56</td>\n",
       "      <td>0</td>\n",
       "      <td>1</td>\n",
       "      <td>140</td>\n",
       "      <td>294</td>\n",
       "      <td>0</td>\n",
       "      <td>0</td>\n",
       "      <td>153</td>\n",
       "      <td>0</td>\n",
       "      <td>1.3</td>\n",
       "      <td>1</td>\n",
       "      <td>0</td>\n",
       "      <td>2</td>\n",
       "      <td>1</td>\n",
       "    </tr>\n",
       "    <tr>\n",
       "      <th>7</th>\n",
       "      <td>44</td>\n",
       "      <td>1</td>\n",
       "      <td>1</td>\n",
       "      <td>120</td>\n",
       "      <td>263</td>\n",
       "      <td>0</td>\n",
       "      <td>1</td>\n",
       "      <td>173</td>\n",
       "      <td>0</td>\n",
       "      <td>0.0</td>\n",
       "      <td>2</td>\n",
       "      <td>0</td>\n",
       "      <td>3</td>\n",
       "      <td>1</td>\n",
       "    </tr>\n",
       "    <tr>\n",
       "      <th>8</th>\n",
       "      <td>52</td>\n",
       "      <td>1</td>\n",
       "      <td>2</td>\n",
       "      <td>172</td>\n",
       "      <td>199</td>\n",
       "      <td>1</td>\n",
       "      <td>1</td>\n",
       "      <td>162</td>\n",
       "      <td>0</td>\n",
       "      <td>0.5</td>\n",
       "      <td>2</td>\n",
       "      <td>0</td>\n",
       "      <td>3</td>\n",
       "      <td>1</td>\n",
       "    </tr>\n",
       "    <tr>\n",
       "      <th>9</th>\n",
       "      <td>57</td>\n",
       "      <td>1</td>\n",
       "      <td>2</td>\n",
       "      <td>150</td>\n",
       "      <td>168</td>\n",
       "      <td>0</td>\n",
       "      <td>1</td>\n",
       "      <td>174</td>\n",
       "      <td>0</td>\n",
       "      <td>1.6</td>\n",
       "      <td>2</td>\n",
       "      <td>0</td>\n",
       "      <td>2</td>\n",
       "      <td>1</td>\n",
       "    </tr>\n",
       "  </tbody>\n",
       "</table>\n",
       "</div>"
      ],
      "text/plain": [
       "   age  sex  cp  trestbps  chol  fbs  restecg  thalach  exang  oldpeak  slope  \\\n",
       "0   63    1   3       145   233    1        0      150      0      2.3      0   \n",
       "1   37    1   2       130   250    0        1      187      0      3.5      0   \n",
       "2   41    0   1       130   204    0        0      172      0      1.4      2   \n",
       "3   56    1   1       120   236    0        1      178      0      0.8      2   \n",
       "4   57    0   0       120   354    0        1      163      1      0.6      2   \n",
       "5   57    1   0       140   192    0        1      148      0      0.4      1   \n",
       "6   56    0   1       140   294    0        0      153      0      1.3      1   \n",
       "7   44    1   1       120   263    0        1      173      0      0.0      2   \n",
       "8   52    1   2       172   199    1        1      162      0      0.5      2   \n",
       "9   57    1   2       150   168    0        1      174      0      1.6      2   \n",
       "\n",
       "   ca  thal  target  \n",
       "0   0     1       1  \n",
       "1   0     2       1  \n",
       "2   0     2       1  \n",
       "3   0     2       1  \n",
       "4   0     2       1  \n",
       "5   0     1       1  \n",
       "6   0     2       1  \n",
       "7   0     3       1  \n",
       "8   0     3       1  \n",
       "9   0     2       1  "
      ]
     },
     "execution_count": 4,
     "metadata": {},
     "output_type": "execute_result"
    }
   ],
   "source": [
    "data_path='./data/heart.csv'\n",
    "\n",
    "df = pd.read_csv(data_path)\n",
    "\n",
    "print(f\"Dataframe shape: {df.shape}\")\n",
    "df.head(10)"
   ]
  },
  {
   "cell_type": "markdown",
   "metadata": {},
   "source": [
    "## Understand the data"
   ]
  },
  {
   "cell_type": "code",
   "execution_count": 5,
   "metadata": {
    "ExecuteTime": {
     "end_time": "2020-05-11T15:25:45.124867Z",
     "start_time": "2020-05-11T15:25:44.215688Z"
    }
   },
   "outputs": [
    {
     "data": {
      "image/png": "[encoded data removed]",
      "text/plain": [
       "<Figure size 1440x1440 with 2 Axes>"
      ]
     },
     "metadata": {
      "needs_background": "light"
     },
     "output_type": "display_data"
    }
   ],
   "source": [
    "fig,ax = plt.subplots(figsize=(20, 20))\n",
    "sns.heatmap(df.corr(), ax=ax, annot=True, linewidths=0.05, fmt= '.2f',cmap=\"magma\")\n",
    "plt.show()"
   ]
  },
  {
   "cell_type": "code",
   "execution_count": 6,
   "metadata": {
    "ExecuteTime": {
     "end_time": "2020-05-11T15:25:45.215283Z",
     "start_time": "2020-05-11T15:25:45.126604Z"
    }
   },
   "outputs": [
    {
     "name": "stdout",
     "output_type": "stream",
     "text": [
      "People having heart diseace vs people who doesn't: \n",
      " 1    165\n",
      "0    138\n",
      "Name: target, dtype: int64\n"
     ]
    },
    {
     "data": {
      "image/png": "[encoded data removed]",
      "text/plain": [
       "<Figure size 576x432 with 1 Axes>"
      ]
     },
     "metadata": {},
     "output_type": "display_data"
    }
   ],
   "source": [
    "print(\"People having heart diseace vs people who doesn't: \\n\", df.target.value_counts())\n",
    "heart_disease = len(df[df['target']==1])\n",
    "no_heart_disease = len(df[df['target']==0])\n",
    "labels = [\"Heart Diesease\", \"NO Heart Disease\"]\n",
    "sizes = [heart_disease, no_heart_disease]\n",
    "colors = ['skyblue', 'yellowgreen']\n",
    "plt.figure(figsize=(8,6))\n",
    "\n",
    "plt.pie(sizes, labels=labels, colors=colors,\n",
    "autopct='%1.2f%%', shadow=True)\n",
    "plt.show()"
   ]
  },
  {
   "cell_type": "markdown",
   "metadata": {},
   "source": [
    "## Feature Engineering"
   ]
  },
  {
   "cell_type": "markdown",
   "metadata": {},
   "source": [
    "Dummy variables (cp, thal, slope)"
   ]
  },
  {
   "cell_type": "code",
   "execution_count": 10,
   "metadata": {
    "ExecuteTime": {
     "end_time": "2020-05-11T15:29:19.550504Z",
     "start_time": "2020-05-11T15:29:19.498526Z"
    }
   },
   "outputs": [
    {
     "data": {
      "text/html": [
       "<div>\n",
       "<style scoped>\n",
       "    .dataframe tbody tr th:only-of-type {\n",
       "        vertical-align: middle;\n",
       "    }\n",
       "\n",
       "    .dataframe tbody tr th {\n",
       "        vertical-align: top;\n",
       "    }\n",
       "\n",
       "    .dataframe thead th {\n",
       "        text-align: right;\n",
       "    }\n",
       "</style>\n",
       "<table border=\"1\" class=\"dataframe\">\n",
       "  <thead>\n",
       "    <tr style=\"text-align: right;\">\n",
       "      <th></th>\n",
       "      <th>age</th>\n",
       "      <th>sex</th>\n",
       "      <th>trestbps</th>\n",
       "      <th>chol</th>\n",
       "      <th>fbs</th>\n",
       "      <th>restecg</th>\n",
       "      <th>thalach</th>\n",
       "      <th>exang</th>\n",
       "      <th>oldpeak</th>\n",
       "      <th>ca</th>\n",
       "      <th>...</th>\n",
       "      <th>cp_1</th>\n",
       "      <th>cp_2</th>\n",
       "      <th>cp_3</th>\n",
       "      <th>thal_0</th>\n",
       "      <th>thal_1</th>\n",
       "      <th>thal_2</th>\n",
       "      <th>thal_3</th>\n",
       "      <th>slope_0</th>\n",
       "      <th>slope_1</th>\n",
       "      <th>slope_2</th>\n",
       "    </tr>\n",
       "  </thead>\n",
       "  <tbody>\n",
       "    <tr>\n",
       "      <th>0</th>\n",
       "      <td>63</td>\n",
       "      <td>1</td>\n",
       "      <td>145</td>\n",
       "      <td>233</td>\n",
       "      <td>1</td>\n",
       "      <td>0</td>\n",
       "      <td>150</td>\n",
       "      <td>0</td>\n",
       "      <td>2.3</td>\n",
       "      <td>0</td>\n",
       "      <td>...</td>\n",
       "      <td>0</td>\n",
       "      <td>0</td>\n",
       "      <td>1</td>\n",
       "      <td>0</td>\n",
       "      <td>1</td>\n",
       "      <td>0</td>\n",
       "      <td>0</td>\n",
       "      <td>1</td>\n",
       "      <td>0</td>\n",
       "      <td>0</td>\n",
       "    </tr>\n",
       "    <tr>\n",
       "      <th>1</th>\n",
       "      <td>37</td>\n",
       "      <td>1</td>\n",
       "      <td>130</td>\n",
       "      <td>250</td>\n",
       "      <td>0</td>\n",
       "      <td>1</td>\n",
       "      <td>187</td>\n",
       "      <td>0</td>\n",
       "      <td>3.5</td>\n",
       "      <td>0</td>\n",
       "      <td>...</td>\n",
       "      <td>0</td>\n",
       "      <td>1</td>\n",
       "      <td>0</td>\n",
       "      <td>0</td>\n",
       "      <td>0</td>\n",
       "      <td>1</td>\n",
       "      <td>0</td>\n",
       "      <td>1</td>\n",
       "      <td>0</td>\n",
       "      <td>0</td>\n",
       "    </tr>\n",
       "    <tr>\n",
       "      <th>2</th>\n",
       "      <td>41</td>\n",
       "      <td>0</td>\n",
       "      <td>130</td>\n",
       "      <td>204</td>\n",
       "      <td>0</td>\n",
       "      <td>0</td>\n",
       "      <td>172</td>\n",
       "      <td>0</td>\n",
       "      <td>1.4</td>\n",
       "      <td>0</td>\n",
       "      <td>...</td>\n",
       "      <td>1</td>\n",
       "      <td>0</td>\n",
       "      <td>0</td>\n",
       "      <td>0</td>\n",
       "      <td>0</td>\n",
       "      <td>1</td>\n",
       "      <td>0</td>\n",
       "      <td>0</td>\n",
       "      <td>0</td>\n",
       "      <td>1</td>\n",
       "    </tr>\n",
       "    <tr>\n",
       "      <th>3</th>\n",
       "      <td>56</td>\n",
       "      <td>1</td>\n",
       "      <td>120</td>\n",
       "      <td>236</td>\n",
       "      <td>0</td>\n",
       "      <td>1</td>\n",
       "      <td>178</td>\n",
       "      <td>0</td>\n",
       "      <td>0.8</td>\n",
       "      <td>0</td>\n",
       "      <td>...</td>\n",
       "      <td>1</td>\n",
       "      <td>0</td>\n",
       "      <td>0</td>\n",
       "      <td>0</td>\n",
       "      <td>0</td>\n",
       "      <td>1</td>\n",
       "      <td>0</td>\n",
       "      <td>0</td>\n",
       "      <td>0</td>\n",
       "      <td>1</td>\n",
       "    </tr>\n",
       "    <tr>\n",
       "      <th>4</th>\n",
       "      <td>57</td>\n",
       "      <td>0</td>\n",
       "      <td>120</td>\n",
       "      <td>354</td>\n",
       "      <td>0</td>\n",
       "      <td>1</td>\n",
       "      <td>163</td>\n",
       "      <td>1</td>\n",
       "      <td>0.6</td>\n",
       "      <td>0</td>\n",
       "      <td>...</td>\n",
       "      <td>0</td>\n",
       "      <td>0</td>\n",
       "      <td>0</td>\n",
       "      <td>0</td>\n",
       "      <td>0</td>\n",
       "      <td>1</td>\n",
       "      <td>0</td>\n",
       "      <td>0</td>\n",
       "      <td>0</td>\n",
       "      <td>1</td>\n",
       "    </tr>\n",
       "  </tbody>\n",
       "</table>\n",
       "<p>5 rows × 22 columns</p>\n",
       "</div>"
      ],
      "text/plain": [
       "   age  sex  trestbps  chol  fbs  restecg  thalach  exang  oldpeak  ca  \\\n",
       "0   63    1       145   233    1        0      150      0      2.3   0   \n",
       "1   37    1       130   250    0        1      187      0      3.5   0   \n",
       "2   41    0       130   204    0        0      172      0      1.4   0   \n",
       "3   56    1       120   236    0        1      178      0      0.8   0   \n",
       "4   57    0       120   354    0        1      163      1      0.6   0   \n",
       "\n",
       "    ...     cp_1  cp_2  cp_3  thal_0  thal_1  thal_2  thal_3  slope_0  \\\n",
       "0   ...        0     0     1       0       1       0       0        1   \n",
       "1   ...        0     1     0       0       0       1       0        1   \n",
       "2   ...        1     0     0       0       0       1       0        0   \n",
       "3   ...        1     0     0       0       0       1       0        0   \n",
       "4   ...        0     0     0       0       0       1       0        0   \n",
       "\n",
       "   slope_1  slope_2  \n",
       "0        0        0  \n",
       "1        0        0  \n",
       "2        0        1  \n",
       "3        0        1  \n",
       "4        0        1  \n",
       "\n",
       "[5 rows x 22 columns]"
      ]
     },
     "execution_count": 10,
     "metadata": {},
     "output_type": "execute_result"
    }
   ],
   "source": [
    "cp = pd.get_dummies(df['cp'], prefix = \"cp\")\n",
    "thal = pd.get_dummies(df['thal'], prefix = \"thal\")\n",
    "slope = pd.get_dummies(df['slope'], prefix = \"slope\")\n",
    "frames = [df, cp, thal, slope]\n",
    "\n",
    "df = pd.concat(frames, axis = 1)\n",
    "to_drop = ['cp','thal','slope']\n",
    "df = df.drop(to_drop, axis=1)\n",
    "\n",
    "df.head()"
   ]
  },
  {
   "cell_type": "code",
   "execution_count": 11,
   "metadata": {
    "ExecuteTime": {
     "end_time": "2020-05-11T15:29:27.356748Z",
     "start_time": "2020-05-11T15:29:27.321863Z"
    }
   },
   "outputs": [],
   "source": [
    "df = (df - np.min(df)) / (np.max(df) - np.min(df)).values"
   ]
  },
  {
   "cell_type": "markdown",
   "metadata": {},
   "source": [
    "Get features and target"
   ]
  },
  {
   "cell_type": "code",
   "execution_count": 12,
   "metadata": {
    "ExecuteTime": {
     "end_time": "2020-05-11T15:30:12.333139Z",
     "start_time": "2020-05-11T15:30:12.304305Z"
    }
   },
   "outputs": [],
   "source": [
    "features = df.drop('target',axis =1)\n",
    "targets = df.target.values"
   ]
  },
  {
   "cell_type": "markdown",
   "metadata": {},
   "source": [
    "Split the dataset"
   ]
  },
  {
   "cell_type": "code",
   "execution_count": 16,
   "metadata": {
    "ExecuteTime": {
     "end_time": "2020-05-11T15:31:38.894701Z",
     "start_time": "2020-05-11T15:31:38.099191Z"
    }
   },
   "outputs": [],
   "source": [
    "from sklearn.model_selection import train_test_split\n",
    "x_train, x_test, y_train, y_test = train_test_split(features, targets, test_size = 0.20, random_state=42)"
   ]
  },
  {
   "cell_type": "markdown",
   "metadata": {},
   "source": [
    "Visualize shape of the dataset and info"
   ]
  },
  {
   "cell_type": "code",
   "execution_count": 17,
   "metadata": {
    "ExecuteTime": {
     "end_time": "2020-05-11T15:32:09.103927Z",
     "start_time": "2020-05-11T15:32:09.073548Z"
    }
   },
   "outputs": [
    {
     "name": "stdout",
     "output_type": "stream",
     "text": [
      "(242, 21)\n",
      "(61, 21)\n",
      "(242,)\n",
      "(61,)\n"
     ]
    }
   ],
   "source": [
    "print(x_train.shape)\n",
    "print(x_test.shape)\n",
    "print(y_train.shape)\n",
    "print(y_test.shape)"
   ]
  },
  {
   "cell_type": "markdown",
   "metadata": {},
   "source": [
    "## Build models"
   ]
  },
  {
   "cell_type": "markdown",
   "metadata": {},
   "source": [
    "### First easy model"
   ]
  },
  {
   "cell_type": "code",
   "execution_count": 18,
   "metadata": {
    "ExecuteTime": {
     "end_time": "2020-05-11T15:32:36.025365Z",
     "start_time": "2020-05-11T15:32:33.694404Z"
    }
   },
   "outputs": [],
   "source": [
    "# Imports\n",
    "import numpy as np\n",
    "import tensorflow as tf\n",
    "from tensorflow import keras"
   ]
  },
  {
   "cell_type": "code",
   "execution_count": 19,
   "metadata": {
    "ExecuteTime": {
     "end_time": "2020-05-11T15:32:36.096791Z",
     "start_time": "2020-05-11T15:32:36.027130Z"
    }
   },
   "outputs": [],
   "source": [
    "from tensorflow.keras.models import Sequential\n",
    "from tensorflow.keras.layers import Dense, Dropout, Activation\n",
    "from tensorflow.keras.optimizers import SGD"
   ]
  },
  {
   "cell_type": "markdown",
   "metadata": {},
   "source": [
    "Build the model (4 layers)"
   ]
  },
  {
   "cell_type": "code",
   "execution_count": 31,
   "metadata": {
    "ExecuteTime": {
     "end_time": "2020-05-11T15:49:16.039318Z",
     "start_time": "2020-05-11T15:49:15.925606Z"
    }
   },
   "outputs": [
    {
     "name": "stdout",
     "output_type": "stream",
     "text": [
      "Model: \"sequential_4\"\n",
      "_________________________________________________________________\n",
      "Layer (type)                 Output Shape              Param #   \n",
      "=================================================================\n",
      "dense_7 (Dense)              (None, 128)               2816      \n",
      "_________________________________________________________________\n",
      "dense_8 (Dense)              (None, 64)                8256      \n",
      "_________________________________________________________________\n",
      "dense_9 (Dense)              (None, 32)                2080      \n",
      "_________________________________________________________________\n",
      "dense_10 (Dense)             (None, 1)                 33        \n",
      "=================================================================\n",
      "Total params: 13,185\n",
      "Trainable params: 13,185\n",
      "Non-trainable params: 0\n",
      "_________________________________________________________________\n"
     ]
    }
   ],
   "source": [
    "model = Sequential()\n",
    "model.add(Dense(128, activation='relu', input_shape=(x_train.shape[1],)))\n",
    "model.add(Dense(64, activation='relu', input_shape=(x_train.shape[1],)))\n",
    "model.add(Dense(32, activation='relu', input_shape=(x_train.shape[1],)))\n",
    "model.add(Dense(1, activation='sigmoid'))\n",
    "\n",
    "model.compile(loss='mean_squared_error', optimizer='adam',metrics=['mae','mse'])\n",
    "model.summary()"
   ]
  },
  {
   "cell_type": "markdown",
   "metadata": {},
   "source": [
    "Tensorboard configuration"
   ]
  },
  {
   "cell_type": "code",
   "execution_count": 32,
   "metadata": {
    "ExecuteTime": {
     "end_time": "2020-05-11T15:49:19.853248Z",
     "start_time": "2020-05-11T15:49:19.787322Z"
    }
   },
   "outputs": [],
   "source": [
    "from datetime import datetime\n",
    "logdir = 'logs/scalars/' + datetime.now().strftime(\"%d-%m-%Y-%H-%M-%S\")\n",
    "tensorboard_callback = tf.keras.callbacks.TensorBoard(log_dir=logdir, histogram_freq=1)"
   ]
  },
  {
   "cell_type": "markdown",
   "metadata": {},
   "source": [
    "Train the model"
   ]
  },
  {
   "cell_type": "code",
   "execution_count": 34,
   "metadata": {
    "ExecuteTime": {
     "end_time": "2020-05-11T15:49:43.148970Z",
     "start_time": "2020-05-11T15:49:36.239315Z"
    }
   },
   "outputs": [
    {
     "name": "stdout",
     "output_type": "stream",
     "text": [
      "Epoch 1/100\n",
      "13/13 [==============================] - 0s 8ms/step - loss: 0.0299 - mae: 0.0675 - mse: 0.0299 - val_loss: 0.1299 - val_mae: 0.1815 - val_mse: 0.1299\n",
      "Epoch 2/100\n",
      "13/13 [==============================] - 0s 4ms/step - loss: 0.0265 - mae: 0.0622 - mse: 0.0265 - val_loss: 0.1314 - val_mae: 0.1800 - val_mse: 0.1314\n",
      "Epoch 3/100\n",
      "13/13 [==============================] - 0s 4ms/step - loss: 0.0270 - mae: 0.0613 - mse: 0.0270 - val_loss: 0.1298 - val_mae: 0.1791 - val_mse: 0.1298\n",
      "Epoch 4/100\n",
      "13/13 [==============================] - 0s 4ms/step - loss: 0.0253 - mae: 0.0605 - mse: 0.0253 - val_loss: 0.1347 - val_mae: 0.1845 - val_mse: 0.1347\n",
      "Epoch 5/100\n",
      "13/13 [==============================] - 0s 4ms/step - loss: 0.0243 - mae: 0.0587 - mse: 0.0243 - val_loss: 0.1304 - val_mae: 0.1808 - val_mse: 0.1304\n",
      "Epoch 6/100\n",
      "13/13 [==============================] - 0s 5ms/step - loss: 0.0229 - mae: 0.0563 - mse: 0.0229 - val_loss: 0.1372 - val_mae: 0.1850 - val_mse: 0.1372\n",
      "Epoch 7/100\n",
      "13/13 [==============================] - 0s 4ms/step - loss: 0.0237 - mae: 0.0552 - mse: 0.0237 - val_loss: 0.1311 - val_mae: 0.1763 - val_mse: 0.1311\n",
      "Epoch 8/100\n",
      "13/13 [==============================] - 0s 5ms/step - loss: 0.0232 - mae: 0.0549 - mse: 0.0232 - val_loss: 0.1475 - val_mae: 0.1947 - val_mse: 0.1475\n",
      "Epoch 9/100\n",
      "13/13 [==============================] - 0s 8ms/step - loss: 0.0539 - mae: 0.0976 - mse: 0.0539 - val_loss: 0.1417 - val_mae: 0.1952 - val_mse: 0.1417\n",
      "Epoch 10/100\n",
      "13/13 [==============================] - 0s 6ms/step - loss: 0.0423 - mae: 0.0836 - mse: 0.0423 - val_loss: 0.1319 - val_mae: 0.1777 - val_mse: 0.1319\n",
      "Epoch 11/100\n",
      "13/13 [==============================] - 0s 7ms/step - loss: 0.0352 - mae: 0.0690 - mse: 0.0352 - val_loss: 0.1258 - val_mae: 0.1706 - val_mse: 0.1258\n",
      "Epoch 12/100\n",
      "13/13 [==============================] - 0s 6ms/step - loss: 0.0313 - mae: 0.0673 - mse: 0.0313 - val_loss: 0.1364 - val_mae: 0.1781 - val_mse: 0.1364\n",
      "Epoch 13/100\n",
      "13/13 [==============================] - 0s 6ms/step - loss: 0.0278 - mae: 0.0605 - mse: 0.0278 - val_loss: 0.1404 - val_mae: 0.1850 - val_mse: 0.1404\n",
      "Epoch 14/100\n",
      "13/13 [==============================] - 0s 5ms/step - loss: 0.0240 - mae: 0.0561 - mse: 0.0240 - val_loss: 0.1373 - val_mae: 0.1796 - val_mse: 0.1373\n",
      "Epoch 15/100\n",
      "13/13 [==============================] - 0s 5ms/step - loss: 0.0235 - mae: 0.0531 - mse: 0.0235 - val_loss: 0.1414 - val_mae: 0.1827 - val_mse: 0.1414\n",
      "Epoch 16/100\n",
      "13/13 [==============================] - 0s 6ms/step - loss: 0.0243 - mae: 0.0525 - mse: 0.0243 - val_loss: 0.1336 - val_mae: 0.1753 - val_mse: 0.1336\n",
      "Epoch 17/100\n",
      "13/13 [==============================] - 0s 4ms/step - loss: 0.0248 - mae: 0.0522 - mse: 0.0248 - val_loss: 0.1398 - val_mae: 0.1788 - val_mse: 0.1398\n",
      "Epoch 18/100\n",
      "13/13 [==============================] - 0s 5ms/step - loss: 0.0217 - mae: 0.0465 - mse: 0.0217 - val_loss: 0.1409 - val_mae: 0.1807 - val_mse: 0.1409\n",
      "Epoch 19/100\n",
      "13/13 [==============================] - 0s 4ms/step - loss: 0.0219 - mae: 0.0463 - mse: 0.0219 - val_loss: 0.1405 - val_mae: 0.1784 - val_mse: 0.1405\n",
      "Epoch 20/100\n",
      "13/13 [==============================] - 0s 4ms/step - loss: 0.0204 - mae: 0.0426 - mse: 0.0204 - val_loss: 0.1414 - val_mae: 0.1785 - val_mse: 0.1414\n",
      "Epoch 21/100\n",
      "13/13 [==============================] - 0s 5ms/step - loss: 0.0201 - mae: 0.0422 - mse: 0.0201 - val_loss: 0.1403 - val_mae: 0.1774 - val_mse: 0.1403\n",
      "Epoch 22/100\n",
      "13/13 [==============================] - 0s 4ms/step - loss: 0.0203 - mae: 0.0415 - mse: 0.0203 - val_loss: 0.1398 - val_mae: 0.1768 - val_mse: 0.1398\n",
      "Epoch 23/100\n",
      "13/13 [==============================] - 0s 5ms/step - loss: 0.0200 - mae: 0.0411 - mse: 0.0200 - val_loss: 0.1379 - val_mae: 0.1743 - val_mse: 0.1379\n",
      "Epoch 24/100\n",
      "13/13 [==============================] - 0s 5ms/step - loss: 0.0191 - mae: 0.0389 - mse: 0.0191 - val_loss: 0.1386 - val_mae: 0.1735 - val_mse: 0.1386\n",
      "Epoch 25/100\n",
      "13/13 [==============================] - 0s 5ms/step - loss: 0.0191 - mae: 0.0386 - mse: 0.0191 - val_loss: 0.1414 - val_mae: 0.1767 - val_mse: 0.1414\n",
      "Epoch 26/100\n",
      "13/13 [==============================] - 0s 4ms/step - loss: 0.0196 - mae: 0.0381 - mse: 0.0196 - val_loss: 0.1378 - val_mae: 0.1725 - val_mse: 0.1378\n",
      "Epoch 27/100\n",
      "13/13 [==============================] - 0s 4ms/step - loss: 0.0203 - mae: 0.0394 - mse: 0.0203 - val_loss: 0.1466 - val_mae: 0.1821 - val_mse: 0.1466\n",
      "Epoch 28/100\n",
      "13/13 [==============================] - 0s 4ms/step - loss: 0.0424 - mae: 0.0704 - mse: 0.0424 - val_loss: 0.1102 - val_mae: 0.1438 - val_mse: 0.1102\n",
      "Epoch 29/100\n",
      "13/13 [==============================] - 0s 5ms/step - loss: 0.0409 - mae: 0.0684 - mse: 0.0409 - val_loss: 0.1581 - val_mae: 0.1926 - val_mse: 0.1581\n",
      "Epoch 30/100\n",
      "13/13 [==============================] - 0s 4ms/step - loss: 0.0295 - mae: 0.0531 - mse: 0.0295 - val_loss: 0.1420 - val_mae: 0.1816 - val_mse: 0.1420\n",
      "Epoch 31/100\n",
      "13/13 [==============================] - 0s 5ms/step - loss: 0.0271 - mae: 0.0444 - mse: 0.0271 - val_loss: 0.1486 - val_mae: 0.1869 - val_mse: 0.1486\n",
      "Epoch 32/100\n",
      "13/13 [==============================] - 0s 4ms/step - loss: 0.0232 - mae: 0.0400 - mse: 0.0232 - val_loss: 0.1484 - val_mae: 0.1857 - val_mse: 0.1484\n",
      "Epoch 33/100\n",
      "13/13 [==============================] - 0s 4ms/step - loss: 0.0224 - mae: 0.0362 - mse: 0.0224 - val_loss: 0.1340 - val_mae: 0.1683 - val_mse: 0.1340\n",
      "Epoch 34/100\n",
      "13/13 [==============================] - 0s 4ms/step - loss: 0.0225 - mae: 0.0361 - mse: 0.0225 - val_loss: 0.1338 - val_mae: 0.1677 - val_mse: 0.1338\n",
      "Epoch 35/100\n",
      "13/13 [==============================] - 0s 5ms/step - loss: 0.0219 - mae: 0.0347 - mse: 0.0219 - val_loss: 0.1350 - val_mae: 0.1675 - val_mse: 0.1350\n",
      "Epoch 36/100\n",
      "13/13 [==============================] - 0s 4ms/step - loss: 0.0221 - mae: 0.0343 - mse: 0.0221 - val_loss: 0.1381 - val_mae: 0.1712 - val_mse: 0.1381\n",
      "Epoch 37/100\n",
      "13/13 [==============================] - 0s 5ms/step - loss: 0.0220 - mae: 0.0344 - mse: 0.0220 - val_loss: 0.1392 - val_mae: 0.1719 - val_mse: 0.1392\n",
      "Epoch 38/100\n",
      "13/13 [==============================] - 0s 4ms/step - loss: 0.0218 - mae: 0.0334 - mse: 0.0218 - val_loss: 0.1398 - val_mae: 0.1717 - val_mse: 0.1398\n",
      "Epoch 39/100\n",
      "13/13 [==============================] - 0s 4ms/step - loss: 0.0216 - mae: 0.0332 - mse: 0.0216 - val_loss: 0.1407 - val_mae: 0.1727 - val_mse: 0.1407\n",
      "Epoch 40/100\n",
      "13/13 [==============================] - 0s 5ms/step - loss: 0.0220 - mae: 0.0338 - mse: 0.0220 - val_loss: 0.1400 - val_mae: 0.1710 - val_mse: 0.1400\n",
      "Epoch 41/100\n",
      "13/13 [==============================] - 0s 4ms/step - loss: 0.0215 - mae: 0.0325 - mse: 0.0215 - val_loss: 0.1412 - val_mae: 0.1722 - val_mse: 0.1412\n",
      "Epoch 42/100\n",
      "13/13 [==============================] - 0s 4ms/step - loss: 0.0217 - mae: 0.0324 - mse: 0.0217 - val_loss: 0.1422 - val_mae: 0.1724 - val_mse: 0.1422\n",
      "Epoch 43/100\n",
      "13/13 [==============================] - 0s 4ms/step - loss: 0.0215 - mae: 0.0318 - mse: 0.0215 - val_loss: 0.1423 - val_mae: 0.1724 - val_mse: 0.1423\n",
      "Epoch 44/100\n",
      "13/13 [==============================] - 0s 4ms/step - loss: 0.0215 - mae: 0.0318 - mse: 0.0215 - val_loss: 0.1413 - val_mae: 0.1704 - val_mse: 0.1413\n",
      "Epoch 45/100\n",
      "13/13 [==============================] - 0s 4ms/step - loss: 0.0215 - mae: 0.0315 - mse: 0.0215 - val_loss: 0.1425 - val_mae: 0.1717 - val_mse: 0.1425\n",
      "Epoch 46/100\n",
      "13/13 [==============================] - 0s 4ms/step - loss: 0.0214 - mae: 0.0311 - mse: 0.0214 - val_loss: 0.1428 - val_mae: 0.1716 - val_mse: 0.1428\n",
      "Epoch 47/100\n",
      "13/13 [==============================] - 0s 4ms/step - loss: 0.0214 - mae: 0.0309 - mse: 0.0214 - val_loss: 0.1435 - val_mae: 0.1723 - val_mse: 0.1435\n",
      "Epoch 48/100\n",
      "13/13 [==============================] - 0s 4ms/step - loss: 0.0214 - mae: 0.0311 - mse: 0.0214 - val_loss: 0.1434 - val_mae: 0.1717 - val_mse: 0.1434\n",
      "Epoch 49/100\n",
      "13/13 [==============================] - 0s 5ms/step - loss: 0.0213 - mae: 0.0307 - mse: 0.0213 - val_loss: 0.1438 - val_mae: 0.1718 - val_mse: 0.1438\n",
      "Epoch 50/100\n",
      "13/13 [==============================] - 0s 4ms/step - loss: 0.0213 - mae: 0.0307 - mse: 0.0213 - val_loss: 0.1442 - val_mae: 0.1717 - val_mse: 0.1442\n",
      "Epoch 51/100\n"
     ]
    },
    {
     "name": "stdout",
     "output_type": "stream",
     "text": [
      "13/13 [==============================] - 0s 4ms/step - loss: 0.0213 - mae: 0.0304 - mse: 0.0213 - val_loss: 0.1447 - val_mae: 0.1718 - val_mse: 0.1447\n",
      "Epoch 52/100\n",
      "13/13 [==============================] - 0s 4ms/step - loss: 0.0213 - mae: 0.0303 - mse: 0.0213 - val_loss: 0.1453 - val_mae: 0.1722 - val_mse: 0.1453\n",
      "Epoch 53/100\n",
      "13/13 [==============================] - 0s 4ms/step - loss: 0.0212 - mae: 0.0302 - mse: 0.0212 - val_loss: 0.1457 - val_mae: 0.1724 - val_mse: 0.1457\n",
      "Epoch 54/100\n",
      "13/13 [==============================] - 0s 5ms/step - loss: 0.0212 - mae: 0.0301 - mse: 0.0212 - val_loss: 0.1461 - val_mae: 0.1723 - val_mse: 0.1461\n",
      "Epoch 55/100\n",
      "13/13 [==============================] - 0s 4ms/step - loss: 0.0211 - mae: 0.0298 - mse: 0.0211 - val_loss: 0.1467 - val_mae: 0.1727 - val_mse: 0.1467\n",
      "Epoch 56/100\n",
      "13/13 [==============================] - 0s 4ms/step - loss: 0.0211 - mae: 0.0300 - mse: 0.0211 - val_loss: 0.1471 - val_mae: 0.1725 - val_mse: 0.1471\n",
      "Epoch 57/100\n",
      "13/13 [==============================] - 0s 4ms/step - loss: 0.0210 - mae: 0.0297 - mse: 0.0210 - val_loss: 0.1483 - val_mae: 0.1734 - val_mse: 0.1483\n",
      "Epoch 58/100\n",
      "13/13 [==============================] - 0s 5ms/step - loss: 0.0209 - mae: 0.0295 - mse: 0.0209 - val_loss: 0.1487 - val_mae: 0.1736 - val_mse: 0.1487\n",
      "Epoch 59/100\n",
      "13/13 [==============================] - 0s 4ms/step - loss: 0.0208 - mae: 0.0301 - mse: 0.0208 - val_loss: 0.1499 - val_mae: 0.1746 - val_mse: 0.1499\n",
      "Epoch 60/100\n",
      "13/13 [==============================] - 0s 4ms/step - loss: 0.0205 - mae: 0.0313 - mse: 0.0205 - val_loss: 0.1499 - val_mae: 0.1759 - val_mse: 0.1499\n",
      "Epoch 61/100\n",
      "13/13 [==============================] - 0s 4ms/step - loss: 0.0188 - mae: 0.0303 - mse: 0.0188 - val_loss: 0.1491 - val_mae: 0.1754 - val_mse: 0.1491\n",
      "Epoch 62/100\n",
      "13/13 [==============================] - 0s 4ms/step - loss: 0.0188 - mae: 0.0330 - mse: 0.0188 - val_loss: 0.1521 - val_mae: 0.1776 - val_mse: 0.1521\n",
      "Epoch 63/100\n",
      "13/13 [==============================] - 0s 4ms/step - loss: 0.0194 - mae: 0.0307 - mse: 0.0194 - val_loss: 0.1478 - val_mae: 0.1728 - val_mse: 0.1478\n",
      "Epoch 64/100\n",
      "13/13 [==============================] - 0s 4ms/step - loss: 0.0172 - mae: 0.0278 - mse: 0.0172 - val_loss: 0.1444 - val_mae: 0.1703 - val_mse: 0.1444\n",
      "Epoch 65/100\n",
      "13/13 [==============================] - 0s 5ms/step - loss: 0.0171 - mae: 0.0279 - mse: 0.0171 - val_loss: 0.1469 - val_mae: 0.1731 - val_mse: 0.1469\n",
      "Epoch 66/100\n",
      "13/13 [==============================] - 0s 5ms/step - loss: 0.0172 - mae: 0.0284 - mse: 0.0172 - val_loss: 0.1488 - val_mae: 0.1745 - val_mse: 0.1488\n",
      "Epoch 67/100\n",
      "13/13 [==============================] - 0s 5ms/step - loss: 0.0170 - mae: 0.0269 - mse: 0.0170 - val_loss: 0.1444 - val_mae: 0.1706 - val_mse: 0.1444\n",
      "Epoch 68/100\n",
      "13/13 [==============================] - 0s 4ms/step - loss: 0.0177 - mae: 0.0284 - mse: 0.0177 - val_loss: 0.1525 - val_mae: 0.1779 - val_mse: 0.1525\n",
      "Epoch 69/100\n",
      "13/13 [==============================] - 0s 5ms/step - loss: 0.0200 - mae: 0.0317 - mse: 0.0200 - val_loss: 0.1388 - val_mae: 0.1643 - val_mse: 0.1388\n",
      "Epoch 70/100\n",
      "13/13 [==============================] - 0s 4ms/step - loss: 0.0199 - mae: 0.0331 - mse: 0.0199 - val_loss: 0.1582 - val_mae: 0.1853 - val_mse: 0.1582\n",
      "Epoch 71/100\n",
      "13/13 [==============================] - 0s 4ms/step - loss: 0.0208 - mae: 0.0328 - mse: 0.0208 - val_loss: 0.1376 - val_mae: 0.1640 - val_mse: 0.1376\n",
      "Epoch 72/100\n",
      "13/13 [==============================] - 0s 5ms/step - loss: 0.0187 - mae: 0.0295 - mse: 0.0187 - val_loss: 0.1397 - val_mae: 0.1673 - val_mse: 0.1397\n",
      "Epoch 73/100\n",
      "13/13 [==============================] - 0s 5ms/step - loss: 0.0166 - mae: 0.0267 - mse: 0.0166 - val_loss: 0.1523 - val_mae: 0.1787 - val_mse: 0.1523\n",
      "Epoch 74/100\n",
      "13/13 [==============================] - 0s 4ms/step - loss: 0.0193 - mae: 0.0310 - mse: 0.0193 - val_loss: 0.1331 - val_mae: 0.1604 - val_mse: 0.1331\n",
      "Epoch 75/100\n",
      "13/13 [==============================] - 0s 4ms/step - loss: 0.0164 - mae: 0.0251 - mse: 0.0164 - val_loss: 0.1364 - val_mae: 0.1610 - val_mse: 0.1364\n",
      "Epoch 76/100\n",
      "13/13 [==============================] - 0s 4ms/step - loss: 0.0177 - mae: 0.0273 - mse: 0.0177 - val_loss: 0.1326 - val_mae: 0.1598 - val_mse: 0.1326\n",
      "Epoch 77/100\n",
      "13/13 [==============================] - 0s 8ms/step - loss: 0.0166 - mae: 0.0254 - mse: 0.0166 - val_loss: 0.1437 - val_mae: 0.1706 - val_mse: 0.1437\n",
      "Epoch 78/100\n",
      "13/13 [==============================] - 0s 14ms/step - loss: 0.0166 - mae: 0.0252 - mse: 0.0166 - val_loss: 0.1379 - val_mae: 0.1655 - val_mse: 0.1379\n",
      "Epoch 79/100\n",
      "13/13 [==============================] - 0s 7ms/step - loss: 0.0164 - mae: 0.0243 - mse: 0.0164 - val_loss: 0.1449 - val_mae: 0.1712 - val_mse: 0.1449\n",
      "Epoch 80/100\n",
      "13/13 [==============================] - 0s 10ms/step - loss: 0.0168 - mae: 0.0249 - mse: 0.0168 - val_loss: 0.1391 - val_mae: 0.1662 - val_mse: 0.1391\n",
      "Epoch 81/100\n",
      "13/13 [==============================] - 0s 7ms/step - loss: 0.0174 - mae: 0.0258 - mse: 0.0174 - val_loss: 0.1376 - val_mae: 0.1653 - val_mse: 0.1376\n",
      "Epoch 82/100\n",
      "13/13 [==============================] - 0s 6ms/step - loss: 0.0160 - mae: 0.0228 - mse: 0.0160 - val_loss: 0.1460 - val_mae: 0.1721 - val_mse: 0.1460\n",
      "Epoch 83/100\n",
      "13/13 [==============================] - 0s 6ms/step - loss: 0.0174 - mae: 0.0247 - mse: 0.0174 - val_loss: 0.1329 - val_mae: 0.1608 - val_mse: 0.1329\n",
      "Epoch 84/100\n",
      "13/13 [==============================] - 0s 5ms/step - loss: 0.0184 - mae: 0.0282 - mse: 0.0184 - val_loss: 0.1481 - val_mae: 0.1745 - val_mse: 0.1481\n",
      "Epoch 85/100\n",
      "13/13 [==============================] - 0s 5ms/step - loss: 0.0166 - mae: 0.0246 - mse: 0.0166 - val_loss: 0.1348 - val_mae: 0.1620 - val_mse: 0.1348\n",
      "Epoch 86/100\n",
      "13/13 [==============================] - 0s 4ms/step - loss: 0.0167 - mae: 0.0248 - mse: 0.0167 - val_loss: 0.1408 - val_mae: 0.1676 - val_mse: 0.1408\n",
      "Epoch 87/100\n",
      "13/13 [==============================] - 0s 5ms/step - loss: 0.0163 - mae: 0.0238 - mse: 0.0163 - val_loss: 0.1399 - val_mae: 0.1670 - val_mse: 0.1399\n",
      "Epoch 88/100\n",
      "13/13 [==============================] - 0s 4ms/step - loss: 0.0161 - mae: 0.0233 - mse: 0.0161 - val_loss: 0.1393 - val_mae: 0.1665 - val_mse: 0.1393\n",
      "Epoch 89/100\n",
      "13/13 [==============================] - 0s 4ms/step - loss: 0.0161 - mae: 0.0233 - mse: 0.0161 - val_loss: 0.1399 - val_mae: 0.1669 - val_mse: 0.1399\n",
      "Epoch 90/100\n",
      "13/13 [==============================] - 0s 4ms/step - loss: 0.0162 - mae: 0.0231 - mse: 0.0162 - val_loss: 0.1384 - val_mae: 0.1654 - val_mse: 0.1384\n",
      "Epoch 91/100\n",
      "13/13 [==============================] - 0s 4ms/step - loss: 0.0167 - mae: 0.0243 - mse: 0.0167 - val_loss: 0.1364 - val_mae: 0.1642 - val_mse: 0.1364\n",
      "Epoch 92/100\n",
      "13/13 [==============================] - 0s 4ms/step - loss: 0.0159 - mae: 0.0223 - mse: 0.0159 - val_loss: 0.1435 - val_mae: 0.1700 - val_mse: 0.1435\n",
      "Epoch 93/100\n",
      "13/13 [==============================] - 0s 4ms/step - loss: 0.0163 - mae: 0.0227 - mse: 0.0163 - val_loss: 0.1306 - val_mae: 0.1581 - val_mse: 0.1306\n",
      "Epoch 94/100\n",
      "13/13 [==============================] - 0s 4ms/step - loss: 0.0167 - mae: 0.0244 - mse: 0.0167 - val_loss: 0.1387 - val_mae: 0.1658 - val_mse: 0.1387\n",
      "Epoch 95/100\n",
      "13/13 [==============================] - 0s 4ms/step - loss: 0.0166 - mae: 0.0234 - mse: 0.0166 - val_loss: 0.1368 - val_mae: 0.1644 - val_mse: 0.1368\n",
      "Epoch 96/100\n",
      "13/13 [==============================] - 0s 7ms/step - loss: 0.0163 - mae: 0.0231 - mse: 0.0163 - val_loss: 0.1386 - val_mae: 0.1661 - val_mse: 0.1386\n",
      "Epoch 97/100\n",
      "13/13 [==============================] - 0s 5ms/step - loss: 0.0160 - mae: 0.0224 - mse: 0.0160 - val_loss: 0.1384 - val_mae: 0.1657 - val_mse: 0.1384\n",
      "Epoch 98/100\n",
      "13/13 [==============================] - 0s 5ms/step - loss: 0.0159 - mae: 0.0221 - mse: 0.0159 - val_loss: 0.1383 - val_mae: 0.1657 - val_mse: 0.1383\n",
      "Epoch 99/100\n",
      "13/13 [==============================] - 0s 4ms/step - loss: 0.0159 - mae: 0.0219 - mse: 0.0159 - val_loss: 0.1376 - val_mae: 0.1649 - val_mse: 0.1376\n",
      "Epoch 100/100\n",
      "13/13 [==============================] - 0s 5ms/step - loss: 0.0160 - mae: 0.0221 - mse: 0.0160 - val_loss: 0.1374 - val_mae: 0.1648 - val_mse: 0.1374\n"
     ]
    }
   ],
   "source": [
    "epochs_number = 100\n",
    "history = model.fit(x_train, y_train, validation_split=0.2, epochs=epochs_number, batch_size=16, verbose=1, callbacks=[tensorboard_callback])"
   ]
  },
  {
   "cell_type": "markdown",
   "metadata": {},
   "source": [
    "## Evaluate the model and results"
   ]
  },
  {
   "cell_type": "markdown",
   "metadata": {},
   "source": [
    "evaluate model loss with epochs on train and test"
   ]
  },
  {
   "cell_type": "code",
   "execution_count": null,
   "metadata": {},
   "outputs": [],
   "source": []
  },
  {
   "cell_type": "markdown",
   "metadata": {},
   "source": [
    "Prediction vs original labels"
   ]
  },
  {
   "cell_type": "code",
   "execution_count": null,
   "metadata": {},
   "outputs": [],
   "source": []
  },
  {
   "cell_type": "markdown",
   "metadata": {},
   "source": [
    "### More complicated model"
   ]
  },
  {
   "cell_type": "markdown",
   "metadata": {},
   "source": [
    "Recreate the input using 2 dim on output"
   ]
  },
  {
   "cell_type": "code",
   "execution_count": null,
   "metadata": {},
   "outputs": [],
   "source": []
  },
  {
   "cell_type": "code",
   "execution_count": 93,
   "metadata": {},
   "outputs": [
    {
     "name": "stdout",
     "output_type": "stream",
     "text": [
      "(60000,)\n",
      "(60000, 28, 28)\n"
     ]
    }
   ],
   "source": [
    "print(y_train.shape)\n",
    "print(x_train.shape)"
   ]
  },
  {
   "cell_type": "markdown",
   "metadata": {},
   "source": [
    "Define the new model and compile"
   ]
  },
  {
   "cell_type": "code",
   "execution_count": null,
   "metadata": {},
   "outputs": [],
   "source": []
  },
  {
   "cell_type": "markdown",
   "metadata": {},
   "source": [
    "Fit the model"
   ]
  },
  {
   "cell_type": "code",
   "execution_count": 2,
   "metadata": {},
   "outputs": [],
   "source": [
    "# fit the model to the training data\n",
    "n_epochs = 200\n",
    "n_batch = 10"
   ]
  },
  {
   "cell_type": "markdown",
   "metadata": {},
   "source": [
    "Print model accuracy vs val accuracy"
   ]
  },
  {
   "cell_type": "code",
   "execution_count": null,
   "metadata": {},
   "outputs": [],
   "source": []
  },
  {
   "cell_type": "markdown",
   "metadata": {},
   "source": [
    "Print model loss vs val loss"
   ]
  },
  {
   "cell_type": "code",
   "execution_count": null,
   "metadata": {},
   "outputs": [],
   "source": []
  },
  {
   "cell_type": "markdown",
   "metadata": {},
   "source": [
    "# MNIST Example"
   ]
  },
  {
   "cell_type": "markdown",
   "metadata": {},
   "source": [
    "https://keras.io/api/datasets/mnist/"
   ]
  },
  {
   "cell_type": "markdown",
   "metadata": {},
   "source": [
    "Import the dataset"
   ]
  },
  {
   "cell_type": "code",
   "execution_count": 52,
   "metadata": {},
   "outputs": [],
   "source": []
  },
  {
   "cell_type": "markdown",
   "metadata": {},
   "source": [
    "Create the model"
   ]
  },
  {
   "cell_type": "code",
   "execution_count": 56,
   "metadata": {},
   "outputs": [],
   "source": []
  },
  {
   "cell_type": "markdown",
   "metadata": {},
   "source": [
    "Create a second more complicated model"
   ]
  },
  {
   "cell_type": "markdown",
   "metadata": {},
   "source": [
    "In this case we use dropout to avoid overfitting: https://machinelearningmastery.com/dropout-for-regularizing-deep-neural-networks/"
   ]
  },
  {
   "cell_type": "code",
   "execution_count": 53,
   "metadata": {},
   "outputs": [],
   "source": []
  },
  {
   "cell_type": "markdown",
   "metadata": {},
   "source": [
    "Tensorboard configuration"
   ]
  },
  {
   "cell_type": "code",
   "execution_count": 57,
   "metadata": {},
   "outputs": [],
   "source": []
  },
  {
   "cell_type": "markdown",
   "metadata": {},
   "source": [
    "Train the model (and compile)"
   ]
  },
  {
   "cell_type": "code",
   "execution_count": 75,
   "metadata": {},
   "outputs": [
    {
     "name": "stdout",
     "output_type": "stream",
     "text": [
      "Epoch 1/5\n",
      "1875/1875 [==============================] - 3s 1ms/step - loss: 0.2818 - accuracy: 0.9178 - categorical_accuracy: 0.1002 - val_loss: 0.1734 - val_accuracy: 0.9466 - val_categorical_accuracy: 0.1009\n",
      "Epoch 2/5\n",
      "1875/1875 [==============================] - 3s 1ms/step - loss: 0.1250 - accuracy: 0.9613 - categorical_accuracy: 0.0992 - val_loss: 0.1055 - val_accuracy: 0.9652 - val_categorical_accuracy: 0.1001\n",
      "Epoch 3/5\n",
      "1875/1875 [==============================] - 2s 1ms/step - loss: 0.0922 - accuracy: 0.9710 - categorical_accuracy: 0.0991 - val_loss: 0.1061 - val_accuracy: 0.9683 - val_categorical_accuracy: 0.0994\n",
      "Epoch 4/5\n",
      "1875/1875 [==============================] - 2s 1ms/step - loss: 0.0717 - accuracy: 0.9779 - categorical_accuracy: 0.0990 - val_loss: 0.0915 - val_accuracy: 0.9720 - val_categorical_accuracy: 0.0973\n",
      "Epoch 5/5\n",
      "1875/1875 [==============================] - 2s 1ms/step - loss: 0.0586 - accuracy: 0.9816 - categorical_accuracy: 0.0987 - val_loss: 0.0809 - val_accuracy: 0.9760 - val_categorical_accuracy: 0.0967\n"
     ]
    }
   ],
   "source": []
  },
  {
   "cell_type": "markdown",
   "metadata": {},
   "source": [
    "Compare the results (val loss)"
   ]
  },
  {
   "cell_type": "code",
   "execution_count": null,
   "metadata": {},
   "outputs": [],
   "source": []
  },
  {
   "cell_type": "code",
   "execution_count": null,
   "metadata": {},
   "outputs": [],
   "source": []
  }
 ],
 "metadata": {
  "kernelspec": {
   "display_name": "Python 3",
   "language": "python",
   "name": "python3"
  },
  "language_info": {
   "codemirror_mode": {
    "name": "ipython",
    "version": 3
   },
   "file_extension": ".py",
   "mimetype": "text/x-python",
   "name": "python",
   "nbconvert_exporter": "python",
   "pygments_lexer": "ipython3",
   "version": "3.6.9"
  },
  "latex_envs": {
   "LaTeX_envs_menu_present": true,
   "autoclose": false,
   "autocomplete": true,
   "bibliofile": "biblio.bib",
   "cite_by": "apalike",
   "current_citInitial": 1,
   "eqLabelWithNumbers": true,
   "eqNumInitial": 1,
   "hotkeys": {
    "equation": "Ctrl-E",
    "itemize": "Ctrl-I"
   },
   "labels_anchors": false,
   "latex_user_defs": false,
   "report_style_numbering": false,
   "user_envs_cfg": false
  },
  "nbTranslate": {
   "displayLangs": [
    "it",
    "en"
   ],
   "hotkey": "alt-t",
   "langInMainMenu": true,
   "sourceLang": "en",
   "targetLang": "it",
   "useGoogleTranslate": true
  }
 },
 "nbformat": 4,
 "nbformat_minor": 4
}
