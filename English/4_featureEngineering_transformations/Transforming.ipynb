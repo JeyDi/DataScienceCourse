{
 "cells": [
  {
   "cell_type": "markdown",
   "metadata": {},
   "source": [
    "# Feature Engineering and Transformations"
   ]
  },
  {
   "cell_type": "markdown",
   "metadata": {},
   "source": [
    "This notebook will present the following topics:\n",
    "- [Categorical Data](#categorical)<a href='#categorical'></a>\n",
    "- [Discretize Data](#discretization)<a href='#discretization'></a>\n",
    "- [Numerical Data](#numerical)<a href='#numerical'></a>\n",
    "- [Custom Transformations](#custom)<a href='#custom'></a>\n",
    "- [Transformations](#transforming)<a href='#transforming'></a>\n",
    "- [Linearity and Non-linearity](#linearity)<a href='#linearity'></a>\n",
    "- [Principal Component Analysis - PCA](#pca)<a href='#pca'></a>\n",
    "- [Isomap](#isomap)<a href='#isomap'></a>"
   ]
  },
  {
   "cell_type": "markdown",
   "metadata": {},
   "source": [
    "After the data organization and manipulation phase and after the exploratory analysis phase, it is important to manipulate the data correctly in order to transform and adapt it for model creation.  \n",
    "\n",
    "This process is also called Feature Engineering and is a fundamental aspect in the Machine Learning world."
   ]
  },
  {
   "cell_type": "markdown",
   "metadata": {},
   "source": [
    "This activity is fundamental and important because some models cannot reason for example using token sequences or strings, but only with numbers. \\\n",
    "In addition, for some types of data (categorical, images, but also numerical) it is essential to apply transformations to improve the effectiveness of a model in generating a representation."
   ]
  },
  {
   "cell_type": "markdown",
   "metadata": {},
   "source": [
    "All of the examples viewed so far assume that you have numerical data in a tidy or structure format.  \n",
    "In the real world, data rarely comes in such a form.  \n",
    "With this in mind, one of the more important steps in using machine learning in practice is **feature engineering** that is, taking whatever information you have about your problem and turning it into numbers that you can use to build your feature matrix for your model.\n",
    "\n",
    "In this notebook we will cover a few common examples of feature engineering tasks: features for representing **categorical data**, features for representing text, and features for representing images.  "
   ]
  },
  {
   "cell_type": "markdown",
   "metadata": {},
   "source": [
    "This notebook is based on the books:\n",
    "- Python Data Science Handbook\n",
    "- Hands-on Machine Learning with Scikit-Learn, Keras & Tensorflow\n",
    "\n",
    "And the official documentation of Sklearn that we suggest to follow and see:\n",
    "- https://scikit-learn.org/stable/data_transforms.html\n"
   ]
  },
  {
   "cell_type": "code",
   "execution_count": 2,
   "metadata": {},
   "outputs": [],
   "source": [
    "import pandas as pd\n",
    "import numpy as np"
   ]
  },
  {
   "cell_type": "markdown",
   "metadata": {},
   "source": [
    "<a id='categorical'></a>\n",
    "## Categorical Data"
   ]
  },
  {
   "cell_type": "markdown",
   "metadata": {},
   "source": [
    "Let's start by defining an example dataset"
   ]
  },
  {
   "cell_type": "code",
   "execution_count": 3,
   "metadata": {},
   "outputs": [
    {
     "data": {
      "text/html": [
       "<div>\n",
       "<style scoped>\n",
       "    .dataframe tbody tr th:only-of-type {\n",
       "        vertical-align: middle;\n",
       "    }\n",
       "\n",
       "    .dataframe tbody tr th {\n",
       "        vertical-align: top;\n",
       "    }\n",
       "\n",
       "    .dataframe thead th {\n",
       "        text-align: right;\n",
       "    }\n",
       "</style>\n",
       "<table border=\"1\" class=\"dataframe\">\n",
       "  <thead>\n",
       "    <tr style=\"text-align: right;\">\n",
       "      <th></th>\n",
       "      <th>city</th>\n",
       "      <th>temperature</th>\n",
       "    </tr>\n",
       "  </thead>\n",
       "  <tbody>\n",
       "    <tr>\n",
       "      <th>0</th>\n",
       "      <td>Dubai</td>\n",
       "      <td>33.0</td>\n",
       "    </tr>\n",
       "    <tr>\n",
       "      <th>1</th>\n",
       "      <td>London</td>\n",
       "      <td>12.0</td>\n",
       "    </tr>\n",
       "    <tr>\n",
       "      <th>2</th>\n",
       "      <td>San Francisco</td>\n",
       "      <td>18.0</td>\n",
       "    </tr>\n",
       "    <tr>\n",
       "      <th>3</th>\n",
       "      <td>Milano</td>\n",
       "      <td>18.0</td>\n",
       "    </tr>\n",
       "    <tr>\n",
       "      <th>4</th>\n",
       "      <td>Roma</td>\n",
       "      <td>20.0</td>\n",
       "    </tr>\n",
       "    <tr>\n",
       "      <th>5</th>\n",
       "      <td>Parigi</td>\n",
       "      <td>16.0</td>\n",
       "    </tr>\n",
       "    <tr>\n",
       "      <th>6</th>\n",
       "      <td>Biella</td>\n",
       "      <td>13.0</td>\n",
       "    </tr>\n",
       "  </tbody>\n",
       "</table>\n",
       "</div>"
      ],
      "text/plain": [
       "            city  temperature\n",
       "0          Dubai         33.0\n",
       "1         London         12.0\n",
       "2  San Francisco         18.0\n",
       "3         Milano         18.0\n",
       "4           Roma         20.0\n",
       "5         Parigi         16.0\n",
       "6         Biella         13.0"
      ]
     },
     "execution_count": 3,
     "metadata": {},
     "output_type": "execute_result"
    }
   ],
   "source": [
    "measurements = [\n",
    "    {'city': 'Dubai', 'temperature': 33.},\n",
    "    {'city': 'London', 'temperature': 12.},\n",
    "    {'city': 'San Francisco', 'temperature': 18.},\n",
    "    {'city': 'Milano', 'temperature': 18.},\n",
    "    {'city': 'Roma', 'temperature': 20.},\n",
    "    {'city': 'Parigi', 'temperature': 16.},\n",
    "    {'city': 'Biella', 'temperature': 13},\n",
    "    ]\n",
    "\n",
    "df = pd.DataFrame(measurements)\n",
    "\n",
    "df"
   ]
  },
  {
   "cell_type": "markdown",
   "metadata": {},
   "source": [
    "you can with Pandas select only the categorical columns within a dataset \\\n",
    "Warning: in pandas objects can also be categories (e.g. strings)"
   ]
  },
  {
   "cell_type": "code",
   "execution_count": 4,
   "metadata": {},
   "outputs": [
    {
     "data": {
      "text/html": [
       "<div>\n",
       "<style scoped>\n",
       "    .dataframe tbody tr th:only-of-type {\n",
       "        vertical-align: middle;\n",
       "    }\n",
       "\n",
       "    .dataframe tbody tr th {\n",
       "        vertical-align: top;\n",
       "    }\n",
       "\n",
       "    .dataframe thead th {\n",
       "        text-align: right;\n",
       "    }\n",
       "</style>\n",
       "<table border=\"1\" class=\"dataframe\">\n",
       "  <thead>\n",
       "    <tr style=\"text-align: right;\">\n",
       "      <th></th>\n",
       "      <th>city</th>\n",
       "    </tr>\n",
       "  </thead>\n",
       "  <tbody>\n",
       "    <tr>\n",
       "      <th>0</th>\n",
       "      <td>Dubai</td>\n",
       "    </tr>\n",
       "    <tr>\n",
       "      <th>1</th>\n",
       "      <td>London</td>\n",
       "    </tr>\n",
       "    <tr>\n",
       "      <th>2</th>\n",
       "      <td>San Francisco</td>\n",
       "    </tr>\n",
       "    <tr>\n",
       "      <th>3</th>\n",
       "      <td>Milano</td>\n",
       "    </tr>\n",
       "    <tr>\n",
       "      <th>4</th>\n",
       "      <td>Roma</td>\n",
       "    </tr>\n",
       "    <tr>\n",
       "      <th>5</th>\n",
       "      <td>Parigi</td>\n",
       "    </tr>\n",
       "    <tr>\n",
       "      <th>6</th>\n",
       "      <td>Biella</td>\n",
       "    </tr>\n",
       "  </tbody>\n",
       "</table>\n",
       "</div>"
      ],
      "text/plain": [
       "            city\n",
       "0          Dubai\n",
       "1         London\n",
       "2  San Francisco\n",
       "3         Milano\n",
       "4           Roma\n",
       "5         Parigi\n",
       "6         Biella"
      ]
     },
     "execution_count": 4,
     "metadata": {},
     "output_type": "execute_result"
    }
   ],
   "source": [
    "result = df.select_dtypes(include=['object','category'])\n",
    "result"
   ]
  },
  {
   "cell_type": "markdown",
   "metadata": {},
   "source": [
    "You can also use this function to filter other types of data: bool, int, ..."
   ]
  },
  {
   "cell_type": "markdown",
   "metadata": {},
   "source": [
    "### DictVectorizer"
   ]
  },
  {
   "cell_type": "markdown",
   "metadata": {},
   "source": [
    "Imagine having to explore a temperature dataset, in this case you will surely have categorical features that refer for example to the city where the temperature has been measured or to the type of sensor etc. ...  \n",
    "\n",
    "One of the simplest transformations in this case would be to create a handmade dataset of possible transformations to apply within our dataset.  \n",
    "\n",
    "This operation is very convenient if you work with small categories (i.e. formed by few elements).\n",
    "\n",
    "As in this case"
   ]
  },
  {
   "cell_type": "markdown",
   "metadata": {},
   "source": [
    "We can then apply a transformation called: DictVectorizer"
   ]
  },
  {
   "cell_type": "code",
   "execution_count": 5,
   "metadata": {},
   "outputs": [],
   "source": [
    "#Retrasform the dataframe to dictionary\n",
    "data = df.T.to_dict().values()"
   ]
  },
  {
   "cell_type": "code",
   "execution_count": 6,
   "metadata": {},
   "outputs": [
    {
     "data": {
      "text/plain": [
       "dict_values([{'city': 'Dubai', 'temperature': 33.0}, {'city': 'London', 'temperature': 12.0}, {'city': 'San Francisco', 'temperature': 18.0}, {'city': 'Milano', 'temperature': 18.0}, {'city': 'Roma', 'temperature': 20.0}, {'city': 'Parigi', 'temperature': 16.0}, {'city': 'Biella', 'temperature': 13.0}])"
      ]
     },
     "execution_count": 6,
     "metadata": {},
     "output_type": "execute_result"
    }
   ],
   "source": [
    "data"
   ]
  },
  {
   "cell_type": "code",
   "execution_count": 7,
   "metadata": {},
   "outputs": [
    {
     "name": "stdout",
     "output_type": "stream",
     "text": [
      "Shape: (7, 8)\n",
      "[[ 0.  1.  0.  0.  0.  0.  0. 33.]\n",
      " [ 0.  0.  1.  0.  0.  0.  0. 12.]\n",
      " [ 0.  0.  0.  0.  0.  0.  1. 18.]\n",
      " [ 0.  0.  0.  1.  0.  0.  0. 18.]\n",
      " [ 0.  0.  0.  0.  0.  1.  0. 20.]\n",
      " [ 0.  0.  0.  0.  1.  0.  0. 16.]\n",
      " [ 1.  0.  0.  0.  0.  0.  0. 13.]]\n"
     ]
    }
   ],
   "source": [
    "from sklearn.feature_extraction import DictVectorizer\n",
    "vec = DictVectorizer()\n",
    "\n",
    "#Warning, you cannot use this with pandas df\n",
    "result = vec.fit_transform(data).toarray()\n",
    "print(f\"Shape: {result.shape}\")\n",
    "print(result)\n"
   ]
  },
  {
   "cell_type": "code",
   "execution_count": 38,
   "metadata": {},
   "outputs": [
    {
     "data": {
      "text/plain": [
       "['city=Biella',\n",
       " 'city=Dubai',\n",
       " 'city=London',\n",
       " 'city=Milano',\n",
       " 'city=Parigi',\n",
       " 'city=Roma',\n",
       " 'city=San Francisco',\n",
       " 'temperature']"
      ]
     },
     "execution_count": 38,
     "metadata": {},
     "output_type": "execute_result"
    }
   ],
   "source": [
    "vec.get_feature_names()"
   ]
  },
  {
   "cell_type": "markdown",
   "metadata": {},
   "source": [
    "Be careful though, using this technique you create a sublist for each feature, so as the number of available features increases, the dataset grows disproportionately.  \n",
    "To avoid creating a new line for each categorical feature, you can use a technique called **one-hot encoding**.  "
   ]
  },
  {
   "cell_type": "markdown",
   "metadata": {},
   "source": [
    "Another problem in these situations is that you create columns (or rows) that are very scattered among them, to avoid the emergence of a large sparsity of data and columns you can certainly use other techniques, or, using these functions, set parameters that help us to reduce the size of the output"
   ]
  },
  {
   "cell_type": "code",
   "execution_count": 8,
   "metadata": {},
   "outputs": [],
   "source": [
    "#Retrasform the dataframe to dictionary\n",
    "data = df.T.to_dict().values()"
   ]
  },
  {
   "cell_type": "code",
   "execution_count": 9,
   "metadata": {},
   "outputs": [
    {
     "name": "stdout",
     "output_type": "stream",
     "text": [
      "Shape: (7, 8)\n",
      "  (0, 1)\t1\n",
      "  (0, 7)\t33\n",
      "  (1, 2)\t1\n",
      "  (1, 7)\t12\n",
      "  (2, 6)\t1\n",
      "  (2, 7)\t18\n",
      "  (3, 3)\t1\n",
      "  (3, 7)\t18\n",
      "  (4, 5)\t1\n",
      "  (4, 7)\t20\n",
      "  (5, 4)\t1\n",
      "  (5, 7)\t16\n",
      "  (6, 0)\t1\n",
      "  (6, 7)\t13\n"
     ]
    }
   ],
   "source": [
    "from sklearn.feature_extraction import DictVectorizer\n",
    "vec = DictVectorizer(sparse=True, dtype=int)\n",
    "\n",
    "#Warning, you cannot use this with pandas df\n",
    "result_normal = vec.fit_transform(data)\n",
    "print(f\"Shape: {result_normal.shape}\")\n",
    "print(result_normal)\n"
   ]
  },
  {
   "cell_type": "markdown",
   "metadata": {},
   "source": [
    "The size doesn't actually change, but computationally it is a numpy array, so much faster to compute and use."
   ]
  },
  {
   "cell_type": "markdown",
   "metadata": {},
   "source": [
    "### Ordinal Encoder"
   ]
  },
  {
   "cell_type": "markdown",
   "metadata": {},
   "source": [
    "Another way to transform categorical features that is always very intuitive is to transform them as if they were an ordered list of possibilities that can be expressed in the form of an integer. \\\n",
    "Let's take an example:"
   ]
  },
  {
   "cell_type": "code",
   "execution_count": 10,
   "metadata": {},
   "outputs": [
    {
     "data": {
      "text/plain": [
       "array(['Dubai', 'London', 'San Francisco', 'Milano', 'Roma', 'Parigi',\n",
       "       'Biella'], dtype='<U13')"
      ]
     },
     "execution_count": 10,
     "metadata": {},
     "output_type": "execute_result"
    }
   ],
   "source": [
    "from sklearn import preprocessing\n",
    "enc = preprocessing.OrdinalEncoder()\n",
    "\n",
    "\n",
    "#Retrasform the dataframe to list\n",
    "cities = df.city.T.to_dict().values()\n",
    "\n",
    "cities_list = np.array(list(cities))\n",
    "\n",
    "cities_list"
   ]
  },
  {
   "cell_type": "markdown",
   "metadata": {},
   "source": [
    "WARNING: Sklearn works a lot with numpy arrays, so it is recommended to use this type of representation frequently, instead of using normal python lists or dictionaries. It is also often not compatible with Pandas. So always try to understand what data you have in input and what you want to transform.\n",
    "\n",
    "For more information read here: \\\n",
    "https://www.quora.com/What-is-the-relationship-among-NumPy-SciPy-Pandas-and-Scikit-learn-and-when-should-I-use-each-one-of-them"
   ]
  },
  {
   "cell_type": "code",
   "execution_count": 11,
   "metadata": {},
   "outputs": [
    {
     "data": {
      "text/plain": [
       "OrdinalEncoder(categories='auto', dtype=<class 'numpy.float64'>)"
      ]
     },
     "execution_count": 11,
     "metadata": {},
     "output_type": "execute_result"
    }
   ],
   "source": [
    "enc.fit(cities_list.reshape(-1,1))"
   ]
  },
  {
   "cell_type": "code",
   "execution_count": 99,
   "metadata": {},
   "outputs": [
    {
     "data": {
      "text/plain": [
       "array([[1.],\n",
       "       [5.]])"
      ]
     },
     "execution_count": 99,
     "metadata": {},
     "output_type": "execute_result"
    }
   ],
   "source": [
    "enc.transform([['Dubai'],['Roma']])"
   ]
  },
  {
   "cell_type": "markdown",
   "metadata": {},
   "source": [
    "But watch out!!!! If I try a city that doesn't exist in my series, it won't work. \\\n",
    "As well as the order of encoding is very important"
   ]
  },
  {
   "cell_type": "code",
   "execution_count": 14,
   "metadata": {},
   "outputs": [
    {
     "ename": "ValueError",
     "evalue": "Expected 2D array, got 1D array instead:\narray=['Rome'].\nReshape your data either using array.reshape(-1, 1) if your data has a single feature or array.reshape(1, -1) if it contains a single sample.",
     "output_type": "error",
     "traceback": [
      "\u001b[0;31m---------------------------------------------------------------------------\u001b[0m",
      "\u001b[0;31mValueError\u001b[0m                                Traceback (most recent call last)",
      "\u001b[0;32m<ipython-input-14-338d1476ba71>\u001b[0m in \u001b[0;36m<module>\u001b[0;34m\u001b[0m\n\u001b[0;32m----> 1\u001b[0;31m \u001b[0menc\u001b[0m\u001b[0;34m.\u001b[0m\u001b[0mtransform\u001b[0m\u001b[0;34m(\u001b[0m\u001b[0;34m[\u001b[0m\u001b[0;34m'Rome'\u001b[0m\u001b[0;34m]\u001b[0m\u001b[0;34m)\u001b[0m\u001b[0;34m\u001b[0m\u001b[0;34m\u001b[0m\u001b[0m\n\u001b[0m",
      "\u001b[0;32m~/opt/anaconda3/envs/develop/lib/python3.6/site-packages/sklearn/preprocessing/_encoders.py\u001b[0m in \u001b[0;36mtransform\u001b[0;34m(self, X)\u001b[0m\n\u001b[1;32m    812\u001b[0m \u001b[0;34m\u001b[0m\u001b[0m\n\u001b[1;32m    813\u001b[0m         \"\"\"\n\u001b[0;32m--> 814\u001b[0;31m         \u001b[0mX_int\u001b[0m\u001b[0;34m,\u001b[0m \u001b[0m_\u001b[0m \u001b[0;34m=\u001b[0m \u001b[0mself\u001b[0m\u001b[0;34m.\u001b[0m\u001b[0m_transform\u001b[0m\u001b[0;34m(\u001b[0m\u001b[0mX\u001b[0m\u001b[0;34m)\u001b[0m\u001b[0;34m\u001b[0m\u001b[0;34m\u001b[0m\u001b[0m\n\u001b[0m\u001b[1;32m    815\u001b[0m         \u001b[0;32mreturn\u001b[0m \u001b[0mX_int\u001b[0m\u001b[0;34m.\u001b[0m\u001b[0mastype\u001b[0m\u001b[0;34m(\u001b[0m\u001b[0mself\u001b[0m\u001b[0;34m.\u001b[0m\u001b[0mdtype\u001b[0m\u001b[0;34m,\u001b[0m \u001b[0mcopy\u001b[0m\u001b[0;34m=\u001b[0m\u001b[0;32mFalse\u001b[0m\u001b[0;34m)\u001b[0m\u001b[0;34m\u001b[0m\u001b[0;34m\u001b[0m\u001b[0m\n\u001b[1;32m    816\u001b[0m \u001b[0;34m\u001b[0m\u001b[0m\n",
      "\u001b[0;32m~/opt/anaconda3/envs/develop/lib/python3.6/site-packages/sklearn/preprocessing/_encoders.py\u001b[0m in \u001b[0;36m_transform\u001b[0;34m(self, X, handle_unknown)\u001b[0m\n\u001b[1;32m     90\u001b[0m \u001b[0;34m\u001b[0m\u001b[0m\n\u001b[1;32m     91\u001b[0m     \u001b[0;32mdef\u001b[0m \u001b[0m_transform\u001b[0m\u001b[0;34m(\u001b[0m\u001b[0mself\u001b[0m\u001b[0;34m,\u001b[0m \u001b[0mX\u001b[0m\u001b[0;34m,\u001b[0m \u001b[0mhandle_unknown\u001b[0m\u001b[0;34m=\u001b[0m\u001b[0;34m'error'\u001b[0m\u001b[0;34m)\u001b[0m\u001b[0;34m:\u001b[0m\u001b[0;34m\u001b[0m\u001b[0;34m\u001b[0m\u001b[0m\n\u001b[0;32m---> 92\u001b[0;31m         \u001b[0mX\u001b[0m \u001b[0;34m=\u001b[0m \u001b[0mself\u001b[0m\u001b[0;34m.\u001b[0m\u001b[0m_check_X\u001b[0m\u001b[0;34m(\u001b[0m\u001b[0mX\u001b[0m\u001b[0;34m)\u001b[0m\u001b[0;34m\u001b[0m\u001b[0;34m\u001b[0m\u001b[0m\n\u001b[0m\u001b[1;32m     93\u001b[0m \u001b[0;34m\u001b[0m\u001b[0m\n\u001b[1;32m     94\u001b[0m         \u001b[0m_\u001b[0m\u001b[0;34m,\u001b[0m \u001b[0mn_features\u001b[0m \u001b[0;34m=\u001b[0m \u001b[0mX\u001b[0m\u001b[0;34m.\u001b[0m\u001b[0mshape\u001b[0m\u001b[0;34m\u001b[0m\u001b[0;34m\u001b[0m\u001b[0m\n",
      "\u001b[0;32m~/opt/anaconda3/envs/develop/lib/python3.6/site-packages/sklearn/preprocessing/_encoders.py\u001b[0m in \u001b[0;36m_check_X\u001b[0;34m(self, X)\u001b[0m\n\u001b[1;32m     45\u001b[0m \u001b[0;34m\u001b[0m\u001b[0m\n\u001b[1;32m     46\u001b[0m         \"\"\"\n\u001b[0;32m---> 47\u001b[0;31m         \u001b[0mX_temp\u001b[0m \u001b[0;34m=\u001b[0m \u001b[0mcheck_array\u001b[0m\u001b[0;34m(\u001b[0m\u001b[0mX\u001b[0m\u001b[0;34m,\u001b[0m \u001b[0mdtype\u001b[0m\u001b[0;34m=\u001b[0m\u001b[0;32mNone\u001b[0m\u001b[0;34m)\u001b[0m\u001b[0;34m\u001b[0m\u001b[0;34m\u001b[0m\u001b[0m\n\u001b[0m\u001b[1;32m     48\u001b[0m         \u001b[0;32mif\u001b[0m \u001b[0;32mnot\u001b[0m \u001b[0mhasattr\u001b[0m\u001b[0;34m(\u001b[0m\u001b[0mX\u001b[0m\u001b[0;34m,\u001b[0m \u001b[0;34m'dtype'\u001b[0m\u001b[0;34m)\u001b[0m \u001b[0;32mand\u001b[0m \u001b[0mnp\u001b[0m\u001b[0;34m.\u001b[0m\u001b[0missubdtype\u001b[0m\u001b[0;34m(\u001b[0m\u001b[0mX_temp\u001b[0m\u001b[0;34m.\u001b[0m\u001b[0mdtype\u001b[0m\u001b[0;34m,\u001b[0m \u001b[0mnp\u001b[0m\u001b[0;34m.\u001b[0m\u001b[0mstr_\u001b[0m\u001b[0;34m)\u001b[0m\u001b[0;34m:\u001b[0m\u001b[0;34m\u001b[0m\u001b[0;34m\u001b[0m\u001b[0m\n\u001b[1;32m     49\u001b[0m             \u001b[0mX\u001b[0m \u001b[0;34m=\u001b[0m \u001b[0mcheck_array\u001b[0m\u001b[0;34m(\u001b[0m\u001b[0mX\u001b[0m\u001b[0;34m,\u001b[0m \u001b[0mdtype\u001b[0m\u001b[0;34m=\u001b[0m\u001b[0mnp\u001b[0m\u001b[0;34m.\u001b[0m\u001b[0mobject\u001b[0m\u001b[0;34m)\u001b[0m\u001b[0;34m\u001b[0m\u001b[0;34m\u001b[0m\u001b[0m\n",
      "\u001b[0;32m~/opt/anaconda3/envs/develop/lib/python3.6/site-packages/sklearn/utils/validation.py\u001b[0m in \u001b[0;36mcheck_array\u001b[0;34m(array, accept_sparse, accept_large_sparse, dtype, order, copy, force_all_finite, ensure_2d, allow_nd, ensure_min_samples, ensure_min_features, warn_on_dtype, estimator)\u001b[0m\n\u001b[1;32m    550\u001b[0m                     \u001b[0;34m\"Reshape your data either using array.reshape(-1, 1) if \"\u001b[0m\u001b[0;34m\u001b[0m\u001b[0;34m\u001b[0m\u001b[0m\n\u001b[1;32m    551\u001b[0m                     \u001b[0;34m\"your data has a single feature or array.reshape(1, -1) \"\u001b[0m\u001b[0;34m\u001b[0m\u001b[0;34m\u001b[0m\u001b[0m\n\u001b[0;32m--> 552\u001b[0;31m                     \"if it contains a single sample.\".format(array))\n\u001b[0m\u001b[1;32m    553\u001b[0m \u001b[0;34m\u001b[0m\u001b[0m\n\u001b[1;32m    554\u001b[0m         \u001b[0;31m# in the future np.flexible dtypes will be handled like object dtypes\u001b[0m\u001b[0;34m\u001b[0m\u001b[0;34m\u001b[0m\u001b[0;34m\u001b[0m\u001b[0m\n",
      "\u001b[0;31mValueError\u001b[0m: Expected 2D array, got 1D array instead:\narray=['Rome'].\nReshape your data either using array.reshape(-1, 1) if your data has a single feature or array.reshape(1, -1) if it contains a single sample."
     ]
    }
   ],
   "source": [
    "enc.transform(['Rome'])"
   ]
  },
  {
   "cell_type": "markdown",
   "metadata": {},
   "source": [
    "A very important concept in Sklearn is the **fit** \\\n",
    "Any sklearn library transformation can be applied to the starting dataset using fit. \\\n",
    "The fit will be the creation of the object according to the sklearn method you want to use and to apply that method on a data set you will need to do **transform**.\n",
    "\n",
    "To avoid this double step you can simply use the function: **fit_transform** which is much more convenient and allows you to do the fit on a data set and apply the transformation immediately, like the first example.\n",
    "\n",
    "https://datascience.stackexchange.com/questions/12321/difference-between-fit-and-fit-transform-in-scikit-learn-models"
   ]
  },
  {
   "cell_type": "markdown",
   "metadata": {},
   "source": [
    "### OneHotEncoder"
   ]
  },
  {
   "cell_type": "markdown",
   "metadata": {},
   "source": [
    "Another possibility to convert categorical features to features that can be used with scikit-learn estimators is to use a one-of-K, also known as one-hot or dummy encoding. This type of encoding can be obtained with the OneHotEncoder, which transforms each categorical feature with n_categories possible values into n_categories binary features, with one of them 1, and all others 0.\n",
    "\n",
    "To make One Hot Encoding you can either use a Pandas method or use SKLearn"
   ]
  },
  {
   "cell_type": "code",
   "execution_count": 16,
   "metadata": {},
   "outputs": [
    {
     "data": {
      "text/html": [
       "<div>\n",
       "<style scoped>\n",
       "    .dataframe tbody tr th:only-of-type {\n",
       "        vertical-align: middle;\n",
       "    }\n",
       "\n",
       "    .dataframe tbody tr th {\n",
       "        vertical-align: top;\n",
       "    }\n",
       "\n",
       "    .dataframe thead th {\n",
       "        text-align: right;\n",
       "    }\n",
       "</style>\n",
       "<table border=\"1\" class=\"dataframe\">\n",
       "  <thead>\n",
       "    <tr style=\"text-align: right;\">\n",
       "      <th></th>\n",
       "      <th>city</th>\n",
       "      <th>temperature</th>\n",
       "    </tr>\n",
       "  </thead>\n",
       "  <tbody>\n",
       "    <tr>\n",
       "      <th>0</th>\n",
       "      <td>Dubai</td>\n",
       "      <td>33.0</td>\n",
       "    </tr>\n",
       "    <tr>\n",
       "      <th>1</th>\n",
       "      <td>London</td>\n",
       "      <td>12.0</td>\n",
       "    </tr>\n",
       "    <tr>\n",
       "      <th>2</th>\n",
       "      <td>San Francisco</td>\n",
       "      <td>18.0</td>\n",
       "    </tr>\n",
       "    <tr>\n",
       "      <th>3</th>\n",
       "      <td>Milano</td>\n",
       "      <td>18.0</td>\n",
       "    </tr>\n",
       "    <tr>\n",
       "      <th>4</th>\n",
       "      <td>Roma</td>\n",
       "      <td>20.0</td>\n",
       "    </tr>\n",
       "    <tr>\n",
       "      <th>5</th>\n",
       "      <td>Parigi</td>\n",
       "      <td>16.0</td>\n",
       "    </tr>\n",
       "    <tr>\n",
       "      <th>6</th>\n",
       "      <td>Biella</td>\n",
       "      <td>13.0</td>\n",
       "    </tr>\n",
       "  </tbody>\n",
       "</table>\n",
       "</div>"
      ],
      "text/plain": [
       "            city  temperature\n",
       "0          Dubai         33.0\n",
       "1         London         12.0\n",
       "2  San Francisco         18.0\n",
       "3         Milano         18.0\n",
       "4           Roma         20.0\n",
       "5         Parigi         16.0\n",
       "6         Biella         13.0"
      ]
     },
     "execution_count": 16,
     "metadata": {},
     "output_type": "execute_result"
    }
   ],
   "source": [
    "df_oneHot = df.copy()\n",
    "df_oneHot"
   ]
  },
  {
   "cell_type": "code",
   "execution_count": 17,
   "metadata": {},
   "outputs": [
    {
     "data": {
      "text/html": [
       "<div>\n",
       "<style scoped>\n",
       "    .dataframe tbody tr th:only-of-type {\n",
       "        vertical-align: middle;\n",
       "    }\n",
       "\n",
       "    .dataframe tbody tr th {\n",
       "        vertical-align: top;\n",
       "    }\n",
       "\n",
       "    .dataframe thead th {\n",
       "        text-align: right;\n",
       "    }\n",
       "</style>\n",
       "<table border=\"1\" class=\"dataframe\">\n",
       "  <thead>\n",
       "    <tr style=\"text-align: right;\">\n",
       "      <th></th>\n",
       "      <th>temperature</th>\n",
       "      <th>city_Dubai</th>\n",
       "      <th>city_London</th>\n",
       "      <th>city_Milano</th>\n",
       "      <th>city_Parigi</th>\n",
       "      <th>city_Roma</th>\n",
       "      <th>city_San Francisco</th>\n",
       "    </tr>\n",
       "  </thead>\n",
       "  <tbody>\n",
       "    <tr>\n",
       "      <th>0</th>\n",
       "      <td>33.0</td>\n",
       "      <td>1</td>\n",
       "      <td>0</td>\n",
       "      <td>0</td>\n",
       "      <td>0</td>\n",
       "      <td>0</td>\n",
       "      <td>0</td>\n",
       "    </tr>\n",
       "    <tr>\n",
       "      <th>1</th>\n",
       "      <td>12.0</td>\n",
       "      <td>0</td>\n",
       "      <td>1</td>\n",
       "      <td>0</td>\n",
       "      <td>0</td>\n",
       "      <td>0</td>\n",
       "      <td>0</td>\n",
       "    </tr>\n",
       "    <tr>\n",
       "      <th>2</th>\n",
       "      <td>18.0</td>\n",
       "      <td>0</td>\n",
       "      <td>0</td>\n",
       "      <td>0</td>\n",
       "      <td>0</td>\n",
       "      <td>0</td>\n",
       "      <td>1</td>\n",
       "    </tr>\n",
       "    <tr>\n",
       "      <th>3</th>\n",
       "      <td>18.0</td>\n",
       "      <td>0</td>\n",
       "      <td>0</td>\n",
       "      <td>1</td>\n",
       "      <td>0</td>\n",
       "      <td>0</td>\n",
       "      <td>0</td>\n",
       "    </tr>\n",
       "    <tr>\n",
       "      <th>4</th>\n",
       "      <td>20.0</td>\n",
       "      <td>0</td>\n",
       "      <td>0</td>\n",
       "      <td>0</td>\n",
       "      <td>0</td>\n",
       "      <td>1</td>\n",
       "      <td>0</td>\n",
       "    </tr>\n",
       "    <tr>\n",
       "      <th>5</th>\n",
       "      <td>16.0</td>\n",
       "      <td>0</td>\n",
       "      <td>0</td>\n",
       "      <td>0</td>\n",
       "      <td>1</td>\n",
       "      <td>0</td>\n",
       "      <td>0</td>\n",
       "    </tr>\n",
       "    <tr>\n",
       "      <th>6</th>\n",
       "      <td>13.0</td>\n",
       "      <td>0</td>\n",
       "      <td>0</td>\n",
       "      <td>0</td>\n",
       "      <td>0</td>\n",
       "      <td>0</td>\n",
       "      <td>0</td>\n",
       "    </tr>\n",
       "  </tbody>\n",
       "</table>\n",
       "</div>"
      ],
      "text/plain": [
       "   temperature  city_Dubai  city_London  city_Milano  city_Parigi  city_Roma  \\\n",
       "0         33.0           1            0            0            0          0   \n",
       "1         12.0           0            1            0            0          0   \n",
       "2         18.0           0            0            0            0          0   \n",
       "3         18.0           0            0            1            0          0   \n",
       "4         20.0           0            0            0            0          1   \n",
       "5         16.0           0            0            0            1          0   \n",
       "6         13.0           0            0            0            0          0   \n",
       "\n",
       "   city_San Francisco  \n",
       "0                   0  \n",
       "1                   0  \n",
       "2                   1  \n",
       "3                   0  \n",
       "4                   0  \n",
       "5                   0  \n",
       "6                   0  "
      ]
     },
     "execution_count": 17,
     "metadata": {},
     "output_type": "execute_result"
    }
   ],
   "source": [
    "df_oneHot = pd.get_dummies(df_oneHot,prefix=['city'], drop_first=True)\n",
    "df_oneHot"
   ]
  },
  {
   "cell_type": "markdown",
   "metadata": {},
   "source": [
    "With Pandas you can also apply One Hot Encoding considering NA, for example:"
   ]
  },
  {
   "cell_type": "code",
   "execution_count": 18,
   "metadata": {},
   "outputs": [
    {
     "data": {
      "text/html": [
       "<div>\n",
       "<style scoped>\n",
       "    .dataframe tbody tr th:only-of-type {\n",
       "        vertical-align: middle;\n",
       "    }\n",
       "\n",
       "    .dataframe tbody tr th {\n",
       "        vertical-align: top;\n",
       "    }\n",
       "\n",
       "    .dataframe thead th {\n",
       "        text-align: right;\n",
       "    }\n",
       "</style>\n",
       "<table border=\"1\" class=\"dataframe\">\n",
       "  <thead>\n",
       "    <tr style=\"text-align: right;\">\n",
       "      <th></th>\n",
       "      <th>city</th>\n",
       "      <th>temperature</th>\n",
       "    </tr>\n",
       "  </thead>\n",
       "  <tbody>\n",
       "    <tr>\n",
       "      <th>0</th>\n",
       "      <td>Dubai</td>\n",
       "      <td>33.0</td>\n",
       "    </tr>\n",
       "    <tr>\n",
       "      <th>1</th>\n",
       "      <td>London</td>\n",
       "      <td>12.0</td>\n",
       "    </tr>\n",
       "    <tr>\n",
       "      <th>2</th>\n",
       "      <td>San Francisco</td>\n",
       "      <td>18.0</td>\n",
       "    </tr>\n",
       "    <tr>\n",
       "      <th>3</th>\n",
       "      <td>NaN</td>\n",
       "      <td>0.0</td>\n",
       "    </tr>\n",
       "    <tr>\n",
       "      <th>4</th>\n",
       "      <td>Milano</td>\n",
       "      <td>18.0</td>\n",
       "    </tr>\n",
       "    <tr>\n",
       "      <th>5</th>\n",
       "      <td>Roma</td>\n",
       "      <td>20.0</td>\n",
       "    </tr>\n",
       "    <tr>\n",
       "      <th>6</th>\n",
       "      <td>Parigi</td>\n",
       "      <td>16.0</td>\n",
       "    </tr>\n",
       "    <tr>\n",
       "      <th>7</th>\n",
       "      <td></td>\n",
       "      <td>24.0</td>\n",
       "    </tr>\n",
       "    <tr>\n",
       "      <th>8</th>\n",
       "      <td>Biella</td>\n",
       "      <td>13.0</td>\n",
       "    </tr>\n",
       "  </tbody>\n",
       "</table>\n",
       "</div>"
      ],
      "text/plain": [
       "            city  temperature\n",
       "0          Dubai         33.0\n",
       "1         London         12.0\n",
       "2  San Francisco         18.0\n",
       "3            NaN          0.0\n",
       "4         Milano         18.0\n",
       "5           Roma         20.0\n",
       "6         Parigi         16.0\n",
       "7                        24.0\n",
       "8         Biella         13.0"
      ]
     },
     "execution_count": 18,
     "metadata": {},
     "output_type": "execute_result"
    }
   ],
   "source": [
    "nan = float('nan')\n",
    "missing = [\n",
    "    {'city': 'Dubai', 'temperature': 33.},\n",
    "    {'city': 'London', 'temperature': 12.},\n",
    "    {'city': 'San Francisco', 'temperature': 18.},\n",
    "    {'city': nan , 'temperature': 0.},\n",
    "    {'city': 'Milano', 'temperature': 18.},\n",
    "    {'city': 'Roma', 'temperature': 20.},\n",
    "    {'city': 'Parigi', 'temperature': 16.},\n",
    "    {'city': '', 'temperature': 24.},\n",
    "    {'city': 'Biella', 'temperature': 13},\n",
    "    ]\n",
    "\n",
    "\n",
    "df_missing = pd.DataFrame(missing)\n",
    "\n",
    "df_missing"
   ]
  },
  {
   "cell_type": "code",
   "execution_count": 19,
   "metadata": {},
   "outputs": [
    {
     "data": {
      "text/html": [
       "<div>\n",
       "<style scoped>\n",
       "    .dataframe tbody tr th:only-of-type {\n",
       "        vertical-align: middle;\n",
       "    }\n",
       "\n",
       "    .dataframe tbody tr th {\n",
       "        vertical-align: top;\n",
       "    }\n",
       "\n",
       "    .dataframe thead th {\n",
       "        text-align: right;\n",
       "    }\n",
       "</style>\n",
       "<table border=\"1\" class=\"dataframe\">\n",
       "  <thead>\n",
       "    <tr style=\"text-align: right;\">\n",
       "      <th></th>\n",
       "      <th>temperature</th>\n",
       "      <th>city_</th>\n",
       "      <th>city_Biella</th>\n",
       "      <th>city_Dubai</th>\n",
       "      <th>city_London</th>\n",
       "      <th>city_Milano</th>\n",
       "      <th>city_Parigi</th>\n",
       "      <th>city_Roma</th>\n",
       "      <th>city_San Francisco</th>\n",
       "      <th>city_nan</th>\n",
       "    </tr>\n",
       "  </thead>\n",
       "  <tbody>\n",
       "    <tr>\n",
       "      <th>0</th>\n",
       "      <td>33.0</td>\n",
       "      <td>0</td>\n",
       "      <td>0</td>\n",
       "      <td>1</td>\n",
       "      <td>0</td>\n",
       "      <td>0</td>\n",
       "      <td>0</td>\n",
       "      <td>0</td>\n",
       "      <td>0</td>\n",
       "      <td>0</td>\n",
       "    </tr>\n",
       "    <tr>\n",
       "      <th>1</th>\n",
       "      <td>12.0</td>\n",
       "      <td>0</td>\n",
       "      <td>0</td>\n",
       "      <td>0</td>\n",
       "      <td>1</td>\n",
       "      <td>0</td>\n",
       "      <td>0</td>\n",
       "      <td>0</td>\n",
       "      <td>0</td>\n",
       "      <td>0</td>\n",
       "    </tr>\n",
       "    <tr>\n",
       "      <th>2</th>\n",
       "      <td>18.0</td>\n",
       "      <td>0</td>\n",
       "      <td>0</td>\n",
       "      <td>0</td>\n",
       "      <td>0</td>\n",
       "      <td>0</td>\n",
       "      <td>0</td>\n",
       "      <td>0</td>\n",
       "      <td>1</td>\n",
       "      <td>0</td>\n",
       "    </tr>\n",
       "    <tr>\n",
       "      <th>3</th>\n",
       "      <td>0.0</td>\n",
       "      <td>0</td>\n",
       "      <td>0</td>\n",
       "      <td>0</td>\n",
       "      <td>0</td>\n",
       "      <td>0</td>\n",
       "      <td>0</td>\n",
       "      <td>0</td>\n",
       "      <td>0</td>\n",
       "      <td>1</td>\n",
       "    </tr>\n",
       "    <tr>\n",
       "      <th>4</th>\n",
       "      <td>18.0</td>\n",
       "      <td>0</td>\n",
       "      <td>0</td>\n",
       "      <td>0</td>\n",
       "      <td>0</td>\n",
       "      <td>1</td>\n",
       "      <td>0</td>\n",
       "      <td>0</td>\n",
       "      <td>0</td>\n",
       "      <td>0</td>\n",
       "    </tr>\n",
       "    <tr>\n",
       "      <th>5</th>\n",
       "      <td>20.0</td>\n",
       "      <td>0</td>\n",
       "      <td>0</td>\n",
       "      <td>0</td>\n",
       "      <td>0</td>\n",
       "      <td>0</td>\n",
       "      <td>0</td>\n",
       "      <td>1</td>\n",
       "      <td>0</td>\n",
       "      <td>0</td>\n",
       "    </tr>\n",
       "    <tr>\n",
       "      <th>6</th>\n",
       "      <td>16.0</td>\n",
       "      <td>0</td>\n",
       "      <td>0</td>\n",
       "      <td>0</td>\n",
       "      <td>0</td>\n",
       "      <td>0</td>\n",
       "      <td>1</td>\n",
       "      <td>0</td>\n",
       "      <td>0</td>\n",
       "      <td>0</td>\n",
       "    </tr>\n",
       "    <tr>\n",
       "      <th>7</th>\n",
       "      <td>24.0</td>\n",
       "      <td>1</td>\n",
       "      <td>0</td>\n",
       "      <td>0</td>\n",
       "      <td>0</td>\n",
       "      <td>0</td>\n",
       "      <td>0</td>\n",
       "      <td>0</td>\n",
       "      <td>0</td>\n",
       "      <td>0</td>\n",
       "    </tr>\n",
       "    <tr>\n",
       "      <th>8</th>\n",
       "      <td>13.0</td>\n",
       "      <td>0</td>\n",
       "      <td>1</td>\n",
       "      <td>0</td>\n",
       "      <td>0</td>\n",
       "      <td>0</td>\n",
       "      <td>0</td>\n",
       "      <td>0</td>\n",
       "      <td>0</td>\n",
       "      <td>0</td>\n",
       "    </tr>\n",
       "  </tbody>\n",
       "</table>\n",
       "</div>"
      ],
      "text/plain": [
       "   temperature  city_  city_Biella  city_Dubai  city_London  city_Milano  \\\n",
       "0         33.0      0            0           1            0            0   \n",
       "1         12.0      0            0           0            1            0   \n",
       "2         18.0      0            0           0            0            0   \n",
       "3          0.0      0            0           0            0            0   \n",
       "4         18.0      0            0           0            0            1   \n",
       "5         20.0      0            0           0            0            0   \n",
       "6         16.0      0            0           0            0            0   \n",
       "7         24.0      1            0           0            0            0   \n",
       "8         13.0      0            1           0            0            0   \n",
       "\n",
       "   city_Parigi  city_Roma  city_San Francisco  city_nan  \n",
       "0            0          0                   0         0  \n",
       "1            0          0                   0         0  \n",
       "2            0          0                   1         0  \n",
       "3            0          0                   0         1  \n",
       "4            0          0                   0         0  \n",
       "5            0          1                   0         0  \n",
       "6            1          0                   0         0  \n",
       "7            0          0                   0         0  \n",
       "8            0          0                   0         0  "
      ]
     },
     "execution_count": 19,
     "metadata": {},
     "output_type": "execute_result"
    }
   ],
   "source": [
    "df_oneHot = pd.get_dummies(df_missing,prefix=['city'], drop_first=False, dummy_na=True)\n",
    "df_oneHot"
   ]
  },
  {
   "cell_type": "markdown",
   "metadata": {},
   "source": [
    "With Sklean it can be done:"
   ]
  },
  {
   "cell_type": "code",
   "execution_count": 21,
   "metadata": {},
   "outputs": [
    {
     "data": {
      "text/plain": [
       "array([['Dubai'],\n",
       "       ['London'],\n",
       "       ['San Francisco'],\n",
       "       ['Milano'],\n",
       "       ['Roma'],\n",
       "       ['Parigi'],\n",
       "       ['Biella']], dtype=object)"
      ]
     },
     "execution_count": 21,
     "metadata": {},
     "output_type": "execute_result"
    }
   ],
   "source": [
    "df_start = df.copy()\n",
    "df_col = df_start.city.values.reshape(-1,1)\n",
    "df_col"
   ]
  },
  {
   "cell_type": "code",
   "execution_count": 22,
   "metadata": {},
   "outputs": [
    {
     "data": {
      "text/plain": [
       "array([[0., 1., 0., 0., 0., 0., 0.],\n",
       "       [0., 0., 1., 0., 0., 0., 0.],\n",
       "       [0., 0., 0., 0., 0., 0., 1.],\n",
       "       [0., 0., 0., 1., 0., 0., 0.],\n",
       "       [0., 0., 0., 0., 0., 1., 0.],\n",
       "       [0., 0., 0., 0., 1., 0., 0.],\n",
       "       [1., 0., 0., 0., 0., 0., 0.]])"
      ]
     },
     "execution_count": 22,
     "metadata": {},
     "output_type": "execute_result"
    }
   ],
   "source": [
    "from sklearn.preprocessing import OneHotEncoder\n",
    "enc = OneHotEncoder()\n",
    "X = enc.fit_transform(df_col).toarray()\n",
    "X"
   ]
  },
  {
   "cell_type": "markdown",
   "metadata": {},
   "source": [
    "The result is always an array of numpy...so you need to go back to the original size and insert the array again inside our starting dataframe"
   ]
  },
  {
   "cell_type": "code",
   "execution_count": 23,
   "metadata": {},
   "outputs": [
    {
     "data": {
      "text/html": [
       "<div>\n",
       "<style scoped>\n",
       "    .dataframe tbody tr th:only-of-type {\n",
       "        vertical-align: middle;\n",
       "    }\n",
       "\n",
       "    .dataframe tbody tr th {\n",
       "        vertical-align: top;\n",
       "    }\n",
       "\n",
       "    .dataframe thead th {\n",
       "        text-align: right;\n",
       "    }\n",
       "</style>\n",
       "<table border=\"1\" class=\"dataframe\">\n",
       "  <thead>\n",
       "    <tr style=\"text-align: right;\">\n",
       "      <th></th>\n",
       "      <th>city</th>\n",
       "      <th>temperature</th>\n",
       "      <th>City0</th>\n",
       "      <th>City1</th>\n",
       "      <th>City2</th>\n",
       "      <th>City3</th>\n",
       "      <th>City4</th>\n",
       "      <th>City5</th>\n",
       "      <th>City6</th>\n",
       "    </tr>\n",
       "  </thead>\n",
       "  <tbody>\n",
       "    <tr>\n",
       "      <th>0</th>\n",
       "      <td>Dubai</td>\n",
       "      <td>33.0</td>\n",
       "      <td>0.0</td>\n",
       "      <td>1.0</td>\n",
       "      <td>0.0</td>\n",
       "      <td>0.0</td>\n",
       "      <td>0.0</td>\n",
       "      <td>0.0</td>\n",
       "      <td>0.0</td>\n",
       "    </tr>\n",
       "    <tr>\n",
       "      <th>1</th>\n",
       "      <td>London</td>\n",
       "      <td>12.0</td>\n",
       "      <td>0.0</td>\n",
       "      <td>0.0</td>\n",
       "      <td>1.0</td>\n",
       "      <td>0.0</td>\n",
       "      <td>0.0</td>\n",
       "      <td>0.0</td>\n",
       "      <td>0.0</td>\n",
       "    </tr>\n",
       "    <tr>\n",
       "      <th>2</th>\n",
       "      <td>San Francisco</td>\n",
       "      <td>18.0</td>\n",
       "      <td>0.0</td>\n",
       "      <td>0.0</td>\n",
       "      <td>0.0</td>\n",
       "      <td>0.0</td>\n",
       "      <td>0.0</td>\n",
       "      <td>0.0</td>\n",
       "      <td>1.0</td>\n",
       "    </tr>\n",
       "    <tr>\n",
       "      <th>3</th>\n",
       "      <td>Milano</td>\n",
       "      <td>18.0</td>\n",
       "      <td>0.0</td>\n",
       "      <td>0.0</td>\n",
       "      <td>0.0</td>\n",
       "      <td>1.0</td>\n",
       "      <td>0.0</td>\n",
       "      <td>0.0</td>\n",
       "      <td>0.0</td>\n",
       "    </tr>\n",
       "    <tr>\n",
       "      <th>4</th>\n",
       "      <td>Roma</td>\n",
       "      <td>20.0</td>\n",
       "      <td>0.0</td>\n",
       "      <td>0.0</td>\n",
       "      <td>0.0</td>\n",
       "      <td>0.0</td>\n",
       "      <td>0.0</td>\n",
       "      <td>1.0</td>\n",
       "      <td>0.0</td>\n",
       "    </tr>\n",
       "    <tr>\n",
       "      <th>5</th>\n",
       "      <td>Parigi</td>\n",
       "      <td>16.0</td>\n",
       "      <td>0.0</td>\n",
       "      <td>0.0</td>\n",
       "      <td>0.0</td>\n",
       "      <td>0.0</td>\n",
       "      <td>1.0</td>\n",
       "      <td>0.0</td>\n",
       "      <td>0.0</td>\n",
       "    </tr>\n",
       "    <tr>\n",
       "      <th>6</th>\n",
       "      <td>Biella</td>\n",
       "      <td>13.0</td>\n",
       "      <td>1.0</td>\n",
       "      <td>0.0</td>\n",
       "      <td>0.0</td>\n",
       "      <td>0.0</td>\n",
       "      <td>0.0</td>\n",
       "      <td>0.0</td>\n",
       "      <td>0.0</td>\n",
       "    </tr>\n",
       "  </tbody>\n",
       "</table>\n",
       "</div>"
      ],
      "text/plain": [
       "            city  temperature  City0  City1  City2  City3  City4  City5  City6\n",
       "0          Dubai         33.0    0.0    1.0    0.0    0.0    0.0    0.0    0.0\n",
       "1         London         12.0    0.0    0.0    1.0    0.0    0.0    0.0    0.0\n",
       "2  San Francisco         18.0    0.0    0.0    0.0    0.0    0.0    0.0    1.0\n",
       "3         Milano         18.0    0.0    0.0    0.0    1.0    0.0    0.0    0.0\n",
       "4           Roma         20.0    0.0    0.0    0.0    0.0    0.0    1.0    0.0\n",
       "5         Parigi         16.0    0.0    0.0    0.0    0.0    1.0    0.0    0.0\n",
       "6         Biella         13.0    1.0    0.0    0.0    0.0    0.0    0.0    0.0"
      ]
     },
     "execution_count": 23,
     "metadata": {},
     "output_type": "execute_result"
    }
   ],
   "source": [
    "dfOneHot = pd.DataFrame(X, columns = [\"City\"+str(int(i)) for i in range(X.shape[1])])\n",
    "result = pd.DataFrame()\n",
    "result = pd.concat([df_start, dfOneHot], axis=1)\n",
    "result"
   ]
  },
  {
   "cell_type": "markdown",
   "metadata": {},
   "source": [
    "#### Label Encoder"
   ]
  },
  {
   "cell_type": "markdown",
   "metadata": {},
   "source": [
    "LabelEncoder converts each class under specified feature to a numerical value. Let’s go through the steps to see how to do it. \\\n",
    "LabelEncoder is very useful because it allows you to obtain a dataframe in output, without having to make any transformations. \\\n",
    "Returns different values for different classes always within the same column."
   ]
  },
  {
   "cell_type": "code",
   "execution_count": 24,
   "metadata": {},
   "outputs": [],
   "source": [
    "cities = df.city.tolist()\n",
    "df_complete = df.copy()"
   ]
  },
  {
   "cell_type": "code",
   "execution_count": 25,
   "metadata": {},
   "outputs": [],
   "source": [
    "# import labelencoder\n",
    "from sklearn.preprocessing import LabelEncoder\n",
    "# instantiate labelencoder object\n",
    "le = LabelEncoder()"
   ]
  },
  {
   "cell_type": "code",
   "execution_count": 26,
   "metadata": {},
   "outputs": [
    {
     "data": {
      "text/plain": [
       "LabelEncoder()"
      ]
     },
     "execution_count": 26,
     "metadata": {},
     "output_type": "execute_result"
    }
   ],
   "source": [
    "#apply the label encoder to the dataset\n",
    "le.fit(df_complete['city'])"
   ]
  },
  {
   "cell_type": "code",
   "execution_count": 27,
   "metadata": {},
   "outputs": [
    {
     "data": {
      "text/plain": [
       "['Biella', 'Dubai', 'London', 'Milano', 'Parigi', 'Roma', 'San Francisco']"
      ]
     },
     "execution_count": 27,
     "metadata": {},
     "output_type": "execute_result"
    }
   ],
   "source": [
    "#show list of classes\n",
    "list(le.classes_)"
   ]
  },
  {
   "cell_type": "code",
   "execution_count": 28,
   "metadata": {},
   "outputs": [
    {
     "data": {
      "text/plain": [
       "array([1, 2, 6, 3, 5, 4, 0])"
      ]
     },
     "execution_count": 28,
     "metadata": {},
     "output_type": "execute_result"
    }
   ],
   "source": [
    "#transform into integers\n",
    "transformation = le.transform(df['city']) \n",
    "transformation"
   ]
  },
  {
   "cell_type": "code",
   "execution_count": 29,
   "metadata": {},
   "outputs": [
    {
     "data": {
      "text/plain": [
       "['London', 'London', 'Dubai', 'Roma']"
      ]
     },
     "execution_count": 29,
     "metadata": {},
     "output_type": "execute_result"
    }
   ],
   "source": [
    "# try to invert a transformation using the object\n",
    "list(le.inverse_transform([2,2,1,5]))"
   ]
  },
  {
   "cell_type": "code",
   "execution_count": 266,
   "metadata": {},
   "outputs": [],
   "source": [
    "# apply le on categorical feature columns\n",
    "df_complete['city_transformed'] = list(transformation)"
   ]
  },
  {
   "cell_type": "code",
   "execution_count": 267,
   "metadata": {},
   "outputs": [
    {
     "data": {
      "text/html": [
       "<div>\n",
       "<style scoped>\n",
       "    .dataframe tbody tr th:only-of-type {\n",
       "        vertical-align: middle;\n",
       "    }\n",
       "\n",
       "    .dataframe tbody tr th {\n",
       "        vertical-align: top;\n",
       "    }\n",
       "\n",
       "    .dataframe thead th {\n",
       "        text-align: right;\n",
       "    }\n",
       "</style>\n",
       "<table border=\"1\" class=\"dataframe\">\n",
       "  <thead>\n",
       "    <tr style=\"text-align: right;\">\n",
       "      <th></th>\n",
       "      <th>city</th>\n",
       "      <th>temperature</th>\n",
       "      <th>city_transformed</th>\n",
       "    </tr>\n",
       "  </thead>\n",
       "  <tbody>\n",
       "    <tr>\n",
       "      <th>0</th>\n",
       "      <td>Dubai</td>\n",
       "      <td>33.0</td>\n",
       "      <td>1</td>\n",
       "    </tr>\n",
       "    <tr>\n",
       "      <th>1</th>\n",
       "      <td>London</td>\n",
       "      <td>12.0</td>\n",
       "      <td>2</td>\n",
       "    </tr>\n",
       "    <tr>\n",
       "      <th>2</th>\n",
       "      <td>San Francisco</td>\n",
       "      <td>18.0</td>\n",
       "      <td>6</td>\n",
       "    </tr>\n",
       "    <tr>\n",
       "      <th>3</th>\n",
       "      <td>Milano</td>\n",
       "      <td>18.0</td>\n",
       "      <td>3</td>\n",
       "    </tr>\n",
       "    <tr>\n",
       "      <th>4</th>\n",
       "      <td>Roma</td>\n",
       "      <td>20.0</td>\n",
       "      <td>5</td>\n",
       "    </tr>\n",
       "    <tr>\n",
       "      <th>5</th>\n",
       "      <td>Parigi</td>\n",
       "      <td>16.0</td>\n",
       "      <td>4</td>\n",
       "    </tr>\n",
       "    <tr>\n",
       "      <th>6</th>\n",
       "      <td>Biella</td>\n",
       "      <td>13.0</td>\n",
       "      <td>0</td>\n",
       "    </tr>\n",
       "  </tbody>\n",
       "</table>\n",
       "</div>"
      ],
      "text/plain": [
       "            city  temperature  city_transformed\n",
       "0          Dubai         33.0                 1\n",
       "1         London         12.0                 2\n",
       "2  San Francisco         18.0                 6\n",
       "3         Milano         18.0                 3\n",
       "4           Roma         20.0                 5\n",
       "5         Parigi         16.0                 4\n",
       "6         Biella         13.0                 0"
      ]
     },
     "execution_count": 267,
     "metadata": {},
     "output_type": "execute_result"
    }
   ],
   "source": [
    "df_complete"
   ]
  },
  {
   "cell_type": "markdown",
   "metadata": {},
   "source": [
    "Warning: Using a LabelEncoder alone is not always a good idea for some models as it certainly keeps the list of features inside the dataframe in order, but they remain categorical, even if they are transformed in number. \\\n",
    "This is why it is often used in pairs with OneHotEncoder."
   ]
  },
  {
   "cell_type": "markdown",
   "metadata": {},
   "source": [
    "The LabelEncoder is very useful to transform categorical features to be predicted (for example for a classification experiment) compared to using it exclusively for the dataset features."
   ]
  },
  {
   "cell_type": "markdown",
   "metadata": {},
   "source": [
    "LabelEncoder and OneHotEncoder is usually need to be used together as a two steps method to encode categorical features. LabelEncoder outputs a dataframe type while OneHotEncoder outputs a numpy array. OneHotEncoder has the option to output a sparse matrix. DictVectorizer is a one step method to encode and support sparse matrix output. Pandas get dummies method is so far the most straight forward and easiest way to encode categorical features. The output will remain dataframe type. \\\n",
    "As my point of view, the first choice method will be pandas get dummies. But if the number of categorical features are huge, DictVectorizer will be a good choice as it supports sparse matrix output."
   ]
  },
  {
   "cell_type": "markdown",
   "metadata": {},
   "source": [
    "#### Encoding Manually Ordinal Categorical Features"
   ]
  },
  {
   "cell_type": "markdown",
   "metadata": {},
   "source": [
    "Another easy way to encode categorical ordinal features is to create manual transformations (if the sorting is minimal). \\\n",
    "Let's consider, for example:"
   ]
  },
  {
   "cell_type": "code",
   "execution_count": 30,
   "metadata": {},
   "outputs": [
    {
     "data": {
      "text/html": [
       "<div>\n",
       "<style scoped>\n",
       "    .dataframe tbody tr th:only-of-type {\n",
       "        vertical-align: middle;\n",
       "    }\n",
       "\n",
       "    .dataframe tbody tr th {\n",
       "        vertical-align: top;\n",
       "    }\n",
       "\n",
       "    .dataframe thead th {\n",
       "        text-align: right;\n",
       "    }\n",
       "</style>\n",
       "<table border=\"1\" class=\"dataframe\">\n",
       "  <thead>\n",
       "    <tr style=\"text-align: right;\">\n",
       "      <th></th>\n",
       "      <th>city</th>\n",
       "      <th>temperature</th>\n",
       "      <th>category</th>\n",
       "    </tr>\n",
       "  </thead>\n",
       "  <tbody>\n",
       "    <tr>\n",
       "      <th>0</th>\n",
       "      <td>Dubai</td>\n",
       "      <td>33.0</td>\n",
       "      <td>Low</td>\n",
       "    </tr>\n",
       "    <tr>\n",
       "      <th>1</th>\n",
       "      <td>London</td>\n",
       "      <td>12.0</td>\n",
       "      <td>Low</td>\n",
       "    </tr>\n",
       "    <tr>\n",
       "      <th>2</th>\n",
       "      <td>San Francisco</td>\n",
       "      <td>18.0</td>\n",
       "      <td>Medium</td>\n",
       "    </tr>\n",
       "    <tr>\n",
       "      <th>3</th>\n",
       "      <td>Milano</td>\n",
       "      <td>18.0</td>\n",
       "      <td>High</td>\n",
       "    </tr>\n",
       "    <tr>\n",
       "      <th>4</th>\n",
       "      <td>Roma</td>\n",
       "      <td>20.0</td>\n",
       "      <td>High</td>\n",
       "    </tr>\n",
       "    <tr>\n",
       "      <th>5</th>\n",
       "      <td>Parigi</td>\n",
       "      <td>16.0</td>\n",
       "      <td>None</td>\n",
       "    </tr>\n",
       "    <tr>\n",
       "      <th>6</th>\n",
       "      <td>Biella</td>\n",
       "      <td>13.0</td>\n",
       "      <td>High</td>\n",
       "    </tr>\n",
       "  </tbody>\n",
       "</table>\n",
       "</div>"
      ],
      "text/plain": [
       "            city  temperature category\n",
       "0          Dubai         33.0      Low\n",
       "1         London         12.0      Low\n",
       "2  San Francisco         18.0   Medium\n",
       "3         Milano         18.0     High\n",
       "4           Roma         20.0     High\n",
       "5         Parigi         16.0     None\n",
       "6         Biella         13.0     High"
      ]
     },
     "execution_count": 30,
     "metadata": {},
     "output_type": "execute_result"
    }
   ],
   "source": [
    "temp_cat = ['Low', 'Low', 'Medium', 'High', 'High', 'None', 'High']\n",
    "df_ordinal = df.copy()\n",
    "df_ordinal['category'] = temp_cat\n",
    "df_ordinal"
   ]
  },
  {
   "cell_type": "code",
   "execution_count": 32,
   "metadata": {},
   "outputs": [],
   "source": [
    "# Create mapper\n",
    "scale_mapper = {'Low':1, \n",
    "                'Medium':2,\n",
    "                'High':3}"
   ]
  },
  {
   "cell_type": "code",
   "execution_count": 33,
   "metadata": {},
   "outputs": [
    {
     "data": {
      "text/html": [
       "<div>\n",
       "<style scoped>\n",
       "    .dataframe tbody tr th:only-of-type {\n",
       "        vertical-align: middle;\n",
       "    }\n",
       "\n",
       "    .dataframe tbody tr th {\n",
       "        vertical-align: top;\n",
       "    }\n",
       "\n",
       "    .dataframe thead th {\n",
       "        text-align: right;\n",
       "    }\n",
       "</style>\n",
       "<table border=\"1\" class=\"dataframe\">\n",
       "  <thead>\n",
       "    <tr style=\"text-align: right;\">\n",
       "      <th></th>\n",
       "      <th>city</th>\n",
       "      <th>temperature</th>\n",
       "      <th>category</th>\n",
       "      <th>Scale</th>\n",
       "    </tr>\n",
       "  </thead>\n",
       "  <tbody>\n",
       "    <tr>\n",
       "      <th>0</th>\n",
       "      <td>Dubai</td>\n",
       "      <td>33.0</td>\n",
       "      <td>Low</td>\n",
       "      <td>1</td>\n",
       "    </tr>\n",
       "    <tr>\n",
       "      <th>1</th>\n",
       "      <td>London</td>\n",
       "      <td>12.0</td>\n",
       "      <td>Low</td>\n",
       "      <td>1</td>\n",
       "    </tr>\n",
       "    <tr>\n",
       "      <th>2</th>\n",
       "      <td>San Francisco</td>\n",
       "      <td>18.0</td>\n",
       "      <td>Medium</td>\n",
       "      <td>2</td>\n",
       "    </tr>\n",
       "    <tr>\n",
       "      <th>3</th>\n",
       "      <td>Milano</td>\n",
       "      <td>18.0</td>\n",
       "      <td>High</td>\n",
       "      <td>3</td>\n",
       "    </tr>\n",
       "    <tr>\n",
       "      <th>4</th>\n",
       "      <td>Roma</td>\n",
       "      <td>20.0</td>\n",
       "      <td>High</td>\n",
       "      <td>3</td>\n",
       "    </tr>\n",
       "    <tr>\n",
       "      <th>5</th>\n",
       "      <td>Parigi</td>\n",
       "      <td>16.0</td>\n",
       "      <td>None</td>\n",
       "      <td>None</td>\n",
       "    </tr>\n",
       "    <tr>\n",
       "      <th>6</th>\n",
       "      <td>Biella</td>\n",
       "      <td>13.0</td>\n",
       "      <td>High</td>\n",
       "      <td>3</td>\n",
       "    </tr>\n",
       "  </tbody>\n",
       "</table>\n",
       "</div>"
      ],
      "text/plain": [
       "            city  temperature category Scale\n",
       "0          Dubai         33.0      Low     1\n",
       "1         London         12.0      Low     1\n",
       "2  San Francisco         18.0   Medium     2\n",
       "3         Milano         18.0     High     3\n",
       "4           Roma         20.0     High     3\n",
       "5         Parigi         16.0     None  None\n",
       "6         Biella         13.0     High     3"
      ]
     },
     "execution_count": 33,
     "metadata": {},
     "output_type": "execute_result"
    }
   ],
   "source": [
    "# Map feature values to scale\n",
    "df_ordinal['Scale'] = df_ordinal['category'].replace(scale_mapper)\n",
    "\n",
    "# View data frame\n",
    "df_ordinal"
   ]
  },
  {
   "cell_type": "markdown",
   "metadata": {},
   "source": [
    "<a id='discretization'></a>\n",
    "## Discretize Data"
   ]
  },
  {
   "cell_type": "markdown",
   "metadata": {},
   "source": [
    "Discretization (otherwise known as quantization or binning) provides a way to partition continuous features into discrete values. Certain datasets with continuous features may benefit from discretization, because discretization can transform the dataset of continuous attributes to one with only nominal attributes."
   ]
  },
  {
   "cell_type": "markdown",
   "metadata": {},
   "source": [
    "One-hot encoded discretized features can make a model more expressive, while maintaining interpretability. For instance, pre-processing with a discretizer can introduce nonlinearity to linear models."
   ]
  },
  {
   "cell_type": "code",
   "execution_count": 34,
   "metadata": {},
   "outputs": [
    {
     "data": {
      "text/plain": [
       "array([[33.],\n",
       "       [12.],\n",
       "       [18.],\n",
       "       [18.],\n",
       "       [20.],\n",
       "       [16.],\n",
       "       [13.]])"
      ]
     },
     "execution_count": 34,
     "metadata": {},
     "output_type": "execute_result"
    }
   ],
   "source": [
    "df_numerical = np.array(df['temperature'].tolist())\n",
    "df_numerical = df_numerical.reshape(-1,1)\n",
    "df_numerical"
   ]
  },
  {
   "cell_type": "code",
   "execution_count": 35,
   "metadata": {},
   "outputs": [],
   "source": [
    "est = preprocessing.KBinsDiscretizer(n_bins=3,encode='ordinal')"
   ]
  },
  {
   "cell_type": "code",
   "execution_count": 36,
   "metadata": {},
   "outputs": [
    {
     "data": {
      "text/plain": [
       "KBinsDiscretizer(encode='ordinal', n_bins=3, strategy='quantile')"
      ]
     },
     "execution_count": 36,
     "metadata": {},
     "output_type": "execute_result"
    }
   ],
   "source": [
    "est.fit(df_numerical)"
   ]
  },
  {
   "cell_type": "code",
   "execution_count": 37,
   "metadata": {},
   "outputs": [
    {
     "name": "stdout",
     "output_type": "stream",
     "text": [
      "[[2.]\n",
      " [0.]\n",
      " [2.]\n",
      " [2.]\n",
      " [2.]\n",
      " [1.]\n",
      " [0.]]\n"
     ]
    }
   ],
   "source": [
    "result = est.transform(df_numerical)\n",
    "print(result)"
   ]
  },
  {
   "cell_type": "markdown",
   "metadata": {},
   "source": [
    "<a id='numerical'></a>\n",
    "## Numerical Data"
   ]
  },
  {
   "cell_type": "markdown",
   "metadata": {},
   "source": [
    "Standardization of datasets is a common requirement for many machine learning estimators implemented in scikit-learn; they might behave badly if the individual features do not more or less look like standard normally distributed data: Gaussian with zero mean and unit variance.\n",
    "\n",
    "In practice we often ignore the shape of the distribution and just transform the data to center it by removing the mean value of each feature, then scale it by dividing non-constant features by their standard deviation."
   ]
  },
  {
   "cell_type": "code",
   "execution_count": 38,
   "metadata": {},
   "outputs": [
    {
     "data": {
      "text/plain": [
       "array([[ 1., -1.,  2.],\n",
       "       [ 3.,  5., 12.],\n",
       "       [ 2.,  0.,  0.],\n",
       "       [ 0.,  1., -1.],\n",
       "       [ 5., 12., 67.],\n",
       "       [42.,  5.,  3.]])"
      ]
     },
     "execution_count": 38,
     "metadata": {},
     "output_type": "execute_result"
    }
   ],
   "source": [
    "from sklearn import preprocessing\n",
    "import numpy as np\n",
    "X_train = np.array([[ 1., -1.,  2.],[3,5,12],[ 2.,  0.,  0.],[ 0.,  1., -1.],[5,12,67],[42,5,3]])\n",
    "X_train"
   ]
  },
  {
   "cell_type": "code",
   "execution_count": 39,
   "metadata": {},
   "outputs": [
    {
     "data": {
      "text/plain": [
       "StandardScaler(copy=True, with_mean=True, with_std=True)"
      ]
     },
     "execution_count": 39,
     "metadata": {},
     "output_type": "execute_result"
    }
   ],
   "source": [
    "scaler = preprocessing.StandardScaler().fit(X_train)\n",
    "scaler"
   ]
  },
  {
   "cell_type": "code",
   "execution_count": 40,
   "metadata": {},
   "outputs": [
    {
     "name": "stdout",
     "output_type": "stream",
     "text": [
      "Mean: [ 8.83333333  3.66666667 13.83333333]\n",
      "Scale: [14.91550275  4.38431548 24.14826886]\n"
     ]
    }
   ],
   "source": [
    "print(f'Mean: {scaler.mean_}')\n",
    "print(f'Scale: {scaler.scale_}')"
   ]
  },
  {
   "cell_type": "code",
   "execution_count": 41,
   "metadata": {},
   "outputs": [
    {
     "data": {
      "text/plain": [
       "array([[-0.52518064, -1.06440029, -0.49002823],\n",
       "       [-0.39109197,  0.30411437, -0.07591987],\n",
       "       [-0.45813631, -0.83631451, -0.5728499 ],\n",
       "       [-0.59222498, -0.60822874, -0.61426073],\n",
       "       [-0.25700329,  1.9007148 ,  2.20167611],\n",
       "       [ 2.22363719,  0.30411437, -0.44861739]])"
      ]
     },
     "execution_count": 41,
     "metadata": {},
     "output_type": "execute_result"
    }
   ],
   "source": [
    "X_scaled = scaler.transform(X_train)\n",
    "X_scaled"
   ]
  },
  {
   "cell_type": "markdown",
   "metadata": {},
   "source": [
    "Scaled data has zero mean and unit variance"
   ]
  },
  {
   "cell_type": "code",
   "execution_count": 42,
   "metadata": {},
   "outputs": [
    {
     "name": "stdout",
     "output_type": "stream",
     "text": [
      "Scaled mean:[0.00000000e+00 7.40148683e-17 0.00000000e+00]\n"
     ]
    }
   ],
   "source": [
    "print(f'Scaled mean:{X_scaled.mean(axis=0)}')"
   ]
  },
  {
   "cell_type": "code",
   "execution_count": 43,
   "metadata": {},
   "outputs": [
    {
     "name": "stdout",
     "output_type": "stream",
     "text": [
      "Standard Deviation: [1. 1. 1.]\n"
     ]
    }
   ],
   "source": [
    "print(f'Standard Deviation: {X_scaled.std(axis=0)}')"
   ]
  },
  {
   "cell_type": "markdown",
   "metadata": {},
   "source": [
    "#### MinMaxScaler"
   ]
  },
  {
   "cell_type": "markdown",
   "metadata": {},
   "source": [
    "An alternative standardization is scaling features to lie between a given minimum and maximum value, often between zero and one, or so that the maximum absolute value of each feature is scaled to unit size. This can be achieved using MinMaxScaler or MaxAbsScaler, respectively.\n",
    "\n",
    "The motivation to use this scaling include robustness to very small standard deviations of features and preserving zero entries in sparse data."
   ]
  },
  {
   "cell_type": "code",
   "execution_count": 45,
   "metadata": {},
   "outputs": [
    {
     "data": {
      "text/plain": [
       "array([[ 1., -1.,  2.],\n",
       "       [ 3.,  5., 12.],\n",
       "       [ 2.,  0.,  0.],\n",
       "       [ 0.,  1., -1.],\n",
       "       [ 5., 12., 67.],\n",
       "       [42.,  5.,  3.]])"
      ]
     },
     "execution_count": 45,
     "metadata": {},
     "output_type": "execute_result"
    }
   ],
   "source": [
    "X_train"
   ]
  },
  {
   "cell_type": "code",
   "execution_count": 46,
   "metadata": {},
   "outputs": [
    {
     "data": {
      "text/plain": [
       "array([[0.02380952, 0.        , 0.04411765],\n",
       "       [0.07142857, 0.46153846, 0.19117647],\n",
       "       [0.04761905, 0.07692308, 0.01470588],\n",
       "       [0.        , 0.15384615, 0.        ],\n",
       "       [0.11904762, 1.        , 1.        ],\n",
       "       [1.        , 0.46153846, 0.05882353]])"
      ]
     },
     "execution_count": 46,
     "metadata": {},
     "output_type": "execute_result"
    }
   ],
   "source": [
    "min_max_scaler = preprocessing.MinMaxScaler()\n",
    "X_train_minmax = min_max_scaler.fit_transform(X_train)\n",
    "X_train_minmax"
   ]
  },
  {
   "cell_type": "markdown",
   "metadata": {},
   "source": [
    "It is possible to introspect the scaler attributes to find about the exact nature of the transformation learned on the training data:"
   ]
  },
  {
   "cell_type": "code",
   "execution_count": 47,
   "metadata": {},
   "outputs": [
    {
     "name": "stdout",
     "output_type": "stream",
     "text": [
      "Scale: [0.02380952 0.07692308 0.01470588]\n",
      "Min: [0.         0.07692308 0.01470588]\n"
     ]
    }
   ],
   "source": [
    "print(f'Scale: {min_max_scaler.scale_}')\n",
    "print(f'Min: {min_max_scaler.min_}')"
   ]
  },
  {
   "cell_type": "markdown",
   "metadata": {},
   "source": [
    "**MaxAbsScaler** works in a very similar fashion, but scales in a way that the training data lies within the range [-1, 1] by dividing through the largest maximum value in each feature. It is meant for data that is already centered at zero or sparse data"
   ]
  },
  {
   "cell_type": "markdown",
   "metadata": {},
   "source": [
    "Centering sparse data would destroy the sparseness structure in the data, and thus rarely is a sensible thing to do. However, it can make sense to scale sparse inputs, especially if features are on different scales.\n",
    "\n",
    "MaxAbsScaler and maxabs_scale were specifically designed for scaling sparse data, and are the recommended way to go about this. However, scale and StandardScaler can accept scipy.sparse matrices as input, as long as with_mean=False is explicitly passed to the constructor. Otherwise a ValueError will be raised as silently centering would break the sparsity and would often crash the execution by allocating excessive amounts of memory unintentionally. RobustScaler cannot be fitted to sparse inputs, but you can use the transform method on sparse inputs.\n",
    "\n",
    "https://scikit-learn.org/stable/modules/generated/sklearn.preprocessing.RobustScaler.html#sklearn.preprocessing.RobustScaler"
   ]
  },
  {
   "cell_type": "markdown",
   "metadata": {},
   "source": [
    "**Working with outliers** \\\n",
    "If your data contains many outliers, scaling using the mean and variance of the data is likely to not work very well. In these cases, you can use robust_scale and RobustScaler as drop-in replacements instead. They use more robust estimates for the center and range of your data."
   ]
  },
  {
   "cell_type": "markdown",
   "metadata": {},
   "source": [
    "It is sometimes not enough to center and scale the features independently, since a downstream model can further make some assumption on the linear independence of the features.\n",
    "To address this issue you can use sklearn.decomposition.PCA with whiten=True to further remove the linear correlation across features."
   ]
  },
  {
   "cell_type": "markdown",
   "metadata": {},
   "source": [
    "#### Normalization"
   ]
  },
  {
   "cell_type": "markdown",
   "metadata": {},
   "source": [
    "Normalization is the process of scaling individual samples to have unit norm. This process can be useful if you plan to use a quadratic form such as the dot-product or any other kernel to quantify the similarity of any pair of samples."
   ]
  },
  {
   "cell_type": "code",
   "execution_count": 350,
   "metadata": {},
   "outputs": [
    {
     "data": {
      "text/plain": [
       "array([[ 0.40824829, -0.40824829,  0.81649658],\n",
       "       [ 0.22485951,  0.37476584,  0.89943803],\n",
       "       [ 1.        ,  0.        ,  0.        ],\n",
       "       [ 0.        ,  0.70710678, -0.70710678],\n",
       "       [ 0.07326056,  0.17582536,  0.98169157],\n",
       "       [ 0.99049992,  0.11791666,  0.07074999]])"
      ]
     },
     "execution_count": 350,
     "metadata": {},
     "output_type": "execute_result"
    }
   ],
   "source": [
    "X_normalized = preprocessing.normalize(X_train)\n",
    "X_normalized"
   ]
  },
  {
   "cell_type": "markdown",
   "metadata": {},
   "source": [
    "si può usare così oppure sempre attraverso le solite funzioni con fit e transform"
   ]
  },
  {
   "cell_type": "markdown",
   "metadata": {},
   "source": [
    "<a id='custom'></a>\n",
    "## Custom Transformation"
   ]
  },
  {
   "cell_type": "markdown",
   "metadata": {},
   "source": [
    "Often, you will want to convert an existing Python function into a transformer to assist in data cleaning or processing. You can implement a transformer from an arbitrary function with FunctionTransformer. For example, to build a transformer that applies a log transformation in a pipeline, do:"
   ]
  },
  {
   "cell_type": "code",
   "execution_count": 326,
   "metadata": {},
   "outputs": [
    {
     "data": {
      "text/plain": [
       "array([[0.        , 0.69314718],\n",
       "       [1.09861229, 1.38629436]])"
      ]
     },
     "execution_count": 326,
     "metadata": {},
     "output_type": "execute_result"
    }
   ],
   "source": [
    "import numpy as np\n",
    "from sklearn.preprocessing import FunctionTransformer\n",
    "transformer = FunctionTransformer(np.log1p, validate=True)\n",
    "X = np.array([[0, 1], [2, 3]])\n",
    "transformer.transform(X)"
   ]
  },
  {
   "cell_type": "markdown",
   "metadata": {},
   "source": [
    "It is very fast and convenient to use sklearn and numpy to make these transformations, instead of implementing custom code using for example the for"
   ]
  },
  {
   "cell_type": "markdown",
   "metadata": {},
   "source": [
    "#### Nota sulle trasformazioni in un progetto di Data Science\n",
    "\n",
    "Bisogna sempre fare molta attenzione con le trasformazioni.  \n",
    "Spesso in una pipeline (in particolare nella fase di predizione con nuovi dati) è necessario ricondursi nuovamente ai dati originali.\n",
    "Oppure è importante trovare il modo di trasformare nuovi dati che non ci sono nel dataset in input come ad esempio delle città che non sono state utilizzate nel training.\n",
    "\n",
    "\n"
   ]
  },
  {
   "cell_type": "markdown",
   "metadata": {},
   "source": [
    "-------------"
   ]
  },
  {
   "cell_type": "markdown",
   "metadata": {},
   "source": [
    "<a id='transforming'></a>\n",
    "# Transforming\n",
    "\n",
    "During the data gathering phase, your goal was to record as much data about your observations as possible since you never know which features are going to end up being the golden ones that allow your machine learning algorithm to succeed. Due to this, there usually are a few redundant or even poor features in your dataset. <br>\n",
    "*To be effective, many machine learning algorithms need their input data to be discerning, discriminating and independent.* <br>\n",
    "In this notebook, we are going to discover methods to get your data behaving like that using transformers. This will help improve your own knowledge of your data, as well as improve your machine learning algorithm's performance.\n"
   ]
  },
  {
   "cell_type": "markdown",
   "metadata": {},
   "source": [
    "<a id='linearity'></a>\n",
    "## 0) Linearity VS Non-linearity"
   ]
  },
  {
   "cell_type": "markdown",
   "metadata": {},
   "source": [
    "Checking the linearity or non-linearity of the dataset you are working with is fundamental to understand what kind of transformations, but above all, which models or functions you can apply. \\\n",
    "How can you then verify the linearity or non-linearity of a dataset?"
   ]
  },
  {
   "cell_type": "markdown",
   "metadata": {},
   "source": [
    "**Funzione lineare** = can be simply defined as: input / output = constant\n",
    "\n",
    "A linear equation is always a polynomial of degree 1 (for example x+2y+3=0). In the two dimensional cases, they always form lines; in other dimensions, they might also form planes, points, or hyperplanes. Their \"shape\" is always perfectly straight, with no curves of any kind. This is why we call them linear equations."
   ]
  },
  {
   "cell_type": "markdown",
   "metadata": {},
   "source": [
    "**Funzione non lineare** = Any function that is not linear is simply put, Non linear. \\\n",
    "Higher degree polynomials are nonlinear. Trigonometric functions (like sin or cos) are non linear. Square roots are non linear."
   ]
  },
  {
   "cell_type": "markdown",
   "metadata": {},
   "source": [
    "To found if a dataset is linear or not you can use Graphs. \\\n",
    "Graphs are easy if we have a single dimension (not always as we will see here) but how to takle multiple dimensional datasets?"
   ]
  },
  {
   "cell_type": "code",
   "execution_count": 48,
   "metadata": {},
   "outputs": [],
   "source": [
    "#Generating some data\n",
    "import numpy as np\n",
    "X = np.random.randn(1,100)\n",
    "c = np.random.uniform(-10,10,(100,))\n",
    "\n",
    "Y = 4*X + c"
   ]
  },
  {
   "cell_type": "code",
   "execution_count": 49,
   "metadata": {},
   "outputs": [
    {
     "data": {
      "image/png": "[encoded data removed]",
      "text/plain": [
       "<Figure size 432x288 with 1 Axes>"
      ]
     },
     "metadata": {
      "needs_background": "light"
     },
     "output_type": "display_data"
    }
   ],
   "source": [
    "#Plot the data generated\n",
    "import matplotlib.pyplot as plt\n",
    "plt.scatter(X,Y)\n",
    "plt.show()"
   ]
  },
  {
   "cell_type": "markdown",
   "metadata": {},
   "source": [
    "Come si può quindi vedere da questo esempio, non è sempre facile capire se una funzione è lineare oppure no."
   ]
  },
  {
   "cell_type": "markdown",
   "metadata": {},
   "source": [
    "Come risolvere quindi questo problema oltre all'approccio grafico?\n",
    "\n",
    "Un'idea è quello di fare ricorso allo Square Error.\n",
    "Se lo square error sarà alto il dataset sarà meno lineare, mentre se lo square error sarà basso e prossimo allo zero presenterà delle linearità"
   ]
  },
  {
   "cell_type": "code",
   "execution_count": 51,
   "metadata": {},
   "outputs": [
    {
     "data": {
      "image/png": "[encoded data removed]",
      "text/plain": [
       "<Figure size 432x288 with 1 Axes>"
      ]
     },
     "metadata": {
      "needs_background": "light"
     },
     "output_type": "display_data"
    },
    {
     "data": {
      "image/png": "[encoded data removed]",
      "text/plain": [
       "<Figure size 432x288 with 1 Axes>"
      ]
     },
     "metadata": {
      "needs_background": "light"
     },
     "output_type": "display_data"
    },
    {
     "name": "stdout",
     "output_type": "stream",
     "text": [
      "0.875467311114918\n"
     ]
    }
   ],
   "source": [
    "#LINEAR DATASET CHECK\n",
    "import numpy as np\n",
    "import pandas as pd\n",
    "import matplotlib.pyplot as plt\n",
    "\n",
    "#Generatig data\n",
    "X = np.random.randn(100,1)\n",
    "c = np.random.uniform(-10,10,(100,))\n",
    "\n",
    "#adding another linear column\n",
    "X = np.hstack((X,4*X))\n",
    "\n",
    "Y = (4*X[:,1] + c)\n",
    "\n",
    "#Plot the results\n",
    "plt.scatter(X[:,0],Y)\n",
    "plt.show()\n",
    "plt.scatter(X[:,1],Y)\n",
    "plt.show()\n",
    "\n",
    "#Applying linear reg and check the accuracy\n",
    "from sklearn.linear_model import LinearRegression\n",
    "regressor_linear = LinearRegression().fit(X,Y)\n",
    "\n",
    "#Check the accuracy\n",
    "from sklearn.metrics import r2_score\n",
    "print(r2_score(regressor_linear.predict(X),Y))"
   ]
  },
  {
   "cell_type": "code",
   "execution_count": 31,
   "metadata": {},
   "outputs": [
    {
     "data": {
      "image/png": "[encoded data removed]",
      "text/plain": [
       "<Figure size 432x288 with 1 Axes>"
      ]
     },
     "metadata": {
      "needs_background": "light"
     },
     "output_type": "display_data"
    },
    {
     "data": {
      "image/png": "[encoded data removed]",
      "text/plain": [
       "<Figure size 432x288 with 1 Axes>"
      ]
     },
     "metadata": {
      "needs_background": "light"
     },
     "output_type": "display_data"
    },
    {
     "name": "stdout",
     "output_type": "stream",
     "text": [
      "-1.0407876484358458\n"
     ]
    }
   ],
   "source": [
    "#NON LINEAR DATASET CHECK\n",
    "\n",
    "#Generatig data\n",
    "X = np.random.randn(100,1)\n",
    "c = np.random.uniform(-10,10,(100,))\n",
    "\n",
    "#adding another non linear column\n",
    "X = np.hstack((X,X*X))\n",
    "\n",
    "Y = (4*X[:,1] + c)\n",
    "\n",
    "#Plot the results\n",
    "plt.scatter(X[:,0],Y)\n",
    "plt.show()\n",
    "plt.scatter(X[:,1],Y)\n",
    "plt.show()\n",
    "\n",
    "\n",
    "#Applying linear reg and check the accuracy\n",
    "from sklearn.linear_model import LinearRegression\n",
    "regressor_non_linear = LinearRegression().fit(X,Y)\n",
    "\n",
    "#Check the accuracy\n",
    "from sklearn.metrics import r2_score\n",
    "print(r2_score(regressor_non_linear.predict(X),Y))"
   ]
  },
  {
   "cell_type": "markdown",
   "metadata": {},
   "source": [
    "Come si può evidenziare dal grafico e dai valori di R2 il secondo dataset non è lineare in quanto presenta un R2 negativo e superiore (anche se di poco al precedente). \\\n",
    "Inoltre dal grafico potete vedere che le due feature di ogni dataset (le X) sono nel primo molto concentrate e seguono bene una retta lineare, mentre nel secondo sono molto sparsi (anche se in questo caso abbiamo dati generati casualmente)."
   ]
  },
  {
   "cell_type": "markdown",
   "metadata": {},
   "source": [
    "<a id='pca'></a>\n",
    "## 1) Principal Component Analysis - PCA\n",
    "PCA and other dimensionality reduction methods, have three main uses: <br>\n",
    "1) Reducing the dimensionality and thus complexity of your dataset; <br>\n",
    "2) Pre-process your data in preparation for other supervised learning tasks, such as regression and classification; <br>\n",
    "3) To make visualizing your data easier."
   ]
  },
  {
   "cell_type": "markdown",
   "metadata": {},
   "source": [
    "![alt text](Principal_Components_print.png \"PCA\")"
   ]
  },
  {
   "cell_type": "markdown",
   "metadata": {},
   "source": [
    "Principal Component Analysis (PCA), is a transformation that attempts to convert possibly correlated features into a set of linearly uncorrelated ones. <br>\n",
    "In many real-world datasets, we aren't aware of what specifically needs to be measured to address the issue driving our data collection. <br>\n",
    "So instead, we simply collect any feature we can measure, usually resulting in a higher dimensionality (*a lot of features of the dataset*) than what is truly needed. This is undesirable, but it's the only reliable way to ensure we capture the relationship modeled by our data. \n",
    "<br> \n",
    "<br>\n",
    "If we have reason to believe the question we want solved can be answered using a subset of our collected features, or if the features we've collected are actually many indirect observations of some inherent property we either cannot or do not know how to directly measure, then dimensionality reduction might work for us. <br>\n",
    "**PCA's approach to dimensionality reduction is to derive a set of degrees of freedom that can then be used to reproduce most of the variability of our data.** <br>\n",
    "By PCA, first find the center of our data, based off its numeric features. Next, it would search for the direction that has the most variance or widest spread of values. That direction is the principal component vector, so it is added to a list. By searching for more directions of maximal variance that are orthogonal to all previously computed vectors, more principal component can then be added to the list. <br>\n",
    "This set of vectors form a new feature space that can represent our samples with.<br>\n",
    "PCA ensures that each newly computed view (feature) is orthogonal or linearly independent to all previously computed ones, minimizing these overlaps. PCA also orders the features by importance, assuming that the more variance expressed in a feature, the more important said feature is.<br>\n",
    "With the newly computed features ordered by importance, dropping the least important features on the list intelligently reduces the number of dimensions needed to represent your dataset, with minimal loss of information. <br>\n",
    "The remain group of features are the *principal components*, and they are the best possible, linearly independent combination of features that we can use to describe your data. <br>"
   ]
  },
  {
   "cell_type": "markdown",
   "metadata": {},
   "source": [
    "![alt text](Principal_Component_Analysis_print.png \"PCA\")"
   ]
  },
  {
   "cell_type": "markdown",
   "metadata": {},
   "source": [
    "You can also follow this examples to have more explanations about PCA\n",
    "- https://scikit-learn.org/stable/modules/decomposition.html#kernel-pca"
   ]
  },
  {
   "cell_type": "markdown",
   "metadata": {},
   "source": [
    "Try to better understand PCA with an example:"
   ]
  },
  {
   "cell_type": "code",
   "execution_count": 52,
   "metadata": {},
   "outputs": [],
   "source": [
    "import pandas as pd\n",
    "import numpy as np\n",
    "import matplotlib.pyplot as plt\n",
    "import matplotlib\n",
    "import math, random\n",
    "\n",
    "from sklearn import preprocessing\n",
    "\n",
    "plt.style.use('ggplot')"
   ]
  },
  {
   "cell_type": "code",
   "execution_count": 53,
   "metadata": {},
   "outputs": [],
   "source": [
    "# Defining a function for scaling the features of a dataset\n",
    "\n",
    "def scaleFeaturesDF(df):\n",
    "    # Feature scaling is a type of transformation that only changes the\n",
    "    # scale, but not number of features. Because of this, we can still\n",
    "    # use the original dataset's column names... so long as we keep in\n",
    "    # mind that the _units_ have been altered:\n",
    "    \n",
    "    scaled = preprocessing.StandardScaler(with_mean = False).fit_transform(df)\n",
    "    scaled = pd.DataFrame(scaled, columns=df.columns)\n",
    "    print(\"New Variances:\\n\", scaled.var())\n",
    "    print(\"New Describe:\\n\", scaled.describe())\n",
    "    \n",
    "    return scaled"
   ]
  },
  {
   "cell_type": "markdown",
   "metadata": {},
   "source": [
    "SKLearn contains many methods for transforming our features by scaling them, a type of [pre-processing](http://scikit-learn.org/stable/modules/preprocessing.html#preprocessing-scaler)):\n",
    "- [`RobustScaler`](https://scikit-learn.org/stable/modules/generated/sklearn.preprocessing.RobustScaler.html)\n",
    "- [`Normalizer`](https://scikit-learn.org/stable/modules/generated/sklearn.preprocessing.Normalizer.html#sklearn.preprocessing.Normalizer)\n",
    "- [`MinMaxScaler`](https://scikit-learn.org/stable/modules/generated/sklearn.preprocessing.MinMaxScaler.html)\n",
    "- [`MaxAbsScaler`](https://scikit-learn.org/stable/modules/generated/sklearn.preprocessing.MaxAbsScaler.html)\n",
    "- [`StandardScaler`](http://scikit-learn.org/stable/modules/generated/sklearn.preprocessing.StandardScaler.html#sklearn.preprocessing.StandardScaler)\n",
    "<br>\n",
    "\n",
    "However in order to be effective at PCA, there are a few requirements that must be met, and which will drive the selection of your scaler. **PCA requires our data is standardized**, in other words, *it's mean should equal 0, and it should have unit variance*.\n",
    "\n",
    "To understand why is important to scale the features, see this links:\n",
    "- https://www.researchgate.net/post/In_which_case_data_need_to_be_normalized_before_PCA_Cluster_analysis\n",
    "- https://stats.stackexchange.com/questions/69157/why-do-we-need-to-normalize-data-before-principal-component-analysis-pca/69159\n",
    "- https://stats.stackexchange.com/questions/53/pca-on-correlation-or-covariance\n",
    "- https://www.quora.com/Why-is-it-beneficial-to-center-and-normalize-the-data-before-running-Principal-Component-Analysis-on-it\n",
    "\n",
    "SKLearn's regular `Normalizer()` doesn't zero out the mean of your data, it only clamps it, so it could be inappropriate to use depending on your data. `MinMaxScaler` and `MaxAbsScaler` both fail to set a unit variance, so you won't be using them here either. `RobustScaler` can work, again depending on your data (watch for outliers!). So for this assignment, we're going to use the `StandardScaler`. "
   ]
  },
  {
   "cell_type": "code",
   "execution_count": 54,
   "metadata": {},
   "outputs": [],
   "source": [
    "# Defining a function for visualizations\n",
    "\n",
    "def drawVectors(transformed_features, components_, columns, plt, scaled):\n",
    "    if not scaled:\n",
    "        return plt.axes() # No cheating ;-)\n",
    "\n",
    "    num_columns = len(columns)\n",
    "\n",
    "    # This funtion will project your *original* feature (columns)\n",
    "    # onto your principal component feature-space, so that you can\n",
    "    # visualize how \"important\" each one was in the\n",
    "    # multi-dimensional scaling\n",
    "\n",
    "    # Scale the principal components by the max value in\n",
    "    # the transformed set belonging to that component\n",
    "    xvector = components_[0] * max(transformed_features[:,0])\n",
    "    yvector = components_[1] * max(transformed_features[:,1])\n",
    "\n",
    "    ## visualize projections\n",
    "\n",
    "    # Sort each column by it's length. These are your *original*\n",
    "    # columns, not the principal components.\n",
    "    important_features = { columns[i] : math.sqrt(xvector[i]**2 + yvector[i]**2) for i in range(num_columns) }\n",
    "    important_features = sorted(zip(important_features.values(), important_features.keys()), reverse=True)\n",
    "    print(\"Features by importance:\\n\", important_features)\n",
    "\n",
    "    ax = plt.axes()\n",
    "\n",
    "    for i in range(num_columns):\n",
    "        # Use an arrow to project each original feature as a\n",
    "        # labeled vector on your principal component axes\n",
    "        plt.arrow(0, 0, xvector[i], yvector[i], color='b', width=0.0005, head_width=0.02, alpha=0.75)\n",
    "        plt.text(xvector[i]*1.2, yvector[i]*1.2, list(columns)[i], color='b', alpha=0.75)\n",
    "\n",
    "    return ax\n"
   ]
  },
  {
   "cell_type": "code",
   "execution_count": 55,
   "metadata": {},
   "outputs": [],
   "source": [
    "scaleFeatures = True"
   ]
  },
  {
   "cell_type": "markdown",
   "metadata": {},
   "source": [
    "Load up the dataset for doing a PCA analysis. <br>\n",
    "We will use the dataset of [Chronic Kidney Disease](https://archive.ics.uci.edu/ml/datasets/Chronic_Kidney_Disease)"
   ]
  },
  {
   "cell_type": "code",
   "execution_count": 56,
   "metadata": {},
   "outputs": [
    {
     "data": {
      "text/html": [
       "<div>\n",
       "<style scoped>\n",
       "    .dataframe tbody tr th:only-of-type {\n",
       "        vertical-align: middle;\n",
       "    }\n",
       "\n",
       "    .dataframe tbody tr th {\n",
       "        vertical-align: top;\n",
       "    }\n",
       "\n",
       "    .dataframe thead th {\n",
       "        text-align: right;\n",
       "    }\n",
       "</style>\n",
       "<table border=\"1\" class=\"dataframe\">\n",
       "  <thead>\n",
       "    <tr style=\"text-align: right;\">\n",
       "      <th></th>\n",
       "      <th>id</th>\n",
       "      <th>age</th>\n",
       "      <th>bp</th>\n",
       "      <th>sg</th>\n",
       "      <th>al</th>\n",
       "      <th>su</th>\n",
       "      <th>rbc</th>\n",
       "      <th>pc</th>\n",
       "      <th>pcc</th>\n",
       "      <th>ba</th>\n",
       "      <th>...</th>\n",
       "      <th>pcv</th>\n",
       "      <th>wc</th>\n",
       "      <th>rc</th>\n",
       "      <th>htn</th>\n",
       "      <th>dm</th>\n",
       "      <th>cad</th>\n",
       "      <th>appet</th>\n",
       "      <th>pe</th>\n",
       "      <th>ane</th>\n",
       "      <th>classification</th>\n",
       "    </tr>\n",
       "  </thead>\n",
       "  <tbody>\n",
       "    <tr>\n",
       "      <th>0</th>\n",
       "      <td>0</td>\n",
       "      <td>48.0</td>\n",
       "      <td>80.0</td>\n",
       "      <td>1.020</td>\n",
       "      <td>1.0</td>\n",
       "      <td>0.0</td>\n",
       "      <td>NaN</td>\n",
       "      <td>normal</td>\n",
       "      <td>notpresent</td>\n",
       "      <td>notpresent</td>\n",
       "      <td>...</td>\n",
       "      <td>44</td>\n",
       "      <td>7800</td>\n",
       "      <td>5.2</td>\n",
       "      <td>yes</td>\n",
       "      <td>yes</td>\n",
       "      <td>no</td>\n",
       "      <td>good</td>\n",
       "      <td>no</td>\n",
       "      <td>no</td>\n",
       "      <td>ckd</td>\n",
       "    </tr>\n",
       "    <tr>\n",
       "      <th>1</th>\n",
       "      <td>1</td>\n",
       "      <td>7.0</td>\n",
       "      <td>50.0</td>\n",
       "      <td>1.020</td>\n",
       "      <td>4.0</td>\n",
       "      <td>0.0</td>\n",
       "      <td>NaN</td>\n",
       "      <td>normal</td>\n",
       "      <td>notpresent</td>\n",
       "      <td>notpresent</td>\n",
       "      <td>...</td>\n",
       "      <td>38</td>\n",
       "      <td>6000</td>\n",
       "      <td>NaN</td>\n",
       "      <td>no</td>\n",
       "      <td>no</td>\n",
       "      <td>no</td>\n",
       "      <td>good</td>\n",
       "      <td>no</td>\n",
       "      <td>no</td>\n",
       "      <td>ckd</td>\n",
       "    </tr>\n",
       "    <tr>\n",
       "      <th>2</th>\n",
       "      <td>2</td>\n",
       "      <td>62.0</td>\n",
       "      <td>80.0</td>\n",
       "      <td>1.010</td>\n",
       "      <td>2.0</td>\n",
       "      <td>3.0</td>\n",
       "      <td>normal</td>\n",
       "      <td>normal</td>\n",
       "      <td>notpresent</td>\n",
       "      <td>notpresent</td>\n",
       "      <td>...</td>\n",
       "      <td>31</td>\n",
       "      <td>7500</td>\n",
       "      <td>NaN</td>\n",
       "      <td>no</td>\n",
       "      <td>yes</td>\n",
       "      <td>no</td>\n",
       "      <td>poor</td>\n",
       "      <td>no</td>\n",
       "      <td>yes</td>\n",
       "      <td>ckd</td>\n",
       "    </tr>\n",
       "    <tr>\n",
       "      <th>3</th>\n",
       "      <td>3</td>\n",
       "      <td>48.0</td>\n",
       "      <td>70.0</td>\n",
       "      <td>1.005</td>\n",
       "      <td>4.0</td>\n",
       "      <td>0.0</td>\n",
       "      <td>normal</td>\n",
       "      <td>abnormal</td>\n",
       "      <td>present</td>\n",
       "      <td>notpresent</td>\n",
       "      <td>...</td>\n",
       "      <td>32</td>\n",
       "      <td>6700</td>\n",
       "      <td>3.9</td>\n",
       "      <td>yes</td>\n",
       "      <td>no</td>\n",
       "      <td>no</td>\n",
       "      <td>poor</td>\n",
       "      <td>yes</td>\n",
       "      <td>yes</td>\n",
       "      <td>ckd</td>\n",
       "    </tr>\n",
       "    <tr>\n",
       "      <th>4</th>\n",
       "      <td>4</td>\n",
       "      <td>51.0</td>\n",
       "      <td>80.0</td>\n",
       "      <td>1.010</td>\n",
       "      <td>2.0</td>\n",
       "      <td>0.0</td>\n",
       "      <td>normal</td>\n",
       "      <td>normal</td>\n",
       "      <td>notpresent</td>\n",
       "      <td>notpresent</td>\n",
       "      <td>...</td>\n",
       "      <td>35</td>\n",
       "      <td>7300</td>\n",
       "      <td>4.6</td>\n",
       "      <td>no</td>\n",
       "      <td>no</td>\n",
       "      <td>no</td>\n",
       "      <td>good</td>\n",
       "      <td>no</td>\n",
       "      <td>no</td>\n",
       "      <td>ckd</td>\n",
       "    </tr>\n",
       "  </tbody>\n",
       "</table>\n",
       "<p>5 rows × 26 columns</p>\n",
       "</div>"
      ],
      "text/plain": [
       "   id   age    bp     sg   al   su     rbc        pc         pcc          ba  \\\n",
       "0   0  48.0  80.0  1.020  1.0  0.0     NaN    normal  notpresent  notpresent   \n",
       "1   1   7.0  50.0  1.020  4.0  0.0     NaN    normal  notpresent  notpresent   \n",
       "2   2  62.0  80.0  1.010  2.0  3.0  normal    normal  notpresent  notpresent   \n",
       "3   3  48.0  70.0  1.005  4.0  0.0  normal  abnormal     present  notpresent   \n",
       "4   4  51.0  80.0  1.010  2.0  0.0  normal    normal  notpresent  notpresent   \n",
       "\n",
       "       ...        pcv    wc   rc  htn   dm  cad appet   pe  ane classification  \n",
       "0      ...         44  7800  5.2  yes  yes   no  good   no   no            ckd  \n",
       "1      ...         38  6000  NaN   no   no   no  good   no   no            ckd  \n",
       "2      ...         31  7500  NaN   no  yes   no  poor   no  yes            ckd  \n",
       "3      ...         32  6700  3.9  yes   no   no  poor  yes  yes            ckd  \n",
       "4      ...         35  7300  4.6   no   no   no  good   no   no            ckd  \n",
       "\n",
       "[5 rows x 26 columns]"
      ]
     },
     "execution_count": 56,
     "metadata": {},
     "output_type": "execute_result"
    }
   ],
   "source": [
    "kidn_dis = pd.read_csv('kidney_disease.csv')\n",
    "kidn_dis.head()"
   ]
  },
  {
   "cell_type": "code",
   "execution_count": 57,
   "metadata": {},
   "outputs": [
    {
     "data": {
      "text/html": [
       "<div>\n",
       "<style scoped>\n",
       "    .dataframe tbody tr th:only-of-type {\n",
       "        vertical-align: middle;\n",
       "    }\n",
       "\n",
       "    .dataframe tbody tr th {\n",
       "        vertical-align: top;\n",
       "    }\n",
       "\n",
       "    .dataframe thead th {\n",
       "        text-align: right;\n",
       "    }\n",
       "</style>\n",
       "<table border=\"1\" class=\"dataframe\">\n",
       "  <thead>\n",
       "    <tr style=\"text-align: right;\">\n",
       "      <th></th>\n",
       "      <th>id</th>\n",
       "      <th>age</th>\n",
       "      <th>bp</th>\n",
       "      <th>sg</th>\n",
       "      <th>al</th>\n",
       "      <th>su</th>\n",
       "      <th>bgr</th>\n",
       "      <th>bu</th>\n",
       "      <th>sc</th>\n",
       "      <th>sod</th>\n",
       "      <th>pot</th>\n",
       "      <th>hemo</th>\n",
       "    </tr>\n",
       "  </thead>\n",
       "  <tbody>\n",
       "    <tr>\n",
       "      <th>count</th>\n",
       "      <td>400.000000</td>\n",
       "      <td>391.000000</td>\n",
       "      <td>388.000000</td>\n",
       "      <td>353.000000</td>\n",
       "      <td>354.000000</td>\n",
       "      <td>351.000000</td>\n",
       "      <td>356.000000</td>\n",
       "      <td>381.000000</td>\n",
       "      <td>383.000000</td>\n",
       "      <td>313.000000</td>\n",
       "      <td>312.000000</td>\n",
       "      <td>348.000000</td>\n",
       "    </tr>\n",
       "    <tr>\n",
       "      <th>mean</th>\n",
       "      <td>199.500000</td>\n",
       "      <td>51.483376</td>\n",
       "      <td>76.469072</td>\n",
       "      <td>1.017408</td>\n",
       "      <td>1.016949</td>\n",
       "      <td>0.450142</td>\n",
       "      <td>148.036517</td>\n",
       "      <td>57.425722</td>\n",
       "      <td>3.072454</td>\n",
       "      <td>137.528754</td>\n",
       "      <td>4.627244</td>\n",
       "      <td>12.526437</td>\n",
       "    </tr>\n",
       "    <tr>\n",
       "      <th>std</th>\n",
       "      <td>115.614301</td>\n",
       "      <td>17.169714</td>\n",
       "      <td>13.683637</td>\n",
       "      <td>0.005717</td>\n",
       "      <td>1.352679</td>\n",
       "      <td>1.099191</td>\n",
       "      <td>79.281714</td>\n",
       "      <td>50.503006</td>\n",
       "      <td>5.741126</td>\n",
       "      <td>10.408752</td>\n",
       "      <td>3.193904</td>\n",
       "      <td>2.912587</td>\n",
       "    </tr>\n",
       "    <tr>\n",
       "      <th>min</th>\n",
       "      <td>0.000000</td>\n",
       "      <td>2.000000</td>\n",
       "      <td>50.000000</td>\n",
       "      <td>1.005000</td>\n",
       "      <td>0.000000</td>\n",
       "      <td>0.000000</td>\n",
       "      <td>22.000000</td>\n",
       "      <td>1.500000</td>\n",
       "      <td>0.400000</td>\n",
       "      <td>4.500000</td>\n",
       "      <td>2.500000</td>\n",
       "      <td>3.100000</td>\n",
       "    </tr>\n",
       "    <tr>\n",
       "      <th>25%</th>\n",
       "      <td>99.750000</td>\n",
       "      <td>42.000000</td>\n",
       "      <td>70.000000</td>\n",
       "      <td>1.010000</td>\n",
       "      <td>0.000000</td>\n",
       "      <td>0.000000</td>\n",
       "      <td>99.000000</td>\n",
       "      <td>27.000000</td>\n",
       "      <td>0.900000</td>\n",
       "      <td>135.000000</td>\n",
       "      <td>3.800000</td>\n",
       "      <td>10.300000</td>\n",
       "    </tr>\n",
       "    <tr>\n",
       "      <th>50%</th>\n",
       "      <td>199.500000</td>\n",
       "      <td>55.000000</td>\n",
       "      <td>80.000000</td>\n",
       "      <td>1.020000</td>\n",
       "      <td>0.000000</td>\n",
       "      <td>0.000000</td>\n",
       "      <td>121.000000</td>\n",
       "      <td>42.000000</td>\n",
       "      <td>1.300000</td>\n",
       "      <td>138.000000</td>\n",
       "      <td>4.400000</td>\n",
       "      <td>12.650000</td>\n",
       "    </tr>\n",
       "    <tr>\n",
       "      <th>75%</th>\n",
       "      <td>299.250000</td>\n",
       "      <td>64.500000</td>\n",
       "      <td>80.000000</td>\n",
       "      <td>1.020000</td>\n",
       "      <td>2.000000</td>\n",
       "      <td>0.000000</td>\n",
       "      <td>163.000000</td>\n",
       "      <td>66.000000</td>\n",
       "      <td>2.800000</td>\n",
       "      <td>142.000000</td>\n",
       "      <td>4.900000</td>\n",
       "      <td>15.000000</td>\n",
       "    </tr>\n",
       "    <tr>\n",
       "      <th>max</th>\n",
       "      <td>399.000000</td>\n",
       "      <td>90.000000</td>\n",
       "      <td>180.000000</td>\n",
       "      <td>1.025000</td>\n",
       "      <td>5.000000</td>\n",
       "      <td>5.000000</td>\n",
       "      <td>490.000000</td>\n",
       "      <td>391.000000</td>\n",
       "      <td>76.000000</td>\n",
       "      <td>163.000000</td>\n",
       "      <td>47.000000</td>\n",
       "      <td>17.800000</td>\n",
       "    </tr>\n",
       "  </tbody>\n",
       "</table>\n",
       "</div>"
      ],
      "text/plain": [
       "               id         age          bp          sg          al          su  \\\n",
       "count  400.000000  391.000000  388.000000  353.000000  354.000000  351.000000   \n",
       "mean   199.500000   51.483376   76.469072    1.017408    1.016949    0.450142   \n",
       "std    115.614301   17.169714   13.683637    0.005717    1.352679    1.099191   \n",
       "min      0.000000    2.000000   50.000000    1.005000    0.000000    0.000000   \n",
       "25%     99.750000   42.000000   70.000000    1.010000    0.000000    0.000000   \n",
       "50%    199.500000   55.000000   80.000000    1.020000    0.000000    0.000000   \n",
       "75%    299.250000   64.500000   80.000000    1.020000    2.000000    0.000000   \n",
       "max    399.000000   90.000000  180.000000    1.025000    5.000000    5.000000   \n",
       "\n",
       "              bgr          bu          sc         sod         pot        hemo  \n",
       "count  356.000000  381.000000  383.000000  313.000000  312.000000  348.000000  \n",
       "mean   148.036517   57.425722    3.072454  137.528754    4.627244   12.526437  \n",
       "std     79.281714   50.503006    5.741126   10.408752    3.193904    2.912587  \n",
       "min     22.000000    1.500000    0.400000    4.500000    2.500000    3.100000  \n",
       "25%     99.000000   27.000000    0.900000  135.000000    3.800000   10.300000  \n",
       "50%    121.000000   42.000000    1.300000  138.000000    4.400000   12.650000  \n",
       "75%    163.000000   66.000000    2.800000  142.000000    4.900000   15.000000  \n",
       "max    490.000000  391.000000   76.000000  163.000000   47.000000   17.800000  "
      ]
     },
     "execution_count": 57,
     "metadata": {},
     "output_type": "execute_result"
    }
   ],
   "source": [
    "kidn_dis.describe()"
   ]
  },
  {
   "cell_type": "code",
   "execution_count": 58,
   "metadata": {},
   "outputs": [
    {
     "name": "stdout",
     "output_type": "stream",
     "text": [
      "Shape of the dataset: (400, 26)\n"
     ]
    }
   ],
   "source": [
    "# Investigating the main characteristic of the dataset\n",
    "\n",
    "print(\"Shape of the dataset:\", kidn_dis.shape)\n"
   ]
  },
  {
   "cell_type": "code",
   "execution_count": 59,
   "metadata": {},
   "outputs": [
    {
     "data": {
      "text/plain": [
       "Index(['id', 'age', 'bp', 'sg', 'al', 'su', 'rbc', 'pc', 'pcc', 'ba', 'bgr',\n",
       "       'bu', 'sc', 'sod', 'pot', 'hemo', 'pcv', 'wc', 'rc', 'htn', 'dm', 'cad',\n",
       "       'appet', 'pe', 'ane', 'classification'],\n",
       "      dtype='object')"
      ]
     },
     "execution_count": 59,
     "metadata": {},
     "output_type": "execute_result"
    }
   ],
   "source": [
    "kidn_dis.columns"
   ]
  },
  {
   "cell_type": "code",
   "execution_count": 60,
   "metadata": {},
   "outputs": [
    {
     "data": {
      "text/plain": [
       "id                  int64\n",
       "age               float64\n",
       "bp                float64\n",
       "sg                float64\n",
       "al                float64\n",
       "su                float64\n",
       "rbc                object\n",
       "pc                 object\n",
       "pcc                object\n",
       "ba                 object\n",
       "bgr               float64\n",
       "bu                float64\n",
       "sc                float64\n",
       "sod               float64\n",
       "pot               float64\n",
       "hemo              float64\n",
       "pcv                object\n",
       "wc                 object\n",
       "rc                 object\n",
       "htn                object\n",
       "dm                 object\n",
       "cad                object\n",
       "appet              object\n",
       "pe                 object\n",
       "ane                object\n",
       "classification     object\n",
       "dtype: object"
      ]
     },
     "execution_count": 60,
     "metadata": {},
     "output_type": "execute_result"
    }
   ],
   "source": [
    "kidn_dis.dtypes"
   ]
  },
  {
   "cell_type": "code",
   "execution_count": 61,
   "metadata": {},
   "outputs": [
    {
     "data": {
      "text/html": [
       "<div>\n",
       "<style scoped>\n",
       "    .dataframe tbody tr th:only-of-type {\n",
       "        vertical-align: middle;\n",
       "    }\n",
       "\n",
       "    .dataframe tbody tr th {\n",
       "        vertical-align: top;\n",
       "    }\n",
       "\n",
       "    .dataframe thead th {\n",
       "        text-align: right;\n",
       "    }\n",
       "</style>\n",
       "<table border=\"1\" class=\"dataframe\">\n",
       "  <thead>\n",
       "    <tr style=\"text-align: right;\">\n",
       "      <th></th>\n",
       "      <th>id</th>\n",
       "      <th>age</th>\n",
       "      <th>bp</th>\n",
       "      <th>sg</th>\n",
       "      <th>al</th>\n",
       "      <th>su</th>\n",
       "      <th>bgr</th>\n",
       "      <th>bu</th>\n",
       "      <th>sc</th>\n",
       "      <th>sod</th>\n",
       "      <th>pot</th>\n",
       "      <th>hemo</th>\n",
       "    </tr>\n",
       "  </thead>\n",
       "  <tbody>\n",
       "    <tr>\n",
       "      <th>count</th>\n",
       "      <td>400.000000</td>\n",
       "      <td>391.000000</td>\n",
       "      <td>388.000000</td>\n",
       "      <td>353.000000</td>\n",
       "      <td>354.000000</td>\n",
       "      <td>351.000000</td>\n",
       "      <td>356.000000</td>\n",
       "      <td>381.000000</td>\n",
       "      <td>383.000000</td>\n",
       "      <td>313.000000</td>\n",
       "      <td>312.000000</td>\n",
       "      <td>348.000000</td>\n",
       "    </tr>\n",
       "    <tr>\n",
       "      <th>mean</th>\n",
       "      <td>199.500000</td>\n",
       "      <td>51.483376</td>\n",
       "      <td>76.469072</td>\n",
       "      <td>1.017408</td>\n",
       "      <td>1.016949</td>\n",
       "      <td>0.450142</td>\n",
       "      <td>148.036517</td>\n",
       "      <td>57.425722</td>\n",
       "      <td>3.072454</td>\n",
       "      <td>137.528754</td>\n",
       "      <td>4.627244</td>\n",
       "      <td>12.526437</td>\n",
       "    </tr>\n",
       "    <tr>\n",
       "      <th>std</th>\n",
       "      <td>115.614301</td>\n",
       "      <td>17.169714</td>\n",
       "      <td>13.683637</td>\n",
       "      <td>0.005717</td>\n",
       "      <td>1.352679</td>\n",
       "      <td>1.099191</td>\n",
       "      <td>79.281714</td>\n",
       "      <td>50.503006</td>\n",
       "      <td>5.741126</td>\n",
       "      <td>10.408752</td>\n",
       "      <td>3.193904</td>\n",
       "      <td>2.912587</td>\n",
       "    </tr>\n",
       "    <tr>\n",
       "      <th>min</th>\n",
       "      <td>0.000000</td>\n",
       "      <td>2.000000</td>\n",
       "      <td>50.000000</td>\n",
       "      <td>1.005000</td>\n",
       "      <td>0.000000</td>\n",
       "      <td>0.000000</td>\n",
       "      <td>22.000000</td>\n",
       "      <td>1.500000</td>\n",
       "      <td>0.400000</td>\n",
       "      <td>4.500000</td>\n",
       "      <td>2.500000</td>\n",
       "      <td>3.100000</td>\n",
       "    </tr>\n",
       "    <tr>\n",
       "      <th>25%</th>\n",
       "      <td>99.750000</td>\n",
       "      <td>42.000000</td>\n",
       "      <td>70.000000</td>\n",
       "      <td>1.010000</td>\n",
       "      <td>0.000000</td>\n",
       "      <td>0.000000</td>\n",
       "      <td>99.000000</td>\n",
       "      <td>27.000000</td>\n",
       "      <td>0.900000</td>\n",
       "      <td>135.000000</td>\n",
       "      <td>3.800000</td>\n",
       "      <td>10.300000</td>\n",
       "    </tr>\n",
       "    <tr>\n",
       "      <th>50%</th>\n",
       "      <td>199.500000</td>\n",
       "      <td>55.000000</td>\n",
       "      <td>80.000000</td>\n",
       "      <td>1.020000</td>\n",
       "      <td>0.000000</td>\n",
       "      <td>0.000000</td>\n",
       "      <td>121.000000</td>\n",
       "      <td>42.000000</td>\n",
       "      <td>1.300000</td>\n",
       "      <td>138.000000</td>\n",
       "      <td>4.400000</td>\n",
       "      <td>12.650000</td>\n",
       "    </tr>\n",
       "    <tr>\n",
       "      <th>75%</th>\n",
       "      <td>299.250000</td>\n",
       "      <td>64.500000</td>\n",
       "      <td>80.000000</td>\n",
       "      <td>1.020000</td>\n",
       "      <td>2.000000</td>\n",
       "      <td>0.000000</td>\n",
       "      <td>163.000000</td>\n",
       "      <td>66.000000</td>\n",
       "      <td>2.800000</td>\n",
       "      <td>142.000000</td>\n",
       "      <td>4.900000</td>\n",
       "      <td>15.000000</td>\n",
       "    </tr>\n",
       "    <tr>\n",
       "      <th>max</th>\n",
       "      <td>399.000000</td>\n",
       "      <td>90.000000</td>\n",
       "      <td>180.000000</td>\n",
       "      <td>1.025000</td>\n",
       "      <td>5.000000</td>\n",
       "      <td>5.000000</td>\n",
       "      <td>490.000000</td>\n",
       "      <td>391.000000</td>\n",
       "      <td>76.000000</td>\n",
       "      <td>163.000000</td>\n",
       "      <td>47.000000</td>\n",
       "      <td>17.800000</td>\n",
       "    </tr>\n",
       "  </tbody>\n",
       "</table>\n",
       "</div>"
      ],
      "text/plain": [
       "               id         age          bp          sg          al          su  \\\n",
       "count  400.000000  391.000000  388.000000  353.000000  354.000000  351.000000   \n",
       "mean   199.500000   51.483376   76.469072    1.017408    1.016949    0.450142   \n",
       "std    115.614301   17.169714   13.683637    0.005717    1.352679    1.099191   \n",
       "min      0.000000    2.000000   50.000000    1.005000    0.000000    0.000000   \n",
       "25%     99.750000   42.000000   70.000000    1.010000    0.000000    0.000000   \n",
       "50%    199.500000   55.000000   80.000000    1.020000    0.000000    0.000000   \n",
       "75%    299.250000   64.500000   80.000000    1.020000    2.000000    0.000000   \n",
       "max    399.000000   90.000000  180.000000    1.025000    5.000000    5.000000   \n",
       "\n",
       "              bgr          bu          sc         sod         pot        hemo  \n",
       "count  356.000000  381.000000  383.000000  313.000000  312.000000  348.000000  \n",
       "mean   148.036517   57.425722    3.072454  137.528754    4.627244   12.526437  \n",
       "std     79.281714   50.503006    5.741126   10.408752    3.193904    2.912587  \n",
       "min     22.000000    1.500000    0.400000    4.500000    2.500000    3.100000  \n",
       "25%     99.000000   27.000000    0.900000  135.000000    3.800000   10.300000  \n",
       "50%    121.000000   42.000000    1.300000  138.000000    4.400000   12.650000  \n",
       "75%    163.000000   66.000000    2.800000  142.000000    4.900000   15.000000  \n",
       "max    490.000000  391.000000   76.000000  163.000000   47.000000   17.800000  "
      ]
     },
     "execution_count": 61,
     "metadata": {},
     "output_type": "execute_result"
    }
   ],
   "source": [
    "kidn_dis.describe()"
   ]
  },
  {
   "cell_type": "code",
   "execution_count": 62,
   "metadata": {},
   "outputs": [
    {
     "data": {
      "text/plain": [
       "id                  0\n",
       "age                 9\n",
       "bp                 12\n",
       "sg                 47\n",
       "al                 46\n",
       "su                 49\n",
       "rbc               152\n",
       "pc                 65\n",
       "pcc                 4\n",
       "ba                  4\n",
       "bgr                44\n",
       "bu                 19\n",
       "sc                 17\n",
       "sod                87\n",
       "pot                88\n",
       "hemo               52\n",
       "pcv                70\n",
       "wc                105\n",
       "rc                130\n",
       "htn                 2\n",
       "dm                  2\n",
       "cad                 2\n",
       "appet               1\n",
       "pe                  1\n",
       "ane                 1\n",
       "classification      0\n",
       "dtype: int64"
      ]
     },
     "execution_count": 62,
     "metadata": {},
     "output_type": "execute_result"
    }
   ],
   "source": [
    "# Count na\n",
    "kidn_dis.isnull().sum()"
   ]
  },
  {
   "cell_type": "code",
   "execution_count": 63,
   "metadata": {},
   "outputs": [
    {
     "data": {
      "text/html": [
       "<div>\n",
       "<style scoped>\n",
       "    .dataframe tbody tr th:only-of-type {\n",
       "        vertical-align: middle;\n",
       "    }\n",
       "\n",
       "    .dataframe tbody tr th {\n",
       "        vertical-align: top;\n",
       "    }\n",
       "\n",
       "    .dataframe thead th {\n",
       "        text-align: right;\n",
       "    }\n",
       "</style>\n",
       "<table border=\"1\" class=\"dataframe\">\n",
       "  <thead>\n",
       "    <tr style=\"text-align: right;\">\n",
       "      <th></th>\n",
       "      <th>age</th>\n",
       "      <th>bp</th>\n",
       "      <th>sg</th>\n",
       "      <th>al</th>\n",
       "      <th>su</th>\n",
       "      <th>rbc</th>\n",
       "      <th>pc</th>\n",
       "      <th>pcc</th>\n",
       "      <th>ba</th>\n",
       "      <th>bgr</th>\n",
       "      <th>...</th>\n",
       "      <th>pcv</th>\n",
       "      <th>wc</th>\n",
       "      <th>rc</th>\n",
       "      <th>htn</th>\n",
       "      <th>dm</th>\n",
       "      <th>cad</th>\n",
       "      <th>appet</th>\n",
       "      <th>pe</th>\n",
       "      <th>ane</th>\n",
       "      <th>classification</th>\n",
       "    </tr>\n",
       "  </thead>\n",
       "  <tbody>\n",
       "    <tr>\n",
       "      <th>3</th>\n",
       "      <td>48.0</td>\n",
       "      <td>70.0</td>\n",
       "      <td>1.005</td>\n",
       "      <td>4.0</td>\n",
       "      <td>0.0</td>\n",
       "      <td>normal</td>\n",
       "      <td>abnormal</td>\n",
       "      <td>present</td>\n",
       "      <td>notpresent</td>\n",
       "      <td>117.0</td>\n",
       "      <td>...</td>\n",
       "      <td>32</td>\n",
       "      <td>6700</td>\n",
       "      <td>3.9</td>\n",
       "      <td>yes</td>\n",
       "      <td>no</td>\n",
       "      <td>no</td>\n",
       "      <td>poor</td>\n",
       "      <td>yes</td>\n",
       "      <td>yes</td>\n",
       "      <td>ckd</td>\n",
       "    </tr>\n",
       "    <tr>\n",
       "      <th>9</th>\n",
       "      <td>53.0</td>\n",
       "      <td>90.0</td>\n",
       "      <td>1.020</td>\n",
       "      <td>2.0</td>\n",
       "      <td>0.0</td>\n",
       "      <td>abnormal</td>\n",
       "      <td>abnormal</td>\n",
       "      <td>present</td>\n",
       "      <td>notpresent</td>\n",
       "      <td>70.0</td>\n",
       "      <td>...</td>\n",
       "      <td>29</td>\n",
       "      <td>12100</td>\n",
       "      <td>3.7</td>\n",
       "      <td>yes</td>\n",
       "      <td>yes</td>\n",
       "      <td>no</td>\n",
       "      <td>poor</td>\n",
       "      <td>no</td>\n",
       "      <td>yes</td>\n",
       "      <td>ckd</td>\n",
       "    </tr>\n",
       "    <tr>\n",
       "      <th>11</th>\n",
       "      <td>63.0</td>\n",
       "      <td>70.0</td>\n",
       "      <td>1.010</td>\n",
       "      <td>3.0</td>\n",
       "      <td>0.0</td>\n",
       "      <td>abnormal</td>\n",
       "      <td>abnormal</td>\n",
       "      <td>present</td>\n",
       "      <td>notpresent</td>\n",
       "      <td>380.0</td>\n",
       "      <td>...</td>\n",
       "      <td>32</td>\n",
       "      <td>4500</td>\n",
       "      <td>3.8</td>\n",
       "      <td>yes</td>\n",
       "      <td>yes</td>\n",
       "      <td>no</td>\n",
       "      <td>poor</td>\n",
       "      <td>yes</td>\n",
       "      <td>no</td>\n",
       "      <td>ckd</td>\n",
       "    </tr>\n",
       "    <tr>\n",
       "      <th>14</th>\n",
       "      <td>68.0</td>\n",
       "      <td>80.0</td>\n",
       "      <td>1.010</td>\n",
       "      <td>3.0</td>\n",
       "      <td>2.0</td>\n",
       "      <td>normal</td>\n",
       "      <td>abnormal</td>\n",
       "      <td>present</td>\n",
       "      <td>present</td>\n",
       "      <td>157.0</td>\n",
       "      <td>...</td>\n",
       "      <td>16</td>\n",
       "      <td>11000</td>\n",
       "      <td>2.6</td>\n",
       "      <td>yes</td>\n",
       "      <td>yes</td>\n",
       "      <td>yes</td>\n",
       "      <td>poor</td>\n",
       "      <td>yes</td>\n",
       "      <td>no</td>\n",
       "      <td>ckd</td>\n",
       "    </tr>\n",
       "    <tr>\n",
       "      <th>20</th>\n",
       "      <td>61.0</td>\n",
       "      <td>80.0</td>\n",
       "      <td>1.015</td>\n",
       "      <td>2.0</td>\n",
       "      <td>0.0</td>\n",
       "      <td>abnormal</td>\n",
       "      <td>abnormal</td>\n",
       "      <td>notpresent</td>\n",
       "      <td>notpresent</td>\n",
       "      <td>173.0</td>\n",
       "      <td>...</td>\n",
       "      <td>24</td>\n",
       "      <td>9200</td>\n",
       "      <td>3.2</td>\n",
       "      <td>yes</td>\n",
       "      <td>yes</td>\n",
       "      <td>yes</td>\n",
       "      <td>poor</td>\n",
       "      <td>yes</td>\n",
       "      <td>yes</td>\n",
       "      <td>ckd</td>\n",
       "    </tr>\n",
       "  </tbody>\n",
       "</table>\n",
       "<p>5 rows × 25 columns</p>\n",
       "</div>"
      ],
      "text/plain": [
       "     age    bp     sg   al   su       rbc        pc         pcc          ba  \\\n",
       "3   48.0  70.0  1.005  4.0  0.0    normal  abnormal     present  notpresent   \n",
       "9   53.0  90.0  1.020  2.0  0.0  abnormal  abnormal     present  notpresent   \n",
       "11  63.0  70.0  1.010  3.0  0.0  abnormal  abnormal     present  notpresent   \n",
       "14  68.0  80.0  1.010  3.0  2.0    normal  abnormal     present     present   \n",
       "20  61.0  80.0  1.015  2.0  0.0  abnormal  abnormal  notpresent  notpresent   \n",
       "\n",
       "      bgr      ...        pcv     wc   rc  htn   dm  cad appet   pe  ane  \\\n",
       "3   117.0      ...         32   6700  3.9  yes   no   no  poor  yes  yes   \n",
       "9    70.0      ...         29  12100  3.7  yes  yes   no  poor   no  yes   \n",
       "11  380.0      ...         32   4500  3.8  yes  yes   no  poor  yes   no   \n",
       "14  157.0      ...         16  11000  2.6  yes  yes  yes  poor  yes   no   \n",
       "20  173.0      ...         24   9200  3.2  yes  yes  yes  poor  yes  yes   \n",
       "\n",
       "   classification  \n",
       "3             ckd  \n",
       "9             ckd  \n",
       "11            ckd  \n",
       "14            ckd  \n",
       "20            ckd  \n",
       "\n",
       "[5 rows x 25 columns]"
      ]
     },
     "execution_count": 63,
     "metadata": {},
     "output_type": "execute_result"
    }
   ],
   "source": [
    "# Drop the id column\n",
    "kidn_dis = kidn_dis.drop(['id'], axis = 1)\n",
    "\n",
    "# Drop any na\n",
    "kidn_dis = kidn_dis.dropna(axis=0)\n",
    "kidn_dis.head()"
   ]
  },
  {
   "cell_type": "markdown",
   "metadata": {},
   "source": [
    "**Pay attention to the index rows!** After a dropna some rows has been deleted, it could be better to [reset_index](https://pandas.pydata.org/pandas-docs/stable/generated/pandas.DataFrame.reset_index.html) the dataframe:"
   ]
  },
  {
   "cell_type": "code",
   "execution_count": 64,
   "metadata": {},
   "outputs": [
    {
     "data": {
      "text/html": [
       "<div>\n",
       "<style scoped>\n",
       "    .dataframe tbody tr th:only-of-type {\n",
       "        vertical-align: middle;\n",
       "    }\n",
       "\n",
       "    .dataframe tbody tr th {\n",
       "        vertical-align: top;\n",
       "    }\n",
       "\n",
       "    .dataframe thead th {\n",
       "        text-align: right;\n",
       "    }\n",
       "</style>\n",
       "<table border=\"1\" class=\"dataframe\">\n",
       "  <thead>\n",
       "    <tr style=\"text-align: right;\">\n",
       "      <th></th>\n",
       "      <th>index</th>\n",
       "      <th>age</th>\n",
       "      <th>bp</th>\n",
       "      <th>sg</th>\n",
       "      <th>al</th>\n",
       "      <th>su</th>\n",
       "      <th>rbc</th>\n",
       "      <th>pc</th>\n",
       "      <th>pcc</th>\n",
       "      <th>ba</th>\n",
       "      <th>...</th>\n",
       "      <th>pcv</th>\n",
       "      <th>wc</th>\n",
       "      <th>rc</th>\n",
       "      <th>htn</th>\n",
       "      <th>dm</th>\n",
       "      <th>cad</th>\n",
       "      <th>appet</th>\n",
       "      <th>pe</th>\n",
       "      <th>ane</th>\n",
       "      <th>classification</th>\n",
       "    </tr>\n",
       "  </thead>\n",
       "  <tbody>\n",
       "    <tr>\n",
       "      <th>0</th>\n",
       "      <td>3</td>\n",
       "      <td>48.0</td>\n",
       "      <td>70.0</td>\n",
       "      <td>1.005</td>\n",
       "      <td>4.0</td>\n",
       "      <td>0.0</td>\n",
       "      <td>normal</td>\n",
       "      <td>abnormal</td>\n",
       "      <td>present</td>\n",
       "      <td>notpresent</td>\n",
       "      <td>...</td>\n",
       "      <td>32</td>\n",
       "      <td>6700</td>\n",
       "      <td>3.9</td>\n",
       "      <td>yes</td>\n",
       "      <td>no</td>\n",
       "      <td>no</td>\n",
       "      <td>poor</td>\n",
       "      <td>yes</td>\n",
       "      <td>yes</td>\n",
       "      <td>ckd</td>\n",
       "    </tr>\n",
       "    <tr>\n",
       "      <th>1</th>\n",
       "      <td>9</td>\n",
       "      <td>53.0</td>\n",
       "      <td>90.0</td>\n",
       "      <td>1.020</td>\n",
       "      <td>2.0</td>\n",
       "      <td>0.0</td>\n",
       "      <td>abnormal</td>\n",
       "      <td>abnormal</td>\n",
       "      <td>present</td>\n",
       "      <td>notpresent</td>\n",
       "      <td>...</td>\n",
       "      <td>29</td>\n",
       "      <td>12100</td>\n",
       "      <td>3.7</td>\n",
       "      <td>yes</td>\n",
       "      <td>yes</td>\n",
       "      <td>no</td>\n",
       "      <td>poor</td>\n",
       "      <td>no</td>\n",
       "      <td>yes</td>\n",
       "      <td>ckd</td>\n",
       "    </tr>\n",
       "    <tr>\n",
       "      <th>2</th>\n",
       "      <td>11</td>\n",
       "      <td>63.0</td>\n",
       "      <td>70.0</td>\n",
       "      <td>1.010</td>\n",
       "      <td>3.0</td>\n",
       "      <td>0.0</td>\n",
       "      <td>abnormal</td>\n",
       "      <td>abnormal</td>\n",
       "      <td>present</td>\n",
       "      <td>notpresent</td>\n",
       "      <td>...</td>\n",
       "      <td>32</td>\n",
       "      <td>4500</td>\n",
       "      <td>3.8</td>\n",
       "      <td>yes</td>\n",
       "      <td>yes</td>\n",
       "      <td>no</td>\n",
       "      <td>poor</td>\n",
       "      <td>yes</td>\n",
       "      <td>no</td>\n",
       "      <td>ckd</td>\n",
       "    </tr>\n",
       "    <tr>\n",
       "      <th>3</th>\n",
       "      <td>14</td>\n",
       "      <td>68.0</td>\n",
       "      <td>80.0</td>\n",
       "      <td>1.010</td>\n",
       "      <td>3.0</td>\n",
       "      <td>2.0</td>\n",
       "      <td>normal</td>\n",
       "      <td>abnormal</td>\n",
       "      <td>present</td>\n",
       "      <td>present</td>\n",
       "      <td>...</td>\n",
       "      <td>16</td>\n",
       "      <td>11000</td>\n",
       "      <td>2.6</td>\n",
       "      <td>yes</td>\n",
       "      <td>yes</td>\n",
       "      <td>yes</td>\n",
       "      <td>poor</td>\n",
       "      <td>yes</td>\n",
       "      <td>no</td>\n",
       "      <td>ckd</td>\n",
       "    </tr>\n",
       "    <tr>\n",
       "      <th>4</th>\n",
       "      <td>20</td>\n",
       "      <td>61.0</td>\n",
       "      <td>80.0</td>\n",
       "      <td>1.015</td>\n",
       "      <td>2.0</td>\n",
       "      <td>0.0</td>\n",
       "      <td>abnormal</td>\n",
       "      <td>abnormal</td>\n",
       "      <td>notpresent</td>\n",
       "      <td>notpresent</td>\n",
       "      <td>...</td>\n",
       "      <td>24</td>\n",
       "      <td>9200</td>\n",
       "      <td>3.2</td>\n",
       "      <td>yes</td>\n",
       "      <td>yes</td>\n",
       "      <td>yes</td>\n",
       "      <td>poor</td>\n",
       "      <td>yes</td>\n",
       "      <td>yes</td>\n",
       "      <td>ckd</td>\n",
       "    </tr>\n",
       "  </tbody>\n",
       "</table>\n",
       "<p>5 rows × 26 columns</p>\n",
       "</div>"
      ],
      "text/plain": [
       "   index   age    bp     sg   al   su       rbc        pc         pcc  \\\n",
       "0      3  48.0  70.0  1.005  4.0  0.0    normal  abnormal     present   \n",
       "1      9  53.0  90.0  1.020  2.0  0.0  abnormal  abnormal     present   \n",
       "2     11  63.0  70.0  1.010  3.0  0.0  abnormal  abnormal     present   \n",
       "3     14  68.0  80.0  1.010  3.0  2.0    normal  abnormal     present   \n",
       "4     20  61.0  80.0  1.015  2.0  0.0  abnormal  abnormal  notpresent   \n",
       "\n",
       "           ba      ...        pcv     wc   rc  htn   dm  cad appet   pe  ane  \\\n",
       "0  notpresent      ...         32   6700  3.9  yes   no   no  poor  yes  yes   \n",
       "1  notpresent      ...         29  12100  3.7  yes  yes   no  poor   no  yes   \n",
       "2  notpresent      ...         32   4500  3.8  yes  yes   no  poor  yes   no   \n",
       "3     present      ...         16  11000  2.6  yes  yes  yes  poor  yes   no   \n",
       "4  notpresent      ...         24   9200  3.2  yes  yes  yes  poor  yes  yes   \n",
       "\n",
       "  classification  \n",
       "0            ckd  \n",
       "1            ckd  \n",
       "2            ckd  \n",
       "3            ckd  \n",
       "4            ckd  \n",
       "\n",
       "[5 rows x 26 columns]"
      ]
     },
     "execution_count": 64,
     "metadata": {},
     "output_type": "execute_result"
    }
   ],
   "source": [
    "kidn_dis.reset_index(inplace = True)\n",
    "kidn_dis.head()"
   ]
  },
  {
   "cell_type": "code",
   "execution_count": 65,
   "metadata": {},
   "outputs": [
    {
     "data": {
      "text/plain": [
       "index             0\n",
       "age               0\n",
       "bp                0\n",
       "sg                0\n",
       "al                0\n",
       "su                0\n",
       "rbc               0\n",
       "pc                0\n",
       "pcc               0\n",
       "ba                0\n",
       "bgr               0\n",
       "bu                0\n",
       "sc                0\n",
       "sod               0\n",
       "pot               0\n",
       "hemo              0\n",
       "pcv               0\n",
       "wc                0\n",
       "rc                0\n",
       "htn               0\n",
       "dm                0\n",
       "cad               0\n",
       "appet             0\n",
       "pe                0\n",
       "ane               0\n",
       "classification    0\n",
       "dtype: int64"
      ]
     },
     "execution_count": 65,
     "metadata": {},
     "output_type": "execute_result"
    }
   ],
   "source": [
    "kidn_dis.isnull().sum()"
   ]
  },
  {
   "cell_type": "code",
   "execution_count": 66,
   "metadata": {},
   "outputs": [
    {
     "name": "stdout",
     "output_type": "stream",
     "text": [
      "After dropping na, the rows of the dataset are: 158\n"
     ]
    }
   ],
   "source": [
    "print(\"After dropping na, the rows of the dataset are:\", kidn_dis.shape[0])"
   ]
  },
  {
   "cell_type": "markdown",
   "metadata": {},
   "source": [
    "The actual label feature will be removed prior to executing PCA, since it's unsupervised.<br> \n",
    "We're only labeling by color so we can see the effects of PCA:"
   ]
  },
  {
   "cell_type": "code",
   "execution_count": 67,
   "metadata": {},
   "outputs": [],
   "source": [
    "# We define color red if the record is 'ckd' for the features classification, while green if it is 'notckd'\n",
    "labels = ['red' if i=='ckd' else 'green' for i in kidn_dis.classification]"
   ]
  },
  {
   "cell_type": "markdown",
   "metadata": {},
   "source": [
    "For semplicity of calculation, we will remove maintain only numeric columns"
   ]
  },
  {
   "cell_type": "code",
   "execution_count": 68,
   "metadata": {},
   "outputs": [
    {
     "data": {
      "text/html": [
       "<div>\n",
       "<style scoped>\n",
       "    .dataframe tbody tr th:only-of-type {\n",
       "        vertical-align: middle;\n",
       "    }\n",
       "\n",
       "    .dataframe tbody tr th {\n",
       "        vertical-align: top;\n",
       "    }\n",
       "\n",
       "    .dataframe thead th {\n",
       "        text-align: right;\n",
       "    }\n",
       "</style>\n",
       "<table border=\"1\" class=\"dataframe\">\n",
       "  <thead>\n",
       "    <tr style=\"text-align: right;\">\n",
       "      <th></th>\n",
       "      <th>age</th>\n",
       "      <th>bp</th>\n",
       "      <th>sg</th>\n",
       "      <th>al</th>\n",
       "      <th>su</th>\n",
       "      <th>bgr</th>\n",
       "      <th>bu</th>\n",
       "      <th>sc</th>\n",
       "      <th>sod</th>\n",
       "      <th>pot</th>\n",
       "      <th>hemo</th>\n",
       "    </tr>\n",
       "  </thead>\n",
       "  <tbody>\n",
       "    <tr>\n",
       "      <th>0</th>\n",
       "      <td>48.0</td>\n",
       "      <td>70.0</td>\n",
       "      <td>1.005</td>\n",
       "      <td>4.0</td>\n",
       "      <td>0.0</td>\n",
       "      <td>117.0</td>\n",
       "      <td>56.0</td>\n",
       "      <td>3.8</td>\n",
       "      <td>111.0</td>\n",
       "      <td>2.5</td>\n",
       "      <td>11.2</td>\n",
       "    </tr>\n",
       "    <tr>\n",
       "      <th>1</th>\n",
       "      <td>53.0</td>\n",
       "      <td>90.0</td>\n",
       "      <td>1.020</td>\n",
       "      <td>2.0</td>\n",
       "      <td>0.0</td>\n",
       "      <td>70.0</td>\n",
       "      <td>107.0</td>\n",
       "      <td>7.2</td>\n",
       "      <td>114.0</td>\n",
       "      <td>3.7</td>\n",
       "      <td>9.5</td>\n",
       "    </tr>\n",
       "    <tr>\n",
       "      <th>2</th>\n",
       "      <td>63.0</td>\n",
       "      <td>70.0</td>\n",
       "      <td>1.010</td>\n",
       "      <td>3.0</td>\n",
       "      <td>0.0</td>\n",
       "      <td>380.0</td>\n",
       "      <td>60.0</td>\n",
       "      <td>2.7</td>\n",
       "      <td>131.0</td>\n",
       "      <td>4.2</td>\n",
       "      <td>10.8</td>\n",
       "    </tr>\n",
       "    <tr>\n",
       "      <th>3</th>\n",
       "      <td>68.0</td>\n",
       "      <td>80.0</td>\n",
       "      <td>1.010</td>\n",
       "      <td>3.0</td>\n",
       "      <td>2.0</td>\n",
       "      <td>157.0</td>\n",
       "      <td>90.0</td>\n",
       "      <td>4.1</td>\n",
       "      <td>130.0</td>\n",
       "      <td>6.4</td>\n",
       "      <td>5.6</td>\n",
       "    </tr>\n",
       "    <tr>\n",
       "      <th>4</th>\n",
       "      <td>61.0</td>\n",
       "      <td>80.0</td>\n",
       "      <td>1.015</td>\n",
       "      <td>2.0</td>\n",
       "      <td>0.0</td>\n",
       "      <td>173.0</td>\n",
       "      <td>148.0</td>\n",
       "      <td>3.9</td>\n",
       "      <td>135.0</td>\n",
       "      <td>5.2</td>\n",
       "      <td>7.7</td>\n",
       "    </tr>\n",
       "  </tbody>\n",
       "</table>\n",
       "</div>"
      ],
      "text/plain": [
       "    age    bp     sg   al   su    bgr     bu   sc    sod  pot  hemo\n",
       "0  48.0  70.0  1.005  4.0  0.0  117.0   56.0  3.8  111.0  2.5  11.2\n",
       "1  53.0  90.0  1.020  2.0  0.0   70.0  107.0  7.2  114.0  3.7   9.5\n",
       "2  63.0  70.0  1.010  3.0  0.0  380.0   60.0  2.7  131.0  4.2  10.8\n",
       "3  68.0  80.0  1.010  3.0  2.0  157.0   90.0  4.1  130.0  6.4   5.6\n",
       "4  61.0  80.0  1.015  2.0  0.0  173.0  148.0  3.9  135.0  5.2   7.7"
      ]
     },
     "execution_count": 68,
     "metadata": {},
     "output_type": "execute_result"
    }
   ],
   "source": [
    "kidn_dis_2 = kidn_dis.loc[:, ['age', 'bp', 'sg', 'al', 'su', 'bgr', 'bu', 'sc', 'sod', 'pot', 'hemo']]\n",
    "kidn_dis_2.head()"
   ]
  },
  {
   "cell_type": "code",
   "execution_count": 69,
   "metadata": {},
   "outputs": [
    {
     "data": {
      "text/plain": [
       "age     float64\n",
       "bp      float64\n",
       "sg      float64\n",
       "al      float64\n",
       "su      float64\n",
       "bgr     float64\n",
       "bu      float64\n",
       "sc      float64\n",
       "sod     float64\n",
       "pot     float64\n",
       "hemo    float64\n",
       "dtype: object"
      ]
     },
     "execution_count": 69,
     "metadata": {},
     "output_type": "execute_result"
    }
   ],
   "source": [
    "kidn_dis_2.dtypes"
   ]
  },
  {
   "cell_type": "markdown",
   "metadata": {},
   "source": [
    "PCA Operates based on variance. The variable with the greatest variance will dominate."
   ]
  },
  {
   "cell_type": "code",
   "execution_count": 70,
   "metadata": {},
   "outputs": [
    {
     "data": {
      "text/html": [
       "<div>\n",
       "<style scoped>\n",
       "    .dataframe tbody tr th:only-of-type {\n",
       "        vertical-align: middle;\n",
       "    }\n",
       "\n",
       "    .dataframe tbody tr th {\n",
       "        vertical-align: top;\n",
       "    }\n",
       "\n",
       "    .dataframe thead th {\n",
       "        text-align: right;\n",
       "    }\n",
       "</style>\n",
       "<table border=\"1\" class=\"dataframe\">\n",
       "  <thead>\n",
       "    <tr style=\"text-align: right;\">\n",
       "      <th></th>\n",
       "      <th>age</th>\n",
       "      <th>bp</th>\n",
       "      <th>sg</th>\n",
       "      <th>al</th>\n",
       "      <th>su</th>\n",
       "      <th>bgr</th>\n",
       "      <th>bu</th>\n",
       "      <th>sc</th>\n",
       "      <th>sod</th>\n",
       "      <th>pot</th>\n",
       "      <th>hemo</th>\n",
       "    </tr>\n",
       "  </thead>\n",
       "  <tbody>\n",
       "    <tr>\n",
       "      <th>count</th>\n",
       "      <td>158.000000</td>\n",
       "      <td>158.000000</td>\n",
       "      <td>158.000000</td>\n",
       "      <td>158.000000</td>\n",
       "      <td>158.000000</td>\n",
       "      <td>158.000000</td>\n",
       "      <td>158.000000</td>\n",
       "      <td>158.000000</td>\n",
       "      <td>158.000000</td>\n",
       "      <td>158.000000</td>\n",
       "      <td>158.000000</td>\n",
       "    </tr>\n",
       "    <tr>\n",
       "      <th>mean</th>\n",
       "      <td>49.563291</td>\n",
       "      <td>74.050633</td>\n",
       "      <td>1.019873</td>\n",
       "      <td>0.797468</td>\n",
       "      <td>0.253165</td>\n",
       "      <td>131.341772</td>\n",
       "      <td>52.575949</td>\n",
       "      <td>2.188608</td>\n",
       "      <td>138.848101</td>\n",
       "      <td>4.636709</td>\n",
       "      <td>13.687342</td>\n",
       "    </tr>\n",
       "    <tr>\n",
       "      <th>std</th>\n",
       "      <td>15.512244</td>\n",
       "      <td>11.175381</td>\n",
       "      <td>0.005499</td>\n",
       "      <td>1.413130</td>\n",
       "      <td>0.813397</td>\n",
       "      <td>64.939832</td>\n",
       "      <td>47.395382</td>\n",
       "      <td>3.077615</td>\n",
       "      <td>7.489421</td>\n",
       "      <td>3.476351</td>\n",
       "      <td>2.882204</td>\n",
       "    </tr>\n",
       "    <tr>\n",
       "      <th>min</th>\n",
       "      <td>6.000000</td>\n",
       "      <td>50.000000</td>\n",
       "      <td>1.005000</td>\n",
       "      <td>0.000000</td>\n",
       "      <td>0.000000</td>\n",
       "      <td>70.000000</td>\n",
       "      <td>10.000000</td>\n",
       "      <td>0.400000</td>\n",
       "      <td>111.000000</td>\n",
       "      <td>2.500000</td>\n",
       "      <td>3.100000</td>\n",
       "    </tr>\n",
       "    <tr>\n",
       "      <th>25%</th>\n",
       "      <td>39.250000</td>\n",
       "      <td>60.000000</td>\n",
       "      <td>1.020000</td>\n",
       "      <td>0.000000</td>\n",
       "      <td>0.000000</td>\n",
       "      <td>97.000000</td>\n",
       "      <td>26.000000</td>\n",
       "      <td>0.700000</td>\n",
       "      <td>135.000000</td>\n",
       "      <td>3.700000</td>\n",
       "      <td>12.600000</td>\n",
       "    </tr>\n",
       "    <tr>\n",
       "      <th>50%</th>\n",
       "      <td>50.500000</td>\n",
       "      <td>80.000000</td>\n",
       "      <td>1.020000</td>\n",
       "      <td>0.000000</td>\n",
       "      <td>0.000000</td>\n",
       "      <td>115.500000</td>\n",
       "      <td>39.500000</td>\n",
       "      <td>1.100000</td>\n",
       "      <td>139.000000</td>\n",
       "      <td>4.500000</td>\n",
       "      <td>14.250000</td>\n",
       "    </tr>\n",
       "    <tr>\n",
       "      <th>75%</th>\n",
       "      <td>60.000000</td>\n",
       "      <td>80.000000</td>\n",
       "      <td>1.025000</td>\n",
       "      <td>1.000000</td>\n",
       "      <td>0.000000</td>\n",
       "      <td>131.750000</td>\n",
       "      <td>49.750000</td>\n",
       "      <td>1.600000</td>\n",
       "      <td>144.000000</td>\n",
       "      <td>4.900000</td>\n",
       "      <td>15.775000</td>\n",
       "    </tr>\n",
       "    <tr>\n",
       "      <th>max</th>\n",
       "      <td>83.000000</td>\n",
       "      <td>110.000000</td>\n",
       "      <td>1.025000</td>\n",
       "      <td>4.000000</td>\n",
       "      <td>5.000000</td>\n",
       "      <td>490.000000</td>\n",
       "      <td>309.000000</td>\n",
       "      <td>15.200000</td>\n",
       "      <td>150.000000</td>\n",
       "      <td>47.000000</td>\n",
       "      <td>17.800000</td>\n",
       "    </tr>\n",
       "  </tbody>\n",
       "</table>\n",
       "</div>"
      ],
      "text/plain": [
       "              age          bp          sg          al          su         bgr  \\\n",
       "count  158.000000  158.000000  158.000000  158.000000  158.000000  158.000000   \n",
       "mean    49.563291   74.050633    1.019873    0.797468    0.253165  131.341772   \n",
       "std     15.512244   11.175381    0.005499    1.413130    0.813397   64.939832   \n",
       "min      6.000000   50.000000    1.005000    0.000000    0.000000   70.000000   \n",
       "25%     39.250000   60.000000    1.020000    0.000000    0.000000   97.000000   \n",
       "50%     50.500000   80.000000    1.020000    0.000000    0.000000  115.500000   \n",
       "75%     60.000000   80.000000    1.025000    1.000000    0.000000  131.750000   \n",
       "max     83.000000  110.000000    1.025000    4.000000    5.000000  490.000000   \n",
       "\n",
       "               bu          sc         sod         pot        hemo  \n",
       "count  158.000000  158.000000  158.000000  158.000000  158.000000  \n",
       "mean    52.575949    2.188608  138.848101    4.636709   13.687342  \n",
       "std     47.395382    3.077615    7.489421    3.476351    2.882204  \n",
       "min     10.000000    0.400000  111.000000    2.500000    3.100000  \n",
       "25%     26.000000    0.700000  135.000000    3.700000   12.600000  \n",
       "50%     39.500000    1.100000  139.000000    4.500000   14.250000  \n",
       "75%     49.750000    1.600000  144.000000    4.900000   15.775000  \n",
       "max    309.000000   15.200000  150.000000   47.000000   17.800000  "
      ]
     },
     "execution_count": 70,
     "metadata": {},
     "output_type": "execute_result"
    }
   ],
   "source": [
    "kidn_dis_2.describe()"
   ]
  },
  {
   "cell_type": "markdown",
   "metadata": {},
   "source": [
    "Each Standard deviation is a lot of different from each other; so it is necessary scaling the datas:"
   ]
  },
  {
   "cell_type": "code",
   "execution_count": 71,
   "metadata": {},
   "outputs": [
    {
     "name": "stdout",
     "output_type": "stream",
     "text": [
      "New Variances:\n",
      " age     1.006369\n",
      "bp      1.006369\n",
      "sg      1.006369\n",
      "al      1.006369\n",
      "su      1.006369\n",
      "bgr     1.006369\n",
      "bu      1.006369\n",
      "sc      1.006369\n",
      "sod     1.006369\n",
      "pot     1.006369\n",
      "hemo    1.006369\n",
      "dtype: float64\n",
      "New Describe:\n",
      "               age          bp          sg          al          su         bgr  \\\n",
      "count  158.000000  158.000000  158.000000  158.000000  158.000000  158.000000   \n",
      "mean     3.205267    6.647298  186.056041    0.566122    0.312233    2.028946   \n",
      "std      1.003180    1.003180    1.003180    1.003180    1.003180    1.003180   \n",
      "min      0.388021    4.488347  183.342676    0.000000    0.000000    1.081348   \n",
      "25%      2.538305    5.386016  186.079134    0.000000    0.000000    1.498440   \n",
      "50%      3.265844    7.181355  186.079134    0.000000    0.000000    1.784225   \n",
      "75%      3.880211    7.181355  186.991287    0.709899    0.000000    2.035252   \n",
      "max      5.367625    9.874362  186.991287    2.839596    6.166608    7.569438   \n",
      "\n",
      "               bu          sc         sod         pot        hemo  \n",
      "count  158.000000  158.000000  158.000000  158.000000  158.000000  \n",
      "mean     1.112833    0.713399   18.598178    1.338027    4.764015  \n",
      "std      1.003180    1.003180    1.003180    1.003180    1.003180  \n",
      "min      0.211662    0.130384   14.868030    0.721432    1.078986  \n",
      "25%      0.550321    0.228172   18.082740    1.067719    4.385555  \n",
      "50%      0.836065    0.358556   18.618525    1.298577    4.959854  \n",
      "75%      1.053018    0.521536   19.288256    1.414006    5.490645  \n",
      "max      6.540353    4.954593   20.091933   13.562914    6.195466  \n"
     ]
    }
   ],
   "source": [
    "df = kidn_dis_2\n",
    "if scaleFeatures: df = scaleFeaturesDF(df)"
   ]
  },
  {
   "cell_type": "markdown",
   "metadata": {},
   "source": [
    "To get started, **import PCA from sklearn.decomposition** and then create a new instance of the model setting the *n_components* parameter to the number of dimensions you wish to keep. This value has to be less than or equal to the number of features in our original dataset, since each computed component is a linear combination of our original features. <br>\n",
    "The second parameter, *svd_solver*, dictates if a full singular value decomposition should be preformed on our data, or a randomized truncated one. If we decide to use randomized, be sure to seed the random_state variable whenever if we intend on producing replaceable results."
   ]
  },
  {
   "cell_type": "markdown",
   "metadata": {},
   "source": [
    "Once we've fit the model against our dataframe, we can use it to transform our dataset's observatios (or any other observation that share its feature space) into the newly computed, principal component feature space with the **.transform()** method. <br>\n",
    "This transformation is bidirectional, so we can recover our original feature values using **.inverse_transform()** so long as we don't drop any components. If even one component was removed, then after performing the inverse transformation back to the regular feature space, there will be some signs of information loss proportional to which component was dropped."
   ]
  },
  {
   "cell_type": "markdown",
   "metadata": {},
   "source": [
    "Run [PCA](https://scikit-learn.org/stable/modules/generated/sklearn.decomposition.PCA.html) on our dataset, reducing it to 2 principal components."
   ]
  },
  {
   "cell_type": "code",
   "execution_count": 72,
   "metadata": {},
   "outputs": [],
   "source": [
    "from sklearn.decomposition import PCA\n",
    "\n",
    "pca = PCA(n_components=2, svd_solver='full')\n",
    "pca.fit(df)\n",
    "PCA(copy=True, n_components=2, whiten=False)\n",
    "T = pca.transform(df)"
   ]
  },
  {
   "cell_type": "markdown",
   "metadata": {},
   "source": [
    "There are a few other interesting model attribute that SciKit-Learn exposes to us after we've trained our PCA model with the .fit() method: <br>\n",
    "- **components_**: These are our principal component vectors and are linear combinations of our original features. As such, they exist within the feature space of our original dataset.\n",
    "- **explained_variance_**: This is the calculated amount of variance which exists in the newly computed principal components.\n",
    "- **explained_variance_ratio_**: Normalized version of *explained_variance_* for when our interest is with probabilities."
   ]
  },
  {
   "cell_type": "code",
   "execution_count": 73,
   "metadata": {},
   "outputs": [
    {
     "data": {
      "text/plain": [
       "array([0.46887433, 0.11861083])"
      ]
     },
     "execution_count": 73,
     "metadata": {},
     "output_type": "execute_result"
    }
   ],
   "source": [
    "pca.explained_variance_ratio_"
   ]
  },
  {
   "cell_type": "code",
   "execution_count": 74,
   "metadata": {},
   "outputs": [
    {
     "name": "stdout",
     "output_type": "stream",
     "text": [
      "Features by importance:\n",
      " [(3.742707961689759, 'bgr'), (3.6582171461003554, 'su'), (3.301055817719971, 'sc'), (3.213562778109233, 'bu'), (3.0289895717843374, 'hemo'), (3.005954104973676, 'al'), (2.7191175570104846, 'sg'), (2.6796247845309904, 'sod'), (2.180753340315678, 'age'), (1.5558908768066355, 'bp'), (1.0207934019176832, 'pot')]\n"
     ]
    },
    {
     "data": {
      "image/png": "[encoded data removed]",
      "text/plain": [
       "<Figure size 432x288 with 1 Axes>"
      ]
     },
     "metadata": {},
     "output_type": "display_data"
    }
   ],
   "source": [
    "# Since we transformed via PCA, we no longer have column names; but we know we\n",
    "# are in `principal-component` space, so we'll just define the coordinates accordingly:\n",
    "ax = drawVectors(T, pca.components_, df.columns.values, plt, scaleFeatures)\n",
    "T  = pd.DataFrame(T)\n",
    "\n",
    "T.columns = ['component1', 'component2']\n",
    "T.plot.scatter(x='component1', y='component2', marker='o', c=labels, alpha=0.75, ax=ax)\n",
    "\n",
    "plt.show()"
   ]
  },
  {
   "cell_type": "code",
   "execution_count": 75,
   "metadata": {},
   "outputs": [
    {
     "data": {
      "text/html": [
       "<div>\n",
       "<style scoped>\n",
       "    .dataframe tbody tr th:only-of-type {\n",
       "        vertical-align: middle;\n",
       "    }\n",
       "\n",
       "    .dataframe tbody tr th {\n",
       "        vertical-align: top;\n",
       "    }\n",
       "\n",
       "    .dataframe thead th {\n",
       "        text-align: right;\n",
       "    }\n",
       "</style>\n",
       "<table border=\"1\" class=\"dataframe\">\n",
       "  <thead>\n",
       "    <tr style=\"text-align: right;\">\n",
       "      <th></th>\n",
       "      <th>component1</th>\n",
       "      <th>component2</th>\n",
       "    </tr>\n",
       "  </thead>\n",
       "  <tbody>\n",
       "    <tr>\n",
       "      <th>0</th>\n",
       "      <td>3.204188</td>\n",
       "      <td>-1.491743</td>\n",
       "    </tr>\n",
       "    <tr>\n",
       "      <th>1</th>\n",
       "      <td>2.799523</td>\n",
       "      <td>-2.747285</td>\n",
       "    </tr>\n",
       "    <tr>\n",
       "      <th>2</th>\n",
       "      <td>3.109582</td>\n",
       "      <td>1.810783</td>\n",
       "    </tr>\n",
       "    <tr>\n",
       "      <th>3</th>\n",
       "      <td>4.219809</td>\n",
       "      <td>0.684029</td>\n",
       "    </tr>\n",
       "    <tr>\n",
       "      <th>4</th>\n",
       "      <td>2.849842</td>\n",
       "      <td>-0.800630</td>\n",
       "    </tr>\n",
       "  </tbody>\n",
       "</table>\n",
       "</div>"
      ],
      "text/plain": [
       "   component1  component2\n",
       "0    3.204188   -1.491743\n",
       "1    2.799523   -2.747285\n",
       "2    3.109582    1.810783\n",
       "3    4.219809    0.684029\n",
       "4    2.849842   -0.800630"
      ]
     },
     "execution_count": 75,
     "metadata": {},
     "output_type": "execute_result"
    }
   ],
   "source": [
    "T.head()"
   ]
  },
  {
   "cell_type": "markdown",
   "metadata": {},
   "source": [
    "After doing a PCA, we'll lost the header of the dataframe, so it could be difficult understand which features of the dataset could describe hypotetical linear relationship between the datas. <br>\n",
    "To interpret each component, we must compute the correlations between the original data and each principal component. <br>\n",
    "These correlations are obtained using the correlation procedure. In the variable statement we include the two principal components, \"component1 and component2\", in addition to all eleven of the original variables. \n",
    "\n",
    "We will note that if we look at the principal components themselves, then there is zero correlation between the components."
   ]
  },
  {
   "cell_type": "code",
   "execution_count": 76,
   "metadata": {},
   "outputs": [],
   "source": [
    "# Concating PCA's dataframe and starting dataset\n",
    "df_corr = pd.concat([T, df], axis = 1)"
   ]
  },
  {
   "cell_type": "code",
   "execution_count": 77,
   "metadata": {},
   "outputs": [
    {
     "data": {
      "text/html": [
       "<div>\n",
       "<style scoped>\n",
       "    .dataframe tbody tr th:only-of-type {\n",
       "        vertical-align: middle;\n",
       "    }\n",
       "\n",
       "    .dataframe tbody tr th {\n",
       "        vertical-align: top;\n",
       "    }\n",
       "\n",
       "    .dataframe thead th {\n",
       "        text-align: right;\n",
       "    }\n",
       "</style>\n",
       "<table border=\"1\" class=\"dataframe\">\n",
       "  <thead>\n",
       "    <tr style=\"text-align: right;\">\n",
       "      <th></th>\n",
       "      <th>component1</th>\n",
       "      <th>component2</th>\n",
       "      <th>age</th>\n",
       "      <th>bp</th>\n",
       "      <th>sg</th>\n",
       "      <th>al</th>\n",
       "      <th>su</th>\n",
       "      <th>bgr</th>\n",
       "      <th>bu</th>\n",
       "      <th>sc</th>\n",
       "      <th>sod</th>\n",
       "      <th>pot</th>\n",
       "      <th>hemo</th>\n",
       "    </tr>\n",
       "  </thead>\n",
       "  <tbody>\n",
       "    <tr>\n",
       "      <th>0</th>\n",
       "      <td>3.204188</td>\n",
       "      <td>-1.491743</td>\n",
       "      <td>3.104169</td>\n",
       "      <td>6.283685</td>\n",
       "      <td>183.342676</td>\n",
       "      <td>2.839596</td>\n",
       "      <td>0.000000</td>\n",
       "      <td>1.807396</td>\n",
       "      <td>1.185307</td>\n",
       "      <td>1.238648</td>\n",
       "      <td>14.868030</td>\n",
       "      <td>0.721432</td>\n",
       "      <td>3.898271</td>\n",
       "    </tr>\n",
       "    <tr>\n",
       "      <th>1</th>\n",
       "      <td>2.799523</td>\n",
       "      <td>-2.747285</td>\n",
       "      <td>3.427520</td>\n",
       "      <td>8.079024</td>\n",
       "      <td>186.079134</td>\n",
       "      <td>1.419798</td>\n",
       "      <td>0.000000</td>\n",
       "      <td>1.081348</td>\n",
       "      <td>2.264782</td>\n",
       "      <td>2.346912</td>\n",
       "      <td>15.269869</td>\n",
       "      <td>1.067719</td>\n",
       "      <td>3.306569</td>\n",
       "    </tr>\n",
       "    <tr>\n",
       "      <th>2</th>\n",
       "      <td>3.109582</td>\n",
       "      <td>1.810783</td>\n",
       "      <td>4.074221</td>\n",
       "      <td>6.283685</td>\n",
       "      <td>184.254829</td>\n",
       "      <td>2.129697</td>\n",
       "      <td>0.000000</td>\n",
       "      <td>5.870176</td>\n",
       "      <td>1.269971</td>\n",
       "      <td>0.880092</td>\n",
       "      <td>17.546955</td>\n",
       "      <td>1.212005</td>\n",
       "      <td>3.759047</td>\n",
       "    </tr>\n",
       "    <tr>\n",
       "      <th>3</th>\n",
       "      <td>4.219809</td>\n",
       "      <td>0.684029</td>\n",
       "      <td>4.397572</td>\n",
       "      <td>7.181355</td>\n",
       "      <td>184.254829</td>\n",
       "      <td>2.129697</td>\n",
       "      <td>2.466643</td>\n",
       "      <td>2.425310</td>\n",
       "      <td>1.904957</td>\n",
       "      <td>1.336436</td>\n",
       "      <td>17.413009</td>\n",
       "      <td>1.846865</td>\n",
       "      <td>1.949135</td>\n",
       "    </tr>\n",
       "    <tr>\n",
       "      <th>4</th>\n",
       "      <td>2.849842</td>\n",
       "      <td>-0.800630</td>\n",
       "      <td>3.944881</td>\n",
       "      <td>7.181355</td>\n",
       "      <td>185.166981</td>\n",
       "      <td>1.419798</td>\n",
       "      <td>0.000000</td>\n",
       "      <td>2.672475</td>\n",
       "      <td>3.132596</td>\n",
       "      <td>1.271244</td>\n",
       "      <td>18.082740</td>\n",
       "      <td>1.500578</td>\n",
       "      <td>2.680061</td>\n",
       "    </tr>\n",
       "  </tbody>\n",
       "</table>\n",
       "</div>"
      ],
      "text/plain": [
       "   component1  component2       age        bp          sg        al        su  \\\n",
       "0    3.204188   -1.491743  3.104169  6.283685  183.342676  2.839596  0.000000   \n",
       "1    2.799523   -2.747285  3.427520  8.079024  186.079134  1.419798  0.000000   \n",
       "2    3.109582    1.810783  4.074221  6.283685  184.254829  2.129697  0.000000   \n",
       "3    4.219809    0.684029  4.397572  7.181355  184.254829  2.129697  2.466643   \n",
       "4    2.849842   -0.800630  3.944881  7.181355  185.166981  1.419798  0.000000   \n",
       "\n",
       "        bgr        bu        sc        sod       pot      hemo  \n",
       "0  1.807396  1.185307  1.238648  14.868030  0.721432  3.898271  \n",
       "1  1.081348  2.264782  2.346912  15.269869  1.067719  3.306569  \n",
       "2  5.870176  1.269971  0.880092  17.546955  1.212005  3.759047  \n",
       "3  2.425310  1.904957  1.336436  17.413009  1.846865  1.949135  \n",
       "4  2.672475  3.132596  1.271244  18.082740  1.500578  2.680061  "
      ]
     },
     "execution_count": 77,
     "metadata": {},
     "output_type": "execute_result"
    }
   ],
   "source": [
    "df_corr.head()"
   ]
  },
  {
   "cell_type": "code",
   "execution_count": 78,
   "metadata": {},
   "outputs": [
    {
     "data": {
      "text/html": [
       "<div>\n",
       "<style scoped>\n",
       "    .dataframe tbody tr th:only-of-type {\n",
       "        vertical-align: middle;\n",
       "    }\n",
       "\n",
       "    .dataframe tbody tr th {\n",
       "        vertical-align: top;\n",
       "    }\n",
       "\n",
       "    .dataframe thead th {\n",
       "        text-align: right;\n",
       "    }\n",
       "</style>\n",
       "<table border=\"1\" class=\"dataframe\">\n",
       "  <thead>\n",
       "    <tr style=\"text-align: right;\">\n",
       "      <th></th>\n",
       "      <th>component1</th>\n",
       "      <th>component2</th>\n",
       "      <th>age</th>\n",
       "      <th>bp</th>\n",
       "      <th>sg</th>\n",
       "      <th>al</th>\n",
       "      <th>su</th>\n",
       "      <th>bgr</th>\n",
       "      <th>bu</th>\n",
       "      <th>sc</th>\n",
       "      <th>sod</th>\n",
       "      <th>pot</th>\n",
       "      <th>hemo</th>\n",
       "    </tr>\n",
       "  </thead>\n",
       "  <tbody>\n",
       "    <tr>\n",
       "      <th>component1</th>\n",
       "      <td>1.000000e+00</td>\n",
       "      <td>1.332708e-16</td>\n",
       "      <td>0.337272</td>\n",
       "      <td>0.422522</td>\n",
       "      <td>-0.800703</td>\n",
       "      <td>0.892647</td>\n",
       "      <td>0.619927</td>\n",
       "      <td>0.642218</td>\n",
       "      <td>0.815133</td>\n",
       "      <td>0.837989</td>\n",
       "      <td>-0.672209</td>\n",
       "      <td>0.254235</td>\n",
       "      <td>-0.864567</td>\n",
       "    </tr>\n",
       "    <tr>\n",
       "      <th>component2</th>\n",
       "      <td>1.332708e-16</td>\n",
       "      <td>1.000000e+00</td>\n",
       "      <td>0.380518</td>\n",
       "      <td>-0.129321</td>\n",
       "      <td>-0.076072</td>\n",
       "      <td>-0.028140</td>\n",
       "      <td>0.614101</td>\n",
       "      <td>0.624447</td>\n",
       "      <td>-0.342387</td>\n",
       "      <td>-0.350963</td>\n",
       "      <td>0.293755</td>\n",
       "      <td>0.113870</td>\n",
       "      <td>0.172929</td>\n",
       "    </tr>\n",
       "    <tr>\n",
       "      <th>age</th>\n",
       "      <td>3.372723e-01</td>\n",
       "      <td>3.805183e-01</td>\n",
       "      <td>1.000000</td>\n",
       "      <td>0.079712</td>\n",
       "      <td>-0.277303</td>\n",
       "      <td>0.253380</td>\n",
       "      <td>0.207711</td>\n",
       "      <td>0.301915</td>\n",
       "      <td>0.190636</td>\n",
       "      <td>0.189721</td>\n",
       "      <td>-0.102933</td>\n",
       "      <td>0.006866</td>\n",
       "      <td>-0.245645</td>\n",
       "    </tr>\n",
       "    <tr>\n",
       "      <th>bp</th>\n",
       "      <td>4.225218e-01</td>\n",
       "      <td>-1.293209e-01</td>\n",
       "      <td>0.079712</td>\n",
       "      <td>1.000000</td>\n",
       "      <td>-0.198897</td>\n",
       "      <td>0.322507</td>\n",
       "      <td>0.243828</td>\n",
       "      <td>0.190113</td>\n",
       "      <td>0.316287</td>\n",
       "      <td>0.386551</td>\n",
       "      <td>-0.224710</td>\n",
       "      <td>0.127801</td>\n",
       "      <td>-0.282365</td>\n",
       "    </tr>\n",
       "    <tr>\n",
       "      <th>sg</th>\n",
       "      <td>-8.007031e-01</td>\n",
       "      <td>-7.607223e-02</td>\n",
       "      <td>-0.277303</td>\n",
       "      <td>-0.198897</td>\n",
       "      <td>1.000000</td>\n",
       "      <td>-0.712331</td>\n",
       "      <td>-0.448477</td>\n",
       "      <td>-0.544781</td>\n",
       "      <td>-0.545319</td>\n",
       "      <td>-0.563122</td>\n",
       "      <td>0.539285</td>\n",
       "      <td>-0.075057</td>\n",
       "      <td>0.682086</td>\n",
       "    </tr>\n",
       "    <tr>\n",
       "      <th>al</th>\n",
       "      <td>8.926465e-01</td>\n",
       "      <td>-2.814049e-02</td>\n",
       "      <td>0.253380</td>\n",
       "      <td>0.322507</td>\n",
       "      <td>-0.712331</td>\n",
       "      <td>1.000000</td>\n",
       "      <td>0.521448</td>\n",
       "      <td>0.518123</td>\n",
       "      <td>0.661940</td>\n",
       "      <td>0.702889</td>\n",
       "      <td>-0.599334</td>\n",
       "      <td>0.209492</td>\n",
       "      <td>-0.784745</td>\n",
       "    </tr>\n",
       "    <tr>\n",
       "      <th>su</th>\n",
       "      <td>6.199269e-01</td>\n",
       "      <td>6.141015e-01</td>\n",
       "      <td>0.207711</td>\n",
       "      <td>0.243828</td>\n",
       "      <td>-0.448477</td>\n",
       "      <td>0.521448</td>\n",
       "      <td>1.000000</td>\n",
       "      <td>0.730050</td>\n",
       "      <td>0.312259</td>\n",
       "      <td>0.347196</td>\n",
       "      <td>-0.242491</td>\n",
       "      <td>0.271954</td>\n",
       "      <td>-0.385511</td>\n",
       "    </tr>\n",
       "    <tr>\n",
       "      <th>bgr</th>\n",
       "      <td>6.422178e-01</td>\n",
       "      <td>6.244471e-01</td>\n",
       "      <td>0.301915</td>\n",
       "      <td>0.190113</td>\n",
       "      <td>-0.544781</td>\n",
       "      <td>0.518123</td>\n",
       "      <td>0.730050</td>\n",
       "      <td>1.000000</td>\n",
       "      <td>0.326496</td>\n",
       "      <td>0.331284</td>\n",
       "      <td>-0.284968</td>\n",
       "      <td>0.102226</td>\n",
       "      <td>-0.434158</td>\n",
       "    </tr>\n",
       "    <tr>\n",
       "      <th>bu</th>\n",
       "      <td>8.151334e-01</td>\n",
       "      <td>-3.423872e-01</td>\n",
       "      <td>0.190636</td>\n",
       "      <td>0.316287</td>\n",
       "      <td>-0.545319</td>\n",
       "      <td>0.661940</td>\n",
       "      <td>0.312259</td>\n",
       "      <td>0.326496</td>\n",
       "      <td>1.000000</td>\n",
       "      <td>0.896094</td>\n",
       "      <td>-0.492778</td>\n",
       "      <td>0.245427</td>\n",
       "      <td>-0.712196</td>\n",
       "    </tr>\n",
       "    <tr>\n",
       "      <th>sc</th>\n",
       "      <td>8.379886e-01</td>\n",
       "      <td>-3.509633e-01</td>\n",
       "      <td>0.189721</td>\n",
       "      <td>0.386551</td>\n",
       "      <td>-0.563122</td>\n",
       "      <td>0.702889</td>\n",
       "      <td>0.347196</td>\n",
       "      <td>0.331284</td>\n",
       "      <td>0.896094</td>\n",
       "      <td>1.000000</td>\n",
       "      <td>-0.532575</td>\n",
       "      <td>0.141896</td>\n",
       "      <td>-0.723937</td>\n",
       "    </tr>\n",
       "    <tr>\n",
       "      <th>sod</th>\n",
       "      <td>-6.722094e-01</td>\n",
       "      <td>2.937553e-01</td>\n",
       "      <td>-0.102933</td>\n",
       "      <td>-0.224710</td>\n",
       "      <td>0.539285</td>\n",
       "      <td>-0.599334</td>\n",
       "      <td>-0.242491</td>\n",
       "      <td>-0.284968</td>\n",
       "      <td>-0.492778</td>\n",
       "      <td>-0.532575</td>\n",
       "      <td>1.000000</td>\n",
       "      <td>-0.051037</td>\n",
       "      <td>0.583001</td>\n",
       "    </tr>\n",
       "    <tr>\n",
       "      <th>pot</th>\n",
       "      <td>2.542350e-01</td>\n",
       "      <td>1.138704e-01</td>\n",
       "      <td>0.006866</td>\n",
       "      <td>0.127801</td>\n",
       "      <td>-0.075057</td>\n",
       "      <td>0.209492</td>\n",
       "      <td>0.271954</td>\n",
       "      <td>0.102226</td>\n",
       "      <td>0.245427</td>\n",
       "      <td>0.141896</td>\n",
       "      <td>-0.051037</td>\n",
       "      <td>1.000000</td>\n",
       "      <td>-0.192100</td>\n",
       "    </tr>\n",
       "    <tr>\n",
       "      <th>hemo</th>\n",
       "      <td>-8.645668e-01</td>\n",
       "      <td>1.729288e-01</td>\n",
       "      <td>-0.245645</td>\n",
       "      <td>-0.282365</td>\n",
       "      <td>0.682086</td>\n",
       "      <td>-0.784745</td>\n",
       "      <td>-0.385511</td>\n",
       "      <td>-0.434158</td>\n",
       "      <td>-0.712196</td>\n",
       "      <td>-0.723937</td>\n",
       "      <td>0.583001</td>\n",
       "      <td>-0.192100</td>\n",
       "      <td>1.000000</td>\n",
       "    </tr>\n",
       "  </tbody>\n",
       "</table>\n",
       "</div>"
      ],
      "text/plain": [
       "              component1    component2       age        bp        sg  \\\n",
       "component1  1.000000e+00  1.332708e-16  0.337272  0.422522 -0.800703   \n",
       "component2  1.332708e-16  1.000000e+00  0.380518 -0.129321 -0.076072   \n",
       "age         3.372723e-01  3.805183e-01  1.000000  0.079712 -0.277303   \n",
       "bp          4.225218e-01 -1.293209e-01  0.079712  1.000000 -0.198897   \n",
       "sg         -8.007031e-01 -7.607223e-02 -0.277303 -0.198897  1.000000   \n",
       "al          8.926465e-01 -2.814049e-02  0.253380  0.322507 -0.712331   \n",
       "su          6.199269e-01  6.141015e-01  0.207711  0.243828 -0.448477   \n",
       "bgr         6.422178e-01  6.244471e-01  0.301915  0.190113 -0.544781   \n",
       "bu          8.151334e-01 -3.423872e-01  0.190636  0.316287 -0.545319   \n",
       "sc          8.379886e-01 -3.509633e-01  0.189721  0.386551 -0.563122   \n",
       "sod        -6.722094e-01  2.937553e-01 -0.102933 -0.224710  0.539285   \n",
       "pot         2.542350e-01  1.138704e-01  0.006866  0.127801 -0.075057   \n",
       "hemo       -8.645668e-01  1.729288e-01 -0.245645 -0.282365  0.682086   \n",
       "\n",
       "                  al        su       bgr        bu        sc       sod  \\\n",
       "component1  0.892647  0.619927  0.642218  0.815133  0.837989 -0.672209   \n",
       "component2 -0.028140  0.614101  0.624447 -0.342387 -0.350963  0.293755   \n",
       "age         0.253380  0.207711  0.301915  0.190636  0.189721 -0.102933   \n",
       "bp          0.322507  0.243828  0.190113  0.316287  0.386551 -0.224710   \n",
       "sg         -0.712331 -0.448477 -0.544781 -0.545319 -0.563122  0.539285   \n",
       "al          1.000000  0.521448  0.518123  0.661940  0.702889 -0.599334   \n",
       "su          0.521448  1.000000  0.730050  0.312259  0.347196 -0.242491   \n",
       "bgr         0.518123  0.730050  1.000000  0.326496  0.331284 -0.284968   \n",
       "bu          0.661940  0.312259  0.326496  1.000000  0.896094 -0.492778   \n",
       "sc          0.702889  0.347196  0.331284  0.896094  1.000000 -0.532575   \n",
       "sod        -0.599334 -0.242491 -0.284968 -0.492778 -0.532575  1.000000   \n",
       "pot         0.209492  0.271954  0.102226  0.245427  0.141896 -0.051037   \n",
       "hemo       -0.784745 -0.385511 -0.434158 -0.712196 -0.723937  0.583001   \n",
       "\n",
       "                 pot      hemo  \n",
       "component1  0.254235 -0.864567  \n",
       "component2  0.113870  0.172929  \n",
       "age         0.006866 -0.245645  \n",
       "bp          0.127801 -0.282365  \n",
       "sg         -0.075057  0.682086  \n",
       "al          0.209492 -0.784745  \n",
       "su          0.271954 -0.385511  \n",
       "bgr         0.102226 -0.434158  \n",
       "bu          0.245427 -0.712196  \n",
       "sc          0.141896 -0.723937  \n",
       "sod        -0.051037  0.583001  \n",
       "pot         1.000000 -0.192100  \n",
       "hemo       -0.192100  1.000000  "
      ]
     },
     "execution_count": 78,
     "metadata": {},
     "output_type": "execute_result"
    }
   ],
   "source": [
    "corr_matrix = df_corr.corr()\n",
    "corr_matrix"
   ]
  },
  {
   "cell_type": "code",
   "execution_count": 28,
   "metadata": {},
   "outputs": [
    {
     "data": {
      "text/plain": [
       "([<matplotlib.axis.YTick at 0x1c6c40eccc0>,\n",
       "  <matplotlib.axis.YTick at 0x1c6c40ec630>,\n",
       "  <matplotlib.axis.YTick at 0x1c6c40e66a0>,\n",
       "  <matplotlib.axis.YTick at 0x1c6c415f278>,\n",
       "  <matplotlib.axis.YTick at 0x1c6c415f780>,\n",
       "  <matplotlib.axis.YTick at 0x1c6c41546d8>,\n",
       "  <matplotlib.axis.YTick at 0x1c6c4136e10>,\n",
       "  <matplotlib.axis.YTick at 0x1c6c415fc50>,\n",
       "  <matplotlib.axis.YTick at 0x1c6c41671d0>,\n",
       "  <matplotlib.axis.YTick at 0x1c6c4167710>,\n",
       "  <matplotlib.axis.YTick at 0x1c6c4167c50>,\n",
       "  <matplotlib.axis.YTick at 0x1c6c416e1d0>,\n",
       "  <matplotlib.axis.YTick at 0x1c6c416e710>],\n",
       " <a list of 13 Text yticklabel objects>)"
      ]
     },
     "execution_count": 28,
     "metadata": {},
     "output_type": "execute_result"
    },
    {
     "data": {
      "image/png": "[encoded data removed]",
      "text/plain": [
       "<Figure size 720x576 with 2 Axes>"
      ]
     },
     "metadata": {
      "needs_background": "light"
     },
     "output_type": "display_data"
    }
   ],
   "source": [
    "# Create a figure\n",
    "fig = plt.figure(figsize=(10,8))\n",
    "\n",
    "plt.imshow(df_corr.corr(), cmap = plt.cm.Blues, interpolation='nearest')\n",
    "plt.colorbar()\n",
    "tick_marks = [i for i in range(len(df_corr.columns))]\n",
    "plt.xticks(tick_marks, df_corr.columns, rotation='vertical')\n",
    "plt.yticks(tick_marks, df_corr.columns)"
   ]
  },
  {
   "cell_type": "markdown",
   "metadata": {},
   "source": [
    "Interpretation of the principal components is based on finding which variables are most strongly correlated with each component, i.e., which of these numbers are large in magnitude, the farthest from zero in either direction. Which numbers we consider to be large or small is of course is a subjective decision. You need to determine at what level the correlation is of importance"
   ]
  },
  {
   "cell_type": "markdown",
   "metadata": {},
   "source": [
    "From the visualization it is possible notice that component 1 is more correlated with 'sc', 'bu', 'hemo' and 'al' feature, while component 2 is more correlated with 'bgr'."
   ]
  },
  {
   "cell_type": "markdown",
   "metadata": {},
   "source": [
    "#### Weaknesses of PCA <br>\n",
    "1)  PCA is sensitive to the scaling of our features. PCA maximizes variability based off of variance, and then projects our original data on these directions of maximal variances.<br><br>\n",
    "2) PCA is fast, but for very large datasets it might take a while to train.  If you're willing to sacrifice a bit of accuracy for computational efficiency, SciKit-Learn allows us to solve PCA using a offers an approximate matrix solver called *RandomizedPCA*. <br> <br>\n",
    "3) PCA will only, therefore, be able to capture the underlying linear shapes and variance within our data and cannot discern any complex, nonlinear intricacies. For such cases, we will have to make use different dimensionality reduction algorithms, such as [*Isomap*](https://scikit-learn.org/stable/modules/generated/sklearn.manifold.Isomap.html)."
   ]
  },
  {
   "cell_type": "markdown",
   "metadata": {},
   "source": [
    "The PCA object is very useful, but has certain limitations for large datasets. The biggest limitation is that PCA only supports batch processing, which means all of the data to be processed must fit in main memory. The IncrementalPCA object uses a different form of processing and allows for partial computations which almost exactly match the results of PCA while processing the data in a minibatch fashion. IncrementalPCA makes it possible to implement out-of-core Principal Component Analysis either by:"
   ]
  },
  {
   "cell_type": "markdown",
   "metadata": {},
   "source": [
    "Finally, PCA simply performs a rotation of the given coordinate axes. Rotation is a linear operator. \\\n",
    "But the axis frame returned by PCA (the eigenspace) captures every bit of the variance of the original data. \\\n",
    "What you would like to do, however, is to drop axes with small eigenvalues (weights) and proceed on a smaller data set. If your data has nonlinear structure, as most does, then PCA will have a larger number of dimensions with nonzero weights. \\\n",
    "Remember that the objective of PCA is to *minimize* the number of dimensions with significant weight. "
   ]
  },
  {
   "cell_type": "markdown",
   "metadata": {},
   "source": [
    "<a id='isomap'></a>\n",
    "## 2) Isomap <br>\n",
    "Similar to PCA, *Isomap is also an unsupervised learning technique that reduces the dimensionality of our dataset.* <br>\n",
    "No labels or classifications are needed to guide it except our raw data. <br>\n",
    "**PCA is faster than Isomap and works well in most situations, but its limitation is that it assumes a linear relationship exist between your features.** <br>\n",
    "What happens when your data has a non-linear structure? *It is necessary to use Isomap*. <br><br>\n",
    "Isomap operates by first computing each record's nearest neighbors. This is done by comparing each sample to every other sample in the dataset. only a sample's K-nearest samples qualify for being included in its nearest-neighborhood samples list. \n",
    "<br>\n",
    "A neighborhood graph is then constructed by linking each sample to its k-nearest neighbors. <br>\n",
    "\n",
    "Isomap is able to intelligently recover and estimate a lower-dimensional embedding, also known as a manifold, by traversing the shortest distances between samples, hopping along through the calculated neighborhood map. <br>It is with this map that Isomap calculates a projection, or reduced dimensional embedding that represents your dataset through multi-dimensional scaling.\n",
    "<br>\n",
    "<br>\n",
    "So long as the underlying relationship is non-linear, another usage of Isomap is for grouping and identifying of similar variations in similar data samples. Due to this, it is extremely useful as a preprocessor step before conducting supervised learning tasks, such as classification or regression. <br>\n",
    "Isomap's benefits also include visualization and data compression.\n",
    "\n",
    "https://blog.paperspace.com/dimension-reduction-with-isomap/"
   ]
  },
  {
   "cell_type": "markdown",
   "metadata": {},
   "source": [
    "Try to reduced the dimensionality of *face_data* dataset with PCA and Isomap:"
   ]
  },
  {
   "cell_type": "code",
   "execution_count": 29,
   "metadata": {},
   "outputs": [],
   "source": [
    "import scipy.io\n",
    "\n",
    "from mpl_toolkits.mplot3d import Axes3D\n",
    "\n",
    "plt.style.use('ggplot')"
   ]
  },
  {
   "cell_type": "code",
   "execution_count": 30,
   "metadata": {},
   "outputs": [],
   "source": [
    "def Plot2D(T, title, x, y, num_to_plot=40):\n",
    "    \n",
    "    # This method picks a bunch of random samples (images in your case)\n",
    "    # to plot onto the chart:\n",
    "    fig = plt.figure()\n",
    "    \n",
    "    ax = fig.add_subplot(111)\n",
    "    ax.set_title(title)\n",
    "    ax.set_xlabel('Component: {0}'.format(x))\n",
    "    ax.set_ylabel('Component: {0}'.format(y))\n",
    "    x_size = (max(T[:,x]) - min(T[:,x])) * 0.08\n",
    "    y_size = (max(T[:,y]) - min(T[:,y])) * 0.08\n",
    "    for i in range(num_to_plot):\n",
    "        img_num = int(random.random() * num_images)\n",
    "        x0, y0 = T[img_num,x]-x_size/2., T[img_num,y]-y_size/2.\n",
    "        x1, y1 = T[img_num,x]+x_size/2., T[img_num,y]+y_size/2.\n",
    "        img = df.iloc[img_num,:].values.reshape(num_pixels, num_pixels)\n",
    "        ax.imshow(img, aspect='auto', cmap=plt.cm.gray, interpolation='nearest', zorder=100, extent=(x0, x1, y0, y1))\n",
    "    \n",
    "    # It also plots the full scatter:\n",
    "    ax.scatter(T[:,x],T[:,y], marker='.',alpha=0.7)"
   ]
  },
  {
   "cell_type": "code",
   "execution_count": 31,
   "metadata": {},
   "outputs": [],
   "source": [
    "mat = scipy.io.loadmat('face_data.mat')\n",
    "df = pd.DataFrame(mat['images']).T\n",
    "num_images, num_pixels = df.shape\n",
    "num_pixels = int(math.sqrt(num_pixels))\n",
    "# Rotate the pictures, so we don't have to crane our necks:\n",
    "for i in range(num_images):\n",
    "    df.loc[i,:] = df.loc[i,:].values.reshape(num_pixels, num_pixels).T.reshape(-1)"
   ]
  },
  {
   "cell_type": "markdown",
   "metadata": {},
   "source": [
    "Reduce the dataframe df down to three components. Once we've done that, call *Plot2D*.<br>\n",
    "The format is: **Plot2D(T, title, x, y, num_to_plot=40)**:<br>\n",
    "- *T*: Our transformed data, stored in an NDArray <br>\n",
    "- *title*: The chart's title <br>\n",
    "- *x*: Index of the principal component you want displayed on the x-axis; set it to 0 or 1 <br>\n",
    "- *y* Index of the principal component you want displayed on the y-axis; set it to 1 or 2"
   ]
  },
  {
   "cell_type": "code",
   "execution_count": 32,
   "metadata": {},
   "outputs": [],
   "source": [
    "from sklearn import preprocessing\n",
    "from sklearn import manifold\n",
    "\n",
    "def scaleFeaturesDF(df):\n",
    "    # Feature scaling is a type of transformation that only changes the\n",
    "    # scale, but not number of features. Because of this, we can still\n",
    "    # use the original dataset's column names... so long as we keep in\n",
    "    # mind that the _units_ have been altered:\n",
    "    \n",
    "    scaled = preprocessing.StandardScaler().fit_transform(df)\n",
    "    scaled = pd.DataFrame(scaled, columns=df.columns)\n",
    "    \n",
    "    print(\"New Variances:\\n\", scaled.var())\n",
    "    print(\"New Describe:\\n\", scaled.describe())\n",
    "    return scaled\n",
    "\n",
    "scaleFeatures = True"
   ]
  },
  {
   "cell_type": "code",
   "execution_count": 33,
   "metadata": {},
   "outputs": [
    {
     "name": "stdout",
     "output_type": "stream",
     "text": [
      "New Variances:\n",
      " 0       1.001435\n",
      "1       1.001435\n",
      "2       1.001435\n",
      "3       1.001435\n",
      "4       1.001435\n",
      "5       1.001435\n",
      "6       1.001435\n",
      "7       1.001435\n",
      "8       1.001435\n",
      "9       1.001435\n",
      "10      1.001435\n",
      "11      1.001435\n",
      "12      1.001435\n",
      "13      1.001435\n",
      "14      1.001435\n",
      "15      1.001435\n",
      "16      1.001435\n",
      "17      1.001435\n",
      "18      1.001435\n",
      "19      1.001435\n",
      "20      1.001435\n",
      "21      1.001435\n",
      "22      1.001435\n",
      "23      1.001435\n",
      "24      1.001435\n",
      "25      1.001435\n",
      "26      1.001435\n",
      "27      1.001435\n",
      "28      1.001435\n",
      "29      1.001435\n",
      "          ...   \n",
      "4066    1.001435\n",
      "4067    1.001435\n",
      "4068    1.001435\n",
      "4069    1.001435\n",
      "4070    1.001435\n",
      "4071    1.001435\n",
      "4072    1.001435\n",
      "4073    1.001435\n",
      "4074    1.001435\n",
      "4075    1.001435\n",
      "4076    1.001435\n",
      "4077    1.001435\n",
      "4078    1.001435\n",
      "4079    1.001435\n",
      "4080    1.001435\n",
      "4081    1.001435\n",
      "4082    1.001435\n",
      "4083    1.001435\n",
      "4084    1.001435\n",
      "4085    1.001435\n",
      "4086    1.001435\n",
      "4087    1.001435\n",
      "4088    1.001435\n",
      "4089    1.001435\n",
      "4090    0.000000\n",
      "4091    0.000000\n",
      "4092    0.000000\n",
      "4093    0.000000\n",
      "4094    0.000000\n",
      "4095    0.000000\n",
      "Length: 4096, dtype: float64\n",
      "New Describe:\n",
      "                0             1             2             3             4     \\\n",
      "count  6.980000e+02  6.980000e+02  6.980000e+02  6.980000e+02  6.980000e+02   \n",
      "mean   5.957667e-15 -1.026718e-16 -2.630020e-16 -6.791765e-17 -3.225691e-16   \n",
      "std    1.000717e+00  1.000717e+00  1.000717e+00  1.000717e+00  1.000717e+00   \n",
      "min   -9.994111e-02 -1.439470e-01 -2.114269e-01 -3.261680e-01 -4.272453e-01   \n",
      "25%   -9.994111e-02 -1.439470e-01 -2.114269e-01 -3.261680e-01 -4.272453e-01   \n",
      "50%   -9.994111e-02 -1.439470e-01 -2.114269e-01 -3.261680e-01 -4.272453e-01   \n",
      "75%   -9.994111e-02 -1.439470e-01 -2.114269e-01 -3.261680e-01 -3.457129e-01   \n",
      "max    1.878917e+01  1.406042e+01  1.027228e+01  6.925969e+00  5.041932e+00   \n",
      "\n",
      "               5             6             7             8             9     \\\n",
      "count  6.980000e+02  6.980000e+02  6.980000e+02  6.980000e+02  6.980000e+02   \n",
      "mean   1.064096e-16  2.850315e-16 -1.937323e-16 -2.772376e-16  7.348468e-17   \n",
      "std    1.000717e+00  1.000717e+00  1.000717e+00  1.000717e+00  1.000717e+00   \n",
      "min   -4.964053e-01 -5.722596e-01 -6.216979e-01 -6.403925e-01 -6.585506e-01   \n",
      "25%   -4.964053e-01 -5.722596e-01 -6.216979e-01 -6.403925e-01 -6.585506e-01   \n",
      "50%   -4.964053e-01 -5.722596e-01 -6.216979e-01 -6.403925e-01 -6.585506e-01   \n",
      "75%   -3.690106e-02  2.620890e-01  4.152893e-01  4.111308e-01  4.588717e-01   \n",
      "max    4.249130e+00  3.697104e+00  3.211981e+00  3.060607e+00  2.957409e+00   \n",
      "\n",
      "       ...            4086          4087          4088          4089   4090  \\\n",
      "count  ...    6.980000e+02  6.980000e+02  6.980000e+02  6.980000e+02  698.0   \n",
      "mean   ...    4.052791e-16 -1.390960e-16  7.754065e-17 -2.803194e-16    0.0   \n",
      "std    ...    1.000717e+00  1.000717e+00  1.000717e+00  1.000717e+00    0.0   \n",
      "min    ...   -3.413323e-01 -2.415845e-01 -1.886943e-01 -6.198085e-02    0.0   \n",
      "25%    ...   -3.413323e-01 -2.415845e-01 -1.886943e-01 -6.198085e-02    0.0   \n",
      "50%    ...   -3.413323e-01 -2.415845e-01 -1.886943e-01 -6.198085e-02    0.0   \n",
      "75%    ...   -2.683145e-01 -2.415845e-01 -1.886943e-01 -6.198085e-02    0.0   \n",
      "max    ...    9.906933e+00  1.023556e+01  1.254672e+01  2.370916e+01    0.0   \n",
      "\n",
      "        4091   4092   4093   4094   4095  \n",
      "count  698.0  698.0  698.0  698.0  698.0  \n",
      "mean     0.0    0.0    0.0    0.0    0.0  \n",
      "std      0.0    0.0    0.0    0.0    0.0  \n",
      "min      0.0    0.0    0.0    0.0    0.0  \n",
      "25%      0.0    0.0    0.0    0.0    0.0  \n",
      "50%      0.0    0.0    0.0    0.0    0.0  \n",
      "75%      0.0    0.0    0.0    0.0    0.0  \n",
      "max      0.0    0.0    0.0    0.0    0.0  \n",
      "\n",
      "[8 rows x 4096 columns]\n"
     ]
    }
   ],
   "source": [
    "if scaleFeatures: df = scaleFeaturesDF(df)"
   ]
  },
  {
   "cell_type": "code",
   "execution_count": 34,
   "metadata": {},
   "outputs": [],
   "source": [
    "from sklearn.manifold import Isomap\n",
    "\n",
    "iso = manifold.Isomap(n_neighbors = 3, n_components=3)\n",
    "iso.fit(df)\n",
    "Isomap(eigen_solver='auto', max_iter=None, n_components=3, n_neighbors= 3, neighbors_algorithm='auto')\n",
    "T1 = iso.transform(df)"
   ]
  },
  {
   "cell_type": "markdown",
   "metadata": {},
   "source": [
    "As with PCA, **n_components** is the number of features we want our dataset projected onto, and **n_neighbors** defines the neighborhood size used to create the node neighborhood map. <br>\n",
    "The larger our *n_neighbors* value is, the longer it will take to calculate the node neighborhood map.<br>\n",
    "Unlike PCA, Isomap transformations are unidirectional so we will not be able to .inverse_transform() our projected data back into our original feature space, even if it has the same number of dimensions as our original dataset."
   ]
  },
  {
   "cell_type": "code",
   "execution_count": 105,
   "metadata": {
    "scrolled": true
   },
   "outputs": [
    {
     "data": {
      "image/png": "[encoded data removed]",
      "text/plain": [
       "<Figure size 432x288 with 1 Axes>"
      ]
     },
     "metadata": {},
     "output_type": "display_data"
    }
   ],
   "source": [
    "Plot2D(T1, 'Isomap', 0, 2, num_to_plot=40)"
   ]
  },
  {
   "cell_type": "markdown",
   "metadata": {},
   "source": [
    "With a representation of 2 components out of 3, it is possible descrive the face data."
   ]
  },
  {
   "cell_type": "markdown",
   "metadata": {},
   "source": [
    "#### Weaknesses of Isomap \n",
    "1) Running Isomap is a lot slower than PCA since a lot more is happening under the hood, particularly for large n_neighbors values, but it provides a simple way to analyze and manipulate high dimensional samples in terms of its intrinsic nonlinear degrees of freedom. <br>\n",
    "2) Isomap is also a bit more sensitive to noise than PCA. <br>\n",
    "3) When using unsupervised dimensionality reduction techniques, be sure to use the feature scaling on all of your features because the nearest-neighbor search that Isomap bases your manifold on will do poorly if you don't, and PCA will prefer features with larger variances."
   ]
  },
  {
   "cell_type": "markdown",
   "metadata": {},
   "source": [
    "**Some useful links:**\n",
    "- [Interpreting PCA](https://newonlinecourses.science.psu.edu/stat505/node/54/); <br>\n",
    "- [Another method for interpreting PCA](http://www.stat.cmu.edu/~cshalizi/350/lectures/10/lecture-10.pdf); <br>\n",
    "- [Interactive PCA Demo](http://setosa.io/ev/principal-component-analysis/); <br>\n",
    "- [A tutorial on Principal Components Analysis](http://www.cs.otago.ac.nz/cosc453/student_tutorials/principal_components.pdf)<br>\n",
    "- [Stanford Isomap Paper](http://web.mit.edu/cocosci/Papers/sci_reprint.pdf) <br>\n",
    "\n",
    "With this paragraph ends the notebook \"Transforming\", the next notebook will be \"Modeling\".\n",
    "<br><br>\n",
    "- [Click here to return to the top of the pag](#inizio)<a href='#inizio'></a>\n",
    "<br><br>\n",
    "If you have any doubts, you can write to us on Teams!<br>\n",
    "See you soon!"
   ]
  },
  {
   "cell_type": "markdown",
   "metadata": {},
   "source": [
    "#### Others\n",
    "\n",
    "There are many other methods that can be used in addition to these two presented. \\\n",
    "Another widely used method is the PCA Kernel for non-linear datasets.\n",
    "\n",
    "We will not go into these other methods, but if you are interested you can read more about them by reading these links.\n",
    "\n",
    "**Kernel PCA** \\\n",
    "\n",
    "Info and documentation \\\n",
    "https://scikit-learn.org/stable/modules/generated/sklearn.decomposition.PCA.html\n",
    "\n",
    "Kernel PCA \\\n",
    "https://scikit-learn.org/stable/modules/generated/sklearn.decomposition.KernelPCA.html#sklearn.decomposition.KernelPCA\n",
    "\n",
    "Incremental PCA \\\n",
    "https://scikit-learn.org/stable/modules/generated/sklearn.decomposition.IncrementalPCA.html#sklearn.decomposition.IncrementalPCA\n",
    "\n",
    "\n",
    "**Independent Component Analysis**\n",
    "Info and documentation \\ \n",
    "https://blog.paperspace.com/dimension-reduction-with-independent-components-analysis/\n"
   ]
  },
  {
   "cell_type": "markdown",
   "metadata": {},
   "source": [
    "![alt text](Kernel_PCA_print.png \"Kernel PCA\")"
   ]
  }
 ],
 "metadata": {
  "kernelspec": {
   "display_name": "Python 3",
   "language": "python",
   "name": "python3"
  },
  "language_info": {
   "codemirror_mode": {
    "name": "ipython",
    "version": 3
   },
   "file_extension": ".py",
   "mimetype": "text/x-python",
   "name": "python",
   "nbconvert_exporter": "python",
   "pygments_lexer": "ipython3",
   "version": "3.6.10"
  }
 },
 "nbformat": 4,
 "nbformat_minor": 4
}
